{
  "nbformat": 4,
  "nbformat_minor": 0,
  "metadata": {
    "colab": {
      "name": "10_04.ipynb",
      "provenance": [],
      "collapsed_sections": [],
      "authorship_tag": "ABX9TyP1JQ9Mm9Q+vjMKsc0J12rF",
      "include_colab_link": true
    },
    "kernelspec": {
      "name": "python3",
      "display_name": "Python 3"
    },
    "language_info": {
      "name": "python"
    },
    "accelerator": "GPU"
  },
  "cells": [
    {
      "cell_type": "markdown",
      "metadata": {
        "id": "view-in-github",
        "colab_type": "text"
      },
      "source": [
        "<a href=\"https://colab.research.google.com/github/KKugi/Big-Data/blob/main/10_04.ipynb\" target=\"_parent\"><img src=\"https://colab.research.google.com/assets/colab-badge.svg\" alt=\"Open In Colab\"/></a>"
      ]
    },
    {
      "cell_type": "code",
      "metadata": {
        "colab": {
          "base_uri": "https://localhost:8080/"
        },
        "id": "EcMzB21wThYD",
        "outputId": "c9035fe0-5e79-4990-8120-3e0f658006a8"
      },
      "source": [
        "pip install beautifulsoup4"
      ],
      "execution_count": null,
      "outputs": [
        {
          "output_type": "stream",
          "name": "stdout",
          "text": [
            "Requirement already satisfied: beautifulsoup4 in /usr/local/lib/python3.7/dist-packages (4.6.3)\n"
          ]
        }
      ]
    },
    {
      "cell_type": "code",
      "metadata": {
        "id": "8d0pXu_TUGhx"
      },
      "source": [
        "from bs4 import BeautifulSoup"
      ],
      "execution_count": null,
      "outputs": []
    },
    {
      "cell_type": "code",
      "metadata": {
        "id": "Bs6fSjFWUQ9a"
      },
      "source": [
        "html = '<h1 id=\"title\"> 안동대학교 </h1><div class=\"top\"><ul class =\"menu\"><li><a href=\"https://www.andong.ac.kr\">안동대학교</a></li></ul><ul class =\"ctl\"><li><a href=\"https://lms.andong.ac.kr\">안동대학교 학습관리시스템</a></li><li><a href=\"https://i4u.anu.ac.kr\">안동대학교 종합정보시스템</a></li></ul></div>'"
      ],
      "execution_count": null,
      "outputs": []
    },
    {
      "cell_type": "code",
      "metadata": {
        "colab": {
          "base_uri": "https://localhost:8080/",
          "height": 88
        },
        "id": "WJJkszreWYGW",
        "outputId": "6247c5e1-b703-4b8a-bd9c-2d05ffb85e8c"
      },
      "source": [
        "html"
      ],
      "execution_count": null,
      "outputs": [
        {
          "output_type": "execute_result",
          "data": {
            "application/vnd.google.colaboratory.intrinsic+json": {
              "type": "string"
            },
            "text/plain": [
              "'<h1 id=\"title\"> 안동대학교 </h1><div class=\"top\"><ul class =\"menu\"><li><a href=\"https://www.andong.ac.kr\">안동대학교</a></li></ul><ul class =\"ctl\"><li><a href=\"https://lms.andong.ac.kr\">안동대학교 학습관리시스템</a></li><li><a href=\"https://i4u.anu.ac.kr\">안동대학교 종합정보시스템</a></li></ul></div>'"
            ]
          },
          "metadata": {},
          "execution_count": 4
        }
      ]
    },
    {
      "cell_type": "code",
      "metadata": {
        "id": "5aKcmUsyWaZ8"
      },
      "source": [
        "soup = BeautifulSoup(html,'html.parser')"
      ],
      "execution_count": null,
      "outputs": []
    },
    {
      "cell_type": "code",
      "metadata": {
        "colab": {
          "base_uri": "https://localhost:8080/"
        },
        "id": "7iJYF5_5WoWO",
        "outputId": "d1a4566b-7cd5-48e6-cc88-ab4f6270b44e"
      },
      "source": [
        "soup"
      ],
      "execution_count": null,
      "outputs": [
        {
          "output_type": "execute_result",
          "data": {
            "text/plain": [
              "<h1 id=\"title\"> 안동대학교 </h1><div class=\"top\"><ul class=\"menu\"><li><a href=\"https://www.andong.ac.kr\">안동대학교</a></li></ul><ul class=\"ctl\"><li><a href=\"https://lms.andong.ac.kr\">안동대학교 학습관리시스템</a></li><li><a href=\"https://i4u.anu.ac.kr\">안동대학교 종합정보시스템</a></li></ul></div>"
            ]
          },
          "metadata": {},
          "execution_count": 6
        }
      ]
    },
    {
      "cell_type": "code",
      "metadata": {
        "colab": {
          "base_uri": "https://localhost:8080/"
        },
        "id": "AhyjUF6eWpvQ",
        "outputId": "362a8cc1-ff03-4235-b034-b95adf9af6ac"
      },
      "source": [
        "print(soup.prettify())"
      ],
      "execution_count": null,
      "outputs": [
        {
          "output_type": "stream",
          "name": "stdout",
          "text": [
            "<h1 id=\"title\">\n",
            " 안동대학교\n",
            "</h1>\n",
            "<div class=\"top\">\n",
            " <ul class=\"menu\">\n",
            "  <li>\n",
            "   <a href=\"https://www.andong.ac.kr\">\n",
            "    안동대학교\n",
            "   </a>\n",
            "  </li>\n",
            " </ul>\n",
            " <ul class=\"ctl\">\n",
            "  <li>\n",
            "   <a href=\"https://lms.andong.ac.kr\">\n",
            "    안동대학교 학습관리시스템\n",
            "   </a>\n",
            "  </li>\n",
            "  <li>\n",
            "   <a href=\"https://i4u.anu.ac.kr\">\n",
            "    안동대학교 종합정보시스템\n",
            "   </a>\n",
            "  </li>\n",
            " </ul>\n",
            "</div>\n"
          ]
        }
      ]
    },
    {
      "cell_type": "code",
      "metadata": {
        "colab": {
          "base_uri": "https://localhost:8080/"
        },
        "id": "Xun2H2KBW4Lu",
        "outputId": "f09be69d-c883-42be-e5f6-fcdd33fe0a33"
      },
      "source": [
        "soup.h1"
      ],
      "execution_count": null,
      "outputs": [
        {
          "output_type": "execute_result",
          "data": {
            "text/plain": [
              "<h1 id=\"title\"> 안동대학교 </h1>"
            ]
          },
          "metadata": {},
          "execution_count": 8
        }
      ]
    },
    {
      "cell_type": "code",
      "metadata": {
        "id": "d0t_9tJEW9YA"
      },
      "source": [
        "tag_h1 = soup.h1"
      ],
      "execution_count": null,
      "outputs": []
    },
    {
      "cell_type": "code",
      "metadata": {
        "colab": {
          "base_uri": "https://localhost:8080/"
        },
        "id": "dnHuSeZQXC8s",
        "outputId": "517cb648-0c62-429f-c1ce-b8eea8ea5232"
      },
      "source": [
        "tag_h1"
      ],
      "execution_count": null,
      "outputs": [
        {
          "output_type": "execute_result",
          "data": {
            "text/plain": [
              "<h1 id=\"title\"> 안동대학교 </h1>"
            ]
          },
          "metadata": {},
          "execution_count": 10
        }
      ]
    },
    {
      "cell_type": "code",
      "metadata": {
        "colab": {
          "base_uri": "https://localhost:8080/"
        },
        "id": "Et4maoeXXD3N",
        "outputId": "493626e9-0751-4d4d-fef4-da806fef5d0c"
      },
      "source": [
        "soup.ul"
      ],
      "execution_count": null,
      "outputs": [
        {
          "output_type": "execute_result",
          "data": {
            "text/plain": [
              "<ul class=\"menu\"><li><a href=\"https://www.andong.ac.kr\">안동대학교</a></li></ul>"
            ]
          },
          "metadata": {},
          "execution_count": 11
        }
      ]
    },
    {
      "cell_type": "code",
      "metadata": {
        "colab": {
          "base_uri": "https://localhost:8080/"
        },
        "id": "xrH7XpBJXGAB",
        "outputId": "20db338d-eebf-4362-d626-57d92dea1c30"
      },
      "source": [
        "soup.li"
      ],
      "execution_count": null,
      "outputs": [
        {
          "output_type": "execute_result",
          "data": {
            "text/plain": [
              "<li><a href=\"https://www.andong.ac.kr\">안동대학교</a></li>"
            ]
          },
          "metadata": {},
          "execution_count": 12
        }
      ]
    },
    {
      "cell_type": "code",
      "metadata": {
        "id": "KFEBTCjhXQHm"
      },
      "source": [
        "tag_a = soup.a"
      ],
      "execution_count": null,
      "outputs": []
    },
    {
      "cell_type": "code",
      "metadata": {
        "colab": {
          "base_uri": "https://localhost:8080/"
        },
        "id": "p0rwPB9AXx3a",
        "outputId": "c3d8bf95-6b35-4b7d-feb6-26a19a71f902"
      },
      "source": [
        "tag_a"
      ],
      "execution_count": null,
      "outputs": [
        {
          "output_type": "execute_result",
          "data": {
            "text/plain": [
              "<a href=\"https://www.andong.ac.kr\">안동대학교</a>"
            ]
          },
          "metadata": {},
          "execution_count": 14
        }
      ]
    },
    {
      "cell_type": "code",
      "metadata": {
        "colab": {
          "base_uri": "https://localhost:8080/"
        },
        "id": "eNgPJi7fXzCU",
        "outputId": "be043091-e195-46c5-903f-80ea44af1323"
      },
      "source": [
        "tag_a.attrs"
      ],
      "execution_count": null,
      "outputs": [
        {
          "output_type": "execute_result",
          "data": {
            "text/plain": [
              "{'href': 'https://www.andong.ac.kr'}"
            ]
          },
          "metadata": {},
          "execution_count": 15
        }
      ]
    },
    {
      "cell_type": "code",
      "metadata": {
        "colab": {
          "base_uri": "https://localhost:8080/",
          "height": 35
        },
        "id": "roSCIKfGX2tT",
        "outputId": "a4172ca9-a6a9-4303-e186-bce401e2454e"
      },
      "source": [
        "tag_a['href']"
      ],
      "execution_count": null,
      "outputs": [
        {
          "output_type": "execute_result",
          "data": {
            "application/vnd.google.colaboratory.intrinsic+json": {
              "type": "string"
            },
            "text/plain": [
              "'https://www.andong.ac.kr'"
            ]
          },
          "metadata": {},
          "execution_count": 16
        }
      ]
    },
    {
      "cell_type": "code",
      "metadata": {
        "id": "RHUztiwcX6jq"
      },
      "source": [
        "tag_ul = soup.ul"
      ],
      "execution_count": null,
      "outputs": []
    },
    {
      "cell_type": "code",
      "metadata": {
        "colab": {
          "base_uri": "https://localhost:8080/"
        },
        "id": "IlXGnPp0X-38",
        "outputId": "2707c7c5-58b5-467c-d52b-dc60aa32612b"
      },
      "source": [
        "tag_ul"
      ],
      "execution_count": null,
      "outputs": [
        {
          "output_type": "execute_result",
          "data": {
            "text/plain": [
              "<ul class=\"menu\"><li><a href=\"https://www.andong.ac.kr\">안동대학교</a></li></ul>"
            ]
          },
          "metadata": {},
          "execution_count": 18
        }
      ]
    },
    {
      "cell_type": "code",
      "metadata": {
        "colab": {
          "base_uri": "https://localhost:8080/"
        },
        "id": "SeqL8igRYO2T",
        "outputId": "ab1300d9-6f24-414d-bbc1-2937ce47287b"
      },
      "source": [
        "tag_ul.attrs"
      ],
      "execution_count": null,
      "outputs": [
        {
          "output_type": "execute_result",
          "data": {
            "text/plain": [
              "{'class': ['menu']}"
            ]
          },
          "metadata": {},
          "execution_count": 19
        }
      ]
    },
    {
      "cell_type": "code",
      "metadata": {
        "colab": {
          "base_uri": "https://localhost:8080/"
        },
        "id": "lRWqQBBHYSSn",
        "outputId": "1d7e3d05-50cf-4489-f9f4-987c8729af2d"
      },
      "source": [
        "tag_ul['class']"
      ],
      "execution_count": null,
      "outputs": [
        {
          "output_type": "execute_result",
          "data": {
            "text/plain": [
              "['menu']"
            ]
          },
          "metadata": {},
          "execution_count": 20
        }
      ]
    },
    {
      "cell_type": "code",
      "metadata": {
        "id": "bcWNqN1ZYQ5e"
      },
      "source": [
        "tag_ul_2 = soup.find"
      ],
      "execution_count": null,
      "outputs": []
    },
    {
      "cell_type": "code",
      "metadata": {
        "colab": {
          "base_uri": "https://localhost:8080/"
        },
        "id": "tTaSj619YcRi",
        "outputId": "e88f1aec-24e7-458a-c60f-2b10645cb6e1"
      },
      "source": [
        "tag_ul_2"
      ],
      "execution_count": null,
      "outputs": [
        {
          "output_type": "execute_result",
          "data": {
            "text/plain": [
              "<bound method Tag.find of <h1 id=\"title\"> 안동대학교 </h1><div class=\"top\"><ul class=\"menu\"><li><a href=\"https://www.andong.ac.kr\">안동대학교</a></li></ul><ul class=\"ctl\"><li><a href=\"https://lms.andong.ac.kr\">안동대학교 학습관리시스템</a></li><li><a href=\"https://i4u.anu.ac.kr\">안동대학교 종합정보시스템</a></li></ul></div>>"
            ]
          },
          "metadata": {},
          "execution_count": 22
        }
      ]
    },
    {
      "cell_type": "code",
      "metadata": {
        "colab": {
          "base_uri": "https://localhost:8080/"
        },
        "id": "sa-vMTpXYd8A",
        "outputId": "3fd0640b-9e76-4592-f884-43e2a56d782a"
      },
      "source": [
        "tag_ul_2 = soup.find('ul',attrs = {'class':'ctl'})\n",
        "tag_ul_2"
      ],
      "execution_count": null,
      "outputs": [
        {
          "output_type": "execute_result",
          "data": {
            "text/plain": [
              "<ul class=\"ctl\"><li><a href=\"https://lms.andong.ac.kr\">안동대학교 학습관리시스템</a></li><li><a href=\"https://i4u.anu.ac.kr\">안동대학교 종합정보시스템</a></li></ul>"
            ]
          },
          "metadata": {},
          "execution_count": 23
        }
      ]
    },
    {
      "cell_type": "code",
      "metadata": {
        "id": "fXakTU0EY3qc"
      },
      "source": [
        "title = soup.find(id='title')"
      ],
      "execution_count": null,
      "outputs": []
    },
    {
      "cell_type": "code",
      "metadata": {
        "colab": {
          "base_uri": "https://localhost:8080/"
        },
        "id": "Hzqs2XNiZI9F",
        "outputId": "a1e35151-f7e2-4898-e311-2622d38c0dab"
      },
      "source": [
        "title"
      ],
      "execution_count": null,
      "outputs": [
        {
          "output_type": "execute_result",
          "data": {
            "text/plain": [
              "<h1 id=\"title\"> 안동대학교 </h1>"
            ]
          },
          "metadata": {},
          "execution_count": 25
        }
      ]
    },
    {
      "cell_type": "code",
      "metadata": {
        "colab": {
          "base_uri": "https://localhost:8080/",
          "height": 35
        },
        "id": "HQqe5c9_ZJy_",
        "outputId": "9ee4ccd9-4f1d-4a19-9a66-7c1ffb6af3ce"
      },
      "source": [
        "title.string"
      ],
      "execution_count": null,
      "outputs": [
        {
          "output_type": "execute_result",
          "data": {
            "application/vnd.google.colaboratory.intrinsic+json": {
              "type": "string"
            },
            "text/plain": [
              "' 안동대학교 '"
            ]
          },
          "metadata": {},
          "execution_count": 26
        }
      ]
    },
    {
      "cell_type": "code",
      "metadata": {
        "colab": {
          "base_uri": "https://localhost:8080/"
        },
        "id": "4p0aImE4ZNww",
        "outputId": "5dac455e-25e8-49e1-e72b-8faab0d521f3"
      },
      "source": [
        "li_list = soup.select('div > ul.ctl > li') # class : .\n",
        "                                           # id : #\n",
        "li_list"
      ],
      "execution_count": null,
      "outputs": [
        {
          "output_type": "execute_result",
          "data": {
            "text/plain": [
              "[<li><a href=\"https://lms.andong.ac.kr\">안동대학교 학습관리시스템</a></li>,\n",
              " <li><a href=\"https://i4u.anu.ac.kr\">안동대학교 종합정보시스템</a></li>]"
            ]
          },
          "metadata": {},
          "execution_count": 27
        }
      ]
    },
    {
      "cell_type": "code",
      "metadata": {
        "colab": {
          "base_uri": "https://localhost:8080/"
        },
        "id": "srg2JMSEZ6gO",
        "outputId": "2453fdfe-5459-4fa7-f7fc-bbe3cbf20001"
      },
      "source": [
        "li_list[0]"
      ],
      "execution_count": null,
      "outputs": [
        {
          "output_type": "execute_result",
          "data": {
            "text/plain": [
              "<li><a href=\"https://lms.andong.ac.kr\">안동대학교 학습관리시스템</a></li>"
            ]
          },
          "metadata": {},
          "execution_count": 28
        }
      ]
    },
    {
      "cell_type": "code",
      "metadata": {
        "colab": {
          "base_uri": "https://localhost:8080/"
        },
        "id": "b_aHaxMiaE-i",
        "outputId": "a41c5fcb-d1f5-437c-9883-4e652db8fddc"
      },
      "source": [
        "li_list[1]"
      ],
      "execution_count": null,
      "outputs": [
        {
          "output_type": "execute_result",
          "data": {
            "text/plain": [
              "<li><a href=\"https://i4u.anu.ac.kr\">안동대학교 종합정보시스템</a></li>"
            ]
          },
          "metadata": {},
          "execution_count": 29
        }
      ]
    },
    {
      "cell_type": "code",
      "metadata": {
        "colab": {
          "base_uri": "https://localhost:8080/",
          "height": 35
        },
        "id": "LW3YRkC_aGyr",
        "outputId": "ead80a2b-40c5-405b-d332-bd77361006b5"
      },
      "source": [
        "li_list[0].string"
      ],
      "execution_count": null,
      "outputs": [
        {
          "output_type": "execute_result",
          "data": {
            "application/vnd.google.colaboratory.intrinsic+json": {
              "type": "string"
            },
            "text/plain": [
              "'안동대학교 학습관리시스템'"
            ]
          },
          "metadata": {},
          "execution_count": 30
        }
      ]
    },
    {
      "cell_type": "code",
      "metadata": {
        "colab": {
          "base_uri": "https://localhost:8080/",
          "height": 35
        },
        "id": "eehu8bXuaukr",
        "outputId": "e373c458-44a1-46cc-bbfe-1ec5f26629ac"
      },
      "source": [
        "li_list[1].string"
      ],
      "execution_count": null,
      "outputs": [
        {
          "output_type": "execute_result",
          "data": {
            "application/vnd.google.colaboratory.intrinsic+json": {
              "type": "string"
            },
            "text/plain": [
              "'안동대학교 종합정보시스템'"
            ]
          },
          "metadata": {},
          "execution_count": 31
        }
      ]
    },
    {
      "cell_type": "code",
      "metadata": {
        "colab": {
          "base_uri": "https://localhost:8080/"
        },
        "id": "IRJyPiGPaKGe",
        "outputId": "e10761da-8c97-48d3-d994-4e6619ce96f8"
      },
      "source": [
        "for li in li_list:\n",
        "    print(li.string)"
      ],
      "execution_count": null,
      "outputs": [
        {
          "output_type": "stream",
          "name": "stdout",
          "text": [
            "안동대학교 학습관리시스템\n",
            "안동대학교 종합정보시스템\n"
          ]
        }
      ]
    },
    {
      "cell_type": "markdown",
      "metadata": {
        "id": "F3be6LmRdG61"
      },
      "source": [
        "## 할리스 커피 매장 정보 크롤링 "
      ]
    },
    {
      "cell_type": "code",
      "metadata": {
        "id": "KF0l9WYWaVIr"
      },
      "source": [
        "from bs4 import BeautifulSoup\n",
        "import urllib.request"
      ],
      "execution_count": null,
      "outputs": []
    },
    {
      "cell_type": "code",
      "metadata": {
        "id": "dxhabiicdbT3"
      },
      "source": [
        "result = []"
      ],
      "execution_count": null,
      "outputs": []
    },
    {
      "cell_type": "code",
      "metadata": {
        "colab": {
          "base_uri": "https://localhost:8080/"
        },
        "id": "Ga_XyqPfdiW3",
        "outputId": "d69dba04-26fb-4576-f99d-cc7c15449a60"
      },
      "source": [
        "Hollys_url = 'https://www.hollys.co.kr/store/korea/korStore2.do?pageNo=1&sido=&gugun=&store='\n",
        "print(Hollys_url)"
      ],
      "execution_count": null,
      "outputs": [
        {
          "output_type": "stream",
          "name": "stdout",
          "text": [
            "https://www.hollys.co.kr/store/korea/korStore2.do?pageNo=1&sido=&gugun=&store=\n"
          ]
        }
      ]
    },
    {
      "cell_type": "code",
      "metadata": {
        "id": "HAggv1PHeEBU"
      },
      "source": [
        "html = urllib.request.urlopen(Hollys_url)"
      ],
      "execution_count": null,
      "outputs": []
    },
    {
      "cell_type": "code",
      "metadata": {
        "colab": {
          "base_uri": "https://localhost:8080/"
        },
        "id": "yS8yC9uPeUv9",
        "outputId": "bf1883be-2c7e-4390-cf90-c328d9750512"
      },
      "source": [
        "html"
      ],
      "execution_count": null,
      "outputs": [
        {
          "output_type": "execute_result",
          "data": {
            "text/plain": [
              "<http.client.HTTPResponse at 0x7fba135ae6d0>"
            ]
          },
          "metadata": {},
          "execution_count": 37
        }
      ]
    },
    {
      "cell_type": "code",
      "metadata": {
        "id": "DJ1XcZF6eVrt"
      },
      "source": [
        "soupHollys = BeautifulSoup(html,'html.parser')"
      ],
      "execution_count": null,
      "outputs": []
    },
    {
      "cell_type": "code",
      "metadata": {
        "colab": {
          "base_uri": "https://localhost:8080/"
        },
        "id": "BN5U1W1QefUZ",
        "outputId": "f7df198a-9431-4f44-df27-80a2dda64067"
      },
      "source": [
        "soupHollys"
      ],
      "execution_count": null,
      "outputs": [
        {
          "output_type": "execute_result",
          "data": {
            "text/plain": [
              "<!DOCTYPE html>\n",
              "\n",
              "<html lang=\"ko\" xml:lang=\"ko\" xmlns=\"http://www.w3.org/1999/xhtml\">\n",
              "<head>\n",
              "<title>할리스</title>\n",
              "<meta charset=\"utf-8\"/>\n",
              "<meta content=\"HOLLYS\" name=\"Subject\">\n",
              "<meta content=\"HOLLYS\" name=\"Title\"/>\n",
              "<meta content=\"HOLLYS,HOLLYS,할리스,할리스,커피\" name=\"Keywords\"/>\n",
              "<meta content=\"할리스는 1998년 국내 첫 에스프레소 커피전문점을 개점한 순수 국내브랜드로서 당당하게 시장 선점이라는 확고한 위치를 확보하고 국내 에스프레소 커피시장을 주도해 나가고 있습니다.\" name=\"Description\"/>\n",
              "<meta content=\"HOLLYS F&amp;B\" name=\"Author\"/>\n",
              "<meta content=\"HOLLYS F&amp;B\" name=\"Publisher\"/>\n",
              "<meta content=\"COFFEE,커피,음료,푸드\" name=\"Classification\"/>\n",
              "<meta content=\"Korea\" name=\"Location\"/>\n",
              "<meta content=\"2015.04.01\" name=\"Author-Date\"/>\n",
              "<meta content=\"2021.10.10\" name=\"Date\"/>\n",
              "<meta content=\"HOLLYS, HOLLYS F&amp;B\" name=\"Distribution\"/>\n",
              "<meta content=\"HOLLYS\" name=\"Copyright\"/>\n",
              "<meta content=\"website\" property=\"og:type\"/>\n",
              "<meta content=\"할리스\" property=\"og:title\"/>\n",
              "<meta content=\"HOLLYS\" property=\"og:description\"/>\n",
              "<meta content=\"http://www.hollys.co.kr/\" property=\"og:url\">\n",
              "<link href=\"http://www.hollys.co.kr/\" rel=\"canonical\"/>\n",
              "<link href=\"/favicon.ico\" rel=\"shortcut icon\">\n",
              "<link href=\"/websrc/css/jquery.bxslider.css\" rel=\"stylesheet\" type=\"text/css\"/>\n",
              "<link href=\"/websrc/css/design.css?dt=20210127\" rel=\"stylesheet\" type=\"text/css\"/>\n",
              "<script src=\"/websrc/js/jquery-1.7.1.min.js\" type=\"text/javascript\"></script>\n",
              "<script src=\"/websrc/js/json2.js\" type=\"text/javascript\"></script>\n",
              "<script src=\"/websrc/js/jquery.bxslider.min.js\" type=\"text/javascript\"></script>\n",
              "<script src=\"/websrc/js/jquery.form.stylishSelect.js\" type=\"text/javascript\"></script>\n",
              "<script src=\"/websrc/js/d2CommonUtil.js\" type=\"text/javascript\"></script>\n",
              "<script src=\"/websrc/js/common-JsonData.js\" type=\"text/javascript\"></script>\n",
              "<script src=\"/websrc/js/common.js?dt=20210127\" type=\"text/javascript\"></script>\n",
              "<script src=\"/websrc/js/style.js\" type=\"text/javascript\"></script>\n",
              "<script type=\"text/javascript\">\n",
              "    \t$(document).ready( function() {\n",
              "\t\t\t    \t\t    \t\t\t    \t\t\tif (document.domain != \"www.hollys.co.kr\") {\n",
              "        \t\t\tdocument.location.href = \"http://www.hollys.co.kr\";\n",
              "\t\t\t\t\treturn;\n",
              "        \t\t}\n",
              "        \t\t\n",
              "        \t\tvar mobileInfo = new Array('Android', 'iPhone', 'iPod', 'BlackBerry', 'Windows CE', 'SAMSUNG', 'LG', 'MOT', 'SonyEricsson');\n",
              "        \t\t                      \tfor (var info in mobileInfo){\n",
              "                    \t\tif (navigator.userAgent.match(mobileInfo[info]) != null){\n",
              "                    \t\t\twindow.location.href = \"https://m.hollys.co.kr/\";\n",
              "                    \t\t\tbreak;\n",
              "                    \t\t}\n",
              "                    \t}\n",
              "                \n",
              "    \t\t\t\t\t\t\t\n",
              "\t\t\t\t\t\t    \t});\n",
              "    </script>\n",
              "<script>\n",
              "!function(f,b,e,v,n,t,s)\n",
              "{if(f.fbq)return;n=f.fbq=function(){n.callMethod?\n",
              "n.callMethod.apply(n,arguments):n.queue.push(arguments)};\n",
              "if(!f._fbq)f._fbq=n;n.push=n;n.loaded=!0;n.version='2.0';\n",
              "n.queue=[];t=b.createElement(e);t.async=!0;\n",
              "t.src=v;s=b.getElementsByTagName(e)[0];\n",
              "s.parentNode.insertBefore(t,s)}(window,document,'script',\n",
              "'https://connect.facebook.net/en_US/fbevents.js');\n",
              " fbq('init', '657500121118066'); \n",
              "fbq('track', 'PageView');\n",
              "</script>\n",
              "<noscript>\n",
              "<img height=\"1\" src=\"https://www.facebook.com/tr?id=657500121118066&amp;ev=PageView\n",
              "&amp;noscript=1\" width=\"1\"/>\n",
              "</noscript></link></meta></meta></head>\n",
              "<body>\n",
              "<div id=\"accessibility\">\n",
              "<a href=\"#contents\">본문 바로가기</a>\n",
              "</div>\n",
              "<div class=\"wrap\">\n",
              "<!-- header -->\n",
              "<div class=\"header sub\">\n",
              "<!-- header 1dept -->\n",
              "<div class=\"headerInner\">\n",
              "<h1><a href=\"https://www.hollys.co.kr\"><img alt=\"HOLLYS COFFEE\" src=\"https://www.hollys.co.kr/websrc/images/layout/logo_210302.gif\"/></a></h1>\n",
              "<ul class=\"util\">\n",
              "<li><a href=\"https://www.hollys.co.kr/member/login.do\"><img alt=\"멤버십 로그인\" src=\"https://www.hollys.co.kr/websrc/images/layout/util_login.gif\"/></a></li>\n",
              "<li><a href=\"/member/join/joinMemberInfo.do\"><img alt=\"멤버십 가입\" src=\"https://www.hollys.co.kr/websrc/images/layout/util_join.gif\"/></a></li>\n",
              "<li><a href=\"/customer/faq.do\"><img alt=\"고객센터\" src=\"https://www.hollys.co.kr/websrc/images/layout/util_09.gif\"/></a></li>\n",
              "<li><a href=\"/lang/en.do\"><img alt=\"English\" src=\"https://www.hollys.co.kr/websrc/images/layout/util_05.gif\"/></a></li>\n",
              "<li class=\"lineEnd\"><a href=\"/lang/cn.do\"><img alt=\"chinnise\" src=\"https://www.hollys.co.kr/websrc/images/layout/util_chinese.gif\"/></a></li>\n",
              "</ul>\n",
              "<ul class=\"quickBanner\">\n",
              "<li class=\"btn_franchise\"><a href=\"/franchise/info/franchiseInfo.do\"><img alt=\"Franchise\" src=\"https://www.hollys.co.kr/websrc/images/layout/gnb_smenu01.png\"/></a></li>\n",
              "<li><a href=\"/academy/introduce/directions.do\"><img alt=\"Academy\" src=\"https://www.hollys.co.kr/websrc/images/layout/gnb_smenu02_2.gif\"/></a></li>\n",
              "<li><a href=\"/hollysIs/b2b/Info.do\"><img alt=\"business\" src=\"https://www.hollys.co.kr/websrc/images/layout/gnb_smenu04.gif\"/></a></li>\n",
              "</ul>\n",
              "<ul class=\"gnb\">\n",
              "<li>\n",
              "<a href=\"/menu/espresso.do\"><img alt=\"메뉴\" src=\"https://www.hollys.co.kr/websrc/images/layout/gnb_01.png\"/></a> <span style=\"opacity:0;\">메뉴</span>\n",
              "</li>\n",
              "<li>\n",
              "<a href=\"/mall/product.do\"><img alt=\"할리스 몰\" src=\"https://www.hollys.co.kr/websrc/images/layout/gnb_02.png\"/></a> <span style=\"opacity:0;\">할리스 몰</span>\n",
              "</li>\n",
              "<li>\n",
              "<a href=\"/membership/benefit.do\"><img alt=\"멤버십\" src=\"https://www.hollys.co.kr/websrc/images/layout/gnb_03.png\"/></a> <span style=\"opacity:0;\">멤버십</span>\n",
              "</li>\n",
              "<li>\n",
              "<a href=\"/news/notice/list.do\"><img alt=\"이벤트 및 공지\" src=\"https://www.hollys.co.kr/websrc/images/layout/gnb_04.png\"/></a> <span style=\"opacity:0;\">이벤트 및 공지</span>\n",
              "</li>\n",
              "<li>\n",
              "<a href=\"/store/korea/korStore2.do\"><img alt=\"매장\" src=\"https://www.hollys.co.kr/websrc/images/layout/gnb_05.png\"/></a> <span style=\"opacity:0;\">매장</span>\n",
              "</li>\n",
              "<li class=\"lineEnd\">\n",
              "<a href=\"/hollysIs/hollys/aboutHollys.do\"><img alt=\"할리스 소개\" src=\"https://www.hollys.co.kr/websrc/images/layout/gnb_06.png\"/></a> <span style=\"opacity:0;\">할리스 소개</span>\n",
              "</li>\n",
              "</ul>\n",
              "</div>\n",
              "<!-- // header 1dept -->\n",
              "<!-- header 2dept -->\n",
              "<div class=\"gnb_layer\">\n",
              "<div class=\"gnb_layerInner\" style=\"display:block\">\n",
              "<ul class=\"g_menu\">\n",
              "<li><a href=\"/menu/espresso.do\">COFFEE</a></li>\n",
              "<li><a href=\"/menu/signature.do\">라떼 · 초콜릿 · 티</a></li>\n",
              "<li><a href=\"/menu/hollyccino.do\">할리치노 · 빙수</a></li>\n",
              "<li><a href=\"/menu/tea.do\">스파클링</a></li>\n",
              "<li><a href=\"/menu/bakery.do\">푸드</a></li>\n",
              "<li><a href=\"/menu/md.do\">MD상품</a></li>\n",
              "<li><a href=\"/menu/bean.do\">MD식품</a></li>\n",
              "</ul><ul class=\"g_hollysmall\">\n",
              "<li><a href=\"/mall/product.do\">할리스콘</a></li>\n",
              "<li><a href=\"/giftCard/cardGuide.do\">할리스카드</a></li>\n",
              "<li><a href=\"/myHollys/myPay.do\">구매내역</a></li>\n",
              "</ul><ul class=\"g_membership\">\n",
              "<li><a href=\"/membership/crownOrder.do\">스마트오더</a></li>\n",
              "<li><a href=\"/membership/benefit.do\">멤버십 혜택</a></li>\n",
              "</ul><ul class=\"g_news\">\n",
              "<li><a href=\"/news/notice/list.do\">Notice</a></li>\n",
              "<li><a href=\"/news/event/list.do\">Event</a></li>\n",
              "</ul><ul class=\"g_store\">\n",
              "<li><a href=\"/store/korea/korStore2.do\">매장검색</a></li>\n",
              "</ul><ul class=\"g_hollysis lineEnd\">\n",
              "<li><a href=\"/hollysIs/hollys/aboutHollys.do\">HOLLYS</a></li>\n",
              "<li><a href=\"/hollysIs/location.do\">할리스 위치 및 연락처</a></li>\n",
              "<li><a href=\"/hollysIs/recruit/person.do\">채용 안내</a></li>\n",
              "<li><a href=\"/franchise/info/franchiseInfo.do\">가맹문의 및 절차</a></li>\n",
              "<li><a href=\"/hollysIs/b2b/Info.do\">B2B 사업 소개</a></li>\n",
              "</ul>\n",
              "</div>\n",
              "</div>\n",
              "<!-- // header 2dept -->\n",
              "</div>\n",
              "<!-- // header -->\n",
              "<script type=\"text/javascript\">\n",
              "\n",
              "\t\tvar mainImgExt = \".png\";\n",
              "\n",
              "\t\t$(\".gnb > li\")\n",
              "\t\t.mouseenter( function() {\n",
              "\t\t\tvar imgNm = $(this).find(\"img\").attr(\"src\").split(mainImgExt)[0]\n",
              "\t\t\t$(this).find(\"img\").attr(\"src\", imgNm + \"_on\" + mainImgExt);\n",
              "\t\t\t$(\".gnb > li\").removeClass(\"on\");\n",
              "\t\t\t$(this).addClass(\"on\");\n",
              "\t\t\t$(\".gnb > li\").find('span').stop().animate({'opacity':1}, 300);\n",
              "\t\t\t$(\".gnb_layer\").slideDown(300);\n",
              "\t\t})\n",
              "\t\t.mouseleave( function() {\n",
              "\t\t\t$(\".gnb > li\").removeClass(\"on\");\n",
              "\t\t\tvar imgNm = $(this).find(\"img\").attr(\"src\").split(\"_on\")[0];\n",
              "\t\t\t$(this).find(\"img\").attr(\"src\", imgNm + mainImgExt);\n",
              "\t\t});\n",
              "\n",
              "\t\t$(\".gnb_layer\")\n",
              "\t\t.mouseleave( function() {\n",
              "\t\t\t$(\".gnb > li\").removeClass(\"on\");\n",
              "\t\t\t$(\".gnb > li\").find('span').stop().animate({'opacity':0}, 100);\n",
              "\t\t\t$(\".gnb_layer\").stop(true, true).slideUp(300);\n",
              "\t\t});\n",
              "</script>\n",
              "<!-- left -->\n",
              "<div class=\"contents_wr\" id=\"contentsWr\">\n",
              "<div class=\"contents po_design\" id=\"contents\">\n",
              "<div class=\"lnb_wr\">\n",
              "<ul class=\"lnb\">\n",
              "<li name=\"leftMainLi\"><a href=\"/store/korea/korStore2.do\"><img alt=\"매장검색\" name=\"leftMainImg\" src=\"https://www.hollys.co.kr/websrc/images/layout/lnb/lnb_store_2depth01_on.gif\"/></a>\n",
              "<!-- 3 dept -->\n",
              "<ul style=\"display:none;\">\n",
              "</ul>\n",
              "<!-- // 3 dept -->\n",
              "</li>\n",
              "</ul>\n",
              "<ul class=\"lnb_banner01\">\n",
              "<li><a href=\"/membership/myHollys/myCrown.do\"><img alt=\"Membership\" src=\"https://www.hollys.co.kr/websrc/images/layout/lnb/img_bannerTit01.gif\"/></a></li>\n",
              "<li><img alt=\"할리스 멤버십 ‘CROWN’으로 다양한 혜택을 즐겨보세요\" src=\"https://www.hollys.co.kr/websrc/images/layout/lnb/img_crown_membership1.gif\"/></li>\n",
              "<li class=\"banner_img\"><a href=\"/membership/myHollys/myCrown.do\"><img alt=\"Membership\" src=\"https://www.hollys.co.kr/websrc/images/layout/lnb/bg_banner_crown1.gif\"/></a></li>\n",
              "</ul>\n",
              "</div>\n",
              "<script type=\"text/javascript\">\n",
              "    \tvar imgExt = \".gif\";\n",
              "\n",
              "    \t    \t$(document).ready( function() {\n",
              "    \t\t    \t\tif ($(\"[name='leftMainLi']\").eq(0).find(\"ul > li\").length > 0) {\n",
              "    \t\t\t$(\"[name='leftMainLi']\").eq(0).find(\"ul\").show();\n",
              "    \t\t}\n",
              "    \t});\n",
              "\n",
              "    \t    \t$(\"[name='leftMainLi']\")\n",
              "    \t\t.mouseenter( function() {\n",
              "    \t\t\tvar imgNm = $(this).find(\"[name='leftMainImg']\").attr(\"src\");\n",
              "    \t\t\tif (imgNm.indexOf(\"_on\") == -1) {\n",
              "        \t\t\tvar imgNmSplit = imgNm.split(imgExt)[0];\n",
              "        \t\t\t$(this).find(\"[name='leftMainImg']\").attr(\"src\", imgNmSplit + \"_on\" + imgExt);\n",
              "    \t\t\t}\n",
              "\n",
              "    \t\t\t    \t\t\tif ($(this).find(\"ul > li\").length > 0) {\n",
              "    \t\t\t\t$(this).find(\"ul\").slideDown(300);\n",
              "    \t\t\t}\n",
              "    \t\t})\n",
              "    \t\t.mouseleave( function() {\n",
              "    \t\t\t$(\"[name='leftMainLi']\").find(\"ul\").each( function(index) {\n",
              "    \t\t\t\tif (index != 0 && $(this).find(\"li\").length > 0) {\n",
              "    \t\t\t\t\t$(this).stop(true, true).slideUp(300);\n",
              "    \t\t\t\t}\n",
              "    \t\t\t});\n",
              "\n",
              "    \t\t\t    \t\t\t$(\"[name='leftMainLi']\").find(\"[name='leftMainImg']\").each( function() {\n",
              "    \t\t\t\t$(this).attr(\"src\", $(this).attr(\"src\").replace(\"_on\", \"\"));\n",
              "    \t\t\t});\n",
              "\n",
              "\t\t\t\t\t\t$(\"[name='leftMainLi']\").find(\"[name='leftMainImg']\").eq(0)\n",
              "\t\t\t\t.attr(\"src\", $(\"[name='leftMainLi']\").find(\"[name='leftMainImg']\").eq(0)\n",
              "\t\t\t\t\t.attr(\"src\").split(imgExt)[0] + \"_on\" + imgExt);\n",
              "\t\t});\n",
              "\n",
              "    \t    \t$(\"[name='subLeftMainLi']\")\n",
              "    \t\t.mouseenter( function() {\n",
              "    \t\t\tvar imgNm = $(this).find(\"[name='subLeftMainImg']\").attr(\"src\");\n",
              "    \t\t\tif (imgNm.indexOf(\"_on\") == -1) {\n",
              "        \t\t\tvar imgNmSplit = imgNm.split(imgExt)[0];\n",
              "        \t\t\t$(this).find(\"[name='subLeftMainImg']\").attr(\"src\", imgNmSplit + \"_on\" + imgExt);\n",
              "    \t\t\t}\n",
              "    \t\t})\n",
              "    \t\t.mouseleave( function() {\n",
              "    \t\t\t    \t\t\t$(\"[name='subLeftMainLi']\").find(\"[name='subLeftMainImg']\").each( function() {\n",
              "    \t\t\t\t$(this).attr(\"src\", $(this).attr(\"src\").replace(\"_on\", \"\"));\n",
              "    \t\t\t});\n",
              "\n",
              "    \t\t\t    \t\t\t$(\"[name='subLeftMainLi']\").find(\"[name='subLeftMainImg']\").eq(0)\n",
              "    \t\t\t\t.attr(\"src\", $(\"[name='subLeftMainLi']\").find(\"[name='subLeftMainImg']\").eq(0)\n",
              "    \t\t\t\t\t.attr(\"src\").split(imgExt)[0] + \"_on\" + imgExt);\n",
              "    \t\t});\n",
              "    </script>\n",
              "<div class=\"content \">\n",
              "<div class=\"location\">\n",
              "\t    \t\t\t\tHome &gt; Store &gt; 매장검색\n",
              "\t    \t\t\t</div>\n",
              "<h2><img alt=\"매장정보\" src=\"https://www.hollys.co.kr/websrc/images/title/tit_store01.jpg\"/></h2>\n",
              "<!-- 지도 및 매장검색 -->\n",
              "<fieldset>\n",
              "<legend></legend>\n",
              "<div class=\"store_view01\" style=\"margin-bottom:5px;\">\n",
              "<div class=\"store_map\">\n",
              "<img alt=\"전국지도\" src=\"https://www.hollys.co.kr/websrc/images/store/img_map.gif\" usemap=\"#MapStore\">\n",
              "<!-- map의 각 영역을 마우스오버하면 해당 naming layer가 떠야합니다. 각 영역과 naming layer은 class로 구분해놓았습니다. -->\n",
              "<map id=\"MapStore\" name=\"MapStore\">\n",
              "<area alt=\"서울\" class=\"city01\" coords=\"169,127,180,125,187,136,177,142,167,142,166,130\" href=\"#\" shape=\"poly\"/>\n",
              "<area alt=\"부산\" class=\"city02\" coords=\"263,306,276,303,295,290,304,298,289,318\" href=\"#\" shape=\"poly\"/>\n",
              "<area alt=\"대구\" class=\"city03\" coords=\"251,252,268,244,278,254,268,271,256,270\" href=\"#\" shape=\"poly\"/>\n",
              "<area alt=\"인천\" class=\"city04\" coords=\"150,130,159,126,166,147,157,152\" href=\"#\" shape=\"poly\"/>\n",
              "<area alt=\"광주\" class=\"city05\" coords=\"150,304,162,303,175,310,169,320,158,326,147,313\" href=\"#\" shape=\"poly\"/>\n",
              "<area alt=\"대전\" class=\"city06\" coords=\"191,212,202,228,192,234,185,222\" href=\"#\" shape=\"poly\"/>\n",
              "<area alt=\"울산\" class=\"city07\" coords=\"301,291,286,280,291,271,318,273,314,289,307,297\" href=\"#\" shape=\"poly\"/>\n",
              "<area alt=\"강원\" class=\"city08\" coords=\"249,61,306,159,266,167,248,165,239,160,216,158,214,134,208,127,207,110,179,86\" href=\"#\" shape=\"poly\"/>\n",
              "<area alt=\"경기\" class=\"city09\" coords=\"175,88,201,121,214,159,195,178,169,181,159,160,170,156,171,148,191,141,182,120,167,126,130,128\" href=\"#\" shape=\"poly\"/>\n",
              "<area alt=\"경남\" class=\"city10\" coords=\"225,255,240,276,279,278,292,288,267,301,261,313,272,323,265,335,250,328,241,328,232,321,221,322,206,296,211,269\" href=\"#\" shape=\"poly\"/>\n",
              "<area alt=\"경북\" class=\"city11\" coords=\"261,172,294,171,306,163,310,241,323,242,316,269,293,268,286,268,285,277,270,274,283,254,268,239,248,249,250,268,241,271,228,249,224,222,222,202,229,195,255,189\" href=\"#\" shape=\"poly\"/>\n",
              "<area alt=\"전남\" class=\"city12\" coords=\"199,297,218,325,208,339,201,331,194,335,194,351,179,342,142,363,141,351,128,340,177,318\" href=\"#\" shape=\"poly\"/>\n",
              "<area alt=\"전남\" class=\"city13\" coords=\"139,332,126,312,135,305,136,297,149,297,160,288,171,292,192,301,179,311,171,303,153,300,145,306,149,320,149,326\" href=\"#\" shape=\"poly\"/>\n",
              "<area alt=\"전북\" class=\"city14\" coords=\"156,244,168,240,188,244,203,254,211,243,223,249,210,262,203,287,197,296,177,291,158,286,138,293,147,279,145,266,160,263\" href=\"#\" shape=\"poly\"/>\n",
              "<area alt=\"충남\" class=\"city15\" coords=\"126,184,142,184,137,176,155,178,162,187,171,184,190,187,193,205,191,213,179,219,185,229,192,235,205,230,209,232,214,240,204,249,189,242,166,237,154,242,144,231,146,210,126,195\" href=\"#\" shape=\"poly\"/>\n",
              "<area alt=\"충북\" class=\"city16\" coords=\"219,162,237,163,257,171,249,188,233,188,217,203,224,249,197,213,192,185\" href=\"#\" shape=\"poly\"/>\n",
              "<area alt=\"제주\" class=\"city17\" coords=\"141,375,166,372,181,377,176,395,149,402,134,391\" href=\"#\" shape=\"poly\"/>\n",
              "</map>\n",
              "<!-- map의 각 영역을 마우스오버하면 해당 naming layer가 떠야합니다. 각 영역과 naming layer은 class로 구분해놓았습니다. -->\n",
              "<!-- naming layer -->\n",
              "<div>\n",
              "<img alt=\"서울\" class=\"city_layer01\" src=\"https://www.hollys.co.kr/websrc/images/store/img_city01.png\" style=\"display:none; pointer-events:none;\">\n",
              "<img alt=\"부산\" class=\"city_layer02\" src=\"https://www.hollys.co.kr/websrc/images/store/img_city02.png\" style=\"display:none; pointer-events:none;\"/>\n",
              "<img alt=\"대구\" class=\"city_layer03\" src=\"https://www.hollys.co.kr/websrc/images/store/img_city03.png\" style=\"display:none; pointer-events:none;\"/>\n",
              "<img alt=\"인천\" class=\"city_layer04\" src=\"https://www.hollys.co.kr/websrc/images/store/img_city04.png\" style=\"display:none; pointer-events:none;\"/>\n",
              "<img alt=\"광주\" class=\"city_layer05\" src=\"https://www.hollys.co.kr/websrc/images/store/img_city05.png\" style=\"display:none; pointer-events:none;\"/>\n",
              "<img alt=\"대전\" class=\"city_layer06\" src=\"https://www.hollys.co.kr/websrc/images/store/img_city06.png\" style=\"display:none; pointer-events:none;\"/>\n",
              "<img alt=\"울산\" class=\"city_layer07\" src=\"https://www.hollys.co.kr/websrc/images/store/img_city07.png\" style=\"display:none; pointer-events:none;\"/>\n",
              "<img alt=\"강원\" class=\"city_layer08\" src=\"https://www.hollys.co.kr/websrc/images/store/img_city08.png\" style=\"display:none; pointer-events:none;\"/>\n",
              "<img alt=\"경기\" class=\"city_layer09\" src=\"https://www.hollys.co.kr/websrc/images/store/img_city09.png\" style=\"display:none; pointer-events:none;\"/>\n",
              "<img alt=\"경남\" class=\"city_layer10\" src=\"https://www.hollys.co.kr/websrc/images/store/img_city10.png\" style=\"display:none; pointer-events:none;\"/>\n",
              "<img alt=\"경북\" class=\"city_layer11\" src=\"https://www.hollys.co.kr/websrc/images/store/img_city11.png\" style=\"display:none; pointer-events:none;\"/>\n",
              "<img alt=\"전남\" class=\"city_layer12\" src=\"https://www.hollys.co.kr/websrc/images/store/img_city12.png\" style=\"display:none; pointer-events:none;\"/>\n",
              "<img alt=\"전남\" class=\"city_layer12\" src=\"https://www.hollys.co.kr/websrc/images/store/img_city12.png\" style=\"display:none; pointer-events:none;\"/>\n",
              "<img alt=\"전북\" class=\"city_layer13\" src=\"https://www.hollys.co.kr/websrc/images/store/img_city13.png\" style=\"display:none; pointer-events:none;\"/>\n",
              "<img alt=\"충남\" class=\"city_layer14\" src=\"https://www.hollys.co.kr/websrc/images/store/img_city14.png\" style=\"display:none; pointer-events:none;\"/>\n",
              "<img alt=\"충북\" class=\"city_layer15\" src=\"https://www.hollys.co.kr/websrc/images/store/img_city15.png\" style=\"display:none; pointer-events:none;\"/>\n",
              "<img alt=\"제주\" class=\"city_layer16\" src=\"https://www.hollys.co.kr/websrc/images/store/img_city16.png\" style=\"display:none; pointer-events:none;\"/>\n",
              "</img></div>\n",
              "<!--// naming layer -->\n",
              "<!-- 서울 클릭시 -->\n",
              "<div class=\"map_seoul\" style=\"display:none\">\n",
              "<img alt=\"서울지도\" src=\"https://www.hollys.co.kr/websrc/images/store/img_mapSeoul.gif\" usemap=\"#MapSeoul\"/>\n",
              "<map id=\"MapSeoul\" name=\"MapSeoul\">\n",
              "<area alt=\"강남구\" class=\"Seoul01\" coords=\"237,233,254,227,268,236,278,242,280,259,296,267,310,276,313,286,319,301,307,306,300,308,294,293,284,290,265,296,266,287,251,273,250,264\" href=\"#\" shape=\"poly\"/>\n",
              "<area alt=\"강동구\" class=\"Seoul02\" coords=\"312,213,319,201,331,194,344,192,354,181,362,193,364,205,363,221,345,225,338,247,320,238,320,222\" href=\"#\" shape=\"poly\"/>\n",
              "<area alt=\"강북구\" class=\"Seoul03\" coords=\"221,115,219,105,223,93,226,80,235,70,235,82,235,97,244,111,251,115,256,123,266,136,259,148,240,144,238,132,220,122\" href=\"#\" shape=\"poly\"/>\n",
              "<area alt=\"강서구\" class=\"Seoul04\" coords=\"80,152,97,158,102,168,110,178,125,183,133,200,139,209,127,208,127,216,121,225,112,229,104,218,109,214,95,211,74,221,71,212,58,206,67,187,78,176\" href=\"#\" shape=\"poly\"/>\n",
              "<area alt=\"관악구\" class=\"Seoul05\" coords=\"159,277,169,273,178,266,198,271,205,283,214,290,218,300,206,317,199,322,180,322,171,312,162,301,165,289\" href=\"#\" shape=\"poly\"/>\n",
              "<area alt=\"광진구\" class=\"Seoul06\" coords=\"284,204,290,190,298,193,305,188,305,202,312,202,310,219,304,231,294,235,286,237,275,233,281,218\" href=\"#\" shape=\"poly\"/>\n",
              "<area alt=\"구로구\" class=\"Seoul07\" coords=\"99,248,105,256,122,247,124,254,138,257,140,249,146,254,147,263,150,271,141,276,132,269,122,269,119,277,110,286,105,285,89,287,94,275,89,263\" href=\"#\" shape=\"poly\"/>\n",
              "<area alt=\"금천구\" class=\"Seoul08\" coords=\"134,277,147,279,151,271,159,282,162,293,158,306,170,317,158,326,148,327,146,302,138,295\" href=\"#\" shape=\"poly\"/>\n",
              "<area alt=\"노원구\" class=\"Seoul09\" coords=\"274,65,289,59,303,67,302,80,308,87,303,98,302,111,311,110,315,127,309,133,304,140,294,136,281,147,270,136,267,123,276,104,273,85\" href=\"#\" shape=\"poly\"/>\n",
              "<area alt=\"도봉구\" class=\"Seoul10\" coords=\"242,55,256,58,260,63,271,68,270,80,274,106,269,112,264,121,266,136,253,115,242,104,239,99,238,71\" href=\"#\" shape=\"poly\"/>\n",
              "<area alt=\"동대문구\" class=\"Seoul11\" coords=\"249,192,248,184,256,173,266,162,282,155,284,172,288,187,284,192,282,202,271,195,260,188\" href=\"#\" shape=\"poly\"/>\n",
              "<area alt=\"동작구\" class=\"Seoul12\" coords=\"183,242,192,241,202,251,208,257,215,263,211,286,205,281,201,269,188,266,180,265,170,270,159,274,170,264,172,254,176,249\" href=\"#\" shape=\"poly\"/>\n",
              "<area alt=\"마포구\" class=\"Seoul13\" coords=\"146,167,158,181,172,193,188,202,197,206,202,206,198,218,191,228,173,220,163,214,139,198,126,179\" href=\"#\" shape=\"poly\"/>\n",
              "<area alt=\"서대문구\" class=\"Seoul14\" coords=\"161,179,167,170,179,173,184,160,194,153,194,160,203,167,197,182,206,195,198,201,185,201,172,190\" href=\"#\" shape=\"poly\"/>\n",
              "<area alt=\"서초구\" class=\"Seoul15\" coords=\"235,231,248,261,249,274,263,285,265,299,282,292,289,291,297,303,293,320,278,324,280,339,257,329,249,297,234,307,226,302,220,298,215,279,217,262,209,254,226,249\" href=\"#\" shape=\"poly\"/>\n",
              "<area alt=\"성동구\" class=\"Seoul16\" coords=\"252,192,262,193,270,200,283,201,281,209,273,232,267,229,250,224,241,226,236,216,247,204\" href=\"#\" shape=\"poly\"/>\n",
              "<area alt=\"성북구\" class=\"Seoul17\" coords=\"215,125,219,122,235,133,236,144,255,150,264,147,267,137,282,152,266,161,252,170,248,179,242,184,235,170,216,160,225,152\" href=\"#\" shape=\"poly\"/>\n",
              "<area alt=\"송파구\" class=\"Seoul18\" coords=\"281,242,294,242,306,235,313,218,319,225,318,239,333,247,332,260,348,261,335,288,326,294,321,300,314,283,311,274,281,257\" href=\"#\" shape=\"poly\"/>\n",
              "<area alt=\"양천구\" class=\"Seoul19\" coords=\"102,212,109,227,113,231,126,227,131,208,141,213,142,224,136,232,139,245,139,251,136,253,128,253,123,242,113,250,105,251,98,244,96,234,102,229,96,217\" href=\"#\" shape=\"poly\"/>\n",
              "<area alt=\"영등포구\" class=\"Seoul20\" coords=\"142,209,164,220,169,234,177,244,169,252,167,265,159,270,155,276,149,262,150,249,141,247,140,232,149,226\" href=\"#\" shape=\"poly\"/>\n",
              "<area alt=\"용산구\" class=\"Seoul21\" coords=\"204,210,222,209,226,216,234,218,229,237,218,247,205,247,201,236,194,230,201,218\" href=\"#\" shape=\"poly\"/>\n",
              "<area alt=\"은평구\" class=\"Seoul22\" coords=\"190,98,206,111,205,124,194,133,197,150,188,152,185,156,180,166,178,165,158,174,149,163,156,159,157,140,165,130,162,111\" href=\"#\" shape=\"poly\"/>\n",
              "<area alt=\"종로구\" class=\"Seoul23\" coords=\"207,125,213,126,218,140,223,152,215,158,217,168,225,167,234,175,241,188,228,191,218,187,208,191,199,181,205,168,198,159,200,147,197,136\" href=\"#\" shape=\"poly\"/>\n",
              "<area alt=\"중구\" class=\"Seoul24\" coords=\"208,193,219,189,223,193,242,191,248,192,244,206,235,215,228,213,224,205,213,209,201,204\" href=\"#\" shape=\"poly\"/>\n",
              "<area alt=\"중랑구\" class=\"Seoul25\" coords=\"293,140,301,143,309,139,317,145,319,152,316,169,309,177,300,189,290,189,291,180,287,174,284,147\" href=\"#\" shape=\"poly\"/>\n",
              "</map>\n",
              "<div>\n",
              "<img alt=\"강남구\" class=\"Seoul_layer01\" src=\"https://www.hollys.co.kr/websrc/images/store/img_Seoul01.png\" style=\"display:none; pointer-events:none;\"/>\n",
              "<img alt=\"강동구\" class=\"Seoul_layer02\" src=\"https://www.hollys.co.kr/websrc/images/store/img_Seoul02.png\" style=\"display:none; pointer-events:none;\"/>\n",
              "<img alt=\"강북구\" class=\"Seoul_layer03\" src=\"https://www.hollys.co.kr/websrc/images/store/img_Seoul03.png\" style=\"display:none; pointer-events:none;\"/>\n",
              "<img alt=\"강서구\" class=\"Seoul_layer04\" src=\"https://www.hollys.co.kr/websrc/images/store/img_Seoul04.png\" style=\"display:none; pointer-events:none;\"/>\n",
              "<img alt=\"관악구\" class=\"Seoul_layer05\" src=\"https://www.hollys.co.kr/websrc/images/store/img_Seoul05.png\" style=\"display:none; pointer-events:none;\"/>\n",
              "<img alt=\"광진구\" class=\"Seoul_layer06\" src=\"https://www.hollys.co.kr/websrc/images/store/img_Seoul06.png\" style=\"display:none; pointer-events:none;\"/>\n",
              "<img alt=\"구로구\" class=\"Seoul_layer07\" src=\"https://www.hollys.co.kr/websrc/images/store/img_Seoul07.png\" style=\"display:none; pointer-events:none;\"/>\n",
              "<img alt=\"금천구\" class=\"Seoul_layer08\" src=\"https://www.hollys.co.kr/websrc/images/store/img_Seoul08.png\" style=\"display:none; pointer-events:none;\"/>\n",
              "<img alt=\"노원구\" class=\"Seoul_layer09\" src=\"https://www.hollys.co.kr/websrc/images/store/img_Seoul09.png\" style=\"display:none; pointer-events:none;\"/>\n",
              "<img alt=\"도봉구\" class=\"Seoul_layer10\" src=\"https://www.hollys.co.kr/websrc/images/store/img_Seoul10.png\" style=\"display:none; pointer-events:none;\"/>\n",
              "<img alt=\"동대문구\" class=\"Seoul_layer11\" src=\"https://www.hollys.co.kr/websrc/images/store/img_Seoul11.png\" style=\"display:none; pointer-events:none;\"/>\n",
              "<img alt=\"동작구\" class=\"Seoul_layer12\" src=\"https://www.hollys.co.kr/websrc/images/store/img_Seoul12.png\" style=\"display:none; pointer-events:none;\"/>\n",
              "<img alt=\"마포구\" class=\"Seoul_layer13\" src=\"https://www.hollys.co.kr/websrc/images/store/img_Seoul13.png\" style=\"display:none; pointer-events:none;\"/>\n",
              "<img alt=\"서대문구\" class=\"Seoul_layer14\" src=\"https://www.hollys.co.kr/websrc/images/store/img_Seoul14.png\" style=\"display:none; pointer-events:none;\"/>\n",
              "<img alt=\"서초구\" class=\"Seoul_layer15\" src=\"https://www.hollys.co.kr/websrc/images/store/img_Seoul15.png\" style=\"display:none; pointer-events:none;\"/>\n",
              "<img alt=\"성동구\" class=\"Seoul_layer16\" src=\"https://www.hollys.co.kr/websrc/images/store/img_Seoul16.png\" style=\"display:none; pointer-events:none;\"/>\n",
              "<img alt=\"성북구\" class=\"Seoul_layer17\" src=\"https://www.hollys.co.kr/websrc/images/store/img_Seoul17.png\" style=\"display:none; pointer-events:none;\"/>\n",
              "<img alt=\"송파구\" class=\"Seoul_layer18\" src=\"https://www.hollys.co.kr/websrc/images/store/img_Seoul18.png\" style=\"display:none; pointer-events:none;\"/>\n",
              "<img alt=\"양천구\" class=\"Seoul_layer19\" src=\"https://www.hollys.co.kr/websrc/images/store/img_Seoul19.png\" style=\"display:none; pointer-events:none;\"/>\n",
              "<img alt=\"영등포구\" class=\"Seoul_layer20\" src=\"https://www.hollys.co.kr/websrc/images/store/img_Seoul20.png\" style=\"display:none; pointer-events:none;\"/>\n",
              "<img alt=\"용산구\" class=\"Seoul_layer21\" src=\"https://www.hollys.co.kr/websrc/images/store/img_Seoul21.png\" style=\"display:none; pointer-events:none;\"/>\n",
              "<img alt=\"은평구\" class=\"Seoul_layer22\" src=\"https://www.hollys.co.kr/websrc/images/store/img_Seoul22.png\" style=\"display:none; pointer-events:none;\"/>\n",
              "<img alt=\"종로구\" class=\"Seoul_layer23\" src=\"https://www.hollys.co.kr/websrc/images/store/img_Seoul23.png\" style=\"display:none; pointer-events:none;\"/>\n",
              "<img alt=\"중구\" class=\"Seoul_layer24\" src=\"https://www.hollys.co.kr/websrc/images/store/img_Seoul24.png\" style=\"display:none; pointer-events:none;\"/>\n",
              "<img alt=\"중랑구\" class=\"Seoul_layer25\" src=\"https://www.hollys.co.kr/websrc/images/store/img_Seoul25.png\" style=\"display:none; pointer-events:none;\"/>\n",
              "</div>\n",
              "</div>\n",
              "</img></div>\n",
              "<form action=\"/store/korea/korStore2.do\" id=\"frm\" method=\"get\" name=\"frm\">\n",
              "<input id=\"pageNo\" name=\"pageNo\" type=\"hidden\" value=\"1\"/>\n",
              "<div class=\"store_detail\">\n",
              "<p><img alt=\"매장검색\" src=\"https://www.hollys.co.kr/websrc/images/store/txt_store01.gif\"/></p>\n",
              "<ul>\n",
              "<li>\n",
              "<ul>\n",
              "<li><strong class=\"stit\">지역검색</strong></li>\n",
              "<li>\n",
              "<select class=\"formSelect\" id=\"mySelect1\" name=\"sido\" onchange=\"sido_sel(this.value);\" style=\"width:180px;\" title=\"검색조건\">\n",
              "<option value=\"\">시/도</option>\n",
              "<option value=\"서울\">서울</option>\n",
              "<option value=\"대전\">대전</option>\n",
              "<option value=\"세종\">세종</option>\n",
              "<option value=\"충남\">충남</option>\n",
              "<option value=\"충북\">충북</option>\n",
              "<option value=\"인천\">인천</option>\n",
              "<option value=\"강원\">강원</option>\n",
              "<option value=\"경기\">경기</option>\n",
              "<option value=\"광주\">광주</option>\n",
              "<option value=\"전남\">전남</option>\n",
              "<option value=\"전북\">전북</option>\n",
              "<option value=\"부산\">부산</option>\n",
              "<option value=\"경남\">경남</option>\n",
              "<option value=\"울산\">울산</option>\n",
              "<option value=\"제주\">제주</option>\n",
              "<option value=\"대구\">대구</option>\n",
              "<option value=\"경북\">경북</option>\n",
              "</select>\n",
              "</li>\n",
              "<li>\n",
              "<select class=\"formSelect\" id=\"mySelect1\" name=\"gugun\" onchange=\"sido_sel(this.value);\" style=\"width:180px;\" title=\"검색조건\">\n",
              "<option value=\"\">구/군</option>\n",
              "</select>\n",
              "</li>\n",
              "</ul>\n",
              "</li>\n",
              "<li class=\"mar_none pad_b_15\">\n",
              "<ul>\n",
              "<li class=\"pad_t_15\"><strong class=\"stit\">매장검색</strong></li>\n",
              "<li><input class=\"searchIn02\" id=\"store\" name=\"store\" onfocus=\"chkReset2(this.form);\" onmouseover=\"chkReset(this.form);\" style=\"width:135px;\" title=\"검색값 입력\" type=\"text\" value=\"\"/>\n",
              "<a class=\"btnType03\" href=\"#\" onclick=\"javascript:onSearch(); return false;\">검색</a></li>\n",
              "</ul>\n",
              "</li>\n",
              "<li>\n",
              "<p><strong class=\"stit\">서비스별 매장검색</strong></p>\n",
              "<ul class=\"store_servise\">\n",
              "<li>\n",
              "<img alt=\"DT 매장\" src=\"https://www.hollys.co.kr/websrc/images/store/img_store01.gif\"/>\n",
              "<div><input id=\"internet\" name=\"internet\" type=\"checkbox\" value=\"Y\"/> <label for=\"internet\">DT 매장</label></div>\n",
              "</li>\n",
              "<li>\n",
              "<img alt=\"테라스\" src=\"https://www.hollys.co.kr/websrc/images/store/img_store02.gif\"/>\n",
              "<div><input id=\"terrace\" name=\"terrace\" type=\"checkbox\" value=\"Y\"/> <label for=\"terrace\">테라스</label></div>\n",
              "</li>\n",
              "<li>\n",
              "<img alt=\"24시간\" src=\"https://www.hollys.co.kr/websrc/images/store/img_store06.gif\"/>\n",
              "<div><input id=\"allday\" name=\"allday\" type=\"checkbox\" value=\"Y\"/><labe for=\"allday\">24시간</labe></div></li></ul></li></ul></div></form></div></fieldset></div></div></div></div></body></html>\n",
              "\n",
              "<!--\n",
              "\t\t\t\t\t\t\t<li>\n",
              "\t\t\t\t\t\t\t\t<img src=\"https://www.hollys.co.kr/websrc/images/store/img_store03.gif\" alt=\"할인/적립\" />\n",
              "\t\t\t\t\t\t\t\t<div><input type=\"checkbox\" id=\"discount\" name=\"discount\" value=\"Y\" onclick=\"checkService(this.form)\"  /> <label for=\"discount\">할인/적립</label></div>\n",
              "\t\t\t\t\t\t\t</li>\n",
              "\t\t\t\t\t\t-->\n",
              "<li style=\"clear:left;\">\n",
              "<img alt=\"흡연시설\" src=\"https://www.hollys.co.kr/websrc/images/store/img_store04.gif\"/>\n",
              "<div><input id=\"smoking\" name=\"smoking\" type=\"checkbox\" value=\"Y\"/> <label for=\"smoking\">흡연시설</label></div>\n",
              "</li>\n",
              "<!--\n",
              "\t\t\t\t\t\t\t<li>\n",
              "\t\t\t\t\t\t\t\t<img src=\"https://www.hollys.co.kr/websrc/images/store/img_store07.png\" alt=\"드립커피\" style=\"width:30px;\" />\n",
              "\t\t\t\t\t\t\t\t<div><input type=\"checkbox\" id=\"location\" name=\"location\" value=\"Y\"  /> <label for=\"location\">프로모션</label></div>\n",
              "\t\t\t\t\t\t\t</li>\n",
              "\t\t\t\t\t\t-->\n",
              "<li>\n",
              "<img alt=\"주차\" src=\"https://www.hollys.co.kr/websrc/images/store/img_store08.png\" style=\"width:30px;\"/>\n",
              "<div><input id=\"fname\" name=\"fname\" type=\"checkbox\" value=\"Y\"/> <label for=\"fname\">주차</label></div>\n",
              "</li>\n",
              "<!--\n",
              "\t\t\t\t\t\t\t<li>\n",
              "\t\t\t\t\t\t\t\t<img src=\"https://www.hollys.co.kr/websrc/images/store/img_store07.png\" alt=\"플래너프로모션\" style=\"width:30px;\" />\n",
              "\t\t\t\t\t\t\t\t<div><input type=\"checkbox\" id=\"location\" name=\"location\" value=\"Y\"  /> <label for=\"location\">플래너<br/>프로모션</label></div>\n",
              "\t\t\t\t\t\t\t</li>\n",
              "\t\t\t\t\t\t\t-->\n",
              "<!--\n",
              "\t\t\t\t\t\t\t<li style=\"clear:left;\">\n",
              "\t\t\t\t\t\t\t\t<img src=\"https://www.hollys.co.kr/websrc/images/store/img_store11-1.png\" alt=\"모닝프로모션\" style=\"width:30px;\" />\n",
              "\t\t\t\t\t\t\t\t<div><input type=\"checkbox\" id=\"summerIt\" name=\"summerIt\" value=\"Y\"  /> <label for=\"summerIt\">모닝<br/>프로모션</label></div>\n",
              "\t\t\t\t\t\t\t</li>\n",
              "\t\t\t\t\t\t\t-->\n",
              "\n",
              "\n",
              "\n",
              "\n",
              "\n",
              "<p style=\"clear:both;padding:30px 0 0 0;\">* 할리스 전 매장에서 무선인터넷 서비스 이용이 가능합니다 (단, 휴게소 및 특수매장 제외)\n",
              "\t\t\t<!-- <a href=\"/myHollys/favoriteStore.do\" class=\"btn_myStore\">MY 매장 &gt;</a> -->\n",
              "</p>\n",
              "\n",
              "<fieldset>\n",
              "<div class=\"tableType01\">\n",
              "<table class=\"tb_store\" summary=\"\">\n",
              "<caption></caption>\n",
              "<colgroup>\n",
              "<col width=\"13%\"/>\n",
              "<col width=\"18%\"/>\n",
              "<col width=\"9%\"/>\n",
              "<col width=\"26%\"/>\n",
              "<col width=\"16%\"/>\n",
              "<col width=\"18%\"/>\n",
              "</colgroup>\n",
              "<thead>\n",
              "<tr>\n",
              "<th class=\"noline\" scope=\"col\">지역</th>\n",
              "<th scope=\"col\">매장명</th>\n",
              "<th scope=\"col\">현황</th>\n",
              "<th scope=\"col\">주소</th>\n",
              "<th scope=\"col\">매장 서비스</th>\n",
              "<th scope=\"col\">전화번호</th>\n",
              "</tr>\n",
              "</thead>\n",
              "<tbody>\n",
              "<tr>\n",
              "<!--\n",
              "\t\t\t\t<td class=\"noline center_t\">\n",
              "\t\t\t\t\t\t\t\t\t\t\t\t\t\t\t\t<a href=\"javascript:goLogin();\"><img src=\"https://www.hollys.co.kr/websrc/images/store/ico_favorite_off.png\" alt=\"즐겨찾기\"></a>\n",
              "\t\t\t\t\t\t\t\t\t</td>\n",
              "\t\t\t\t -->\n",
              "<td class=\"noline center_t\">전북 익산시</td>\n",
              "<td class=\"center_t\"><a href=\"#\" onclick=\"javascript:storeView(936); return false;\">익산모현점</a></td>\n",
              "<td class=\"center_t tdp0\">영업중</td>\n",
              "<td class=\"center_t\"><a href=\"#\" onclick=\"javascript:storeView(936); return false;\">전라북도 익산시 선화로3길 16-10 1층</a></td>\n",
              "<td class=\"center_t\">\n",
              "</td>\n",
              "<td class=\"center_t\">063-842-8420</td>\n",
              "</tr>\n",
              "<tr>\n",
              "<!--\n",
              "\t\t\t\t<td class=\"noline center_t\">\n",
              "\t\t\t\t\t\t\t\t\t\t\t\t\t\t\t\t<a href=\"javascript:goLogin();\"><img src=\"https://www.hollys.co.kr/websrc/images/store/ico_favorite_off.png\" alt=\"즐겨찾기\"></a>\n",
              "\t\t\t\t\t\t\t\t\t</td>\n",
              "\t\t\t\t -->\n",
              "<td class=\"noline center_t\">대전 서구</td>\n",
              "<td class=\"center_t\"><a href=\"#\" onclick=\"javascript:storeView(932); return false;\">대전건양대병원점</a></td>\n",
              "<td class=\"center_t tdp0\">영업중</td>\n",
              "<td class=\"center_t\"><a href=\"#\" onclick=\"javascript:storeView(932); return false;\">대전광역시 서구 관저동로 158 (관저동, 건양대학교병원) 신관 지하1층</a></td>\n",
              "<td class=\"center_t\">\n",
              "<img alt=\"주차\" src=\"https://www.hollys.co.kr/websrc/images/store/img_store_s08.png\" style=\"margin-right:1px\"/>\n",
              "</td>\n",
              "<td class=\"center_t\">042-543-3138</td>\n",
              "</tr>\n",
              "<tr>\n",
              "<!--\n",
              "\t\t\t\t<td class=\"noline center_t\">\n",
              "\t\t\t\t\t\t\t\t\t\t\t\t\t\t\t\t<a href=\"javascript:goLogin();\"><img src=\"https://www.hollys.co.kr/websrc/images/store/ico_favorite_off.png\" alt=\"즐겨찾기\"></a>\n",
              "\t\t\t\t\t\t\t\t\t</td>\n",
              "\t\t\t\t -->\n",
              "<td class=\"noline center_t\">대전 유성구</td>\n",
              "<td class=\"center_t\"><a href=\"#\" onclick=\"javascript:storeView(930); return false;\">대전유성온천점</a></td>\n",
              "<td class=\"center_t tdp0\">영업중</td>\n",
              "<td class=\"center_t\"><a href=\"#\" onclick=\"javascript:storeView(930); return false;\">대전 유성구 온천로 45  </a></td>\n",
              "<td class=\"center_t\">\n",
              "<img alt=\"주차\" src=\"https://www.hollys.co.kr/websrc/images/store/img_store_s08.png\" style=\"margin-right:1px\"/>\n",
              "</td>\n",
              "<td class=\"center_t\">042-825-2023</td>\n",
              "</tr>\n",
              "<tr>\n",
              "<!--\n",
              "\t\t\t\t<td class=\"noline center_t\">\n",
              "\t\t\t\t\t\t\t\t\t\t\t\t\t\t\t\t<a href=\"javascript:goLogin();\"><img src=\"https://www.hollys.co.kr/websrc/images/store/ico_favorite_off.png\" alt=\"즐겨찾기\"></a>\n",
              "\t\t\t\t\t\t\t\t\t</td>\n",
              "\t\t\t\t -->\n",
              "<td class=\"noline center_t\">경기 시흥시</td>\n",
              "<td class=\"center_t\"><a href=\"#\" onclick=\"javascript:storeView(929); return false;\">스틸랜드점</a></td>\n",
              "<td class=\"center_t tdp0\">영업중</td>\n",
              "<td class=\"center_t\"><a href=\"#\" onclick=\"javascript:storeView(929); return false;\">경기도 시흥시 오이도로 21 (정왕동, STEELLAND) 1층</a></td>\n",
              "<td class=\"center_t\">\n",
              "<img alt=\"테라스\" src=\"https://www.hollys.co.kr/websrc/images/store/img_store_s02.gif\" style=\"margin-right:1px\"/>\n",
              "<img alt=\"주차\" src=\"https://www.hollys.co.kr/websrc/images/store/img_store_s08.png\" style=\"margin-right:1px\"/>\n",
              "</td>\n",
              "<td class=\"center_t\">070-8802-8041</td>\n",
              "</tr>\n",
              "<tr>\n",
              "<!--\n",
              "\t\t\t\t<td class=\"noline center_t\">\n",
              "\t\t\t\t\t\t\t\t\t\t\t\t\t\t\t\t<a href=\"javascript:goLogin();\"><img src=\"https://www.hollys.co.kr/websrc/images/store/ico_favorite_off.png\" alt=\"즐겨찾기\"></a>\n",
              "\t\t\t\t\t\t\t\t\t</td>\n",
              "\t\t\t\t -->\n",
              "<td class=\"noline center_t\">경남 거제시</td>\n",
              "<td class=\"center_t\"><a href=\"#\" onclick=\"javascript:storeView(928); return false;\">거제휴게소점</a></td>\n",
              "<td class=\"center_t tdp0\">영업중</td>\n",
              "<td class=\"center_t\"><a href=\"#\" onclick=\"javascript:storeView(928); return false;\">경상남도 거제시 장목면 거가대로 1068 .</a></td>\n",
              "<td class=\"center_t\">\n",
              "<img alt=\"주차\" src=\"https://www.hollys.co.kr/websrc/images/store/img_store_s08.png\" style=\"margin-right:1px\"/>\n",
              "</td>\n",
              "<td class=\"center_t\">055-736-2200</td>\n",
              "</tr>\n",
              "<tr>\n",
              "<!--\n",
              "\t\t\t\t<td class=\"noline center_t\">\n",
              "\t\t\t\t\t\t\t\t\t\t\t\t\t\t\t\t<a href=\"javascript:goLogin();\"><img src=\"https://www.hollys.co.kr/websrc/images/store/ico_favorite_off.png\" alt=\"즐겨찾기\"></a>\n",
              "\t\t\t\t\t\t\t\t\t</td>\n",
              "\t\t\t\t -->\n",
              "<td class=\"noline center_t\">부산 강서구</td>\n",
              "<td class=\"center_t\"><a href=\"#\" onclick=\"javascript:storeView(927); return false;\">가덕휴게소점</a></td>\n",
              "<td class=\"center_t tdp0\">영업중</td>\n",
              "<td class=\"center_t\"><a href=\"#\" onclick=\"javascript:storeView(927); return false;\">부산광역시 강서구 거가대로 2571 (천성동) .</a></td>\n",
              "<td class=\"center_t\">\n",
              "<img alt=\"주차\" src=\"https://www.hollys.co.kr/websrc/images/store/img_store_s08.png\" style=\"margin-right:1px\"/>\n",
              "</td>\n",
              "<td class=\"center_t\">051-715-2200</td>\n",
              "</tr>\n",
              "<tr>\n",
              "<!--\n",
              "\t\t\t\t<td class=\"noline center_t\">\n",
              "\t\t\t\t\t\t\t\t\t\t\t\t\t\t\t\t<a href=\"javascript:goLogin();\"><img src=\"https://www.hollys.co.kr/websrc/images/store/ico_favorite_off.png\" alt=\"즐겨찾기\"></a>\n",
              "\t\t\t\t\t\t\t\t\t</td>\n",
              "\t\t\t\t -->\n",
              "<td class=\"noline center_t\">경기 성남시 분당구</td>\n",
              "<td class=\"center_t\"><a href=\"#\" onclick=\"javascript:storeView(926); return false;\">판교역점</a></td>\n",
              "<td class=\"center_t tdp0\">영업중</td>\n",
              "<td class=\"center_t\"><a href=\"#\" onclick=\"javascript:storeView(926); return false;\">경기도 성남시 분당구 판교역로192번길 12 (삼평동, 판교미래에셋센터) 1층</a></td>\n",
              "<td class=\"center_t\">\n",
              "<img alt=\"테라스\" src=\"https://www.hollys.co.kr/websrc/images/store/img_store_s02.gif\" style=\"margin-right:1px\"/>\n",
              "<img alt=\"주차\" src=\"https://www.hollys.co.kr/websrc/images/store/img_store_s08.png\" style=\"margin-right:1px\"/>\n",
              "</td>\n",
              "<td class=\"center_t\">031-8061-0778</td>\n",
              "</tr>\n",
              "<tr>\n",
              "<!--\n",
              "\t\t\t\t<td class=\"noline center_t\">\n",
              "\t\t\t\t\t\t\t\t\t\t\t\t\t\t\t\t<a href=\"javascript:goLogin();\"><img src=\"https://www.hollys.co.kr/websrc/images/store/ico_favorite_off.png\" alt=\"즐겨찾기\"></a>\n",
              "\t\t\t\t\t\t\t\t\t</td>\n",
              "\t\t\t\t -->\n",
              "<td class=\"noline center_t\">서울 노원구</td>\n",
              "<td class=\"center_t\"><a href=\"#\" onclick=\"javascript:storeView(925); return false;\">태릉입구역점</a></td>\n",
              "<td class=\"center_t tdp0\">영업중</td>\n",
              "<td class=\"center_t\"><a href=\"#\" onclick=\"javascript:storeView(925); return false;\">서울특별시 노원구 화랑로 453 (공릉동, 그린힐) 1층</a></td>\n",
              "<td class=\"center_t\">\n",
              "<img alt=\"주차\" src=\"https://www.hollys.co.kr/websrc/images/store/img_store_s08.png\" style=\"margin-right:1px\"/>\n",
              "</td>\n",
              "<td class=\"center_t\">02-976-0078</td>\n",
              "</tr>\n",
              "<tr>\n",
              "<!--\n",
              "\t\t\t\t<td class=\"noline center_t\">\n",
              "\t\t\t\t\t\t\t\t\t\t\t\t\t\t\t\t<a href=\"javascript:goLogin();\"><img src=\"https://www.hollys.co.kr/websrc/images/store/ico_favorite_off.png\" alt=\"즐겨찾기\"></a>\n",
              "\t\t\t\t\t\t\t\t\t</td>\n",
              "\t\t\t\t -->\n",
              "<td class=\"noline center_t\">경기 광명시</td>\n",
              "<td class=\"center_t\"><a href=\"#\" onclick=\"javascript:storeView(923); return false;\">광명하안점</a></td>\n",
              "<td class=\"center_t tdp0\">영업중</td>\n",
              "<td class=\"center_t\"><a href=\"#\" onclick=\"javascript:storeView(923); return false;\">경기도 광명시 하안로 293-6 (하안동, 두원빌딩) 1층</a></td>\n",
              "<td class=\"center_t\">\n",
              "<img alt=\"주차\" src=\"https://www.hollys.co.kr/websrc/images/store/img_store_s08.png\" style=\"margin-right:1px\"/>\n",
              "</td>\n",
              "<td class=\"center_t\">070-8837-4575</td>\n",
              "</tr>\n",
              "<tr>\n",
              "<!--\n",
              "\t\t\t\t<td class=\"noline center_t\">\n",
              "\t\t\t\t\t\t\t\t\t\t\t\t\t\t\t\t<a href=\"javascript:goLogin();\"><img src=\"https://www.hollys.co.kr/websrc/images/store/ico_favorite_off.png\" alt=\"즐겨찾기\"></a>\n",
              "\t\t\t\t\t\t\t\t\t</td>\n",
              "\t\t\t\t -->\n",
              "<td class=\"noline center_t\">경남 창원시 마산합포구</td>\n",
              "<td class=\"center_t\"><a href=\"#\" onclick=\"javascript:storeView(922); return false;\">마산저도점</a></td>\n",
              "<td class=\"center_t tdp0\">영업중</td>\n",
              "<td class=\"center_t\"><a href=\"#\" onclick=\"javascript:storeView(922); return false;\">경상남도 창원시 마산합포구 구산면 해양관광로 1872-50 2~3층</a></td>\n",
              "<td class=\"center_t\">\n",
              "<img alt=\"테라스\" src=\"https://www.hollys.co.kr/websrc/images/store/img_store_s02.gif\" style=\"margin-right:1px\"/>\n",
              "<img alt=\"주차\" src=\"https://www.hollys.co.kr/websrc/images/store/img_store_s08.png\" style=\"margin-right:1px\"/>\n",
              "</td>\n",
              "<td class=\"center_t\">055-243-1052</td>\n",
              "</tr>\n",
              "</tbody>\n",
              "</table>\n",
              "</div>\n",
              "<!-- paging -->\n",
              "<div class=\"paging\">\n",
              "<img alt=\"이전10개\" src=\"https://www.hollys.co.kr/websrc/images/common/btn_prev01.gif\"/>\n",
              "\t <strong class=\"on\">1</strong>    <a href=\"#\" onclick=\"javascript:paging(2); return false;\">2</a>    <a href=\"#\" onclick=\"javascript:paging(3); return false;\">3</a>    <a href=\"#\" onclick=\"javascript:paging(4); return false;\">4</a>    <a href=\"#\" onclick=\"javascript:paging(5); return false;\">5</a>    <a href=\"#\" onclick=\"javascript:paging(6); return false;\">6</a>    <a href=\"#\" onclick=\"javascript:paging(7); return false;\">7</a>    <a href=\"#\" onclick=\"javascript:paging(8); return false;\">8</a>    <a href=\"#\" onclick=\"javascript:paging(9); return false;\">9</a>    <a href=\"#\" onclick=\"javascript:paging(10); return false;\">10</a> \n",
              "\t<a href=\"#\" onclick=\"javascript:paging(11, 1); return false;\"><img alt=\"다음10개\" src=\"https://www.hollys.co.kr/websrc/images/common/btn_next02.gif\"/></a>\n",
              "</div>\n",
              "<!--// paging -->\n",
              "<form action=\"/store/korea/korStoreDetail2.do\" id=\"f\" method=\"get\" name=\"f\">\n",
              "<input id=\"pageNo\" name=\"pageNo\" type=\"hidden\" value=\"1\"/>\n",
              "<input id=\"branchId\" name=\"branchId\" type=\"hidden\" value=\"\"/>\n",
              "<input id=\"sido\" name=\"sido\" type=\"hidden\" value=\"\"/>\n",
              "<input id=\"gugun\" name=\"gugun\" type=\"hidden\" value=\"\"/>\n",
              "<input id=\"store\" name=\"store\" type=\"hidden\" value=\"\"/>\n",
              "<input id=\"internet\" name=\"internet\" type=\"hidden\" value=\"\"/>\n",
              "<input id=\"smoking\" name=\"smoking\" type=\"hidden\" value=\"\"/>\n",
              "<input id=\"terrace\" name=\"terrace\" type=\"hidden\" value=\"\"/>\n",
              "<input id=\"location\" name=\"location\" type=\"hidden\" value=\"\"/>\n",
              "<input id=\"fname\" name=\"fname\" type=\"hidden\" value=\"\"/>\n",
              "<input id=\"allday\" name=\"allday\" type=\"hidden\" value=\"\"/>\n",
              "</form>\n",
              "<script type=\"text/javascript\">\n",
              "\t// 전화번호 첫째자리 select\n",
              "\t$('.formSelect').sSelect();\n",
              "\n",
              "\tfunction sido_sel(sido){\n",
              "\t\tonSearch();\n",
              "\t}\n",
              "\n",
              "\tvar bReset = true;\n",
              "\tfunction chkReset(frm){\n",
              "\t\tif (bReset) {\n",
              "\t\t\tif ( frm.store.value == \"매장명 검색\" )\n",
              "\t\t\t\tfrm.store.value = \"\";\n",
              "\t\t\tbReset = false;\n",
              "\t\t}\n",
              "\t}\n",
              "\n",
              "\tfunction onSearch() {\n",
              "\t\tdocument.frm.pageNo.value = 1;\n",
              "\t\tdocument.frm.submit();\n",
              "\t}\n",
              "\n",
              "\tfunction paging(pageNo) {\n",
              "\t\tdocument.frm.pageNo.value = pageNo;\n",
              "\t\tdocument.frm.submit();\n",
              "\t}\n",
              "\n",
              "\tfunction storeView(idx){\n",
              "\t\tdocument.f.pageNo.value = '1';\n",
              "\t\tdocument.f.branchId.value = idx;\n",
              "\t\tdocument.f.value = '1';\n",
              "\t\tdocument.f.submit();\n",
              "\t}\n",
              "\n",
              "\t\tfunction onLike(branch, like) {\n",
              "\t\tvar confirmMsg = '';\n",
              "\t\tvar resultMsg = '';\n",
              "\n",
              "\t\tif(like == '_off') {\n",
              "\t\t\tconfirmMsg = '즐겨찾는 매장으로 설정하시겠습니까?';\n",
              "\t\t\tresultMsg = '설정되었습니다.';\n",
              "\t\t} else {\n",
              "\t\t\tconfirmMsg = '즐겨찾는 매장을 해지하시겠습니까?';\n",
              "\t\t\tresultMsg = '해지되었습니다.';\n",
              "\t\t}\n",
              "\n",
              "\t\tif(confirm(confirmMsg)) {\n",
              "\t\t\tjQuery.ajax({\n",
              "\t\t\t\ttype : \"POST\",\n",
              "\t\t\t\turl : \"/store/favoriteStoreAjax.do\",\n",
              "\t\t\t\tdata :{branchId : branch, likeYn : like},\n",
              "\t\t\t\tsuccess:function(data){\n",
              "\t\t\t\t\tif(data.status == 'success') {\n",
              "\t\t\t\t\t\talert(resultMsg);\n",
              "\t\t\t\t\t\tlocation.reload();\n",
              "\t\t\t\t\t} else {\n",
              "\t\t\t\t\t\talert(data.status);\n",
              "\t\t\t\t\t\tlocation.reload();\n",
              "\t\t\t\t\t}\n",
              "\t\t\t\t}\n",
              "\t\t\t});\n",
              "\t\t} else {\n",
              "\t\t\talert('취소되었습니다.');\n",
              "\t\t\treturn;\n",
              "\t\t}\n",
              "\t}\n",
              "\n",
              "\t\tfunction goLogin() {\n",
              "\t\talert('로그인 후 이용 가능합니다.');\n",
              "\t\tlocation.href = '/member/login.do?redirectUrl=/store/korea/korStore2.do';\n",
              "\t}\n",
              "</script>\n",
              "<script type=\"text/javascript\">\n",
              "$(function() {\n",
              "\n",
              "    var idx;\n",
              "\n",
              "    var _lmap = $('#MapStore').children();\n",
              "    var _lmapOver = $('#MapStore').next().children();\n",
              "    var _smap = $('#MapSeoul').children();\n",
              "    var _smapOver = $('#MapSeoul').next().children();\n",
              "\n",
              "    var sCity = $(\"select[name=sido]\").val();\n",
              "    var gugun = $(\"select[name=gugun]\").val();\n",
              "\n",
              "    var getSelected = function() {\n",
              "    \t$(\"select[name=sido]\").val();\n",
              "        var sArea;\n",
              "\n",
              "        if(sCity==\"서울\") {\n",
              "            _smap.parent().parent().show();\n",
              "            _sArea = _smapOver;\n",
              "        } else {\n",
              "            $('.store_map').children().eq(0).css({opacity:1});\n",
              "            _smap.parent().parent().hide();\n",
              "            _sArea = _lmapOver;\n",
              "        };\n",
              "\n",
              "        _sArea.each(function(i) {\n",
              "            var curCity = $(this).attr('alt');\n",
              "\n",
              "            $(this).hide();\n",
              "            if (sCity==\"서울\") {\n",
              "                if(curCity == gugun) $(this).show();\n",
              "            } else {\n",
              "                if (curCity == sCity) $(this).show();\n",
              "            }\n",
              "        });\n",
              "    }\n",
              "\n",
              "    var cityOverHandler = function() {\n",
              "        idx = $(this).index();\n",
              "\n",
              "        if(sCity==\"서울\") _smapOver.hide().eq(idx).show();\n",
              "        else _lmapOver.hide().eq(idx).show();\n",
              "    }\n",
              "\n",
              "    var cityLevaeHandler = function() {\n",
              "        getSelected();\n",
              "    }\n",
              "\n",
              "    var cityClickHandler = function(e) {\n",
              "        e.preventDefault();\n",
              "        sCity = $(this).attr('alt');\n",
              "        gugun = $(this).attr('alt');\n",
              "\n",
              "        if($(\"select[name=sido]\").val()==\"서울\") location.href = \"/store/korea/korStore2.do?page=1&sido=서울&gugun=\"+gugun;\n",
              "        else location.href = \"/store/korea/korStore2.do?page=1&sido=\"+sCity;\n",
              "    }\n",
              "\n",
              "    _lmap.on('mouseenter' , cityOverHandler);\n",
              "    _lmap.on('click' , cityClickHandler);\n",
              "\n",
              "    _smap.on('mouseenter' , cityOverHandler);\n",
              "    _smap.on('click' , cityClickHandler);\n",
              "\n",
              "    $('.store_map').on('mouseleave' , cityLevaeHandler);\n",
              "\n",
              "    getSelected();\n",
              "});\n",
              "</script>\n",
              "</fieldset>\n",
              "<!-- floating 2020-01-25 -->\n",
              "<div class=\"floating\">\n",
              "<a href=\"https://www.hollys.co.kr/franchise/info/franchiseInfo.do\" target=\"_blank\"><img src=\"https://www.hollys.co.kr/websrc/images/main/floating.png?d=210930\"/></a>\n",
              "</div>\n",
              "<!-- //floating 2020-01-25 -->\n",
              "\n",
              "<div class=\"popup_wrap\" id=\"popup_common\" style=\"width:646px;\"></div>\n",
              "<div class=\"dimm\" id=\"popup_dimm\"></div><!-- 딤 on클래스로 제어 -->\n",
              "\n",
              "<div class=\"footer\">\n",
              "<div class=\"footerInner\">\n",
              "<div style=\"float:left;\">\n",
              "<a href=\"/customer/policy/customerInfoPolicy.do\"><b>개인정보처리방침</b></a>\n",
              "<a href=\"/customer/policy/serviceTerms.do\">서비스이용약관</a>\n",
              "<a href=\"/customer/policy/membershipTerms.do\">멤버십이용약관</a>\n",
              "<a href=\"/customer/policy/hollysCardTerms.do\">할리스카드이용약관</a>\n",
              "<a href=\"/customer/inquiry.do\">고객문의</a>\n",
              "<a href=\"/customer/survey/surveyInfo.do\">고객설문</a>\n",
              "<a href=\"/footer/sitemap.do\">사이트맵</a>\n",
              "<a class=\"last\" href=\"/hollysIs/hollys/bi.do\">BI 소개</a>\n",
              "<p>법인명: (주) 케이지할리스에프앤비 대표자: 이종현 사업자등록번호 211-87-61044 통신판매업: 제2019-서울종로-0193호 <br/>주소 : 서울특별시 종로구 율곡로 88 삼환빌딩 8층 (운니동) 대표전화 : 02-2188-7100 (가맹문의 : 02-6350-7229)</p>\n",
              "<p class=\"address\">COPYRIGHT (C) KG HOLLYS F&amp;B. All Rights Reserved.</p>\n",
              "</div>\n",
              "</div>\n",
              "</div>\n",
              "\n",
              "<script>\n",
              "  (function(i,s,o,g,r,a,m){i['GoogleAnalyticsObject']=r;i[r]=i[r]||function(){\n",
              "  (i[r].q=i[r].q||[]).push(arguments)},i[r].l=1*new Date();a=s.createElement(o),\n",
              "  m=s.getElementsByTagName(o)[0];a.async=1;a.src=g;m.parentNode.insertBefore(a,m)\n",
              "  })(window,document,'script','https://www.google-analytics.com/analytics.js','ga');\n",
              "\n",
              "  ga('create', 'UA-60787265-1', 'auto');\n",
              "  ga('create', 'UA-89313435-1', 'auto', {'allowLinker': true});\n",
              "  ga('create', 'UA-89313435-3', 'auto', {'allowLinker': true});\n",
              "  ga('require', 'linker');\n",
              "  ga('linker:autoLink', ['dechocolatecoffeeand.co.kr'], ['m.hollys.co.kr'] );\n",
              "  ga('send', 'pageview');\n",
              "  ga('allowLinker.send', 'pageview');\n",
              "\n",
              "</script>\n",
              "<script type=\"text/javascript\">\n",
              "    var roosevelt_params = {\n",
              "        retargeting_id:'Bhpew1IQjC7I3AufHKyVCw00',\n",
              "        tag_label:'J0YgM6vuQIa5MynbLVqwaw'\n",
              "    };\n",
              "</script>\n",
              "<script async=\"\" src=\"//adimg.daumcdn.net/rt/roosevelt.js\" type=\"text/javascript\"></script>\n",
              "<script src=\"//wcs.naver.net/wcslog.js\" type=\"text/javascript\"> </script>\n",
              "<script type=\"text/javascript\"> \n",
              "if (!wcs_add) var wcs_add={};\n",
              "wcs_add[\"wa\"] = \"s_305689c5855e\";\n",
              "if (!_nasa) var _nasa={};\n",
              "wcs.inflow();\n",
              "wcs_do(_nasa);\n",
              "</script>"
            ]
          },
          "metadata": {},
          "execution_count": 39
        }
      ]
    },
    {
      "cell_type": "code",
      "metadata": {
        "id": "Mp6YqN-4elSp"
      },
      "source": [
        "tag_tbody = soupHollys.find('tbody')"
      ],
      "execution_count": null,
      "outputs": []
    },
    {
      "cell_type": "code",
      "metadata": {
        "colab": {
          "base_uri": "https://localhost:8080/"
        },
        "id": "7SgKYVaXfaZr",
        "outputId": "19073dc5-d7cc-4b81-b44c-8883da93c19a"
      },
      "source": [
        "tag_tbody"
      ],
      "execution_count": null,
      "outputs": [
        {
          "output_type": "execute_result",
          "data": {
            "text/plain": [
              "<tbody>\n",
              "<tr>\n",
              "<!--\n",
              "\t\t\t\t<td class=\"noline center_t\">\n",
              "\t\t\t\t\t\t\t\t\t\t\t\t\t\t\t\t<a href=\"javascript:goLogin();\"><img src=\"https://www.hollys.co.kr/websrc/images/store/ico_favorite_off.png\" alt=\"즐겨찾기\"></a>\n",
              "\t\t\t\t\t\t\t\t\t</td>\n",
              "\t\t\t\t -->\n",
              "<td class=\"noline center_t\">전북 익산시</td>\n",
              "<td class=\"center_t\"><a href=\"#\" onclick=\"javascript:storeView(936); return false;\">익산모현점</a></td>\n",
              "<td class=\"center_t tdp0\">영업중</td>\n",
              "<td class=\"center_t\"><a href=\"#\" onclick=\"javascript:storeView(936); return false;\">전라북도 익산시 선화로3길 16-10 1층</a></td>\n",
              "<td class=\"center_t\">\n",
              "</td>\n",
              "<td class=\"center_t\">063-842-8420</td>\n",
              "</tr>\n",
              "<tr>\n",
              "<!--\n",
              "\t\t\t\t<td class=\"noline center_t\">\n",
              "\t\t\t\t\t\t\t\t\t\t\t\t\t\t\t\t<a href=\"javascript:goLogin();\"><img src=\"https://www.hollys.co.kr/websrc/images/store/ico_favorite_off.png\" alt=\"즐겨찾기\"></a>\n",
              "\t\t\t\t\t\t\t\t\t</td>\n",
              "\t\t\t\t -->\n",
              "<td class=\"noline center_t\">대전 서구</td>\n",
              "<td class=\"center_t\"><a href=\"#\" onclick=\"javascript:storeView(932); return false;\">대전건양대병원점</a></td>\n",
              "<td class=\"center_t tdp0\">영업중</td>\n",
              "<td class=\"center_t\"><a href=\"#\" onclick=\"javascript:storeView(932); return false;\">대전광역시 서구 관저동로 158 (관저동, 건양대학교병원) 신관 지하1층</a></td>\n",
              "<td class=\"center_t\">\n",
              "<img alt=\"주차\" src=\"https://www.hollys.co.kr/websrc/images/store/img_store_s08.png\" style=\"margin-right:1px\"/>\n",
              "</td>\n",
              "<td class=\"center_t\">042-543-3138</td>\n",
              "</tr>\n",
              "<tr>\n",
              "<!--\n",
              "\t\t\t\t<td class=\"noline center_t\">\n",
              "\t\t\t\t\t\t\t\t\t\t\t\t\t\t\t\t<a href=\"javascript:goLogin();\"><img src=\"https://www.hollys.co.kr/websrc/images/store/ico_favorite_off.png\" alt=\"즐겨찾기\"></a>\n",
              "\t\t\t\t\t\t\t\t\t</td>\n",
              "\t\t\t\t -->\n",
              "<td class=\"noline center_t\">대전 유성구</td>\n",
              "<td class=\"center_t\"><a href=\"#\" onclick=\"javascript:storeView(930); return false;\">대전유성온천점</a></td>\n",
              "<td class=\"center_t tdp0\">영업중</td>\n",
              "<td class=\"center_t\"><a href=\"#\" onclick=\"javascript:storeView(930); return false;\">대전 유성구 온천로 45  </a></td>\n",
              "<td class=\"center_t\">\n",
              "<img alt=\"주차\" src=\"https://www.hollys.co.kr/websrc/images/store/img_store_s08.png\" style=\"margin-right:1px\"/>\n",
              "</td>\n",
              "<td class=\"center_t\">042-825-2023</td>\n",
              "</tr>\n",
              "<tr>\n",
              "<!--\n",
              "\t\t\t\t<td class=\"noline center_t\">\n",
              "\t\t\t\t\t\t\t\t\t\t\t\t\t\t\t\t<a href=\"javascript:goLogin();\"><img src=\"https://www.hollys.co.kr/websrc/images/store/ico_favorite_off.png\" alt=\"즐겨찾기\"></a>\n",
              "\t\t\t\t\t\t\t\t\t</td>\n",
              "\t\t\t\t -->\n",
              "<td class=\"noline center_t\">경기 시흥시</td>\n",
              "<td class=\"center_t\"><a href=\"#\" onclick=\"javascript:storeView(929); return false;\">스틸랜드점</a></td>\n",
              "<td class=\"center_t tdp0\">영업중</td>\n",
              "<td class=\"center_t\"><a href=\"#\" onclick=\"javascript:storeView(929); return false;\">경기도 시흥시 오이도로 21 (정왕동, STEELLAND) 1층</a></td>\n",
              "<td class=\"center_t\">\n",
              "<img alt=\"테라스\" src=\"https://www.hollys.co.kr/websrc/images/store/img_store_s02.gif\" style=\"margin-right:1px\"/>\n",
              "<img alt=\"주차\" src=\"https://www.hollys.co.kr/websrc/images/store/img_store_s08.png\" style=\"margin-right:1px\"/>\n",
              "</td>\n",
              "<td class=\"center_t\">070-8802-8041</td>\n",
              "</tr>\n",
              "<tr>\n",
              "<!--\n",
              "\t\t\t\t<td class=\"noline center_t\">\n",
              "\t\t\t\t\t\t\t\t\t\t\t\t\t\t\t\t<a href=\"javascript:goLogin();\"><img src=\"https://www.hollys.co.kr/websrc/images/store/ico_favorite_off.png\" alt=\"즐겨찾기\"></a>\n",
              "\t\t\t\t\t\t\t\t\t</td>\n",
              "\t\t\t\t -->\n",
              "<td class=\"noline center_t\">경남 거제시</td>\n",
              "<td class=\"center_t\"><a href=\"#\" onclick=\"javascript:storeView(928); return false;\">거제휴게소점</a></td>\n",
              "<td class=\"center_t tdp0\">영업중</td>\n",
              "<td class=\"center_t\"><a href=\"#\" onclick=\"javascript:storeView(928); return false;\">경상남도 거제시 장목면 거가대로 1068 .</a></td>\n",
              "<td class=\"center_t\">\n",
              "<img alt=\"주차\" src=\"https://www.hollys.co.kr/websrc/images/store/img_store_s08.png\" style=\"margin-right:1px\"/>\n",
              "</td>\n",
              "<td class=\"center_t\">055-736-2200</td>\n",
              "</tr>\n",
              "<tr>\n",
              "<!--\n",
              "\t\t\t\t<td class=\"noline center_t\">\n",
              "\t\t\t\t\t\t\t\t\t\t\t\t\t\t\t\t<a href=\"javascript:goLogin();\"><img src=\"https://www.hollys.co.kr/websrc/images/store/ico_favorite_off.png\" alt=\"즐겨찾기\"></a>\n",
              "\t\t\t\t\t\t\t\t\t</td>\n",
              "\t\t\t\t -->\n",
              "<td class=\"noline center_t\">부산 강서구</td>\n",
              "<td class=\"center_t\"><a href=\"#\" onclick=\"javascript:storeView(927); return false;\">가덕휴게소점</a></td>\n",
              "<td class=\"center_t tdp0\">영업중</td>\n",
              "<td class=\"center_t\"><a href=\"#\" onclick=\"javascript:storeView(927); return false;\">부산광역시 강서구 거가대로 2571 (천성동) .</a></td>\n",
              "<td class=\"center_t\">\n",
              "<img alt=\"주차\" src=\"https://www.hollys.co.kr/websrc/images/store/img_store_s08.png\" style=\"margin-right:1px\"/>\n",
              "</td>\n",
              "<td class=\"center_t\">051-715-2200</td>\n",
              "</tr>\n",
              "<tr>\n",
              "<!--\n",
              "\t\t\t\t<td class=\"noline center_t\">\n",
              "\t\t\t\t\t\t\t\t\t\t\t\t\t\t\t\t<a href=\"javascript:goLogin();\"><img src=\"https://www.hollys.co.kr/websrc/images/store/ico_favorite_off.png\" alt=\"즐겨찾기\"></a>\n",
              "\t\t\t\t\t\t\t\t\t</td>\n",
              "\t\t\t\t -->\n",
              "<td class=\"noline center_t\">경기 성남시 분당구</td>\n",
              "<td class=\"center_t\"><a href=\"#\" onclick=\"javascript:storeView(926); return false;\">판교역점</a></td>\n",
              "<td class=\"center_t tdp0\">영업중</td>\n",
              "<td class=\"center_t\"><a href=\"#\" onclick=\"javascript:storeView(926); return false;\">경기도 성남시 분당구 판교역로192번길 12 (삼평동, 판교미래에셋센터) 1층</a></td>\n",
              "<td class=\"center_t\">\n",
              "<img alt=\"테라스\" src=\"https://www.hollys.co.kr/websrc/images/store/img_store_s02.gif\" style=\"margin-right:1px\"/>\n",
              "<img alt=\"주차\" src=\"https://www.hollys.co.kr/websrc/images/store/img_store_s08.png\" style=\"margin-right:1px\"/>\n",
              "</td>\n",
              "<td class=\"center_t\">031-8061-0778</td>\n",
              "</tr>\n",
              "<tr>\n",
              "<!--\n",
              "\t\t\t\t<td class=\"noline center_t\">\n",
              "\t\t\t\t\t\t\t\t\t\t\t\t\t\t\t\t<a href=\"javascript:goLogin();\"><img src=\"https://www.hollys.co.kr/websrc/images/store/ico_favorite_off.png\" alt=\"즐겨찾기\"></a>\n",
              "\t\t\t\t\t\t\t\t\t</td>\n",
              "\t\t\t\t -->\n",
              "<td class=\"noline center_t\">서울 노원구</td>\n",
              "<td class=\"center_t\"><a href=\"#\" onclick=\"javascript:storeView(925); return false;\">태릉입구역점</a></td>\n",
              "<td class=\"center_t tdp0\">영업중</td>\n",
              "<td class=\"center_t\"><a href=\"#\" onclick=\"javascript:storeView(925); return false;\">서울특별시 노원구 화랑로 453 (공릉동, 그린힐) 1층</a></td>\n",
              "<td class=\"center_t\">\n",
              "<img alt=\"주차\" src=\"https://www.hollys.co.kr/websrc/images/store/img_store_s08.png\" style=\"margin-right:1px\"/>\n",
              "</td>\n",
              "<td class=\"center_t\">02-976-0078</td>\n",
              "</tr>\n",
              "<tr>\n",
              "<!--\n",
              "\t\t\t\t<td class=\"noline center_t\">\n",
              "\t\t\t\t\t\t\t\t\t\t\t\t\t\t\t\t<a href=\"javascript:goLogin();\"><img src=\"https://www.hollys.co.kr/websrc/images/store/ico_favorite_off.png\" alt=\"즐겨찾기\"></a>\n",
              "\t\t\t\t\t\t\t\t\t</td>\n",
              "\t\t\t\t -->\n",
              "<td class=\"noline center_t\">경기 광명시</td>\n",
              "<td class=\"center_t\"><a href=\"#\" onclick=\"javascript:storeView(923); return false;\">광명하안점</a></td>\n",
              "<td class=\"center_t tdp0\">영업중</td>\n",
              "<td class=\"center_t\"><a href=\"#\" onclick=\"javascript:storeView(923); return false;\">경기도 광명시 하안로 293-6 (하안동, 두원빌딩) 1층</a></td>\n",
              "<td class=\"center_t\">\n",
              "<img alt=\"주차\" src=\"https://www.hollys.co.kr/websrc/images/store/img_store_s08.png\" style=\"margin-right:1px\"/>\n",
              "</td>\n",
              "<td class=\"center_t\">070-8837-4575</td>\n",
              "</tr>\n",
              "<tr>\n",
              "<!--\n",
              "\t\t\t\t<td class=\"noline center_t\">\n",
              "\t\t\t\t\t\t\t\t\t\t\t\t\t\t\t\t<a href=\"javascript:goLogin();\"><img src=\"https://www.hollys.co.kr/websrc/images/store/ico_favorite_off.png\" alt=\"즐겨찾기\"></a>\n",
              "\t\t\t\t\t\t\t\t\t</td>\n",
              "\t\t\t\t -->\n",
              "<td class=\"noline center_t\">경남 창원시 마산합포구</td>\n",
              "<td class=\"center_t\"><a href=\"#\" onclick=\"javascript:storeView(922); return false;\">마산저도점</a></td>\n",
              "<td class=\"center_t tdp0\">영업중</td>\n",
              "<td class=\"center_t\"><a href=\"#\" onclick=\"javascript:storeView(922); return false;\">경상남도 창원시 마산합포구 구산면 해양관광로 1872-50 2~3층</a></td>\n",
              "<td class=\"center_t\">\n",
              "<img alt=\"테라스\" src=\"https://www.hollys.co.kr/websrc/images/store/img_store_s02.gif\" style=\"margin-right:1px\"/>\n",
              "<img alt=\"주차\" src=\"https://www.hollys.co.kr/websrc/images/store/img_store_s08.png\" style=\"margin-right:1px\"/>\n",
              "</td>\n",
              "<td class=\"center_t\">055-243-1052</td>\n",
              "</tr>\n",
              "</tbody>"
            ]
          },
          "metadata": {},
          "execution_count": 41
        }
      ]
    },
    {
      "cell_type": "code",
      "metadata": {
        "colab": {
          "base_uri": "https://localhost:8080/"
        },
        "id": "WyUSKAFDfbPR",
        "outputId": "5dbb1f17-bd9b-4b1a-fd60-7015a50ef15b"
      },
      "source": [
        "tag_tr = tag_tbody.find('tr')\n",
        "tag_tr"
      ],
      "execution_count": null,
      "outputs": [
        {
          "output_type": "execute_result",
          "data": {
            "text/plain": [
              "<tr>\n",
              "<!--\n",
              "\t\t\t\t<td class=\"noline center_t\">\n",
              "\t\t\t\t\t\t\t\t\t\t\t\t\t\t\t\t<a href=\"javascript:goLogin();\"><img src=\"https://www.hollys.co.kr/websrc/images/store/ico_favorite_off.png\" alt=\"즐겨찾기\"></a>\n",
              "\t\t\t\t\t\t\t\t\t</td>\n",
              "\t\t\t\t -->\n",
              "<td class=\"noline center_t\">전북 익산시</td>\n",
              "<td class=\"center_t\"><a href=\"#\" onclick=\"javascript:storeView(936); return false;\">익산모현점</a></td>\n",
              "<td class=\"center_t tdp0\">영업중</td>\n",
              "<td class=\"center_t\"><a href=\"#\" onclick=\"javascript:storeView(936); return false;\">전라북도 익산시 선화로3길 16-10 1층</a></td>\n",
              "<td class=\"center_t\">\n",
              "</td>\n",
              "<td class=\"center_t\">063-842-8420</td>\n",
              "</tr>"
            ]
          },
          "metadata": {},
          "execution_count": 42
        }
      ]
    },
    {
      "cell_type": "code",
      "metadata": {
        "colab": {
          "base_uri": "https://localhost:8080/"
        },
        "id": "qMxOydl3fwgC",
        "outputId": "e34a5744-2e45-471a-b717-25538c91032c"
      },
      "source": [
        "tag_td = tag_tr.find_all('td')\n",
        "tag_td"
      ],
      "execution_count": null,
      "outputs": [
        {
          "output_type": "execute_result",
          "data": {
            "text/plain": [
              "[<td class=\"noline center_t\">전북 익산시</td>,\n",
              " <td class=\"center_t\"><a href=\"#\" onclick=\"javascript:storeView(936); return false;\">익산모현점</a></td>,\n",
              " <td class=\"center_t tdp0\">영업중</td>,\n",
              " <td class=\"center_t\"><a href=\"#\" onclick=\"javascript:storeView(936); return false;\">전라북도 익산시 선화로3길 16-10 1층</a></td>,\n",
              " <td class=\"center_t\">\n",
              " </td>,\n",
              " <td class=\"center_t\">063-842-8420</td>]"
            ]
          },
          "metadata": {},
          "execution_count": 43
        }
      ]
    },
    {
      "cell_type": "code",
      "metadata": {
        "colab": {
          "base_uri": "https://localhost:8080/"
        },
        "id": "8E8Hzub5gk6f",
        "outputId": "0443cf5a-129e-4985-bb9c-a2a2b95e9fbc"
      },
      "source": [
        "tag_td[0]"
      ],
      "execution_count": null,
      "outputs": [
        {
          "output_type": "execute_result",
          "data": {
            "text/plain": [
              "<td class=\"noline center_t\">전북 익산시</td>"
            ]
          },
          "metadata": {},
          "execution_count": 44
        }
      ]
    },
    {
      "cell_type": "code",
      "metadata": {
        "id": "Ww8EJbwugq_Q"
      },
      "source": [
        "store_name = tag_td[1].string"
      ],
      "execution_count": null,
      "outputs": []
    },
    {
      "cell_type": "code",
      "metadata": {
        "colab": {
          "base_uri": "https://localhost:8080/",
          "height": 35
        },
        "id": "jQOSVUu9g3EW",
        "outputId": "ca766fc7-2a0e-4e62-e864-143feb058575"
      },
      "source": [
        "store_name"
      ],
      "execution_count": null,
      "outputs": [
        {
          "output_type": "execute_result",
          "data": {
            "application/vnd.google.colaboratory.intrinsic+json": {
              "type": "string"
            },
            "text/plain": [
              "'익산모현점'"
            ]
          },
          "metadata": {},
          "execution_count": 46
        }
      ]
    },
    {
      "cell_type": "code",
      "metadata": {
        "id": "0C9VOcTog4KF"
      },
      "source": [
        "store_sido = tag_td[0].string"
      ],
      "execution_count": null,
      "outputs": []
    },
    {
      "cell_type": "code",
      "metadata": {
        "colab": {
          "base_uri": "https://localhost:8080/",
          "height": 35
        },
        "id": "UxIoIg5xhBvL",
        "outputId": "9eba18c4-b55c-4211-e235-144d489ba500"
      },
      "source": [
        "store_sido"
      ],
      "execution_count": null,
      "outputs": [
        {
          "output_type": "execute_result",
          "data": {
            "application/vnd.google.colaboratory.intrinsic+json": {
              "type": "string"
            },
            "text/plain": [
              "'전북 익산시'"
            ]
          },
          "metadata": {},
          "execution_count": 48
        }
      ]
    },
    {
      "cell_type": "code",
      "metadata": {
        "id": "lm90gi4fhC1K"
      },
      "source": [
        "store_address = tag_td[3].string"
      ],
      "execution_count": null,
      "outputs": []
    },
    {
      "cell_type": "code",
      "metadata": {
        "colab": {
          "base_uri": "https://localhost:8080/",
          "height": 35
        },
        "id": "-2YvUgfQhNG4",
        "outputId": "2bbdca8b-60df-4e88-99ce-13766893af84"
      },
      "source": [
        "store_address"
      ],
      "execution_count": null,
      "outputs": [
        {
          "output_type": "execute_result",
          "data": {
            "application/vnd.google.colaboratory.intrinsic+json": {
              "type": "string"
            },
            "text/plain": [
              "'전라북도 익산시 선화로3길 16-10 1층'"
            ]
          },
          "metadata": {},
          "execution_count": 50
        }
      ]
    },
    {
      "cell_type": "code",
      "metadata": {
        "id": "LIlZDDfEhOp-"
      },
      "source": [
        "store_phone = tag_td[5].string"
      ],
      "execution_count": null,
      "outputs": []
    },
    {
      "cell_type": "code",
      "metadata": {
        "colab": {
          "base_uri": "https://localhost:8080/",
          "height": 35
        },
        "id": "ESijngyDhV1s",
        "outputId": "913d1cf8-3c43-4b5f-edd8-835c00c60141"
      },
      "source": [
        "store_phone"
      ],
      "execution_count": null,
      "outputs": [
        {
          "output_type": "execute_result",
          "data": {
            "application/vnd.google.colaboratory.intrinsic+json": {
              "type": "string"
            },
            "text/plain": [
              "'063-842-8420'"
            ]
          },
          "metadata": {},
          "execution_count": 52
        }
      ]
    },
    {
      "cell_type": "code",
      "metadata": {
        "id": "4z8-hvJ8hX_x"
      },
      "source": [
        "for page in range(1,57):\n",
        "    Hollys_url = 'https://www.hollys.co.kr/store/korea/korStore2.do?pageNo=%d&sido=&gugun=&store='%page\n",
        "    html = urllib.request.urlopen(Hollys_url)\n",
        "    soupHollys = BeautifulSoup(html,'html.parser')\n",
        "    tag_tbody = soupHollys.find('tbody')\n",
        "    tag_tr = tag_tbody.find_all('tr')\n",
        "    for store in tag_tr:\n",
        "        store_td = store.find_all('td')\n",
        "        store_name = store_td[1].string\n",
        "        store_sido = store_td[0].string\n",
        "        store_address = store_td[3].string\n",
        "        store_phone = store_td[5].string\n",
        "        result.append([store_name]+[store_sido]+[store_address]+[store_phone])"
      ],
      "execution_count": null,
      "outputs": []
    },
    {
      "cell_type": "code",
      "metadata": {
        "colab": {
          "base_uri": "https://localhost:8080/"
        },
        "id": "Lys7xFRGinvE",
        "outputId": "220af442-a84d-4ec7-add1-ead2d1c5b5f9"
      },
      "source": [
        "len(result)"
      ],
      "execution_count": null,
      "outputs": [
        {
          "output_type": "execute_result",
          "data": {
            "text/plain": [
              "553"
            ]
          },
          "metadata": {},
          "execution_count": 54
        }
      ]
    },
    {
      "cell_type": "code",
      "metadata": {
        "colab": {
          "base_uri": "https://localhost:8080/"
        },
        "id": "x50p23xml9tp",
        "outputId": "0977bf88-dcf5-4394-f9f1-147cba071626"
      },
      "source": [
        "result[552]"
      ],
      "execution_count": null,
      "outputs": [
        {
          "output_type": "execute_result",
          "data": {
            "text/plain": [
              "['신촌점', '서울 서대문구', '서울특별시 서대문구 연세로 34 (창천동 31-12)  할리스', '02-393-2004']"
            ]
          },
          "metadata": {},
          "execution_count": 56
        }
      ]
    },
    {
      "cell_type": "code",
      "metadata": {
        "colab": {
          "base_uri": "https://localhost:8080/"
        },
        "id": "aho1WuCYmEB1",
        "outputId": "41f8a375-c900-4c4a-e0e6-c2ca93661152"
      },
      "source": [
        "result"
      ],
      "execution_count": null,
      "outputs": [
        {
          "output_type": "execute_result",
          "data": {
            "text/plain": [
              "[['익산모현점', '전북 익산시', '전라북도 익산시 선화로3길 16-10 1층', '063-842-8420'],\n",
              " ['대전건양대병원점',\n",
              "  '대전 서구',\n",
              "  '대전광역시 서구 관저동로 158 (관저동, 건양대학교병원) 신관 지하1층',\n",
              "  '042-543-3138'],\n",
              " ['대전유성온천점', '대전 유성구', '대전 유성구 온천로 45  ', '042-825-2023'],\n",
              " ['스틸랜드점', '경기 시흥시', '경기도 시흥시 오이도로 21 (정왕동, STEELLAND) 1층', '070-8802-8041'],\n",
              " ['거제휴게소점', '경남 거제시', '경상남도 거제시 장목면 거가대로 1068 .', '055-736-2200'],\n",
              " ['가덕휴게소점', '부산 강서구', '부산광역시 강서구 거가대로 2571 (천성동) .', '051-715-2200'],\n",
              " ['판교역점',\n",
              "  '경기 성남시 분당구',\n",
              "  '경기도 성남시 분당구 판교역로192번길 12 (삼평동, 판교미래에셋센터) 1층',\n",
              "  '031-8061-0778'],\n",
              " ['태릉입구역점', '서울 노원구', '서울특별시 노원구 화랑로 453 (공릉동, 그린힐) 1층', '02-976-0078'],\n",
              " ['광명하안점', '경기 광명시', '경기도 광명시 하안로 293-6 (하안동, 두원빌딩) 1층', '070-8837-4575'],\n",
              " ['마산저도점',\n",
              "  '경남 창원시 마산합포구',\n",
              "  '경상남도 창원시 마산합포구 구산면 해양관광로 1872-50 2~3층',\n",
              "  '055-243-1052'],\n",
              " ['화성조암점', '경기 화성시', '경기도 화성시 우정읍 쌍봉로 76 103호', '031-358-3567'],\n",
              " ['청주성화점', '충북 청주시 서원구', '충청북도 청주시 서원구 신성화로 39 (성화동) 1~2층', '043-233-6296'],\n",
              " ['모다아울렛구리점', '경기 구리시', '경기도 구리시 경춘북로 230 (갈매동, 모다아울렛) .', '031-514-8194'],\n",
              " ['가재울점', '서울 서대문구', '서울특별시 서대문구 모래내로15길 56 (남가좌동) 1층', '02-304-0173'],\n",
              " ['구로디지털점', '서울 구로구', '서울특별시 구로구 디지털로31길 12 1층 105,106호', '070-7576-4842'],\n",
              " ['(하)안성맞춤휴게소점',\n",
              "  '경기 안성시',\n",
              "  '경기도 안성시 서운면 평택제천고속도로 40 (안성맞춤휴게소음성방향) 할리스커피',\n",
              "  '031-674-4406'],\n",
              " ['(상)안성맞춤휴게소점',\n",
              "  '경기 안성시',\n",
              "  '경기도 안성시 서운면 평택제천고속도로 41 (안성맞춤휴게소평택방향) .',\n",
              "  '031-673-3822'],\n",
              " ['나주빛가람혁신도시점', '전남 나주시', '전라남도 나주시 배멧3길 5-4 (빛가람동) .', '061-334-5466'],\n",
              " ['청계천점', '서울 종로구', '서울특별시 종로구  청계천로 81 1,2,3,4층', '02-735-5462'],\n",
              " ['(상)정안알밤휴게소점',\n",
              "  '충남 공주시',\n",
              "  '충청남도 공주시 정안면 논산천안고속도로 58 (정안상행휴게소) 1층',\n",
              "  '041-858-0562'],\n",
              " ['인천대입구역점',\n",
              "  '인천 연수구',\n",
              "  '인천광역시 연수구 인천타워대로132번길 34 (송도동) 104호,105호',\n",
              "  '032-833-2808'],\n",
              " ['방이역점', '서울 송파구', '서울특별시 송파구 양재대로72길 5 (오금동, 올림픽파크센트레빌) 1층', '02-403-0338'],\n",
              " ['청담삼성로점',\n",
              "  '서울 강남구',\n",
              "  '서울특별시 강남구 삼성로119길 8 (삼성동, 강남대학교청담카이로스빌딩) 1층',\n",
              "  '02-541-7755'],\n",
              " ['김포운양점',\n",
              "  '경기 김포시',\n",
              "  '경기도 김포시 김포한강11로255번길 15 (운양동, 김포한강이랜드타운힐스) .',\n",
              "  '031-986-2260'],\n",
              " ['울산교보핫트랙스점',\n",
              "  '울산 남구',\n",
              "  '울산광역시 남구 화합로 185 (삼산동) 업스퀘어 B1 교보문고내',\n",
              "  '052-990-5550'],\n",
              " ['속초센텀마크점', '강원 속초시', '강원도 속초시 중앙로121번길 28 (금호동) 1층', '033-638-8700'],\n",
              " ['세종가람DT점', '세종 세종시', '세종특별자치시 금송로 589 (가람동) .', '044-865-8882'],\n",
              " ['덕수궁점', '서울 중구', '서울특별시 중구  세종대로 91 (태평로2가) 1~2층 할리스', '02-6365-0143'],\n",
              " ['김포디원시티점',\n",
              "  '경기 김포시',\n",
              "  '경기도 김포시 김포한강10로133번길 127 (구래동) 할리스커피',\n",
              "  '031-8035-1750'],\n",
              " ['대구봉무공원점', '대구 동구', '대구광역시 동구 단산길 4 (봉무동) 1~2층', '053-984-3001'],\n",
              " ['보라매역점', '서울 영등포구', '서울특별시 영등포구 여의대방로 145 (신길동, 세인트빌딩) .', '02-845-1097'],\n",
              " ['청주산남DT점', '충북 청주시 서원구', '충청북도 청주시 서원구 1순환로 892,1,2층(산남동)', '043-287-5731'],\n",
              " ['청주강서점', '충북 청주시 흥덕구', '충청북도 청주시 흥덕구 서현동로 8 (가경동, 하나빌딩) .', '043-263-8585'],\n",
              " ['(춘)원주휴게소점 ',\n",
              "  '강원 원주시',\n",
              "  '강원도 원주시 호저면 마근거리길 110 (원주(춘천방향)휴게소) 옥산리 215',\n",
              "  '033-731-4291'],\n",
              " ['(함)울주휴게소점', '울산 울주군', '울산광역시 울주군 삼동면 보은리 산193-1 외 .', '052-933-5243'],\n",
              " ['평택이충DT점', '경기 평택시', '경기도 평택시 추담로 30 A동 1~2층 (이충동)', '031-667-7034'],\n",
              " ['평택지산점',\n",
              "  '경기 평택시',\n",
              "  '경기도 평택시 지산로 10, 1층 지산동 808-4, 101,102호',\n",
              "  '031-8029-9005'],\n",
              " ['미아역점', '서울 강북구', '서울특별시 강북구 도봉로 203, 1-2층 미아동 209-2', '070-7799-7374'],\n",
              " ['성주성밖숲점', '경북 성주군', '경상북도 성주군 성주읍 성밖숲길 7 .', '054-933-2222'],\n",
              " ['속초영랑해변점', '강원 속초시', '강원도 속초시 영랑해안길 205 (영랑동 148-172) 할리스', '033-637-0164'],\n",
              " ['미사가로수길점', '경기 하남시', '경기도 하남시 미사강변한강로 295, 1층 112호 ~ 115호', '031-699-8674'],\n",
              " ['개화산점', '서울 강서구', '서울특별시 강서구 양천로 28 (방화동, 벽산에어트리움) 1층', '02-2064-1455'],\n",
              " ['울산달동DT점', '울산 남구', '울산광역시 남구 번영로 82 (달동 1297-1) 할리스', '052-275-3022'],\n",
              " ['송도학원가점', '인천 연수구', '인천광역시 연수구 신송로 168 송도동 20-13', '032-204-7700'],\n",
              " ['인천당하점', '인천 서구', '인천광역시 서구 서곶로 788 (당하동, 홀리랜드) 1층', '032-561-1578'],\n",
              " ['시흥은계점',\n",
              "  '경기 시흥시',\n",
              "  '경기도 시흥시 은계번영길 13 (은행동, 아리테타워) 107,108,203~205호',\n",
              "  '031-520-8147'],\n",
              " ['신림역점', '서울 관악구', '서울특별시 관악구 신림로 313 (신림동) 2층', '02-877-5596'],\n",
              " ['대구수성네거리점', '대구 수성구', '대구광역시 수성구 들안로 326 1,2층 수성동3가 254-2', '053-743-8700'],\n",
              " ['인천서구청점', '인천 서구', '인천광역시 서구 서곶로301번길 7-1 (심곡동, 세광빌딩) .', '032-569-1235'],\n",
              " ['부산광안리점',\n",
              "  '부산 수영구',\n",
              "  '부산광역시 수영구 광안해변로 175 (광안동, 광안에이파크오션) 1~2층',\n",
              "  '051-757-9433'],\n",
              " ['부산사상광장점',\n",
              "  '부산 사상구',\n",
              "  '부산광역시 사상구 광장로 22 (괘법동) 2층 사상구 괘법동 565-2',\n",
              "  '051-322-4117'],\n",
              " ['이천갈산점', '경기 이천시', '경기도 이천시 향교로 161 (갈산동) 1층 .', '031-636-1791'],\n",
              " ['(서)경산휴게소점', '경북 경산시', '경상북도 경산시 진량읍 대학로 1089 .', '053-853-5243'],\n",
              " ['청주동남점',\n",
              "  '충북 청주시 상당구',\n",
              "  '충청북도 청주시 상당구 중고개로141번길 13-16 (용암동) 101,102,103호 .',\n",
              "  '043-293-3030'],\n",
              " ['대방역점',\n",
              "  '서울 동작구',\n",
              "  '서울특별시 동작구 알마타길 6 (대방동, 파밀리에 하늘마루) 101호, 102호 .',\n",
              "  '02-825-6369'],\n",
              " ['부천옥길점',\n",
              "  '경기 부천시 원미구',\n",
              "  '경기도 부천시 양지로 205, 1~2층 옥길동 793-2, 부천옥길 서영아너시티2',\n",
              "  '070-4129-4130'],\n",
              " ['다산진건점', '경기 남양주시', '경기도 남양주시 다산중앙로20번길 10-44 (다산동) 1층  .', '070-7808-1221'],\n",
              " ['2001아울렛부평점',\n",
              "  '인천 부평구',\n",
              "  '인천광역시 부평구 경원대로 1277 (산곡동, 2001아울렛부평점) A동 1층',\n",
              "  '032-525-1002'],\n",
              " ['울산삼산점', '울산 남구', '울산광역시 남구 삼산중로 50 (삼산동) 2층', '052-260-1121'],\n",
              " ['강남대로논현점', '서울 강남구', '서울특별시 강남구 강남대로 520 (논현동, 영동빌딩) .', '02-6012-2372'],\n",
              " ['대전호텔ICC점', '대전 유성구', '대전광역시 유성구 엑스포로123번길 55 (도룡동) 1층', '042-866-5104'],\n",
              " ['홍대거리점',\n",
              "  '서울 마포구',\n",
              "  '서울특별시 마포구 어울마당로 76-1, 2~4층 (서교동 364-19) 할리스',\n",
              "  '02-323-3795'],\n",
              " ['(하)평택휴게소1호점',\n",
              "  '경기 평택시',\n",
              "  '경기도 평택시 청북읍 평택제천고속도로 6 (평택복합휴게시설) .',\n",
              "  '031-683-4800'],\n",
              " ['광주북구청점', '광주 북구', '광주광역시 북구 서방로 2 (중흥동) .', '062-511-8002'],\n",
              " ['부산센텀시티점', '부산 해운대구', '부산광역시 해운대구 센텀2로 24 (우동, 센텀다이아몬드) 1층', '051-755-9100'],\n",
              " ['하남미사역점',\n",
              "  '경기 하남시',\n",
              "  '경기도 하남시 미사강변동로 85 (망월동, 힐스테이트에코미사) 1~2 층 ',\n",
              "  '031-8027-6979'],\n",
              " ['창원귀산점', '경남 창원시 성산구', '경상남도 창원시 성산구 삼귀로 189 (귀곡동) .', '055-266-1353'],\n",
              " ['대구세천점', '대구 달성군', '대구광역시 달성군 다사읍 세천로 141 세천리 1581-6', '053-581-6758'],\n",
              " ['의정부로데오점', '경기 의정부시', '경기도 의정부시 행복로 28 (의정부동) 지상 1층~ 4층', '031-848-1674'],\n",
              " ['속초엑스포점', '강원 속초시', '강원도 속초시 청초호반로 75 (조양동) 1~3층', '033-638-2123'],\n",
              " ['광교호수점',\n",
              "  '경기 수원시 영통구',\n",
              "  '경기도 수원시 영통구 광교중앙로 180 (하동, 광교효성해링턴타워레이크) 광교효성해링턴타워레이크 B017호~B111호\\t',\n",
              "  '031-217-8797'],\n",
              " ['부산괴정휴마트점', '부산 사하구', '부산광역시 사하구 낙동대로 123  1층', '070-4647-1455'],\n",
              " ['범계로데오점',\n",
              "  '경기 안양시 동안구',\n",
              "  '경기도 안양시 동안구 평촌대로223번길 11 (호계동, 성우프라자) 202호, 203호',\n",
              "  '031-8033-7562'],\n",
              " ['안산중앙역점',\n",
              "  '경기 안산시 단원구',\n",
              "  '경기도 안산시 단원구 광덕4로 234 (고잔동, 천혜로데오프라자) 107,108호',\n",
              "  '031-484-2002'],\n",
              " ['오산시청점', '경기 오산시', '경기도 오산시 성호대로 124 (원동, 신협빌딩) 101,102호', '031-378-8778'],\n",
              " ['양재역1호점', '서울 서초구', '서울특별시 서초구 강남대로 210 (양재동, 행복빌딩) 1층,2층', '02-578-6630'],\n",
              " ['청주봉명점', '충북 청주시 흥덕구', '충청북도 청주시 흥덕구 덕암로114번길 49 (봉명동) .', '043-260-6669'],\n",
              " ['(하)정안알밤휴게소점', '충남 공주시', '충청남도 공주시 정안면 논산천안고속도로 57 (정안하행휴게소) 할리스커피', '.'],\n",
              " ['청주NC백화점CGV점',\n",
              "  '충북 청주시 흥덕구',\n",
              "  '충북 청주시 흥덕구 2순환로 1233  청주NC백화점 8층',\n",
              "  '070-4153-5598'],\n",
              " ['수락산역점', '서울 노원구', '서울특별시 노원구 동일로239가길 22 (상계동, 한올빌딩) 2층', '02-951-3266'],\n",
              " ['망우점', '서울 중랑구', '서울특별시 중랑구 망우로 470 (망우동) 1층', '070-7707-0042'],\n",
              " ['구로거리공원점', '서울 구로구', '서울특별시 구로구 구로중앙로28길 52  구로동 109-1', '02-838-7008'],\n",
              " ['낙산해수욕장점', '강원 양양군', '강원도 양양군 강현면 해맞이길 18 .', '033-673-0053'],\n",
              " ['안산한대앞점', '경기 안산시 상록구', '경기도 안산시 상록구 중보로 31 (이동, 썬프라자) .', '031-419-2131'],\n",
              " ['익산부송점', '전북 익산시', '전라북도 익산시 하나로10길 70-1 (부송동, 레스트빌딩) 1층', '063-832-1717'],\n",
              " ['양주삼숭DI점', '경기 양주시', '경기도 양주시 부흥로 2239 1,2층 .', '031-848-5375'],\n",
              " ['교대역점', '서울 서초구', '서울특별시 서초구 반포대로30길 81 (서초동, 웅진타워) 1층 .', '02-521-8944'],\n",
              " ['오류동역점', '서울 구로구', '서울시 구로구 경인로 224 오류동59-20번지 외2필지, 1층', '02-6405-3800'],\n",
              " ['파주운정역점', '경기 파주시', '경기도 파주시 경의로1240번길 37-1  101~3호 201~2호', '031-957-6200'],\n",
              " ['제부도점', '경기 화성시', '경기도 화성시 서신면 해안길 434 1,2층', '031-357-6399'],\n",
              " ['다산센트럴점',\n",
              "  '경기 남양주시',\n",
              "  '경기도 남양주시 다산중앙로 105-14 (다산동) 웅신미켈란오피스텔 104,105,106호',\n",
              "  '070-8670-1240'],\n",
              " ['인제점', '강원 인제군', '강원도 인제군 인제읍 인제로 198 .', '033-461-7767'],\n",
              " ['가오CGV점', '대전 동구', '대전광역시 동구 은어송로 72 4층(가오동, 패션아일랜드) .', '042-273-7400'],\n",
              " ['청주분평점',\n",
              "  '충북 청주시 서원구',\n",
              "  '충청북도 청주시 서원구 월평로 4 분평동 1226, 대상탑존빌딩 111호',\n",
              "  '043-292-5105'],\n",
              " ['X-210930안암오거리점', '서울 성북구', '서울특별시 성북구 고려대로24길 56 2~4층', '02-924-3339'],\n",
              " ['당진시청점', '충남 당진시', '충청남도 당진시 시청2로 49-25 (수청동) 로고스타워 1~2층', '070-8808-1040'],\n",
              " ['익산영등점', '전북 익산시', '전라북도 익산시 고봉로32길 46-1 (영등동) 1~2층', '063-918-2211'],\n",
              " ['수원SKV1모터스점',\n",
              "  '경기 수원시 권선구',\n",
              "  '경기도 수원시 권선구 평동로79번길 45 (평동) 1층 135호',\n",
              "  '031-293-8810'],\n",
              " ['구로디지털단지역점',\n",
              "  '서울 구로구',\n",
              "  '서울특별시 구로구 디지털로32나길 38 (구로동, 서림빌딩) 1층',\n",
              "  '02-851-3365'],\n",
              " ['공덕경의선숲길점',\n",
              "  '서울 마포구',\n",
              "  '서울특별시 마포구 백범로28길 22, 일양빌딩 신관 1층 (염리동 164-1)',\n",
              "  '02-701-3967'],\n",
              " ['(하)옥천휴게소점', '충북 옥천군', '충북 옥천군 옥천읍 매화리 248-1 .', '043-731-8521'],\n",
              " ['울산신정점', '울산 남구', '울산광역시 남구 동산로 93  신정동 1265-16, 1층', '052-260-0900'],\n",
              " ['평촌점',\n",
              "  '경기 안양시 동안구',\n",
              "  '경기도 안양시 동안구 관평로170번길 43, 훼미리타운 125호 .',\n",
              "  '031-385-3400'],\n",
              " ['진해속천점',\n",
              "  '경남 창원시 진해구',\n",
              "  '경상남도 창원시 진해구 태평로 132 (속천동) 2~3층 할리스커피',\n",
              "  '055-547-9777'],\n",
              " ['청주율량현대점', '충북 청주시 청원구', '충청북도 청주시 청원구 율봉로 150 .', '043-241-0005'],\n",
              " ['대구상인점', '대구 달서구', '대구광역시 달서구 상화북로 194 (상인동) 2층', '053-641-9522'],\n",
              " ['하남미사강변점',\n",
              "  '경기 하남시',\n",
              "  '경기도 하남시 미사강변대로226번안길 17 (망월동, 뉴욕프라자) 1층 1층',\n",
              "  '031-796-1486'],\n",
              " ['칠곡왜관점', '경북 칠곡군', '경북 칠곡군 석적읍 석적로 180 외1필지, 1,2층', '054-977-8255'],\n",
              " ['홍대역2번출구점', '서울 마포구', '서울특별시 마포구 동교로 200 1~3층 .', '02-332-8079'],\n",
              " ['가락시장역점', '서울 송파구', '서울특별시 송파구 중대로 130 가락동112-2, 원전빌딩 1층\\t', '02-3401-5337'],\n",
              " ['화성능동DT점', '경기 화성시', '경기 화성시 동탄지성로 215 1,2층 전체호(병점동)', '031-221-7286'],\n",
              " ['인천시청점', '인천 남동구', '인천광역시 남동구 남동대로799번길 36 (구월동) .', '032-433-0704'],\n",
              " ['밀양킹콩점', '경남 밀양시', '경상남도 밀양시 삼문강변로 272 (삼문동) 2,3층', '055-351-0056'],\n",
              " ['경북대북문점',\n",
              "  '대구 북구',\n",
              "  '대구광역시 북구 대학로 17길 3 (산격동 1393-11) 할리스 B1~3층',\n",
              "  '053-951-9990'],\n",
              " ['코엑스점',\n",
              "  '서울 강남구',\n",
              "  '서울특별시 강남구 영동대로 513, 코엑스 지하 1층  C113호 (삼성동 159)  할리스  ',\n",
              "  '02-6002-3100'],\n",
              " ['이천마장점', '경기 이천시', '경기도 이천시 마장면 오천로 65 오천리 56-55', '070-4647-0081'],\n",
              " ['울산성남점', '울산 중구', '울산광역시 중구 만남의거리 33, 1F 성남동 256-16', '052-211-4741'],\n",
              " ['양평점', '경기 양평군', '경기도 양평군 양평읍 중앙로 90 1층', '031-775-1157'],\n",
              " ['김포시청점', '경기 김포시', '경기도 김포시 김포대로 847 1~2층', '031-996-1388'],\n",
              " ['안산선부점',\n",
              "  '경기 안산시 단원구',\n",
              "  '경기도 안산시 단원구 선부광장1로 56 (선부동) 할리스커피',\n",
              "  '031-411-9733\\t'],\n",
              " ['(천)이인휴게소점',\n",
              "  '충남 공주시',\n",
              "  '충청남도 공주시 이인면 논산천안고속도로 32 (이인상행휴게소) .',\n",
              "  '041-856-8351'],\n",
              " ['화정역점',\n",
              "  '경기 고양시 덕양구',\n",
              "  '경기도 고양시 덕양구 화신로272번길 67  화정동 970-3, 장군빌딩',\n",
              "  '070-7514-8707'],\n",
              " ['군산새만금산단점', '전북 군산시', '전라북도 군산시 새만금북로 424 (오식도동) 1층 104호', '063-468-4100'],\n",
              " ['다산한강점', '경기 남양주시', '경기도 남양주시 다산지금로 163번길 9-12 .', '031-592-3118'],\n",
              " ['상암DDMC점',\n",
              "  '서울 마포구',\n",
              "  '서울시 마포구 매봉산로 75, DDMC 1층 104호 상암동 1610',\n",
              "  '070-4445-2428'],\n",
              " ['일산문촌마을점',\n",
              "  '경기 고양시 일산서구',\n",
              "  '경기도 고양시 일산서구 중앙로 1493 ,상가동 1층 1001-1,1001-2',\n",
              "  '070-7797-3247'],\n",
              " ['덕양구청점',\n",
              "  '경기 고양시 덕양구',\n",
              "  '경기도 고양시 덕양구 화중로104번길 8 (화정동, 장원프라자) 1층 102호',\n",
              "  '070-4647-0030'],\n",
              " ['(하)서천휴게소점', '충남 서천군', '충청남도 서천군 비인면 서해안고속도로 169 .', '041-952-5757'],\n",
              " ['전주에코시티세병호점',\n",
              "  '전북 전주시 덕진구',\n",
              "  '전라북도 전주시 덕진구 세병로 176 (송천동2가) 1층~2층',\n",
              "  '063-255-3000'],\n",
              " ['다산리코빌파크뷰점',\n",
              "  '경기 남양주시',\n",
              "  '경기도 남양주시 다산순환로 220 (다산동) 104 ~107호',\n",
              "  '031-523-3948'],\n",
              " ['서대문농협생명빌딩점',\n",
              "  '서울 서대문구',\n",
              "  '서울시 서대문구 통일로 87  미근동 257, NH농협생명빌딩',\n",
              "  '02-364-7787'],\n",
              " ['(하)오창휴게소점',\n",
              "  '충북 청주시 청원구',\n",
              "  '충청북도 청주시 청원구 오창읍 중부고속도로 21 (오창휴게소통영기점) .',\n",
              "  '043-217-1477'],\n",
              " ['(하)옥산휴게소점',\n",
              "  '충북 청주시 흥덕구',\n",
              "  '충청북도 청주시 흥덕구 옥산면 경부고속도로 309 (옥산휴게소부산방향) 옥산휴게소(하행) 할리스커피',\n",
              "  '043-260-1053'],\n",
              " ['(하)화성휴게소점', '경기 화성시', '경기도 화성시 팔탄면 서해안고속도로 301 화성휴게소 (하행)', '031-353-8140'],\n",
              " ['(상)화성휴게소점', '경기 화성시', '경기도 화성시 팔탄면 서해안고속도로 302 화성휴게소(상행)', '031-353-8143'],\n",
              " ['가산점', '서울 금천구', '서울특별시 금천구 가산디지털2로 165 (가산동, 백상스타타워2차) . ', '02-862-7940'],\n",
              " ['김포지식산업센터점', '경기 김포시', '경기도 김포시 태장로 795번길 145, 아셈호텔 1층 1층', '070-4953-9475'],\n",
              " ['군포IT밸리점',\n",
              "  '경기 군포시',\n",
              "  '경기도 군포시 고산로148번길 17 (당정동, 군포IT밸리) 1층',\n",
              "  '031-8086-8211'],\n",
              " ['진주혁신도시점', '경남 진주시', '경상남도 진주시 에나로128번길 24 (충무공동) .', '070-7543-2274'],\n",
              " ['광양중동점', '전남 광양시', '전라남도 광양시 공영로 92-1 (중동) .', '061-795-6600'],\n",
              " ['대구이월드점', '대구 달서구', '대구광역시 달서구 두류공원로 200 (두류동) . ', '053-620-0001'],\n",
              " ['대전문지점', '대전 유성구', '대전광역시 유성구 문지로299번길 94-19 (문지동) 1층', '042-861-6947'],\n",
              " ['대구범어천로점',\n",
              "  '대구 수성구',\n",
              "  '대구광역시 수성구 범어천로 200 (범어동, 범어월드메르디앙웨스턴카운티) 102호,201호',\n",
              "  '053-759-5779'],\n",
              " ['마곡나인스퀘어점',\n",
              "  '서울 강서구',\n",
              "  '서울특별시 강서구 공항대로 206 (마곡동, 나인스퀘어) 마곡동 800, 101,102,103호',\n",
              "  '02-2664-7876'],\n",
              " ['전주아중점', '전북 전주시 덕진구', '전라북도 전주시 덕진구 아중로 193 (우아동2가) 1,2층 ', '063-246-2203'],\n",
              " ['청주명암레이크점', '충북 청주시 상당구', '충북 청주시 상당구 용담동 449  .', '0507-1384-9696'],\n",
              " ['인천공항T1점',\n",
              "  '인천 중구',\n",
              "  '인천광역시 중구 공항로 272 (운서동, 인천공항) 인천국제공항 제1여객터미널 L/S 1층',\n",
              "  '032-743-3716'],\n",
              " ['수유사거리점', '서울 강북구', '서울특별시 강북구 도봉로82길 11 (번동) 2~4층 ', '070-5226-1999'],\n",
              " ['명동퍼시픽호텔점', '서울 중구', '서울특별시 중구 퇴계로20길 2 (남산동2가, 퍼시픽호텔) 1층 ', '02-3789-8747'],\n",
              " ['천안펜타포트점',\n",
              "  '충남 천안시 서북구',\n",
              "  '충청남도 천안시 서북구 공원로 196 (불당동, 펜타포트) 5층',\n",
              "  '070-8820-3117'],\n",
              " ['아시아선수촌점', '서울 송파구', '서울특별시 송파구 백제고분로 109 (잠실동) 1층~4층', '02-412-3260'],\n",
              " ['보라매병원점', '서울 동작구', '서울시 동작구 보라매로5길 20 서울특별시보라매병원 희망관 1층', '02-831-3085'],\n",
              " ['광주수완2호점', '광주 광산구', '광주광역시 광산구 수완로 73번길 7, 1층 (수완동)  1층', '062-959-3327'],\n",
              " ['수원망포점',\n",
              "  '경기 수원시 영통구',\n",
              "  '경기도 수원시 영통구 덕영대로1556번길 16 디지털엠파이어빌딩 125,126,127,212호 (영통동)',\n",
              "  '031-204-0065'],\n",
              " ['세종어반아트리움점',\n",
              "  '세종 세종시',\n",
              "  '세종특별자치시 나성로 96 (나성동, 더센트럴) 101,102호',\n",
              "  '070-8800-3998'],\n",
              " ['무악재역점', '서울 서대문구', '서울특별시 서대문구 통일로 360 (홍제동, 보하빌딩) .', '02-6406-0046'],\n",
              " ['대전한남대점', '대전 대덕구', '대전 대덕구 한남로 65 .', '070-4109-5800'],\n",
              " ['(하)마장휴게소점', '경기 이천시', '경기도 이천시 마장면중부고속도로82 마장휴게소 하행 통영방향', '없음'],\n",
              " ['오산수청점',\n",
              "  '경기 오산시',\n",
              "  '경기도 오산시 내삼미로79번길 46 (수청동) 101~104호 (수청동, 어반스페이스타워)',\n",
              "  '031-377-5823'],\n",
              " ['부천송내본점', '경기 부천시 원미구', '경기도 부천시 송내대로73번길 21 (상동, 정원빌딩) 1층', '032-321-2007'],\n",
              " ['공덕점',\n",
              "  '서울 마포구',\n",
              "  '서울특별시 마포구  마포대로 143 (공덕동, 마포공덕파크팰리스 Ⅱ) 1층 (114~121호)',\n",
              "  '02-701-5785'],\n",
              " ['(상)예산휴게소점', '충남 예산군', '충청남도 예산군 신양면 당진영덕고속도로 33 (예산휴게소 상행) 당진 방향', '없음'],\n",
              " ['약수역점', '서울 중구', '서울특별시 중구 다산로 114 (신당동,1~2층)', '02-2233-0866'],\n",
              " ['대구성서점',\n",
              "  '대구 달서구',\n",
              "  '대구광역시 달서구 성서로 419, 국민연금대구사옥 1층 (이곡동 1198-5) 할리스',\n",
              "  '053-584-5702'],\n",
              " ['부산아트몰링영풍문고점',\n",
              "  '부산 사하구',\n",
              "  '부산광역시 사하구 낙동남로 1413 (하단동, 아트몰링) 13층',\n",
              "  '051-201-0621'],\n",
              " ['동탄점', '경기 화성시', '경기도 화성시 동탄중심상가1길 5 (반송동, 동탄프라자) 1,2층', '031-8003-9039'],\n",
              " ['울산야음점',\n",
              "  '울산 남구',\n",
              "  '울산 남구 수암로 138, 타임스퀘어 상가 야음동 789-14, 101호',\n",
              "  '052-276-3535'],\n",
              " ['홍대역점', '서울 마포구', '서울특별시 마포구 어울마당로 111 (동교동) 2층', '02-323-7791'],\n",
              " ['양주테크노점', '경기 양주시', '경기도 양주시 광적면 부흥로 847 (양주테크노시티) .', '031-830-1700'],\n",
              " ['고대안암병원점',\n",
              "  '서울 성북구',\n",
              "  '서울특별시 성북구 고려대로 73 (안암동5가, 고려대병원) 고대안암병원 본관 3층 ',\n",
              "  '02-921-3062'],\n",
              " ['신촌연세로점', '서울 서대문구', '서울특별시 서대문구 연세로 5, 1층 (창천동 30-7) 할리스', '02-322-3684'],\n",
              " ['용인명지대점',\n",
              "  '경기 용인시 처인구',\n",
              "  '경기도 용인시 처인구 명지로116번길 24-2 (남동) 1~2층',\n",
              "  '070-4042-3118'],\n",
              " ['용산아이파크몰 영풍문고점',\n",
              "  '서울 용산구',\n",
              "  '서울특별시 용산구 한강대로23길 55 (한강로3가, 용산역) 용산역 리빙관 3층(한강로 3가)',\n",
              "  '070-8835-5073'],\n",
              " ['BMC점', '경기 고양시 일산동구', '경기도 고양시 일산동구 동국로 32 (식사동) 산학협력관 1층', '031-961-5692'],\n",
              " ['국민연금공단점',\n",
              "  '전북 전주시 덕진구',\n",
              "  '전북 전주시 덕진구  기지로 170 국민연금공단 기금운용본부 1층',\n",
              "  '063-221-5072'],\n",
              " ['부산금강식물원점',\n",
              "  '부산 금정구',\n",
              "  '부산광역시 금정구 금샘로 22 (장전동) 1,2층 금정구 장전동 521-68외1필지 1,2층',\n",
              "  '051-517-1110'],\n",
              " ['선유도역점TS카페',\n",
              "  '서울 영등포구',\n",
              "  '서울특별시 영등포구 양평로 96 (양평동4가) TS빌딩 1,2층',\n",
              "  '02-6267-6800'],\n",
              " ['구로역점', '서울 구로구', '서울특별시 구로구 새말로 18-29 (구로동) .', '02-862-3216'],\n",
              " ['포천송우점', '경기 포천시', '경기도 포천시 소흘읍 호국로 513 이동교리 149-22, 1층', '031-541-5130'],\n",
              " ['할리스커피(본사)', '서울 종로구', '서울특별시 종로구 율곡로 88 (운니동, 삼환빌딩) 8층', '0221887100'],\n",
              " ['공덕역북카페점', '서울 마포구', '서울특별시 마포구 마포대로 100 (공덕동, 공덕역) 북카페 지하1층', '없음'],\n",
              " ['부안격포채석강점', '전북 부안군', '전라북도 부안군 변산면 채석강길 22-10 .', '063-584-0011'],\n",
              " ['대구관음점', '대구 북구', '대구광역시 북구 구암로 59 비전스퀘어 1,2층 .', '053-324-6122'],\n",
              " ['대전가장점', '대전 서구', '대전광역시 서구 도솔로 314  1층, 2층(괴정동, SL 빌딩)', '042-365-0365'],\n",
              " ['대전신성점', '대전 유성구', '대전광역시 유성구 유성대로1184번길 18 (신성동) .', '042-862-3335'],\n",
              " ['영종운서점', '인천 중구', '인천광역시 중구 영종대로 190 (운서동, 더예스스카이) .', '032-746-1210'],\n",
              " ['왕십리역점',\n",
              "  '서울 성동구',\n",
              "  '서울특별시 성동구 왕십리광장로 17 (행당동, 왕십리민자역사) 비트플렉스몰 3층 영풍문고 내',\n",
              "  '02-2200-1303'],\n",
              " ['천안쌍용점',\n",
              "  '충남 천안시 서북구',\n",
              "  '충청남도 천안시 서북구 미라13길 16 (쌍용동) 성건오피스텔 1층',\n",
              "  '041-563-4700'],\n",
              " ['천호로데오점',\n",
              "  '서울 강동구',\n",
              "  '서울특별시 강동구 올림픽로70길 61 (천호동, 두산위브센티움) 1층',\n",
              "  '02-6425-5147'],\n",
              " ['전경련회관점',\n",
              "  '서울 영등포구',\n",
              "  '서울특별시 영등포구 여의대로 24 (여의도동, 전국경제인연합회회관) 지하 1층 B109~111호 ',\n",
              "  '02-786-3485'],\n",
              " ['부산중앙역점', '부산 중구', '부산광역시 중구 대청로 148 (중앙동2가) .', '051-253-8883'],\n",
              " ['양산부산대병원치과동점',\n",
              "  '경남 양산시',\n",
              "  '경상남도 양산시 물금읍 금오로 20, 양산부산대학교병원 치과병동 1층(범어리 2762-1) 할리스',\n",
              "  '070-4442-0608'],\n",
              " ['양산부산대병원본점',\n",
              "  '경남 양산시',\n",
              "  '경상남도 양산시 물금읍 금오로 20, 양산부산대학교병원 중앙진료동 1층(범어리 2762-1) 할리스',\n",
              "  '055-362-4582'],\n",
              " ['하남덕풍점', '경기 하남시', '경기도 하남시 덕풍북로 2 (덕풍동) 1층', '031-792-9389'],\n",
              " ['부산백양대로점',\n",
              "  '부산 사상구',\n",
              "  '부산광역시 사상구 백양대로 621, 2~4층(괘법동 141) 할리스',\n",
              "  '051-311-5399'],\n",
              " ['간석오거리점', '인천 남동구', '인천광역시 남동구 남동대로 931 (간석동) .', '032-425-0915'],\n",
              " ['한양대병원점',\n",
              "  '서울 성동구',\n",
              "  '서울특별시 성동구 왕십리로 222-1, 한양대학교병원 본관 1층 (사근동 110, 한양대학부속병원) 할리스',\n",
              "  '02-2281-2116'],\n",
              " ['서초마제스타시티점',\n",
              "  '서울 서초구',\n",
              "  '서울특별시 서초구 서초대로38길 12 (서초동, 마제스타시티,힐스테이트서리풀) 1층',\n",
              "  '02-6411-0063'],\n",
              " ['(인)강릉휴게소점', '강원 강릉시', '강원도 강릉시 성산면 보광리 103 .', '.'],\n",
              " ['월곶점', '경기 시흥시', '경기도 시흥시 월곶중앙로 63 (월곶동) .', '031-404-7966'],\n",
              " ['대전만년점', '대전 서구', '대전광역시 서구 둔산대로117번길 95 (만년동, 리더스타운) .', '042-485-9777'],\n",
              " ['(하)선산휴게소점', '경북 구미시', '경상북도 구미시 옥성면 중부내륙고속도로 129 .', '.'],\n",
              " ['화성융건릉점', '경기 수원시', '경기도 화성시 효행로 501-3 1,2층', '031-224-6999'],\n",
              " ['양주옥정점', '경기 양주시', '경기도 양주시 옥정로 218 (옥정동) .', '070-7576-2918'],\n",
              " ['대전탄방점',\n",
              "  '대전 서구',\n",
              "  '대전광역시 서구 계룡로571번길 23-19 (탄방동) 1층 102호,103호,104호',\n",
              "  '042-482-8425'],\n",
              " ['서전주DT점',\n",
              "  '전북 전주시 완산구',\n",
              "  '전라북도 전주시 완산구 유연로 5 (효자동3가 1045-50) ',\n",
              "  '063-901-0802'],\n",
              " ['김포한강생태공원점', '경기 김포시', '경기도 김포시 김포한강11로 452 (운양동) 1~2층', '031-996-2000'],\n",
              " ['영종덕교점', '인천 중구', '인천광역시 중구 잠진도길 55 (덕교동) 1,2,3층', '032-751-3264'],\n",
              " ['부산명륜역점', '부산 동래구', '부산광역시 동래구 온천장로 5 (온천동) 1층', '051-557-7811'],\n",
              " ['진주평거점', '경남 진주시', '경상남도 진주시 진양호로 46 (평거동) 1층,2층 (에스원빌딩)', '055-745-9633'],\n",
              " ['(하)황간휴게소점',\n",
              "  '충북 영동군',\n",
              "  '충청북도 영동군 황간면 회포길 102 (회포리, 황간휴게소) .',\n",
              "  '043-742-5805'],\n",
              " ['(상)황간휴게소점',\n",
              "  '충북 영동군',\n",
              "  '충청북도 영동군 황간면 회포1길 65 (회포리, 황간휴게소) .',\n",
              "  '043-742-7633'],\n",
              " ['아주대병원점',\n",
              "  '경기 수원시 영통구',\n",
              "  '경기도 수원시 영통구 월드컵로 164 (원천동, 아주대학병원) 아주대학교병원 본관 1층',\n",
              "  '031-211-5718'],\n",
              " ['(상)홍천휴게소점', '강원 홍천군', '강원 홍천군 화촌면 서울양양고속도로 83 .', '033-436-9000'],\n",
              " ['대구수성못점', '대구 수성구', '대구광역시 수성구 용학로 115 (두산동) .', '053-761-5655'],\n",
              " ['대전은행본점', '대전 중구', '대전광역시 중구 중교로 74 (대흥동) 2,3층', '042-222-3288'],\n",
              " ['울산시청점', '울산 남구', '울산광역시 남구 삼산로 60 (신정동) 1층', '070-7733-7108'],\n",
              " ['천안신부점',\n",
              "  '충남 천안시 동남구',\n",
              "  '충청남도 천안시 동남구 만남로 26 (신부동, 대영빌딩) 4,5층',\n",
              "  '041-566-5085'],\n",
              " ['동대구역사점', '대구 동구', '대구광역시 동구 동대구로 550 (동대구역 내 1층)', '053-942-1033'],\n",
              " ['종로5가점', '서울 종로구', '서울 종로구 동호로 401(종로5가) .', '02-2266-1989'],\n",
              " ['부산덕천점', '부산 북구', '부산광역시 북구 덕천1길 21, 1~2층 (덕천동 400-14) 할리스', '051-342-8835'],\n",
              " ['부평로데오점',\n",
              "  '인천 부평구',\n",
              "  '인천광역시 부평구 시장로 17-1 (부평동, 인일 빌딩) 1,2,3층',\n",
              "  '032-505-7130'],\n",
              " ['충북오송점', '충북 청주시 흥덕구', '충청북도 청주시 흥덕구 오송읍 만수1길 3 .', '043-239-0075'],\n",
              " ['여의도파이낸스타워점',\n",
              "  '서울 영등포구',\n",
              "  '서울특별시 영등포구 국제금융로2길 32, 여의도파이낸스타워 1층(여의도동 23-8)',\n",
              "  '02-761-3154'],\n",
              " ['부산대학교병원2호점', '부산 서구', '부산광역시 서구 구덕로 179 C동 암센터 ..', '051-231-9475'],\n",
              " ['부산대학교병원1호점',\n",
              "  '부산 서구',\n",
              "  '부산광역시 서구 구덕로 179 (아미동1가, 부산대학병원) 1층',\n",
              "  '051-231-9648'],\n",
              " ['김포농협본점', '경기 김포시', '경기도 김포시 홍도평로 20 (걸포동) 김포농협하나로마트본점 2층', '031-986-7932'],\n",
              " ['종로DGB점', '서울 중구', '서울특별시 중구 남대문로 125 (다동, 대우조선해양) 1층 할리스', '02-310-9315'],\n",
              " ['다산지금점 ', '경기 남양주시', '경기도 남양주시 다산중앙로 82번 안길 143-15 101호', '070-7778-2409'],\n",
              " ['서울대병원점', '서울 종로구', '서울특별시 종로구 대학로 101 (연건동, 서울대학교의과대학)', '02-741-5815'],\n",
              " ['가양점', '서울 강서구', '서울특별시 강서구 양천로 583 (염창동, 우림블루나인비즈니스센터) 1층', '02-2093-2977'],\n",
              " ['구로디지털뉴스테이점', '서울 영등포구', '서울시 영등포구 시흥대로 595 105호', '070-7547-4100'],\n",
              " ['경주보불로점', '경북 경주시', '경북 경주시 보불로 305 .', '054-744-7700'],\n",
              " ['울산명촌점', '울산 북구', '울산광역시 북구 명촌로 59 .', '052-289-9905'],\n",
              " ['충남도청점', '충남 홍성군', '충청남도 홍성군 홍북읍 신경리 553 .', '041-631-4725 '],\n",
              " ['전북김제점', '전북 김제시', '전북 김제시 검산택지 5길 21-10 1층', '063-547-9600'],\n",
              " ['대구침산네거리점', '대구 북구', '대구광역시 북구 침산남로 157 (침산동) .', '053-353-5544'],\n",
              " ['대구반야월점', '대구 동구', '대구광역시 동구 안심로 255 .', '053-961-7007'],\n",
              " ['부산명륜자이점', '부산 동래구', '부산광역시 동래구 동래로 77 (명륜동) 1,2층', '051-554-1001'],\n",
              " ['대전역점', '대전 동구', '대전광역시 동구 중앙로 215 (정동, 대전역) 3층', '없음'],\n",
              " ['센터포인트점',\n",
              "  '서울 종로구',\n",
              "  '서울특별시 종로구 새문안로5길 31, 센터포인트광화문빌딩 1층 (도렴동 65, 센터포인트 광화문) 할리스',\n",
              "  '02-6031-6213'],\n",
              " ['홍대입구역점', '서울 마포구', '서울특별시 마포구 양화로 151, 1층 (동교동 160-1) 할리스', '02-322-3584'],\n",
              " ['마두역점', '경기 고양시 일산동구', '경기도 고양시 일산동구 중앙로 1165, 1층일부 1층', '070-8866-7558'],\n",
              " ['군산미장점', '전북 군산시', '전라북도 군산시 미장안길 54  .', '063-442-8777'],\n",
              " ['백석예술대학교점', '서울 서초구', '서울특별시 서초구 방배로9길 23 (방배동, 백석예술대학교) 3층', '02-585-9150'],\n",
              " ['대전오류점',\n",
              "  '대전 중구',\n",
              "  '대전광역시 중구 계룡로 876 메종드메디컬빌딩 104호, 202호 오류동 151-3',\n",
              "  '042-522-3141'],\n",
              " ['카페테리아&삼성점',\n",
              "  '서울 강남구',\n",
              "  '서울시 강남구 삼성로 512, 10층 인터파크 카페테리아 (삼성동) .',\n",
              "  '2188-7100'],\n",
              " ['역삼테헤란점',\n",
              "  '서울 강남구',\n",
              "  '서울특별시 강남구 테헤란로 131, 한국지식재산센터 1층 (역삼동 647-9) 할리스',\n",
              "  '02-501-3573'],\n",
              " ['대구현풍테크노점', '대구 달성군', '대구시 달성군 유가읍 테크노공원로 65 .', '053-267-3338'],\n",
              " ['군산선유도점', '전북 군산시', '전라북도 군산시 옥도면 선유도리 213-3 .', '063-464-9314'],\n",
              " ['용산리첸시아점', '서울 용산구', '서울특별시 용산구 백범로 341 A동 118호 .', '02-6012-6596'],\n",
              " ['전남장흥점', '전남 장흥군', '전라남도 장흥군 장흥읍 북부로 18 .', '061-862-0119'],\n",
              " ['충남대점', '대전 유성구', '대전광역시 유성구 대학로 84 (궁동 482-6) .', '070-7543-1009'],\n",
              " ['화성병점점', '경기 화성시', '경기도 화성시 병점동로 105 1,2층(진안동)', '031-239-0455'],\n",
              " ['구리수택점', '경기 구리시', '경기도 구리시 검배로 73 (수택동) 할리스', '031-551-0988'],\n",
              " ['난곡사거리점', '서울 관악구', '서울 관악구 남부순환로 1489 신림동 526-13', '02-865-0012'],\n",
              " ['신정네거리역점', '서울 양천구', '서울시 양천구 중앙로 252 2층 .', '02-2645-9957'],\n",
              " ['구미CGV점',\n",
              "  '경북 구미시',\n",
              "  '경상북도 구미시 구미중앙로 44 (원평동, 멀티복합상가) 원평동 68-1, 1층',\n",
              "  '054-604-0375'],\n",
              " ['역곡역점',\n",
              "  '경기 부천시 원미구',\n",
              "  '경기 부천시 부일로726번길 5 (역곡동 80) 역곡역 2번출구 사거리에서 가톨릭대학교방향 좌회전 후 약 50M',\n",
              "  '070-8887-4965'],\n",
              " ['오산대역DT점', '경기 오산시', '경기도 오산시 경기대로 491 (수청동) 1층~3층 할리스', '031-372-9750'],\n",
              " ['을지로입구점', '서울 중구', '서울특별시 중구 명동3길 23 (을지로2가) 1~4층 할리스 ', '02-318-6381'],\n",
              " ['구미금오산점', '경북 구미시', '경상북도 구미시 금오산로 209 (남통동) 할리스커피 구미금오산점 ', '054-441-4452'],\n",
              " ['(하)매송휴게소점', '경기 화성시', '경기 화성시 매송면 서해안고속도로 315 목포방향 서해안고속도로 315 목포방향', '없음'],\n",
              " ['(상)매송휴게소점', '경기 화성시', '경기 화성시 매송면 서해안고속도로 316 서울방향 .', '없음'],\n",
              " ['창원팔용점', '경남 창원시 의창구', '경상남도 창원시 의창구 창원대로18번길 6-8 (팔용동) .', '055-298-3434'],\n",
              " ['전주남천교점', '전북 전주시 완산구', '전라북도 전주시 완산구 전주천서로 81 (동서학동) .', '063-232-6000'],\n",
              " ['전남대상대점', '광주 북구', '광주광역시 북구 설죽로202번길 68  .', '062-511-0389'],\n",
              " ['여수소호점', '전남 여수시', '전라남도 여수시 소호로 455-1 .', '061-684-8254'],\n",
              " ['수지동천갤러리점',\n",
              "  '경기 용인시 수지구',\n",
              "  '경기도 용인시 수지구 동천로192번길 4 (동천동) 1,2층 동천동 484-38번지',\n",
              "  '031-276-3600'],\n",
              " ['부산연산점', '부산 연제구', '부산광역시 연제구 반송로 89 (연산동) 1층', '051-989-3296'],\n",
              " ['대구침산점',\n",
              "  '대구 북구',\n",
              "  '대구 북구 성북로 36,2층 601,602,603,604 473-3, 침산초등학교 맞은편',\n",
              "  '053-353-5412'],\n",
              " ['대구안심점', '대구 동구', '대구시 동구 안심로 90길29 .', '053)552-2220'],\n",
              " ['(하)홍천휴게소점', '강원 홍천군', '강원 홍천군 화촌면 서울양양고속도로 84 .', '.'],\n",
              " ['동탄카림애비뉴점', '경기 화성시', '경기도 화성시 동탄대로시범길 134 .', '031-372-1650'],\n",
              " ['봉담원희캐슬점', '경기 화성시', '경기도 화성시 봉담읍 동화길 51 (봉담읍) 1층', '031-5183-3817'],\n",
              " ['대구동성로점',\n",
              "  '대구 중구',\n",
              "  '대구광역시 중구 동성로6길 32, B1~2층 (공평동 52-2) 할리스',\n",
              "  '053-252-6307'],\n",
              " ['응암역점', '서울 은평구', '서울특별시 은평구 증산로 475 .', '02-3152-2910'],\n",
              " ['상남중앙점',\n",
              "  '경남 창원시 성산구',\n",
              "  '경상남도 창원시 성산구 마디미로38번길 11 (상남동 25) 할리스',\n",
              "  '055-261-5925'],\n",
              " ['인천주안역점', '인천 남구', '인천광역시 미추홀구 주안로 105 1,2층 주안동 130-10', '032-425-1793'],\n",
              " ['울산삼산대로점', '울산 남구', '울산광역시 남구 정동로 71 (삼산동) 삼산동', '052-293-2234'],\n",
              " ['구리장자호수공원점', '경기 구리시', '경기도 구리시 장자대로 86번길 18 1,2층 (참참존빌딩)', '031-568-7232'],\n",
              " ['이대점', '서울 서대문구', '서울특별시 서대문구 이화여대길 59 (대현동, 메르체쇼핑몰) 엘큐브 3층', '02-392-1008'],\n",
              " ['제주협재해변점', '제주 제주시', '제주특별자치도 제주시 한림읍 한림로 330 협재리 2514-2번지', None],\n",
              " ['동대구환승센터점',\n",
              "  '대구 동구',\n",
              "  '대구광역시 동구 동부로 149 (신천동, 신세계동대구복합환승센터) 3층',\n",
              "  '053-742-0614'],\n",
              " ['광주문흥점', '광주 북구', '광주광역시 북구 서하로 373 (문흥동) 102호', '062-265-4931'],\n",
              " ['수원경인일보점', '경기 수원시', '경기도 수원시 팔달구 효원로 299 .', '031-226-0530'],\n",
              " ['부산광안해변점', '부산 수영구', '부산광역시 수영구 광안해변로 251 (민락동) 178-5', '051-752-4551'],\n",
              " ['파주야당역점', '경기 파주시', '경기도 파주시 경의로 1042 (야당동) 1,2층', '031 946 4823'],\n",
              " ['목동예술인회관점', '서울 양천구', '서울시 양천구 목동서로 225, 예술인회관 1층 1층', '02-2655-1300'],\n",
              " ['당고개역점', '서울 노원구', '서울특별시 노원구 덕릉로126길 11 (상계동) .', '02-951-1029'],\n",
              " ['원당점',\n",
              "  '경기 고양시 덕양구',\n",
              "  '경기도 고양시 덕양구 호국로 797, 대동피렌체 104~106호 1층',\n",
              "  '031-964-7785'],\n",
              " ['(하)괴산휴게소점',\n",
              "  '충북 괴산군',\n",
              "  '충북 괴산군 장연면 중부내륙고속도로 205 괴산(마산방향)휴게소  할리스커피',\n",
              "  '043-832-7966'],\n",
              " ['(상)보성녹차휴게소점',\n",
              "  '전남 보성군',\n",
              "  '전라남도 보성군 미력면 남해고속도로 63 (보성녹차(목포)주유소) 목포방향',\n",
              "  '070-4325-8801'],\n",
              " ['(하)보성녹차휴게소점', '전남 보성군', '전남 보성군 겸백면 남해고속도로 70 .', '070-4325-8808'],\n",
              " ['부산사상점', '부산 사상구', '부산광역시 사상구 광장로 90 .', '051-313-6300'],\n",
              " ['선릉샹제리제점', '서울 강남구', '서울특별시 강남구 테헤란로 406 (대치동, 샹제리제센터) 1층', '02-501-4255'],\n",
              " ['양주고읍점', '경기 양주시', '경기도 양주시 고읍남로 10 (광사동) 1,2층', '031-843-0078'],\n",
              " ['안양엠타워컨벤션점',\n",
              "  '경기 안양시 만안구',\n",
              "  '경기 안양시 만안구 안양로 104 (안양동) 엠타워컨벤션 1층 .',\n",
              "  '031-469-0202'],\n",
              " ['인천연수CGV점', '인천 연수구', '인천 연수구 동춘동926 스퀘어원 4층 .', '032-456-4499'],\n",
              " ['(상)추풍령휴게소점',\n",
              "  '경북 김천시',\n",
              "  '경북 김천시 봉산면 경부고속도로 214-1 광천리 737-1 (서울방향)',\n",
              "  '054-439-3187'],\n",
              " ['울산풍차DT점', '울산 북구', '울산광역시 북구 신천동 456 .', '052-292-8181'],\n",
              " ['서초점', '서울 서초구', '서울특별시 서초구 사임당로 26 (서초동, 신영빌딩) .', '02-522-8843'],\n",
              " ['X-210930마곡퀸즈파크나인점',\n",
              "  '서울 강서구',\n",
              "  '서울특별시 강서구 공항대로 247 (마곡동, 퀸즈파크나인) 1,2층',\n",
              "  '02 6421 9888'],\n",
              " ['용인흥덕점', '경기 용인시 기흥구', '경기도 용인시 기흥구 흥덕2로87번길 17 세림프라자 1층', '031-217-7393'],\n",
              " ['대전타임월드점', '대전 서구', '대전광역시 서구 둔산로 32-13 (둔산동) .', '042-489-1315'],\n",
              " ['남악신도시점',\n",
              "  '전남 무안군',\n",
              "  '전라남도 무안군 삼향읍 남악로 234 트리폴리앙 B동 1, 108호 .',\n",
              "  '061-282-8280'],\n",
              " ['대구디아크점', '대구 달성군', '대구광역시 달성군 다사읍 강정본길 57, 3층 .', '053-591-2209'],\n",
              " ['(상)장안휴게소점', '부산 기장군', '부산광역시 기장군 장안읍 동해고속도로 26 .', '051-727-3714'],\n",
              " ['(하)장안휴게소점',\n",
              "  '부산 기장군',\n",
              "  '부산광역시 기장군 장안읍 동해고속도로 25 (장안휴게소하행) .',\n",
              "  '051-727-3647'],\n",
              " ['경남통영점', '경남 통영시', '경상남도 통영시 무전8길 33 (무전동, 로운빌딩) .', '055-649-1314'],\n",
              " ['성동구청점', '서울 성동구', '서울특별시 성동구 왕십리로24나길 20 (도선동, 창성빌딩) .', '02-2291-5354'],\n",
              " ['충무로역점',\n",
              "  '서울 중구',\n",
              "  '서울특별시 중구 퇴계로36길 2 (필동2가, 동국대학교충무로영상센터) .',\n",
              "  '02-2268-8960'],\n",
              " ['(상)마장휴게소점',\n",
              "  '경기 이천시',\n",
              "  '경기도 이천시 마장면 중부고속도로 82 마장휴게소 상행 하남방향',\n",
              "  '031-630-0001'],\n",
              " ['세종소담DI점', '세종 세종시', '세종 특별자치시 소담동 9-121 .', '044-862-9027'],\n",
              " ['부산BIFF광장점', '부산 중구', '부산 중구 비프광장로 31-1, 1층 .', '051-242-6552'],\n",
              " ['부산역사점',\n",
              "  '부산 동구',\n",
              "  '부산광역시 동구 중앙대로 206 (초량동, 한국철도공사부산지역본부) 2충 초량동 1187-1',\n",
              "  '051-441-0918'],\n",
              " ['부산해운대비치점', '부산 해운대구', '부산광역시 해운대구 우동 618-14 .', '055-731-5253'],\n",
              " ['광주일곡점', '광주 북구', '광주광역시 북구 일곡동 821-5    1~3층', '070-7716-0123'],\n",
              " ['양주점', '경기 양주시', '경기도 양주시 평화로 1407 (덕계동) .', '031-868-5779'],\n",
              " ['당진푸르지오점', '충남 당진시', '충청남도 당진시 읍내동 1590 1층 희은빌라 .', '041-354-2004'],\n",
              " ['대전전민점', '대전 유성구', '대전광역시 유성구 전민로22번길 62 .', '042-389-2831'],\n",
              " ['에벤에셀빌딩점', '서울 영등포구', '서울특별시 영등포구 영중로 8-1 (영등포동3가) .', '02-2069-0773'],\n",
              " ['홍천점', '강원 홍천군', '강원도 홍천군 홍천읍 꽃뫼로 98 .', '033-432-3368'],\n",
              " ['목포하당점', '전남 목포시', '전라남도 목포시 비파로51번길 37 (상동) .', '061-283-9800'],\n",
              " ['(상)삼국유사군위휴게소점', '경북 군위군', '경상북도 군위군 부계면 창평리 산98-4 .', '0'],\n",
              " ['김천혁신도시점', '경북 김천시', '경상북도 김천시 혁신로 246 .', '054-433-4333'],\n",
              " ['대구팔달교DT점', '대구 서구', '대구광역시 서구 팔달로 34 .', '053-341-9595'],\n",
              " ['진해경화점', '경남 창원시', '경상남도 창원시 진해구 조천북로 76 (경화동) .', '055-547-9906'],\n",
              " ['별내카페거리점', '경기 남양주시', '경기도 남양주시 두물로39번길 33 (별내동) .', '031-574-5655'],\n",
              " ['파주탄현점', '경기 파주시', '경기도 파주시 탄현면 방촌로 1017 1,2층', '031-947-9477'],\n",
              " ['(상)안성휴게소점', '경기 안성시', '경기도 안성시 원곡면 산하리 67-3  000', 'x'],\n",
              " ['광주우산점', '광주 광산구', '광주광역시 광산구 풍영철길로 12 (우산동) 1층', '062-956-6582'],\n",
              " ['군산수송점', '전북 군산시', '전라북도 군산시 수송동 831-1 1층', '063-467-9500'],\n",
              " ['장승배기역점',\n",
              "  '서울 동작구',\n",
              "  '서울특별시 동작구 장승배기로11가길 11 (상도동, 상도파크자이) 1층',\n",
              "  '02-812-9330'],\n",
              " ['동탄호수공원점', '경기 화성시', '경기도 화성시 동탄면 동탄순환대로5길 15 .', '031-373-5223'],\n",
              " ['수원인계점', '경기 수원시', '경기도 수원시 팔달구 인계로138번길 49 (인계동) .', '031-222-6842'],\n",
              " ['영종하늘도시점', '인천 중구', '인천 중구 중산동 1876-9 .', '032-752-1761'],\n",
              " ['서대문역점', '서울 서대문구', '서울특별시 서대문구 통일로9안길 28 (충정로2가) 1층', '02-313-0807'],\n",
              " ['신림고시촌점', '서울 관악구', '서울특별시 관악구 호암로 605 (신림동) 1층', '02-871-0777'],\n",
              " ['(하)백양사휴게소점',\n",
              "  '전남 장성군',\n",
              "  '전남 장성군 북이면 호남고속도로 107 백양사(순천방향)휴게소 .',\n",
              "  '061-394-9990'],\n",
              " ['동부산우체국점', '부산 동구', '부산광역시 동구 조방로 15, 1층  .', '051-631-3193'],\n",
              " ['KTX광명역푸드코트점', '경기 광명시', '경기도 광명시 광명역로 21 광명역 1층 1층', '02-899-1530'],\n",
              " ['안산로데오점', '경기 안산시 단원구', '경기도 안산시 단원구 중앙대로 907 .', '031-405-7337'],\n",
              " ['안성팜랜드점', '경기 안성시', '경기도 안성시 공도읍 대신두길 28, 안성팜랜드 .', '070-4228-7345'],\n",
              " ['양산원동점', '경남 양산시', '경상남도 양산시 원동면 원동로 1429 .', '055-372-0268'],\n",
              " ['광주금호점', '광주 서구', '광주광역시 서구 운천로 9 1층', '062-385-0725'],\n",
              " ['인천엠파크허브점',\n",
              "  '인천 서구',\n",
              "  '인천광역시 서구 염곡로 52, 엠파크 허브동 103호 (가좌동 150-19) .',\n",
              "  '032-265-0103'],\n",
              " ['대구본리점', '대구 달서구', '대구광역시 달서구 장기로 203 (본리동 62-16) .', '053-553-3002'],\n",
              " ['명지국제신도시점', '부산 강서구', '부산광역시 강서구 명지국제11로 57 (명지동 3334-4) .', '051-271-5600'],\n",
              " ['유스퀘어CGV점',\n",
              "  '광주 서구',\n",
              "  '광주광역시 서구 무진대로 904, 유스퀘어 2층 (광천동, 49-1) .',\n",
              "  '062-351-4687'],\n",
              " ['X-210930(상)칠곡휴게소점', '경북 칠곡군', '경상북도 칠곡군 왜관읍 경부고속도로 158 .', '054-975-1883'],\n",
              " ['X-210930(하)칠곡휴게소점', '경북 칠곡군', '경상북도 칠곡군 왜관읍 경부고속도로 159 .', '054-975-2277'],\n",
              " ['김해구산점', '경남 김해시', '경상남도 김해시 가락로 321 (구산동) .', '055-323-8123'],\n",
              " ['광주오치점', '광주 북구', '광주광역시 북구 서하로 185 (오치동 862-21) 1층', '062-251-5684'],\n",
              " ['광주운남점', '광주 광산구', '광주광역시 광산구 하남대로 248-13 (운남동 771-3 ) 1층', '062-951-5979'],\n",
              " ['익산어양점',\n",
              "  '전북 익산시',\n",
              "  '전라북도 익산시 동서로63길 4, 101호 (어양동, 하모니시티) 1층',\n",
              "  '063-832-4700'],\n",
              " ['전주백제대로점', '전북 전주시 덕진구', '전라북도 전주시 덕진구 백제대로 592 (금암동) 1층', '063-271-5056'],\n",
              " ['의정부민락점', '경기 의정부시', '경기도 의정부시 오목로205번길 55 (민락동, 메가타워) .', '031-851-3633'],\n",
              " ['수원팔달문점', '경기 수원시', '경기도 수원시 팔달구 정조로 777번길 2 (팔달로2가) .', '031-242-9990'],\n",
              " ['동천안우체국점', '충남 금산군', '충청남도 천안시 동남구 청수5로 10, 1층 .', '041-522-5024'],\n",
              " ['(상)사천휴게소점', '경남 사천시', '경상남도 사천시 곤양면 묵실길 31-11 (순천방향) .', '055-854-3574'],\n",
              " ['(하)사천휴게소점', '경남 사천시', '경상남도 사천시 곤양면 서삼로 619 (부산방향) .', '055-854-3134'],\n",
              " ['울산태화강공원점', '울산 중구', '울산광역시 중구 신기길 130-1 (태화동) .', '010-3946-0100'],\n",
              " ['전북도청점',\n",
              "  '전북 전주시 완산구',\n",
              "  '전라북도 전주시 완산구 홍산남로 51, 102~103호 일부(효자동3가) 1층',\n",
              "  '063-228-4005'],\n",
              " ['전북부안점', '전북 부안군', '전라북도 부안군 부안읍 석정로 269, 1층 .', '063-581-0620'],\n",
              " ['별내북부역점', '경기 남양주시', '경기도 남양주시 순화궁로 449 (별내동) .', '031-555-0128'],\n",
              " ['한양대시티빌점', '서울 성동구', '서울특별시 성동구 마조로1가길 9 (행당동) .', '02-2299-9934'],\n",
              " ['동해촛대바위점', '강원 동해시', '강원도 동해시 촛대바위길 16 (추암동 1-6) .', '033-522-0117'],\n",
              " ['울산역사점', '울산 울주군', '울산광역시 울주군 삼남면 울산역로 177 (신화리 471) .', '052-254-6024'],\n",
              " ['이천점', '경기 이천시', '경기도 이천시 창전동 160-26 .', '031-635-6655'],\n",
              " ['경산중방점', '경북 경산시', '경상북도 경산시 경안로 205, 2층 .', '053-814-9980'],\n",
              " ['울산공항1호점', '울산 북구', '울산광역시 북구 산업로 1103 울산공항 2층 일반대합실 .', '052-289-5525'],\n",
              " ['울산공항2호점', '울산 북구', '울산광역시 북구 산업로 1103 울산공항 2층 격리대합실 .', '없음'],\n",
              " ['논현역점', '서울 서초구', '서울특별시 서초구 신반포로 332 (반포동, 우진빌딩) 1층', '02-515-1162'],\n",
              " ['포이사거리점', '서울 서초구', '서울특별시 서초구 논현로19길 5 (양재동) .', '070-4409-4246'],\n",
              " ['광교테크노밸리점',\n",
              "  '경기 수원시',\n",
              "  '경기도 수원시 영통구 에듀타운로 108, 104~106호 104~106호',\n",
              "  '031-217-8022'],\n",
              " ['부산송도점', '부산 서구', '부산광역시 서구 송도해변로 61-1 .', '051-255-6100'],\n",
              " ['평택서재점', '경기 평택시', '경기도 평택시 서재로 26-24 (동삭동) 1,2층 .', '031-651-2750'],\n",
              " ['원주단계택지점', '강원 원주시', '강원도 원주시 장미공원길 27-9 .', '033-745-5007'],\n",
              " ['영광백수해안도로점', '전남 영광군', '전라남도 영광군 백수읍 해안로 918 .', '061-353-5866'],\n",
              " ['수서점', '서울 강남구', '서울특별시 강남구 밤고개로1길 10 (수서동, 수서현대벤쳐빌) 지하1층', '02-451-0723'],\n",
              " ['수원오목천점', '경기 수원시', '경기도 수원시 권선구 서수원로 179 1~2층', '031-291-7933'],\n",
              " ['(상)군위휴게소점', '경북 군위군', '경상북도 군위군 군위읍 경북대로 4084 부산방향', '054-383-6114'],\n",
              " ['양산신도시점', '경남 양산시', '경상남도 양산시 물금읍 야리로 127 .', '055-366-0268'],\n",
              " ['전북대덕진광장점',\n",
              "  '전북 전주시 덕진구',\n",
              "  '전라북도 전주시 덕진구 덕진광장로12, 1층 2층(덕진동1가) 1층',\n",
              "  '063-272-2400'],\n",
              " ['(상)지리산휴게소점', '전북 남원시', '전라북도 남원시 아영면 광주대구고속도로 76 (대구방면)', '063-636-7191'],\n",
              " ['(하)지리산휴게소점',\n",
              "  '전북 남원시',\n",
              "  '전라북도 남원시 아영면 광주대구고속도로 75 (지리산휴게소(하)광주방면) (광주, 고서,담양방면)',\n",
              "  '063-636-7195'],\n",
              " ['여수웅천점', '전남 여수시', '전라남도 여수시 예울마루로 35-24 (웅천동) .', '061-681-2522'],\n",
              " ['대구장기점', '대구 달서구', '대구광역시 달서구 장기로 268 .', '053-522-0666'],\n",
              " ['(상)남성주휴게소점',\n",
              "  '경북 성주군',\n",
              "  '경상북도 성주군 용암면 중부내륙고속도로 76 (본리리, 남성주(양평방향)휴게소) 양평방향',\n",
              "  '054-931-5742'],\n",
              " ['전북대병원점',\n",
              "  '전북 전주시 덕진구',\n",
              "  '전라북도 전주시 덕진구 건지로 20 (금암동, 전북대학교병원 할리스커피) 전북대병원 내 본관-호흡기센터 사이 위치',\n",
              "  '063-259-3140'],\n",
              " ['고속터미널영동선점',\n",
              "  '서울 서초구',\n",
              "  '서울특별시 서초구 신반포로 194 (반포동, 강남고속버스터미널) 2층 A-2호',\n",
              "  '02-591-1555'],\n",
              " ['(상)옥천휴게소점',\n",
              "  '충북 옥천군',\n",
              "  '충청북도 옥천군 옥천읍 옥천동이로 242-34 (매화리, 옥천상휴게소) .',\n",
              "  '043-731-8096'],\n",
              " ['세종어진점',\n",
              "  '세종 세종시',\n",
              "  '세종특별자치시 절재로 194 (어진동, 중앙타운) 133호,214호 .',\n",
              "  '070-7766-1589'],\n",
              " ['대구동천점', '대구 북구', '대구광역시 북구 동천로 125 (동천동) .', '053-321-0099'],\n",
              " ['(상)외동휴게소점', '경북 경주시', '경상북도 경주시 외동읍 석계리 970번지 상석길 58-70', '054-745-0631'],\n",
              " ['부산다대포전망대점', '부산 사하구', '부산광역시 사하구 다대낙조2길 85 (다대동) .', '051-265-9191'],\n",
              " ['(하)남성주휴게소점',\n",
              "  '경북 성주군',\n",
              "  '경상북도 성주군 선남면 중부내륙고속도로 77 (명포리, 남성주(창원방향)휴게소) 창원방향',\n",
              "  '054-933-7105'],\n",
              " ['안양역점', '경기 안양시 만안구', '경기도 안양시 만안구 장내로139번길 61 .', '031-466-2879'],\n",
              " ['대전도안마을점', '대전 유성구', '대전광역시 유성구 도안대로 560 (봉명동, 도안마을1단지) .', '042-826-6080'],\n",
              " ['전주하가점', '전북 전주시 덕진구', '전라북도 전주시 덕진구 가련산로 25 (덕진동2가) 1층', '063-275-1230'],\n",
              " ['구로점',\n",
              "  '서울 구로구',\n",
              "  '서울특별시 구로구 디지털로34길 55 (구로동, 코오롱싸이언스밸리2차) 1층',\n",
              "  '02-2025-0255'],\n",
              " ['고양행신점', '경기 고양시 덕양구', '경기도 고양시 덕양구 충경로 37 (행신동) 1층', '031-938-4055'],\n",
              " ['대구범어점', '대구 수성구', '대구광역시 수성구 범어천로 44 (범어동) .', '053-761-2187'],\n",
              " ['인계써드아이점', '경기 수원시', '경기도 수원시 팔달구 인계로 130 (인계동) 1층', '031-232-0727'],\n",
              " ['아산우체국점', '충남 아산시', '충청남도 아산시 시민로 455 (온천동, 아산우체국) .', '041-548-5024'],\n",
              " ['천안두정역점', '충남 금산군', '충청남도 천안시 서북구 두정로 238 (두정동) .', '041-566-5148'],\n",
              " ['동해묵호점', '강원 동해시', '강원도 동해시 해안로 368 (평릉동, 시드니) .', '033-534-8902'],\n",
              " ['경주황성점', '경북 경주시', '경상북도 경주시 황성로28번길 15 .', '054-701-1234'],\n",
              " ['가산디지털단지점',\n",
              "  '서울 금천구',\n",
              "  '서울특별시 금천구 가산디지털1로 186 (가산동, 제이플라츠) .',\n",
              "  '02-2028-7111'],\n",
              " ['목포평화점', '전남 목포시', '전라남도 목포시 미항로 129 .', '061-285-0365'],\n",
              " ['KBS본관점',\n",
              "  '서울 영등포구',\n",
              "  '서울특별시 영등포구 의사당대로 38 (여의도동, 여의도더샵아일랜드파크) 1층',\n",
              "  '02-2090-7007'],\n",
              " ['(하)단양휴게소점',\n",
              "  '충북 단양군',\n",
              "  '충청북도 단양군 적성면 기동리 산 74-1 (중앙고속도로 부산방향) 기동리 423-1',\n",
              "  '043-423-5401'],\n",
              " ['대전반석역점', '대전 유성구', '대전광역시 유성구 반석동로40번길 40 (반석동) .', '042-714-5808'],\n",
              " ['광주조선대점', '광주 동구', '광주광역시 동구 필문대로273번길 12, 1,2층(지산동) .', '062-416-3647'],\n",
              " ['전북고창점', '전북 고창군', '전라북도 고창군 고창읍 중앙로 195 (읍내리) .', '063-564-3357'],\n",
              " ['(상)거창휴게소점',\n",
              "  '경남 거창군',\n",
              "  '경상남도 거창군 가조면 가조가야로 1523 (도리, 거창휴게소(상)) .',\n",
              "  '055-943-0992'],\n",
              " ['(서)양산휴게소점',\n",
              "  '경남 양산시',\n",
              "  '경상남도 양산시 동면 목장길 15-50 (내송리, 양산휴게소) .',\n",
              "  '055-384-0144'],\n",
              " ['(하)거창휴게소점',\n",
              "  '경남 거창군',\n",
              "  '경상남도 거창군 가조면 가조가야로 1485-48 (도리) (대구방향) .',\n",
              "  '055-943-0992'],\n",
              " ['신림사거리점', '서울 관악구', '서울특별시 관악구 남부순환로 1599-3 (신림동) 1층', '02-877-1433'],\n",
              " ['평촌스마트스퀘어점',\n",
              "  '경기 안양시 만안구',\n",
              "  '경기도 안양시 동안구 시민대로 311, 110호/111호(관양동, 금강스마트빌딩) .',\n",
              "  '031-421-8097'],\n",
              " ['청주성모병원점',\n",
              "  '충북 청주시 청원구',\n",
              "  '충청북도 청주시 청원구 주중동 589-5, 청주성모병원 본관 .',\n",
              "  '070-7761-0015'],\n",
              " ['(하)안성휴게소점',\n",
              "  '경기 안성시',\n",
              "  '경기도 안성시 원곡면 경부고속도로 365 안성휴게소(부산방향) .',\n",
              "  '031-655-0531'],\n",
              " ['전주한옥마을점',\n",
              "  '전북 전주시 완산구',\n",
              "  '전라북도 전주시 완산구 은행로 16 (풍남동 1가 53-3) 1층',\n",
              "  '063-288-0801'],\n",
              " ['대전롯데점', '대전 서구', '대전광역시 서구 용문로 41-80, 리베라 아이누리주상복합 101 .', '042-528-2155'],\n",
              " ['라페스타입구점',\n",
              "  '경기 고양시 일산동구',\n",
              "  '경기도 고양시 일산동구 중앙로1275번길 38-15 삼희포시즌프라자 1층 1층',\n",
              "  '031-904-1991'],\n",
              " ['의정부시청점', '경기 의정부시', '경기도 의정부시 시민로 57 .', '031-826-0009'],\n",
              " ['전주시네마점', '전북 전주시 완산구', '전라북도 전주시 완산구 전주객사3길 67 1층', '063-232-2240'],\n",
              " ['청주율량점', '충북 청주시 청원구', '충청북도 청주시 청원구 1순환로 122 .', '043-216-1990'],\n",
              " ['대전관저점', '대전 서구', '대전광역시 서구 관저중로64번길 26 1,2층 .', '042-542-8080'],\n",
              " ['인천검단사거리점', '인천 서구', '인천 서구 검단로 465 .', '070-7766-4494'],\n",
              " ['울산간절곶해맞이점', '울산 울주군', '울산광역시 울주군 서생면 나사해안길 135 1,2층 .', '052-239-5336'],\n",
              " ['전주혁신도시점', '전북 전주시 완산구', '전라북도 전주시 완산구 오공로 33 1~2층', '063-221-3361'],\n",
              " ['천안두정점', '충남 천안시 서북구', '충청남도 천안시 서북구 오성6길 52, 1층 .', '041-574-0013'],\n",
              " ['오창점',\n",
              "  '충북 청주시 청원구',\n",
              "  '충청북도 청주시 청원구 오창읍 과학산업2로 363, 신우에비뉴엘빌딩 105호 (양청리) .',\n",
              "  '043-218-2998'],\n",
              " ['(춘)치악휴게소점', '강원 원주시', '강원도 원주시 신림면 다리실2길 32 0000', '033-762-8129'],\n",
              " ['대림역점', '서울 영등포구', '서울특별시 영등포구 도림로 140 (대림동, 대림빌딩) .', '02-834-1000'],\n",
              " ['(강)여주휴게소점', '경기 여주시', '경기도 여주시 가남읍 여주남로 722 0', '031-882-3120'],\n",
              " ['평택점', '경기 평택시', '경기도 평택시 평택1로 11 .', '031-651-1223'],\n",
              " ['충북진천점', '충북 진천군', '충청북도 진천군 진천읍 중앙북로 28 2층 .', '043-534-8584'],\n",
              " ['청라센터시아점', '인천 서구', '인천 서구 중봉대로612번길 16 1층 .', '032-567-1192'],\n",
              " ['광주하남점', '광주 광산구', '광주광역시 광산구 용아로 400 1층', '070-4157-5092'],\n",
              " ['김포골드밸리점', '경기 김포시', '경기도 김포시 양촌읍 황금로109번길 27 1층', '031-998-7233'],\n",
              " ['수원영통점', '경기 수원시', '경기도 수원시 영통구 청명남로 10 .', '031-202-3356'],\n",
              " ['남부터미널점', '서울 서초구', '서울특별시 서초구 서초중앙로 52 (서초동, 영진빌딩) 1층', '02-584-9500'],\n",
              " ['고덕리앤파크점', '서울 강동구', '서울특별시 강동구 상일로 151 (고덕동) 1층', '02-441-1121'],\n",
              " ['원주중앙점', '강원 원주시', '강원도 원주시 중평길 4, 2~4층 .', '033-748-1188'],\n",
              " ['전주송천점',\n",
              "  '전북 전주시 덕진구',\n",
              "  '전라북도 전주시 덕진구 송천로 1, 1-2블럭 2-112,113,136호 1층',\n",
              "  '063-275-3308'],\n",
              " ['송천솔내점', '전북 전주시 덕진구', '전라북도 전주시 덕진구 송천동 2가 244-10 1층', '063-291-8000'],\n",
              " ['한티역점', '서울 강남구', '서울특별시 강남구 도곡로 414 (대치동, 삼성빌딩) .', '02-538-8886'],\n",
              " ['강릉항마리나점', '강원 강릉시', '강원도 강릉시 창해로14번길 51-20 .', '070-8816-6543'],\n",
              " ['광주첨단점', '광주 광산구', '광주광역시 광산구 첨단중앙로 136 1층', '062-434-0200'],\n",
              " ['광주수완점', '광주 광산구', '광주광역시 광산구 풍영로 189 1층', '070-8831-1052'],\n",
              " ['동백CGV점',\n",
              "  '경기 용인시 기흥구',\n",
              "  '경기도 용인시 기흥구 동백죽전대로 444, 6029 (중동, 쥬네브썬월드빌딩) .',\n",
              "  '031-679-0479'],\n",
              " ['부산수영로터리점',\n",
              "  '부산 수영구',\n",
              "  '부산광역시 수영구 수영로 710-1, 프라임메디컬빌딩 2층 201 .',\n",
              "  '070-4239-7541'],\n",
              " ['일산레이킨스몰점',\n",
              "  '경기 고양시 일산서구',\n",
              "  '경기도 고양시 일산서구 호수로 817 레이킨스몰 138 1층',\n",
              "  '031 916 1289'],\n",
              " ['(부)치악휴게소점', '강원 원주시', '강원도 원주시 신림면 치악로 416 0', '033-762-8128'],\n",
              " ['간석역남부점', '인천 남동구', '인천 남동구 석산로 11 .', '032-427-7935'],\n",
              " ['충정래미안점', '서울 중구', '서울특별시 중구 중림로 21 (중림동, 더플레이스충정로) 1층', '02-363-1388'],\n",
              " ['인천소래역점', '인천 남동구', '인천 남동구 소래역남로 22 에코프라자 114호, 206호 .', '032-422-4595'],\n",
              " ['동판교M타워점', '경기 성남시', '경기도 성남시 분당구 판교역로241번길 22, 1층 .', '031-8017-7557'],\n",
              " ['거제수월점', '경남 거제시', '경남 거제시 수양로 442 자이APT 상가1동 110호~112호 .', '055-636-7648'],\n",
              " ['북가좌점', '서울 서대문구', '서울특별시 서대문구 응암로 89 (북가좌동) 1,2층', '02-372-5556'],\n",
              " ['수원대학교점', '경기 화성시', '경기도 화성시 봉담읍 와우안길 20 .', '031-224-3856'],\n",
              " ['수원성대역점', '경기 수원시', '경기도 수원시 장안구 서부로2126번길 10 1층', '031-309-1660'],\n",
              " ['광주풍암점', '광주 서구', '광주광역시 서구 풍금로38번길 11 .', '062-652-5505'],\n",
              " ['노량진역점', '서울 동작구', '서울특별시 동작구 노량진로 157 (노량진동) 2층', '02-827-0280'],\n",
              " ['철산점', '경기 광명시', '경기도 광명시 철산로 20 1층~2층', '02-2060-9959'],\n",
              " ['하남아이테코점',\n",
              "  '경기 하남시',\n",
              "  '경기도 하남시 조정대로 150. 아이테코 123호 (덕풍동, 아이테코)',\n",
              "  '031-790-1513'],\n",
              " ['충북대점', '충북 청주시 흥덕구', '충청북도 청주시 흥덕구 내수동로 53 1~2층', '043-266-2248'],\n",
              " ['천호베네시티점', '서울 강동구', '서울특별시 강동구 올림픽로 664 (천호동, 대우한강베네시티) 1층', '02-476-1122'],\n",
              " ['(하)군위휴게소점', '경북 군위군', '경상북도 군위군 군위읍 경북대로 4082 춘천방향', '070-4162-5309'],\n",
              " ['노원역점', '서울 노원구', '서울특별시 노원구 노해로 459 (상계동, 메가빌딩) .', '02-930-1744'],\n",
              " ['오산문화의거리점', '경기 오산시', '경기도 오산시 원동로7번길 35 1,2층', '031-378-5503'],\n",
              " ['굽은다리역점', '서울 강동구', '서울특별시 강동구 양재대로 1591 (천호동) 1층 천호동 31-2', '02-488-5077'],\n",
              " ['송도IT점',\n",
              "  '인천 연수구',\n",
              "  '인천 연수구 송도과학로 32, 송도테크노파크IT센터 1층-A104호 .',\n",
              "  '032-209-7979'],\n",
              " ['(하)문경휴게소점', '경북 문경시', '경상북도 문경시 중부내륙고속도로 173 .', '054-554-1655'],\n",
              " ['서울대사거리점', '서울 관악구', '서울특별시 관악구 관악로 172 (봉천동) 2층', '02-877-6070'],\n",
              " ['도심공항점',\n",
              "  '서울 강남구',\n",
              "  '서울특별시 강남구 테헤란로87길 22 (삼성동, 한국도심공항터미널, 2층)   .',\n",
              "  '02-2016-5400'],\n",
              " ['광화문LG점',\n",
              "  '서울 종로구',\n",
              "  '서울특별시 종로구 새문안로 58 (신문로2가, LG광화문빌딩) 1층, 지하1층',\n",
              "  '02-720-6994'],\n",
              " ['건대입구점', '서울 광진구', '서울특별시 광진구 아차산로 235 (화양동)  235 (화양동)', '02-463-1983'],\n",
              " ['광화문점', '서울 중구', '서울특별시 중구 세종대로21길 55 (태평로1가) 1층', '02-738-8004'],\n",
              " ['청담점', '서울 강남구', '서울특별시 강남구 학동로 517 (청담동) 1층', '02-515-9915'],\n",
              " ['진주교대점', '경남 진주시', '경상남도 진주시 진양호로 348 .', '055-745-3303'],\n",
              " ['계양점', '인천 계양구', '인천 계양구 도두리로 14 맘모스타운 1층 102호 .', '032-551-1166'],\n",
              " ['방이점',\n",
              "  '서울 송파구',\n",
              "  '서울특별시 송파구 오금로11길 44 (방이동, 동주골프연습장) 1층 방이동 56-1',\n",
              "  '02-415-7705'],\n",
              " ['광주봉선점', '광주 남구', '광주광역시 남구 봉선중앙로 21, 1층 1층', '062-651-7888'],\n",
              " ['이수역점', '서울 동작구', '서울특별시 동작구 동작대로 83 (사당동, 헤라피스빌딩) 1층', '02-588-4845'],\n",
              " ['안산NC고잔점',\n",
              "  '경기 안산시 단원구',\n",
              "  '경기도 안산시 단원구 광덕대로 194  안산NC고잔점 A관 1층',\n",
              "  '031-436-4181'],\n",
              " ['부천중동점',\n",
              "  '경기 부천시 원미구',\n",
              "  '경기도 부천시 원미구 소향로 203, B동 109-110호 (중동, 메트로펠리스1) .',\n",
              "  '032-325-6766'],\n",
              " ['제주이도점', '제주 제주시', '제주특별자치도 제주시 승천로 71 .', None],\n",
              " ['돈암점', '서울 성북구', '서울특별시 성북구 동소문로20가길 28 (동선동1가) .', '02-924-6114'],\n",
              " ['테크노마트점',\n",
              "  '서울 광진구',\n",
              "  '서울특별시 광진구 광나루로56길 85 (구의동, 테크노-마트21) 9층',\n",
              "  '02-3424-8484'],\n",
              " ['산본점', '경기 군포시', '경기도 군포시 번영로 505 1층 (산본동, 대우디오플러스)  ', '031-392-5999'],\n",
              " ['광주충장로점', '광주 동구', '광주광역시 동구 충장로안길 43 .', '062-223-0688'],\n",
              " ['교통회관점', '서울 송파구', '서울특별시 송파구 올림픽로 319 (신천동, 새마을 교통회관) 1층', '02-3431-1120'],\n",
              " ['영등포점', '서울 영등포구', '서울특별시 영등포구 경인로 847 (영등포동3가) .', '02-4159-8897'],\n",
              " ['역삼스타점',\n",
              "  '서울 강남구',\n",
              "  '서울특별시 강남구 테헤란로26길 12, 1층 (역삼동 736-56) 할리스',\n",
              "  '02-501-4142'],\n",
              " ['부산경성대2호점', '부산 남구', '부산광역시 남구 수영로 306, 3층 (대연동 72-1) 할리스', '051-611-3021'],\n",
              " ['김포공항점', '서울 강서구', '서울특별시 강서구 하늘길 112 김포공항 국내선청사 1층', '02-2064-0312'],\n",
              " ['여의도하나투자점', '서울 영등포구', '서울특별시 영등포구  의사당대로 82 1층 할리스', '02-761-7231'],\n",
              " ['구산역점', '서울 은평구', '서울특별시 은평구 연서로 135 (구산동 1-7) 할리스 ', '02-351-3094'],\n",
              " ['부산송정점', '부산 해운대구', '부산광역시 해운대구 송정광어골로 77 (송정동 443-5) 할리스', '051-701-5591'],\n",
              " ['광나루역점',\n",
              "  '서울 광진구',\n",
              "  '서울특별시 광진구 천호대로 808, 광장현대홈타운 제1202동 상가 1층 (광장동 580) 할리스',\n",
              "  '02-444-0542'],\n",
              " ['부산광안대교점',\n",
              "  '부산 수영구',\n",
              "  '부산광역시 수영구 광안해변로 217, 호메르스관광호텔 1층 (광안동 93-1) 할리스',\n",
              "  '051-754-9985'],\n",
              " ['광주전남대점', '광주 북구', '광주광역시 북구 우치로 90(용봉동) 할리스', '062-251-1966'],\n",
              " ['대전도안DT점', '대전 유성구', '대전광역시 유성구 도안동로 488,1-3층 할리스', '042-824-4931'],\n",
              " ['세로수길점', '서울 강남구', '서울특별시 강남구 강남대로152길 41 (신사동 536-6) 할리스', '02-511-1473'],\n",
              " ['목동점',\n",
              "  '서울 양천구',\n",
              "  '서울특별시 양천구 목동서로 159-1 CBS 1,2층 CBS 1,2층 할리스',\n",
              "  '02-2062-1063'],\n",
              " ['광주아울렛점', '광주 서구', '광주광역시 서구  상무대로 633', '062-385-5122'],\n",
              " ['울산디자인거리점',\n",
              "  '울산 남구',\n",
              "  '울산광역시 남구 돋질로302번길 38 (삼산동 1575-22) 할리스',\n",
              "  '052-256-0566'],\n",
              " ['분당율동공원점', '경기 성남시 분당구', '경기도 성남시 분당구 문정로 140 (율동) 할리스', '031-701-0680'],\n",
              " ['당산역점', '서울 영등포구', '서울특별시 영등포구 당산로 219 ', '02-2631-3446'],\n",
              " ['무교점', '서울 중구', '서울특별시 중구   무교로 28, 시그너스빌딩 1층 (무교동 7번지)', '02-318-0988'],\n",
              " ['수원권선행복점',\n",
              "  '경기 수원시 권선구',\n",
              "  '경기도 수원시 권선구  권광로 119 (권선동) 1층 할리스',\n",
              "  '031-221-7895'],\n",
              " ['부산동래역점',\n",
              "  '부산 동래구',\n",
              "  '부산광역시 동래구 삼성대길 34-25, 1~3층 (명륜동 502-4) 할리스',\n",
              "  '051-552-2990'],\n",
              " ['연신내점', '서울 은평구', '서울특별시 은평구 연서로 212, (대조동 199-28) 할리스', '02-388-3977'],\n",
              " ['건대일감호수점',\n",
              "  '서울 광진구',\n",
              "  '서울특별시 광진구 아차산로39길 38-6 (자양동225-74) 할리스',\n",
              "  '02-456-6627'],\n",
              " ['잠실광고회관점',\n",
              "  '서울 송파구',\n",
              "  '서울특별시 송파구 올림픽로35길 137, 한국방송문화회관 1층 (신천동 7-11) 할리스',\n",
              "  '02-2144-0888'],\n",
              " ['창원상남점',\n",
              "  '경남 창원시 성산구',\n",
              "  '경상남도 창원시 성산구 마디미로31번길 3 (상남동 상남동 18-9) 할리스',\n",
              "  '055-261-5955'],\n",
              " ['배명사거리점', '서울 송파구', '서울특별시 송파구 백제고분로 275, 1층 (석촌동 14-7) 할리스', '02-422-4915'],\n",
              " ['서울대예술문화점', '서울 관악구', '서울특별시 관악구 관악로 1 서울대예술복합계연구동 1층', '02-877-7186'],\n",
              " ['낙성대역점', '서울 관악구', '서울특별시 관악구 남부순환로 1922 ', '070-4716-0775'],\n",
              " ['노원문화의거리점', '서울 노원구', '서울특별시 노원구 노해로81길 22-26 할리스', '02-935-8231'],\n",
              " ['송탄점', '경기 평택시', '경기도 평택시 관광특구로 31 (서정동) 할리스', '031-667-1229'],\n",
              " ['부산해운대점',\n",
              "  '부산 해운대구',\n",
              "  '부산광역시 해운대구 해운대해변로 277, 다옴빌딩 1~2층 (중1동 1412-7) 할리스',\n",
              "  '051-746-1463'],\n",
              " ['도곡점',\n",
              "  '서울 강남구',\n",
              "  '서울특별시 강남구 논현로28길 54, 덕원빌딩 1층 (도곡동 422-2) 할리스',\n",
              "  '02-6204-3311'],\n",
              " ['대명거리점', '서울 종로구', '서울특별시 종로구 대명길 4 2~4층 할리스', '02-747-0348'],\n",
              " ['부산경성대점',\n",
              "  '부산 남구',\n",
              "  '부산광역시 남구 용소로 7, 청라빌딩 2~3층 (대연동 56-8) 할리스',\n",
              "  '051-611-6893'],\n",
              " ['분당수내엔타워점',\n",
              "  '경기 성남시 분당구',\n",
              "  '경기도 성남시 분당구 황새울로200번길 26, 엔타워빌딩 1층 (수내동, 교보생명)',\n",
              "  '031-712-0341'],\n",
              " ['인천한옥마을점', '인천 연수구', '인천광역시 연수구 테크노파크로 180, 다동 지상1층(송도동) ', '032-831-0337'],\n",
              " ['인천구월로데오점', '인천 남동구', '인천광역시 남동구 인하로 497-24 (구월동, 조한빌딩) 1층', '032-421-0399'],\n",
              " ['강남역점',\n",
              "  '서울 강남구',\n",
              "  '서울특별시 강남구 강남대로 402, 시계탑빌딩 B1~1층 (역삼동 820-11)  할리스',\n",
              "  '02-555-0890'],\n",
              " ['대전둔산청솔점', '대전 서구', '대전광역시 서구 둔산로 223 제상가 2동 할리스', '042-489-7990'],\n",
              " ['수원권선점', '경기 수원시 권선구', '경기도 수원시 권선구  권선로 667 (권선동) 1층 할리스', '031-302-2601'],\n",
              " ['용산더프라임점', '서울 용산구', '서울특별시 용산구 원효로90길 11 더프라임타워 업무동 1층', '02-6362-7990'],\n",
              " ['마산터미널점',\n",
              "  '경남 창원시 마산회원구',\n",
              "  '경상남도 창원시 마산회원구 합성옛길 159, 마산시외버스터미널 1층(합성동 267) 할리스',\n",
              "  '055-251-5698'],\n",
              " ['세종로점', '서울 종로구', '서울특별시 종로구 세종대로 161, 2~3층 (세종로 200) 할리스', '02-720-5582'],\n",
              " ['광장점',\n",
              "  '서울 광진구',\n",
              "  '서울특별시 광진구 광나루로620, 이진빌딩 1층 (구의동 199-2) 할리스',\n",
              "  '070-4706-0293'],\n",
              " ['청주하복대점', '충북 청주시 흥덕구', '충청북도 청주시 흥덕구  2순환로1167번길 5 1,2층', '043-234-4069'],\n",
              " ['수원역점', '경기 수원시 팔달구', '경기도 수원시 팔달구 향교로 6 (매산로1가)', '031-257-3313'],\n",
              " ['종로코리안리빌딩점', '서울 종로구', '서울특별시 종로구 종로5길 68 코리안리빌딩 1층 할리스', '070-4733-4828'],\n",
              " ['구반포역점',\n",
              "  '서울 서초구',\n",
              "  '서울특별시 서초구 신반포로 15 구반포상가, G동 1층 (반포본동 817 구반포상가) 할리스',\n",
              "  '02-537-9386'],\n",
              " ['성남터미널점',\n",
              "  '경기 성남시 분당구',\n",
              "  '경기도 성남시 분당구  성남대로925번길 16 (야탑동, 분당종합터미널) 1층 할리스 ',\n",
              "  '031-725-1004'],\n",
              " ['합정역점', '서울 마포구', '서울특별시 마포구 양화로 36 (합정동 374-1) 할리스', '02-6204-1234'],\n",
              " ['부산달맞이점',\n",
              "  '부산 해운대구',\n",
              "  '부산광역시 해운대구 달맞이길 199, 2~3층 (중동 1488-14) 할리스',\n",
              "  '051-731-3410'],\n",
              " ['신흥역점', '경기 성남시 수정구', '경기도 성남시 수정구 산성대로 265 (신흥동) 2층 할리스', '031-626-6140'],\n",
              " ['아주대점', '경기 수원시 영통구', '경기도 수원시 영통구  중부대로 258 (매탄동)', '031-211-2884'],\n",
              " ['신림점', '서울 관악구', '서울특별시 관악구 신림로 353-1', '02-877-0019'],\n",
              " ['태평로점',\n",
              "  '서울 중구',\n",
              "  '서울특별시 중구 세종대로 64, 해남빌딩 1층 (태평로2가 70-5) 할리스',\n",
              "  '02-755-7795'],\n",
              " ['이태원점', '서울 용산구', '서울특별시 용산구  이태원로 179', '02-749-8752'],\n",
              " ['부산서면본점',\n",
              "  '부산 부산진구',\n",
              "  '부산광역시 부산진구 동천로 73, DS타워 1~2층 (부전동 부전동 169-1) 할리스',\n",
              "  '051-819-9117'],\n",
              " ['신촌점', '서울 서대문구', '서울특별시 서대문구 연세로 34 (창천동 31-12)  할리스', '02-393-2004']]"
            ]
          },
          "metadata": {},
          "execution_count": 57
        }
      ]
    },
    {
      "cell_type": "code",
      "metadata": {
        "id": "pm-41CgGmYaE"
      },
      "source": [
        "import pandas as pd"
      ],
      "execution_count": null,
      "outputs": []
    },
    {
      "cell_type": "code",
      "metadata": {
        "colab": {
          "base_uri": "https://localhost:8080/",
          "height": 585
        },
        "id": "pl2gTGFQmqDX",
        "outputId": "3b386750-2106-43e5-b4e8-01d7ccc17538"
      },
      "source": [
        "hollys_tbl = pd.DataFrame(result,columns=('store','sido-gu','address','phone'))\n",
        "hollys_tbl"
      ],
      "execution_count": null,
      "outputs": [
        {
          "output_type": "execute_result",
          "data": {
            "text/html": [
              "<div>\n",
              "<style scoped>\n",
              "    .dataframe tbody tr th:only-of-type {\n",
              "        vertical-align: middle;\n",
              "    }\n",
              "\n",
              "    .dataframe tbody tr th {\n",
              "        vertical-align: top;\n",
              "    }\n",
              "\n",
              "    .dataframe thead th {\n",
              "        text-align: right;\n",
              "    }\n",
              "</style>\n",
              "<table border=\"1\" class=\"dataframe\">\n",
              "  <thead>\n",
              "    <tr style=\"text-align: right;\">\n",
              "      <th></th>\n",
              "      <th>store</th>\n",
              "      <th>sido-gu</th>\n",
              "      <th>address</th>\n",
              "      <th>phone</th>\n",
              "    </tr>\n",
              "  </thead>\n",
              "  <tbody>\n",
              "    <tr>\n",
              "      <th>0</th>\n",
              "      <td>익산모현점</td>\n",
              "      <td>전북 익산시</td>\n",
              "      <td>전라북도 익산시 선화로3길 16-10 1층</td>\n",
              "      <td>063-842-8420</td>\n",
              "    </tr>\n",
              "    <tr>\n",
              "      <th>1</th>\n",
              "      <td>대전건양대병원점</td>\n",
              "      <td>대전 서구</td>\n",
              "      <td>대전광역시 서구 관저동로 158 (관저동, 건양대학교병원) 신관 지하1층</td>\n",
              "      <td>042-543-3138</td>\n",
              "    </tr>\n",
              "    <tr>\n",
              "      <th>2</th>\n",
              "      <td>대전유성온천점</td>\n",
              "      <td>대전 유성구</td>\n",
              "      <td>대전 유성구 온천로 45</td>\n",
              "      <td>042-825-2023</td>\n",
              "    </tr>\n",
              "    <tr>\n",
              "      <th>3</th>\n",
              "      <td>스틸랜드점</td>\n",
              "      <td>경기 시흥시</td>\n",
              "      <td>경기도 시흥시 오이도로 21 (정왕동, STEELLAND) 1층</td>\n",
              "      <td>070-8802-8041</td>\n",
              "    </tr>\n",
              "    <tr>\n",
              "      <th>4</th>\n",
              "      <td>거제휴게소점</td>\n",
              "      <td>경남 거제시</td>\n",
              "      <td>경상남도 거제시 장목면 거가대로 1068 .</td>\n",
              "      <td>055-736-2200</td>\n",
              "    </tr>\n",
              "    <tr>\n",
              "      <th>...</th>\n",
              "      <td>...</td>\n",
              "      <td>...</td>\n",
              "      <td>...</td>\n",
              "      <td>...</td>\n",
              "    </tr>\n",
              "    <tr>\n",
              "      <th>548</th>\n",
              "      <td>신림점</td>\n",
              "      <td>서울 관악구</td>\n",
              "      <td>서울특별시 관악구 신림로 353-1</td>\n",
              "      <td>02-877-0019</td>\n",
              "    </tr>\n",
              "    <tr>\n",
              "      <th>549</th>\n",
              "      <td>태평로점</td>\n",
              "      <td>서울 중구</td>\n",
              "      <td>서울특별시 중구 세종대로 64, 해남빌딩 1층 (태평로2가 70-5) 할리스</td>\n",
              "      <td>02-755-7795</td>\n",
              "    </tr>\n",
              "    <tr>\n",
              "      <th>550</th>\n",
              "      <td>이태원점</td>\n",
              "      <td>서울 용산구</td>\n",
              "      <td>서울특별시 용산구  이태원로 179</td>\n",
              "      <td>02-749-8752</td>\n",
              "    </tr>\n",
              "    <tr>\n",
              "      <th>551</th>\n",
              "      <td>부산서면본점</td>\n",
              "      <td>부산 부산진구</td>\n",
              "      <td>부산광역시 부산진구 동천로 73, DS타워 1~2층 (부전동 부전동 169-1) 할리스</td>\n",
              "      <td>051-819-9117</td>\n",
              "    </tr>\n",
              "    <tr>\n",
              "      <th>552</th>\n",
              "      <td>신촌점</td>\n",
              "      <td>서울 서대문구</td>\n",
              "      <td>서울특별시 서대문구 연세로 34 (창천동 31-12)  할리스</td>\n",
              "      <td>02-393-2004</td>\n",
              "    </tr>\n",
              "  </tbody>\n",
              "</table>\n",
              "<p>553 rows × 4 columns</p>\n",
              "</div>"
            ],
            "text/plain": [
              "        store  ...          phone\n",
              "0       익산모현점  ...   063-842-8420\n",
              "1    대전건양대병원점  ...   042-543-3138\n",
              "2     대전유성온천점  ...   042-825-2023\n",
              "3       스틸랜드점  ...  070-8802-8041\n",
              "4      거제휴게소점  ...   055-736-2200\n",
              "..        ...  ...            ...\n",
              "548       신림점  ...    02-877-0019\n",
              "549      태평로점  ...    02-755-7795\n",
              "550      이태원점  ...    02-749-8752\n",
              "551    부산서면본점  ...   051-819-9117\n",
              "552       신촌점  ...    02-393-2004\n",
              "\n",
              "[553 rows x 4 columns]"
            ]
          },
          "metadata": {},
          "execution_count": 59
        }
      ]
    },
    {
      "cell_type": "code",
      "metadata": {
        "id": "y2N-oEY1mvw8"
      },
      "source": [
        "hollys_tbl.to_csv('hollys.csv', encoding='CP949', mode='w', index=True)"
      ],
      "execution_count": null,
      "outputs": []
    },
    {
      "cell_type": "code",
      "metadata": {
        "colab": {
          "base_uri": "https://localhost:8080/",
          "height": 585
        },
        "id": "zKFdfZUfn24X",
        "outputId": "bbc930e8-9895-4c4d-c170-d002ad4e1f94"
      },
      "source": [
        "hollys_tbl = pd.read_csv('hollys.csv',encoding='CP949',index_col=0)\n",
        "hollys_tbl"
      ],
      "execution_count": null,
      "outputs": [
        {
          "output_type": "execute_result",
          "data": {
            "text/html": [
              "<div>\n",
              "<style scoped>\n",
              "    .dataframe tbody tr th:only-of-type {\n",
              "        vertical-align: middle;\n",
              "    }\n",
              "\n",
              "    .dataframe tbody tr th {\n",
              "        vertical-align: top;\n",
              "    }\n",
              "\n",
              "    .dataframe thead th {\n",
              "        text-align: right;\n",
              "    }\n",
              "</style>\n",
              "<table border=\"1\" class=\"dataframe\">\n",
              "  <thead>\n",
              "    <tr style=\"text-align: right;\">\n",
              "      <th></th>\n",
              "      <th>store</th>\n",
              "      <th>sido-gu</th>\n",
              "      <th>address</th>\n",
              "      <th>phone</th>\n",
              "    </tr>\n",
              "  </thead>\n",
              "  <tbody>\n",
              "    <tr>\n",
              "      <th>0</th>\n",
              "      <td>익산모현점</td>\n",
              "      <td>전북 익산시</td>\n",
              "      <td>전라북도 익산시 선화로3길 16-10 1층</td>\n",
              "      <td>063-842-8420</td>\n",
              "    </tr>\n",
              "    <tr>\n",
              "      <th>1</th>\n",
              "      <td>대전건양대병원점</td>\n",
              "      <td>대전 서구</td>\n",
              "      <td>대전광역시 서구 관저동로 158 (관저동, 건양대학교병원) 신관 지하1층</td>\n",
              "      <td>042-543-3138</td>\n",
              "    </tr>\n",
              "    <tr>\n",
              "      <th>2</th>\n",
              "      <td>대전유성온천점</td>\n",
              "      <td>대전 유성구</td>\n",
              "      <td>대전 유성구 온천로 45</td>\n",
              "      <td>042-825-2023</td>\n",
              "    </tr>\n",
              "    <tr>\n",
              "      <th>3</th>\n",
              "      <td>스틸랜드점</td>\n",
              "      <td>경기 시흥시</td>\n",
              "      <td>경기도 시흥시 오이도로 21 (정왕동, STEELLAND) 1층</td>\n",
              "      <td>070-8802-8041</td>\n",
              "    </tr>\n",
              "    <tr>\n",
              "      <th>4</th>\n",
              "      <td>거제휴게소점</td>\n",
              "      <td>경남 거제시</td>\n",
              "      <td>경상남도 거제시 장목면 거가대로 1068 .</td>\n",
              "      <td>055-736-2200</td>\n",
              "    </tr>\n",
              "    <tr>\n",
              "      <th>...</th>\n",
              "      <td>...</td>\n",
              "      <td>...</td>\n",
              "      <td>...</td>\n",
              "      <td>...</td>\n",
              "    </tr>\n",
              "    <tr>\n",
              "      <th>548</th>\n",
              "      <td>신림점</td>\n",
              "      <td>서울 관악구</td>\n",
              "      <td>서울특별시 관악구 신림로 353-1</td>\n",
              "      <td>02-877-0019</td>\n",
              "    </tr>\n",
              "    <tr>\n",
              "      <th>549</th>\n",
              "      <td>태평로점</td>\n",
              "      <td>서울 중구</td>\n",
              "      <td>서울특별시 중구 세종대로 64, 해남빌딩 1층 (태평로2가 70-5) 할리스</td>\n",
              "      <td>02-755-7795</td>\n",
              "    </tr>\n",
              "    <tr>\n",
              "      <th>550</th>\n",
              "      <td>이태원점</td>\n",
              "      <td>서울 용산구</td>\n",
              "      <td>서울특별시 용산구  이태원로 179</td>\n",
              "      <td>02-749-8752</td>\n",
              "    </tr>\n",
              "    <tr>\n",
              "      <th>551</th>\n",
              "      <td>부산서면본점</td>\n",
              "      <td>부산 부산진구</td>\n",
              "      <td>부산광역시 부산진구 동천로 73, DS타워 1~2층 (부전동 부전동 169-1) 할리스</td>\n",
              "      <td>051-819-9117</td>\n",
              "    </tr>\n",
              "    <tr>\n",
              "      <th>552</th>\n",
              "      <td>신촌점</td>\n",
              "      <td>서울 서대문구</td>\n",
              "      <td>서울특별시 서대문구 연세로 34 (창천동 31-12)  할리스</td>\n",
              "      <td>02-393-2004</td>\n",
              "    </tr>\n",
              "  </tbody>\n",
              "</table>\n",
              "<p>553 rows × 4 columns</p>\n",
              "</div>"
            ],
            "text/plain": [
              "        store  ...          phone\n",
              "0       익산모현점  ...   063-842-8420\n",
              "1    대전건양대병원점  ...   042-543-3138\n",
              "2     대전유성온천점  ...   042-825-2023\n",
              "3       스틸랜드점  ...  070-8802-8041\n",
              "4      거제휴게소점  ...   055-736-2200\n",
              "..        ...  ...            ...\n",
              "548       신림점  ...    02-877-0019\n",
              "549      태평로점  ...    02-755-7795\n",
              "550      이태원점  ...    02-749-8752\n",
              "551    부산서면본점  ...   051-819-9117\n",
              "552       신촌점  ...    02-393-2004\n",
              "\n",
              "[553 rows x 4 columns]"
            ]
          },
          "metadata": {},
          "execution_count": 61
        }
      ]
    },
    {
      "cell_type": "code",
      "metadata": {
        "colab": {
          "base_uri": "https://localhost:8080/",
          "height": 287
        },
        "id": "QFCGq7wjpADW",
        "outputId": "c4e51347-6c3a-4620-a13f-fe8442b3c678"
      },
      "source": [
        "hollys_tbl.head()"
      ],
      "execution_count": null,
      "outputs": [
        {
          "output_type": "execute_result",
          "data": {
            "text/html": [
              "<div>\n",
              "<style scoped>\n",
              "    .dataframe tbody tr th:only-of-type {\n",
              "        vertical-align: middle;\n",
              "    }\n",
              "\n",
              "    .dataframe tbody tr th {\n",
              "        vertical-align: top;\n",
              "    }\n",
              "\n",
              "    .dataframe thead th {\n",
              "        text-align: right;\n",
              "    }\n",
              "</style>\n",
              "<table border=\"1\" class=\"dataframe\">\n",
              "  <thead>\n",
              "    <tr style=\"text-align: right;\">\n",
              "      <th></th>\n",
              "      <th>store</th>\n",
              "      <th>sido-gu</th>\n",
              "      <th>address</th>\n",
              "      <th>phone</th>\n",
              "    </tr>\n",
              "  </thead>\n",
              "  <tbody>\n",
              "    <tr>\n",
              "      <th>0</th>\n",
              "      <td>익산모현점</td>\n",
              "      <td>전북 익산시</td>\n",
              "      <td>전라북도 익산시 선화로3길 16-10 1층</td>\n",
              "      <td>063-842-8420</td>\n",
              "    </tr>\n",
              "    <tr>\n",
              "      <th>1</th>\n",
              "      <td>대전건양대병원점</td>\n",
              "      <td>대전 서구</td>\n",
              "      <td>대전광역시 서구 관저동로 158 (관저동, 건양대학교병원) 신관 지하1층</td>\n",
              "      <td>042-543-3138</td>\n",
              "    </tr>\n",
              "    <tr>\n",
              "      <th>2</th>\n",
              "      <td>대전유성온천점</td>\n",
              "      <td>대전 유성구</td>\n",
              "      <td>대전 유성구 온천로 45</td>\n",
              "      <td>042-825-2023</td>\n",
              "    </tr>\n",
              "    <tr>\n",
              "      <th>3</th>\n",
              "      <td>스틸랜드점</td>\n",
              "      <td>경기 시흥시</td>\n",
              "      <td>경기도 시흥시 오이도로 21 (정왕동, STEELLAND) 1층</td>\n",
              "      <td>070-8802-8041</td>\n",
              "    </tr>\n",
              "    <tr>\n",
              "      <th>4</th>\n",
              "      <td>거제휴게소점</td>\n",
              "      <td>경남 거제시</td>\n",
              "      <td>경상남도 거제시 장목면 거가대로 1068 .</td>\n",
              "      <td>055-736-2200</td>\n",
              "    </tr>\n",
              "  </tbody>\n",
              "</table>\n",
              "</div>"
            ],
            "text/plain": [
              "      store sido-gu                                   address          phone\n",
              "0     익산모현점  전북 익산시                   전라북도 익산시 선화로3길 16-10 1층   063-842-8420\n",
              "1  대전건양대병원점   대전 서구  대전광역시 서구 관저동로 158 (관저동, 건양대학교병원) 신관 지하1층   042-543-3138\n",
              "2   대전유성온천점  대전 유성구                           대전 유성구 온천로 45     042-825-2023\n",
              "3     스틸랜드점  경기 시흥시       경기도 시흥시 오이도로 21 (정왕동, STEELLAND) 1층  070-8802-8041\n",
              "4    거제휴게소점  경남 거제시                  경상남도 거제시 장목면 거가대로 1068 .   055-736-2200"
            ]
          },
          "metadata": {},
          "execution_count": 62
        }
      ]
    },
    {
      "cell_type": "code",
      "metadata": {
        "colab": {
          "base_uri": "https://localhost:8080/",
          "height": 287
        },
        "id": "bE9FQ-rZpy0Z",
        "outputId": "cd5aa0c2-edcf-4ca4-a232-187e8cb1817c"
      },
      "source": [
        "hollys_tbl.tail()"
      ],
      "execution_count": null,
      "outputs": [
        {
          "output_type": "execute_result",
          "data": {
            "text/html": [
              "<div>\n",
              "<style scoped>\n",
              "    .dataframe tbody tr th:only-of-type {\n",
              "        vertical-align: middle;\n",
              "    }\n",
              "\n",
              "    .dataframe tbody tr th {\n",
              "        vertical-align: top;\n",
              "    }\n",
              "\n",
              "    .dataframe thead th {\n",
              "        text-align: right;\n",
              "    }\n",
              "</style>\n",
              "<table border=\"1\" class=\"dataframe\">\n",
              "  <thead>\n",
              "    <tr style=\"text-align: right;\">\n",
              "      <th></th>\n",
              "      <th>store</th>\n",
              "      <th>sido-gu</th>\n",
              "      <th>address</th>\n",
              "      <th>phone</th>\n",
              "    </tr>\n",
              "  </thead>\n",
              "  <tbody>\n",
              "    <tr>\n",
              "      <th>548</th>\n",
              "      <td>신림점</td>\n",
              "      <td>서울 관악구</td>\n",
              "      <td>서울특별시 관악구 신림로 353-1</td>\n",
              "      <td>02-877-0019</td>\n",
              "    </tr>\n",
              "    <tr>\n",
              "      <th>549</th>\n",
              "      <td>태평로점</td>\n",
              "      <td>서울 중구</td>\n",
              "      <td>서울특별시 중구 세종대로 64, 해남빌딩 1층 (태평로2가 70-5) 할리스</td>\n",
              "      <td>02-755-7795</td>\n",
              "    </tr>\n",
              "    <tr>\n",
              "      <th>550</th>\n",
              "      <td>이태원점</td>\n",
              "      <td>서울 용산구</td>\n",
              "      <td>서울특별시 용산구  이태원로 179</td>\n",
              "      <td>02-749-8752</td>\n",
              "    </tr>\n",
              "    <tr>\n",
              "      <th>551</th>\n",
              "      <td>부산서면본점</td>\n",
              "      <td>부산 부산진구</td>\n",
              "      <td>부산광역시 부산진구 동천로 73, DS타워 1~2층 (부전동 부전동 169-1) 할리스</td>\n",
              "      <td>051-819-9117</td>\n",
              "    </tr>\n",
              "    <tr>\n",
              "      <th>552</th>\n",
              "      <td>신촌점</td>\n",
              "      <td>서울 서대문구</td>\n",
              "      <td>서울특별시 서대문구 연세로 34 (창천동 31-12)  할리스</td>\n",
              "      <td>02-393-2004</td>\n",
              "    </tr>\n",
              "  </tbody>\n",
              "</table>\n",
              "</div>"
            ],
            "text/plain": [
              "      store  ...         phone\n",
              "548     신림점  ...   02-877-0019\n",
              "549    태평로점  ...   02-755-7795\n",
              "550    이태원점  ...   02-749-8752\n",
              "551  부산서면본점  ...  051-819-9117\n",
              "552     신촌점  ...   02-393-2004\n",
              "\n",
              "[5 rows x 4 columns]"
            ]
          },
          "metadata": {},
          "execution_count": 63
        }
      ]
    },
    {
      "cell_type": "code",
      "metadata": {
        "id": "7kETVqgFp5Yw"
      },
      "source": [
        "hollys_daegu1 = hollys_tbl[hollys_tbl['store']=='경북대북문점']"
      ],
      "execution_count": null,
      "outputs": []
    },
    {
      "cell_type": "code",
      "metadata": {
        "colab": {
          "base_uri": "https://localhost:8080/",
          "height": 97
        },
        "id": "yjr6wtTgqH8h",
        "outputId": "6e4211cc-c442-4058-810a-c9eb1682c81a"
      },
      "source": [
        "hollys_daegu1"
      ],
      "execution_count": null,
      "outputs": [
        {
          "output_type": "execute_result",
          "data": {
            "text/html": [
              "<div>\n",
              "<style scoped>\n",
              "    .dataframe tbody tr th:only-of-type {\n",
              "        vertical-align: middle;\n",
              "    }\n",
              "\n",
              "    .dataframe tbody tr th {\n",
              "        vertical-align: top;\n",
              "    }\n",
              "\n",
              "    .dataframe thead th {\n",
              "        text-align: right;\n",
              "    }\n",
              "</style>\n",
              "<table border=\"1\" class=\"dataframe\">\n",
              "  <thead>\n",
              "    <tr style=\"text-align: right;\">\n",
              "      <th></th>\n",
              "      <th>store</th>\n",
              "      <th>sido-gu</th>\n",
              "      <th>address</th>\n",
              "      <th>phone</th>\n",
              "    </tr>\n",
              "  </thead>\n",
              "  <tbody>\n",
              "    <tr>\n",
              "      <th>113</th>\n",
              "      <td>경북대북문점</td>\n",
              "      <td>대구 북구</td>\n",
              "      <td>대구광역시 북구 대학로 17길 3 (산격동 1393-11) 할리스 B1~3층</td>\n",
              "      <td>053-951-9990</td>\n",
              "    </tr>\n",
              "  </tbody>\n",
              "</table>\n",
              "</div>"
            ],
            "text/plain": [
              "      store sido-gu                                     address         phone\n",
              "113  경북대북문점   대구 북구  대구광역시 북구 대학로 17길 3 (산격동 1393-11) 할리스 B1~3층  053-951-9990"
            ]
          },
          "metadata": {},
          "execution_count": 65
        }
      ]
    },
    {
      "cell_type": "code",
      "metadata": {
        "colab": {
          "base_uri": "https://localhost:8080/",
          "height": 80
        },
        "id": "L9u7wBAvqZQJ",
        "outputId": "e70cfb87-6c2e-43c0-d778-5faa98f83a52"
      },
      "source": [
        "hollys_tbl[hollys_tbl['store']=='대구이월드점']"
      ],
      "execution_count": null,
      "outputs": [
        {
          "output_type": "execute_result",
          "data": {
            "text/html": [
              "<div>\n",
              "<style scoped>\n",
              "    .dataframe tbody tr th:only-of-type {\n",
              "        vertical-align: middle;\n",
              "    }\n",
              "\n",
              "    .dataframe tbody tr th {\n",
              "        vertical-align: top;\n",
              "    }\n",
              "\n",
              "    .dataframe thead th {\n",
              "        text-align: right;\n",
              "    }\n",
              "</style>\n",
              "<table border=\"1\" class=\"dataframe\">\n",
              "  <thead>\n",
              "    <tr style=\"text-align: right;\">\n",
              "      <th></th>\n",
              "      <th>store</th>\n",
              "      <th>sido-gu</th>\n",
              "      <th>address</th>\n",
              "      <th>phone</th>\n",
              "    </tr>\n",
              "  </thead>\n",
              "  <tbody>\n",
              "    <tr>\n",
              "      <th>140</th>\n",
              "      <td>대구이월드점</td>\n",
              "      <td>대구 달서구</td>\n",
              "      <td>대구광역시 달서구 두류공원로 200 (두류동) .</td>\n",
              "      <td>053-620-0001</td>\n",
              "    </tr>\n",
              "  </tbody>\n",
              "</table>\n",
              "</div>"
            ],
            "text/plain": [
              "      store sido-gu                       address         phone\n",
              "140  대구이월드점  대구 달서구  대구광역시 달서구 두류공원로 200 (두류동) .   053-620-0001"
            ]
          },
          "metadata": {},
          "execution_count": 66
        }
      ]
    },
    {
      "cell_type": "code",
      "metadata": {
        "colab": {
          "base_uri": "https://localhost:8080/",
          "height": 1000
        },
        "id": "d8lD3GhiqtRd",
        "outputId": "f044c87f-94cc-4252-eee6-bee7184b473f"
      },
      "source": [
        "hollys_tbl[hollys_tbl['store'].str.contains('대구')]"
      ],
      "execution_count": null,
      "outputs": [
        {
          "output_type": "execute_result",
          "data": {
            "text/html": [
              "<div>\n",
              "<style scoped>\n",
              "    .dataframe tbody tr th:only-of-type {\n",
              "        vertical-align: middle;\n",
              "    }\n",
              "\n",
              "    .dataframe tbody tr th {\n",
              "        vertical-align: top;\n",
              "    }\n",
              "\n",
              "    .dataframe thead th {\n",
              "        text-align: right;\n",
              "    }\n",
              "</style>\n",
              "<table border=\"1\" class=\"dataframe\">\n",
              "  <thead>\n",
              "    <tr style=\"text-align: right;\">\n",
              "      <th></th>\n",
              "      <th>store</th>\n",
              "      <th>sido-gu</th>\n",
              "      <th>address</th>\n",
              "      <th>phone</th>\n",
              "    </tr>\n",
              "  </thead>\n",
              "  <tbody>\n",
              "    <tr>\n",
              "      <th>29</th>\n",
              "      <td>대구봉무공원점</td>\n",
              "      <td>대구 동구</td>\n",
              "      <td>대구광역시 동구 단산길 4 (봉무동) 1~2층</td>\n",
              "      <td>053-984-3001</td>\n",
              "    </tr>\n",
              "    <tr>\n",
              "      <th>47</th>\n",
              "      <td>대구수성네거리점</td>\n",
              "      <td>대구 수성구</td>\n",
              "      <td>대구광역시 수성구 들안로 326 1,2층 수성동3가 254-2</td>\n",
              "      <td>053-743-8700</td>\n",
              "    </tr>\n",
              "    <tr>\n",
              "      <th>67</th>\n",
              "      <td>대구세천점</td>\n",
              "      <td>대구 달성군</td>\n",
              "      <td>대구광역시 달성군 다사읍 세천로 141 세천리 1581-6</td>\n",
              "      <td>053-581-6758</td>\n",
              "    </tr>\n",
              "    <tr>\n",
              "      <th>105</th>\n",
              "      <td>대구상인점</td>\n",
              "      <td>대구 달서구</td>\n",
              "      <td>대구광역시 달서구 상화북로 194 (상인동) 2층</td>\n",
              "      <td>053-641-9522</td>\n",
              "    </tr>\n",
              "    <tr>\n",
              "      <th>140</th>\n",
              "      <td>대구이월드점</td>\n",
              "      <td>대구 달서구</td>\n",
              "      <td>대구광역시 달서구 두류공원로 200 (두류동) .</td>\n",
              "      <td>053-620-0001</td>\n",
              "    </tr>\n",
              "    <tr>\n",
              "      <th>142</th>\n",
              "      <td>대구범어천로점</td>\n",
              "      <td>대구 수성구</td>\n",
              "      <td>대구광역시 수성구 범어천로 200 (범어동, 범어월드메르디앙웨스턴카운티) 102호,...</td>\n",
              "      <td>053-759-5779</td>\n",
              "    </tr>\n",
              "    <tr>\n",
              "      <th>163</th>\n",
              "      <td>대구성서점</td>\n",
              "      <td>대구 달서구</td>\n",
              "      <td>대구광역시 달서구 성서로 419, 국민연금대구사옥 1층 (이곡동 1198-5) 할리스</td>\n",
              "      <td>053-584-5702</td>\n",
              "    </tr>\n",
              "    <tr>\n",
              "      <th>182</th>\n",
              "      <td>대구관음점</td>\n",
              "      <td>대구 북구</td>\n",
              "      <td>대구광역시 북구 구암로 59 비전스퀘어 1,2층 .</td>\n",
              "      <td>053-324-6122</td>\n",
              "    </tr>\n",
              "    <tr>\n",
              "      <th>214</th>\n",
              "      <td>대구수성못점</td>\n",
              "      <td>대구 수성구</td>\n",
              "      <td>대구광역시 수성구 용학로 115 (두산동) .</td>\n",
              "      <td>053-761-5655</td>\n",
              "    </tr>\n",
              "    <tr>\n",
              "      <th>218</th>\n",
              "      <td>동대구역사점</td>\n",
              "      <td>대구 동구</td>\n",
              "      <td>대구광역시 동구 동대구로 550 (동대구역 내 1층)</td>\n",
              "      <td>053-942-1033</td>\n",
              "    </tr>\n",
              "    <tr>\n",
              "      <th>236</th>\n",
              "      <td>대구침산네거리점</td>\n",
              "      <td>대구 북구</td>\n",
              "      <td>대구광역시 북구 침산남로 157 (침산동) .</td>\n",
              "      <td>053-353-5544</td>\n",
              "    </tr>\n",
              "    <tr>\n",
              "      <th>237</th>\n",
              "      <td>대구반야월점</td>\n",
              "      <td>대구 동구</td>\n",
              "      <td>대구광역시 동구 안심로 255 .</td>\n",
              "      <td>053-961-7007</td>\n",
              "    </tr>\n",
              "    <tr>\n",
              "      <th>248</th>\n",
              "      <td>대구현풍테크노점</td>\n",
              "      <td>대구 달성군</td>\n",
              "      <td>대구시 달성군 유가읍 테크노공원로 65 .</td>\n",
              "      <td>053-267-3338</td>\n",
              "    </tr>\n",
              "    <tr>\n",
              "      <th>270</th>\n",
              "      <td>대구침산점</td>\n",
              "      <td>대구 북구</td>\n",
              "      <td>대구 북구 성북로 36,2층 601,602,603,604 473-3, 침산초등학교 맞은편</td>\n",
              "      <td>053-353-5412</td>\n",
              "    </tr>\n",
              "    <tr>\n",
              "      <th>271</th>\n",
              "      <td>대구안심점</td>\n",
              "      <td>대구 동구</td>\n",
              "      <td>대구시 동구 안심로 90길29 .</td>\n",
              "      <td>053)552-2220</td>\n",
              "    </tr>\n",
              "    <tr>\n",
              "      <th>275</th>\n",
              "      <td>대구동성로점</td>\n",
              "      <td>대구 중구</td>\n",
              "      <td>대구광역시 중구 동성로6길 32, B1~2층 (공평동 52-2) 할리스</td>\n",
              "      <td>053-252-6307</td>\n",
              "    </tr>\n",
              "    <tr>\n",
              "      <th>283</th>\n",
              "      <td>동대구환승센터점</td>\n",
              "      <td>대구 동구</td>\n",
              "      <td>대구광역시 동구 동부로 149 (신천동, 신세계동대구복합환승센터) 3층</td>\n",
              "      <td>053-742-0614</td>\n",
              "    </tr>\n",
              "    <tr>\n",
              "      <th>306</th>\n",
              "      <td>대구디아크점</td>\n",
              "      <td>대구 달성군</td>\n",
              "      <td>대구광역시 달성군 다사읍 강정본길 57, 3층 .</td>\n",
              "      <td>053-591-2209</td>\n",
              "    </tr>\n",
              "    <tr>\n",
              "      <th>326</th>\n",
              "      <td>대구팔달교DT점</td>\n",
              "      <td>대구 서구</td>\n",
              "      <td>대구광역시 서구 팔달로 34 .</td>\n",
              "      <td>053-341-9595</td>\n",
              "    </tr>\n",
              "    <tr>\n",
              "      <th>347</th>\n",
              "      <td>대구본리점</td>\n",
              "      <td>대구 달서구</td>\n",
              "      <td>대구광역시 달서구 장기로 203 (본리동 62-16) .</td>\n",
              "      <td>053-553-3002</td>\n",
              "    </tr>\n",
              "    <tr>\n",
              "      <th>388</th>\n",
              "      <td>대구장기점</td>\n",
              "      <td>대구 달서구</td>\n",
              "      <td>대구광역시 달서구 장기로 268 .</td>\n",
              "      <td>053-522-0666</td>\n",
              "    </tr>\n",
              "    <tr>\n",
              "      <th>394</th>\n",
              "      <td>대구동천점</td>\n",
              "      <td>대구 북구</td>\n",
              "      <td>대구광역시 북구 동천로 125 (동천동) .</td>\n",
              "      <td>053-321-0099</td>\n",
              "    </tr>\n",
              "    <tr>\n",
              "      <th>403</th>\n",
              "      <td>대구범어점</td>\n",
              "      <td>대구 수성구</td>\n",
              "      <td>대구광역시 수성구 범어천로 44 (범어동) .</td>\n",
              "      <td>053-761-2187</td>\n",
              "    </tr>\n",
              "  </tbody>\n",
              "</table>\n",
              "</div>"
            ],
            "text/plain": [
              "        store  ...         phone\n",
              "29    대구봉무공원점  ...  053-984-3001\n",
              "47   대구수성네거리점  ...  053-743-8700\n",
              "67      대구세천점  ...  053-581-6758\n",
              "105     대구상인점  ...  053-641-9522\n",
              "140    대구이월드점  ...  053-620-0001\n",
              "142   대구범어천로점  ...  053-759-5779\n",
              "163     대구성서점  ...  053-584-5702\n",
              "182     대구관음점  ...  053-324-6122\n",
              "214    대구수성못점  ...  053-761-5655\n",
              "218    동대구역사점  ...  053-942-1033\n",
              "236  대구침산네거리점  ...  053-353-5544\n",
              "237    대구반야월점  ...  053-961-7007\n",
              "248  대구현풍테크노점  ...  053-267-3338\n",
              "270     대구침산점  ...  053-353-5412\n",
              "271     대구안심점  ...  053)552-2220\n",
              "275    대구동성로점  ...  053-252-6307\n",
              "283  동대구환승센터점  ...  053-742-0614\n",
              "306    대구디아크점  ...  053-591-2209\n",
              "326  대구팔달교DT점  ...  053-341-9595\n",
              "347     대구본리점  ...  053-553-3002\n",
              "388     대구장기점  ...  053-522-0666\n",
              "394     대구동천점  ...  053-321-0099\n",
              "403     대구범어점  ...  053-761-2187\n",
              "\n",
              "[23 rows x 4 columns]"
            ]
          },
          "metadata": {},
          "execution_count": 67
        }
      ]
    },
    {
      "cell_type": "code",
      "metadata": {
        "id": "ibaaVesjrHcj"
      },
      "source": [
        ""
      ],
      "execution_count": null,
      "outputs": []
    }
  ]
}