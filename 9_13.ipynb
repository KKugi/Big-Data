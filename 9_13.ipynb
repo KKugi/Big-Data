{
  "nbformat": 4,
  "nbformat_minor": 0,
  "metadata": {
    "colab": {
      "name": "9_13.ipynb",
      "provenance": [],
      "collapsed_sections": [],
      "authorship_tag": "ABX9TyMcnwTnSUdA4Uzvoq9LTPY9",
      "include_colab_link": true
    },
    "kernelspec": {
      "name": "python3",
      "display_name": "Python 3"
    },
    "language_info": {
      "name": "python"
    }
  },
  "cells": [
    {
      "cell_type": "markdown",
      "metadata": {
        "id": "view-in-github",
        "colab_type": "text"
      },
      "source": [
        "<a href=\"https://colab.research.google.com/github/KKugi/Big-Data/blob/main/9_13.ipynb\" target=\"_parent\"><img src=\"https://colab.research.google.com/assets/colab-badge.svg\" alt=\"Open In Colab\"/></a>"
      ]
    },
    {
      "cell_type": "markdown",
      "metadata": {
        "id": "gunRtb28vjrP"
      },
      "source": [
        "### 파이썬 기초"
      ]
    },
    {
      "cell_type": "code",
      "metadata": {
        "colab": {
          "base_uri": "https://localhost:8080/"
        },
        "id": "J8iCaucjumra",
        "outputId": "c9c4902d-70dc-4ac4-dc17-66e3680d4960"
      },
      "source": [
        "print(\"Hello Python!\")"
      ],
      "execution_count": null,
      "outputs": [
        {
          "output_type": "stream",
          "name": "stdout",
          "text": [
            "Hello Python!\n"
          ]
        }
      ]
    },
    {
      "cell_type": "code",
      "metadata": {
        "id": "QGG0v946wUa4"
      },
      "source": [
        "a = 123"
      ],
      "execution_count": null,
      "outputs": []
    },
    {
      "cell_type": "code",
      "metadata": {
        "id": "0JWT-ZEuxPqp"
      },
      "source": [
        "a = 12.34"
      ],
      "execution_count": null,
      "outputs": []
    },
    {
      "cell_type": "code",
      "metadata": {
        "id": "imbO9wNixRSQ"
      },
      "source": [
        "a = 1+2j"
      ],
      "execution_count": null,
      "outputs": []
    },
    {
      "cell_type": "code",
      "metadata": {
        "colab": {
          "base_uri": "https://localhost:8080/"
        },
        "id": "ePdsu1rHxTNs",
        "outputId": "2ba0fee1-7a9b-45d3-c926-f4368cc5fa1d"
      },
      "source": [
        "print(a)"
      ],
      "execution_count": null,
      "outputs": [
        {
          "output_type": "stream",
          "name": "stdout",
          "text": [
            "(1+2j)\n"
          ]
        }
      ]
    },
    {
      "cell_type": "code",
      "metadata": {
        "colab": {
          "base_uri": "https://localhost:8080/"
        },
        "id": "D_dWFv3JxUOZ",
        "outputId": "9f39eb4c-5fc7-4c8b-bf56-c80f055ee29a"
      },
      "source": [
        "a.real # 복소수의 실수형"
      ],
      "execution_count": null,
      "outputs": [
        {
          "output_type": "execute_result",
          "data": {
            "text/plain": [
              "1.0"
            ]
          },
          "metadata": {},
          "execution_count": 559
        }
      ]
    },
    {
      "cell_type": "code",
      "metadata": {
        "colab": {
          "base_uri": "https://localhost:8080/"
        },
        "id": "n3-t2wHBxVUV",
        "outputId": "2946cc72-5f9e-4b7b-918e-346d05877757"
      },
      "source": [
        "a.imag # 복소수의 허수"
      ],
      "execution_count": null,
      "outputs": [
        {
          "output_type": "execute_result",
          "data": {
            "text/plain": [
              "2.0"
            ]
          },
          "metadata": {},
          "execution_count": 560
        }
      ]
    },
    {
      "cell_type": "code",
      "metadata": {
        "colab": {
          "base_uri": "https://localhost:8080/"
        },
        "id": "w6UwWMLzxWwK",
        "outputId": "ea841f5c-7c17-4746-ce54-9f7231a75f2d"
      },
      "source": [
        "a.conjugate() # 복소수의 켤레 복소수"
      ],
      "execution_count": null,
      "outputs": [
        {
          "output_type": "execute_result",
          "data": {
            "text/plain": [
              "(1-2j)"
            ]
          },
          "metadata": {},
          "execution_count": 561
        }
      ]
    },
    {
      "cell_type": "code",
      "metadata": {
        "colab": {
          "base_uri": "https://localhost:8080/"
        },
        "id": "HFUepD5VxaPn",
        "outputId": "4ea91792-a57d-40d9-d70b-e8209bcb852c"
      },
      "source": [
        "a = -25\n",
        "abs(a) # 절대값"
      ],
      "execution_count": null,
      "outputs": [
        {
          "output_type": "execute_result",
          "data": {
            "text/plain": [
              "25"
            ]
          },
          "metadata": {},
          "execution_count": 562
        }
      ]
    },
    {
      "cell_type": "code",
      "metadata": {
        "id": "d7GSg1sxxf3W"
      },
      "source": [
        "a = 0o12 # 8진수 -> 10진수"
      ],
      "execution_count": null,
      "outputs": []
    },
    {
      "cell_type": "code",
      "metadata": {
        "colab": {
          "base_uri": "https://localhost:8080/"
        },
        "id": "z6DMZ9HTxqwP",
        "outputId": "7ddb0749-6fac-402d-8c18-3eb870379db3"
      },
      "source": [
        "a"
      ],
      "execution_count": null,
      "outputs": [
        {
          "output_type": "execute_result",
          "data": {
            "text/plain": [
              "10"
            ]
          },
          "metadata": {},
          "execution_count": 564
        }
      ]
    },
    {
      "cell_type": "code",
      "metadata": {
        "id": "YH_dwESZxvFa"
      },
      "source": [
        "a = 0x12A # 16진수 -> 10진수"
      ],
      "execution_count": null,
      "outputs": []
    },
    {
      "cell_type": "code",
      "metadata": {
        "colab": {
          "base_uri": "https://localhost:8080/"
        },
        "id": "I3Ti3G0RytnX",
        "outputId": "efb2361d-0225-48f6-9073-47825366294a"
      },
      "source": [
        "a"
      ],
      "execution_count": null,
      "outputs": [
        {
          "output_type": "execute_result",
          "data": {
            "text/plain": [
              "298"
            ]
          },
          "metadata": {},
          "execution_count": 566
        }
      ]
    },
    {
      "cell_type": "code",
      "metadata": {
        "id": "jfUR35u_yuKF"
      },
      "source": [
        "b = True"
      ],
      "execution_count": null,
      "outputs": []
    },
    {
      "cell_type": "code",
      "metadata": {
        "colab": {
          "base_uri": "https://localhost:8080/"
        },
        "id": "XWEOPS9DzAVN",
        "outputId": "8fb4302a-1de1-4259-ad1f-8a4680d11bfe"
      },
      "source": [
        "b"
      ],
      "execution_count": null,
      "outputs": [
        {
          "output_type": "execute_result",
          "data": {
            "text/plain": [
              "True"
            ]
          },
          "metadata": {},
          "execution_count": 568
        }
      ]
    },
    {
      "cell_type": "code",
      "metadata": {
        "colab": {
          "base_uri": "https://localhost:8080/"
        },
        "id": "m0w5IMfWzA_c",
        "outputId": "56fef9b1-9886-416f-9f72-edd8d13405fa"
      },
      "source": [
        "b = False\n",
        "b"
      ],
      "execution_count": null,
      "outputs": [
        {
          "output_type": "execute_result",
          "data": {
            "text/plain": [
              "False"
            ]
          },
          "metadata": {},
          "execution_count": 569
        }
      ]
    },
    {
      "cell_type": "markdown",
      "metadata": {
        "id": "EYBVVP8_zKyr"
      },
      "source": [
        "#### 연산자"
      ]
    },
    {
      "cell_type": "code",
      "metadata": {
        "colab": {
          "base_uri": "https://localhost:8080/"
        },
        "id": "yIu95huCzEwN",
        "outputId": "078d2067-0e80-4890-de0b-b129bdeff49a"
      },
      "source": [
        "a = 3\n",
        "b = 4\n",
        "a + b"
      ],
      "execution_count": null,
      "outputs": [
        {
          "output_type": "execute_result",
          "data": {
            "text/plain": [
              "7"
            ]
          },
          "metadata": {},
          "execution_count": 570
        }
      ]
    },
    {
      "cell_type": "code",
      "metadata": {
        "colab": {
          "base_uri": "https://localhost:8080/"
        },
        "id": "TQgSbTSxzRjO",
        "outputId": "2fb3191a-e7b2-4eeb-d404-59e2bfd00bc9"
      },
      "source": [
        "print(a - b) # 뺄셈\n",
        "print(a * b) # 곱셈\n",
        "print(a / b) # 실수 나눗셈\n",
        "print(a // b) # 몫\n",
        "print(a % b) # 나머지\n",
        "print(a ** b) # 제곱"
      ],
      "execution_count": null,
      "outputs": [
        {
          "output_type": "stream",
          "name": "stdout",
          "text": [
            "-1\n",
            "12\n",
            "0.75\n",
            "0\n",
            "3\n",
            "81\n"
          ]
        }
      ]
    },
    {
      "cell_type": "markdown",
      "metadata": {
        "id": "S8N4PPsy0pXP"
      },
      "source": [
        "#### 문자열 자료형"
      ]
    },
    {
      "cell_type": "code",
      "metadata": {
        "colab": {
          "base_uri": "https://localhost:8080/",
          "height": 35
        },
        "id": "hnBZH1hkzaHr",
        "outputId": "677889ea-f1df-4ccf-9432-cc33e58b30fc"
      },
      "source": [
        "s1 = 'Hello Python'\n",
        "s1"
      ],
      "execution_count": null,
      "outputs": [
        {
          "output_type": "execute_result",
          "data": {
            "application/vnd.google.colaboratory.intrinsic+json": {
              "type": "string"
            },
            "text/plain": [
              "'Hello Python'"
            ]
          },
          "metadata": {},
          "execution_count": 572
        }
      ]
    },
    {
      "cell_type": "code",
      "metadata": {
        "colab": {
          "base_uri": "https://localhost:8080/",
          "height": 35
        },
        "id": "v4ZyMOoh0vcd",
        "outputId": "71ae2b10-8cf0-40cb-88f5-9fcaf7a369af"
      },
      "source": [
        "s2 = \"Hello Python\"\n",
        "s2"
      ],
      "execution_count": null,
      "outputs": [
        {
          "output_type": "execute_result",
          "data": {
            "application/vnd.google.colaboratory.intrinsic+json": {
              "type": "string"
            },
            "text/plain": [
              "'Hello Python'"
            ]
          },
          "metadata": {},
          "execution_count": 573
        }
      ]
    },
    {
      "cell_type": "code",
      "metadata": {
        "colab": {
          "base_uri": "https://localhost:8080/",
          "height": 35
        },
        "id": "X_CxrcUn0zvL",
        "outputId": "1a92871b-de28-45ea-e305-a6433d81f2ea"
      },
      "source": [
        "s3 = '''Hello Python'''\n",
        "s3"
      ],
      "execution_count": null,
      "outputs": [
        {
          "output_type": "execute_result",
          "data": {
            "application/vnd.google.colaboratory.intrinsic+json": {
              "type": "string"
            },
            "text/plain": [
              "'Hello Python'"
            ]
          },
          "metadata": {},
          "execution_count": 574
        }
      ]
    },
    {
      "cell_type": "code",
      "metadata": {
        "colab": {
          "base_uri": "https://localhost:8080/",
          "height": 35
        },
        "id": "-ebnZdni1Pyt",
        "outputId": "113985c0-3e27-4717-90bd-bc64cf44e423"
      },
      "source": [
        "s3_1 = \"Hello 'hong gil dong'\"\n",
        "s3_1"
      ],
      "execution_count": null,
      "outputs": [
        {
          "output_type": "execute_result",
          "data": {
            "application/vnd.google.colaboratory.intrinsic+json": {
              "type": "string"
            },
            "text/plain": [
              "\"Hello 'hong gil dong'\""
            ]
          },
          "metadata": {},
          "execution_count": 575
        }
      ]
    },
    {
      "cell_type": "code",
      "metadata": {
        "colab": {
          "base_uri": "https://localhost:8080/",
          "height": 35
        },
        "id": "jOFrL7Q404og",
        "outputId": "45ef499b-23ad-4dba-9c43-6d16964078a5"
      },
      "source": [
        "s4 = \"\"\"Hello Python\"\"\"\n",
        "s4"
      ],
      "execution_count": null,
      "outputs": [
        {
          "output_type": "execute_result",
          "data": {
            "application/vnd.google.colaboratory.intrinsic+json": {
              "type": "string"
            },
            "text/plain": [
              "'Hello Python'"
            ]
          },
          "metadata": {},
          "execution_count": 576
        }
      ]
    },
    {
      "cell_type": "code",
      "metadata": {
        "id": "Hgmncr8108KC"
      },
      "source": [
        "head = \"Python\""
      ],
      "execution_count": null,
      "outputs": []
    },
    {
      "cell_type": "code",
      "metadata": {
        "id": "lZNRCLj41DOr"
      },
      "source": [
        "tail = \" is fun\""
      ],
      "execution_count": null,
      "outputs": []
    },
    {
      "cell_type": "code",
      "metadata": {
        "colab": {
          "base_uri": "https://localhost:8080/",
          "height": 35
        },
        "id": "MFKbbtzB1GE0",
        "outputId": "089b0bdb-2f1c-40bd-d7f5-0b5eacd5ac91"
      },
      "source": [
        "head + tail"
      ],
      "execution_count": null,
      "outputs": [
        {
          "output_type": "execute_result",
          "data": {
            "application/vnd.google.colaboratory.intrinsic+json": {
              "type": "string"
            },
            "text/plain": [
              "'Python is fun'"
            ]
          },
          "metadata": {},
          "execution_count": 579
        }
      ]
    },
    {
      "cell_type": "code",
      "metadata": {
        "colab": {
          "base_uri": "https://localhost:8080/",
          "height": 35
        },
        "id": "ZT3TyoZo1HO8",
        "outputId": "5753fd02-a016-445e-fd47-3c2409b18235"
      },
      "source": [
        "head * 2\n"
      ],
      "execution_count": null,
      "outputs": [
        {
          "output_type": "execute_result",
          "data": {
            "application/vnd.google.colaboratory.intrinsic+json": {
              "type": "string"
            },
            "text/plain": [
              "'PythonPython'"
            ]
          },
          "metadata": {},
          "execution_count": 580
        }
      ]
    },
    {
      "cell_type": "code",
      "metadata": {
        "colab": {
          "base_uri": "https://localhost:8080/"
        },
        "id": "-Y3Ly0Xf1mqR",
        "outputId": "75290c43-ccef-4595-e307-be51fd879658"
      },
      "source": [
        "print(\"=\" * 10)"
      ],
      "execution_count": null,
      "outputs": [
        {
          "output_type": "stream",
          "name": "stdout",
          "text": [
            "==========\n"
          ]
        }
      ]
    },
    {
      "cell_type": "code",
      "metadata": {
        "colab": {
          "base_uri": "https://localhost:8080/"
        },
        "id": "AbsclaVd1svP",
        "outputId": "e5ff2602-d0c3-4e9c-fec6-ab0f9e3d7e98"
      },
      "source": [
        "a = \"Now is better than never\"\n",
        "print(a)"
      ],
      "execution_count": null,
      "outputs": [
        {
          "output_type": "stream",
          "name": "stdout",
          "text": [
            "Now is better than never\n"
          ]
        }
      ]
    },
    {
      "cell_type": "code",
      "metadata": {
        "colab": {
          "base_uri": "https://localhost:8080/",
          "height": 35
        },
        "id": "rUSikh161_Kb",
        "outputId": "7d164a20-976f-42dd-f356-35e136b736da"
      },
      "source": [
        "a[0]"
      ],
      "execution_count": null,
      "outputs": [
        {
          "output_type": "execute_result",
          "data": {
            "application/vnd.google.colaboratory.intrinsic+json": {
              "type": "string"
            },
            "text/plain": [
              "'N'"
            ]
          },
          "metadata": {},
          "execution_count": 583
        }
      ]
    },
    {
      "cell_type": "code",
      "metadata": {
        "colab": {
          "base_uri": "https://localhost:8080/",
          "height": 35
        },
        "id": "CRC68J3m2MXM",
        "outputId": "2bbf59c9-82c0-47b8-c193-52ffca508b3d"
      },
      "source": [
        "a[4]"
      ],
      "execution_count": null,
      "outputs": [
        {
          "output_type": "execute_result",
          "data": {
            "application/vnd.google.colaboratory.intrinsic+json": {
              "type": "string"
            },
            "text/plain": [
              "'i'"
            ]
          },
          "metadata": {},
          "execution_count": 584
        }
      ]
    },
    {
      "cell_type": "code",
      "metadata": {
        "colab": {
          "base_uri": "https://localhost:8080/",
          "height": 35
        },
        "id": "jg5j_Jcc2NnW",
        "outputId": "91956d2a-e182-426a-c129-96b221847efe"
      },
      "source": [
        "a[::]"
      ],
      "execution_count": null,
      "outputs": [
        {
          "output_type": "execute_result",
          "data": {
            "application/vnd.google.colaboratory.intrinsic+json": {
              "type": "string"
            },
            "text/plain": [
              "'Now is better than never'"
            ]
          },
          "metadata": {},
          "execution_count": 585
        }
      ]
    },
    {
      "cell_type": "code",
      "metadata": {
        "colab": {
          "base_uri": "https://localhost:8080/",
          "height": 35
        },
        "id": "feWkHvDs2Oyl",
        "outputId": "5687566d-1c14-4415-e40a-dd5837b84474"
      },
      "source": [
        "a[5]"
      ],
      "execution_count": null,
      "outputs": [
        {
          "output_type": "execute_result",
          "data": {
            "application/vnd.google.colaboratory.intrinsic+json": {
              "type": "string"
            },
            "text/plain": [
              "'s'"
            ]
          },
          "metadata": {},
          "execution_count": 586
        }
      ]
    },
    {
      "cell_type": "code",
      "metadata": {
        "colab": {
          "base_uri": "https://localhost:8080/",
          "height": 35
        },
        "id": "yKgnc_N82Qsa",
        "outputId": "7758e969-ec4b-47a9-c0c6-9e9af71b3e63"
      },
      "source": [
        "a[2:3]"
      ],
      "execution_count": null,
      "outputs": [
        {
          "output_type": "execute_result",
          "data": {
            "application/vnd.google.colaboratory.intrinsic+json": {
              "type": "string"
            },
            "text/plain": [
              "'w'"
            ]
          },
          "metadata": {},
          "execution_count": 587
        }
      ]
    },
    {
      "cell_type": "code",
      "metadata": {
        "colab": {
          "base_uri": "https://localhost:8080/",
          "height": 35
        },
        "id": "srGh3zdh2Se6",
        "outputId": "fd06aca7-f61b-495f-d6c5-9040b669551c"
      },
      "source": [
        "a[2::]"
      ],
      "execution_count": null,
      "outputs": [
        {
          "output_type": "execute_result",
          "data": {
            "application/vnd.google.colaboratory.intrinsic+json": {
              "type": "string"
            },
            "text/plain": [
              "'w is better than never'"
            ]
          },
          "metadata": {},
          "execution_count": 588
        }
      ]
    },
    {
      "cell_type": "code",
      "metadata": {
        "colab": {
          "base_uri": "https://localhost:8080/",
          "height": 35
        },
        "id": "pkCQBLgm2T4H",
        "outputId": "aab47c65-3f54-4e7c-8996-dea6dbb69bd2"
      },
      "source": [
        "a[2:4:6]"
      ],
      "execution_count": null,
      "outputs": [
        {
          "output_type": "execute_result",
          "data": {
            "application/vnd.google.colaboratory.intrinsic+json": {
              "type": "string"
            },
            "text/plain": [
              "'w'"
            ]
          },
          "metadata": {},
          "execution_count": 589
        }
      ]
    },
    {
      "cell_type": "code",
      "metadata": {
        "colab": {
          "base_uri": "https://localhost:8080/",
          "height": 35
        },
        "id": "qw3F8diz2YXC",
        "outputId": "e273c413-59ab-4a85-9ef4-44a7608a42d4"
      },
      "source": [
        "a[2::6]"
      ],
      "execution_count": null,
      "outputs": [
        {
          "output_type": "execute_result",
          "data": {
            "application/vnd.google.colaboratory.intrinsic+json": {
              "type": "string"
            },
            "text/plain": [
              "'wete'"
            ]
          },
          "metadata": {},
          "execution_count": 590
        }
      ]
    },
    {
      "cell_type": "code",
      "metadata": {
        "colab": {
          "base_uri": "https://localhost:8080/",
          "height": 35
        },
        "id": "6mpUWr6D2aiR",
        "outputId": "227a4b24-c8a3-4615-b265-065a8ab451c1"
      },
      "source": [
        "a[-1]"
      ],
      "execution_count": null,
      "outputs": [
        {
          "output_type": "execute_result",
          "data": {
            "application/vnd.google.colaboratory.intrinsic+json": {
              "type": "string"
            },
            "text/plain": [
              "'r'"
            ]
          },
          "metadata": {},
          "execution_count": 591
        }
      ]
    },
    {
      "cell_type": "code",
      "metadata": {
        "colab": {
          "base_uri": "https://localhost:8080/",
          "height": 35
        },
        "id": "4D5fuxiG2f3T",
        "outputId": "c0771928-9efc-4548-a764-d3501b45ed59"
      },
      "source": [
        "a[-1::]"
      ],
      "execution_count": null,
      "outputs": [
        {
          "output_type": "execute_result",
          "data": {
            "application/vnd.google.colaboratory.intrinsic+json": {
              "type": "string"
            },
            "text/plain": [
              "'r'"
            ]
          },
          "metadata": {},
          "execution_count": 592
        }
      ]
    },
    {
      "cell_type": "code",
      "metadata": {
        "colab": {
          "base_uri": "https://localhost:8080/",
          "height": 35
        },
        "id": "tARZLxL12l0b",
        "outputId": "9b862dda-6440-4376-fe30-fe4c40626da0"
      },
      "source": [
        "a[::-1]"
      ],
      "execution_count": null,
      "outputs": [
        {
          "output_type": "execute_result",
          "data": {
            "application/vnd.google.colaboratory.intrinsic+json": {
              "type": "string"
            },
            "text/plain": [
              "'reven naht retteb si woN'"
            ]
          },
          "metadata": {},
          "execution_count": 593
        }
      ]
    },
    {
      "cell_type": "code",
      "metadata": {
        "colab": {
          "base_uri": "https://localhost:8080/",
          "height": 35
        },
        "id": "fYQvRQWX2n4M",
        "outputId": "a1a78ceb-374c-472d-d33a-7af8b0d9fd7c"
      },
      "source": [
        "b = a[0:3]\n",
        "b"
      ],
      "execution_count": null,
      "outputs": [
        {
          "output_type": "execute_result",
          "data": {
            "application/vnd.google.colaboratory.intrinsic+json": {
              "type": "string"
            },
            "text/plain": [
              "'Now'"
            ]
          },
          "metadata": {},
          "execution_count": 594
        }
      ]
    },
    {
      "cell_type": "code",
      "metadata": {
        "colab": {
          "base_uri": "https://localhost:8080/",
          "height": 35
        },
        "id": "Bnx2AwKp20zR",
        "outputId": "a679dcac-9dc5-43b3-adcd-4ae80565609e"
      },
      "source": [
        "c = a[7:13]\n",
        "c"
      ],
      "execution_count": null,
      "outputs": [
        {
          "output_type": "execute_result",
          "data": {
            "application/vnd.google.colaboratory.intrinsic+json": {
              "type": "string"
            },
            "text/plain": [
              "'better'"
            ]
          },
          "metadata": {},
          "execution_count": 595
        }
      ]
    },
    {
      "cell_type": "code",
      "metadata": {
        "colab": {
          "base_uri": "https://localhost:8080/",
          "height": 35
        },
        "id": "PDsjbddl25Mm",
        "outputId": "91c83d99-30e0-46f0-d098-a27458f51ca2"
      },
      "source": [
        "a[7:-11]\n",
        "a"
      ],
      "execution_count": null,
      "outputs": [
        {
          "output_type": "execute_result",
          "data": {
            "application/vnd.google.colaboratory.intrinsic+json": {
              "type": "string"
            },
            "text/plain": [
              "'Now is better than never'"
            ]
          },
          "metadata": {},
          "execution_count": 596
        }
      ]
    },
    {
      "cell_type": "code",
      "metadata": {
        "colab": {
          "base_uri": "https://localhost:8080/"
        },
        "id": "3FdmT3Ax3ksF",
        "outputId": "1c7c6ce6-e77c-4a68-8944-53a9a4ddb387"
      },
      "source": [
        "a.count('p')"
      ],
      "execution_count": null,
      "outputs": [
        {
          "output_type": "execute_result",
          "data": {
            "text/plain": [
              "0"
            ]
          },
          "metadata": {},
          "execution_count": 597
        }
      ]
    },
    {
      "cell_type": "code",
      "metadata": {
        "colab": {
          "base_uri": "https://localhost:8080/"
        },
        "id": "V1Huufwe3yUu",
        "outputId": "e61f365e-f8bf-46f5-c584-384f096e901e"
      },
      "source": [
        "a.count('t') # 찾는 문자의 개수"
      ],
      "execution_count": null,
      "outputs": [
        {
          "output_type": "execute_result",
          "data": {
            "text/plain": [
              "3"
            ]
          },
          "metadata": {},
          "execution_count": 598
        }
      ]
    },
    {
      "cell_type": "code",
      "metadata": {
        "colab": {
          "base_uri": "https://localhost:8080/"
        },
        "id": "qmPRsV2z32QB",
        "outputId": "998d808d-ab22-4305-a6ea-76093083b6da"
      },
      "source": [
        "a.find('n') # 찾는 문자의 인덱스 ## n이 17번 인덱스에 있다."
      ],
      "execution_count": null,
      "outputs": [
        {
          "output_type": "execute_result",
          "data": {
            "text/plain": [
              "17"
            ]
          },
          "metadata": {},
          "execution_count": 599
        }
      ]
    },
    {
      "cell_type": "code",
      "metadata": {
        "colab": {
          "base_uri": "https://localhost:8080/"
        },
        "id": "8_wibyhP4HhE",
        "outputId": "f9491110-796b-4951-bfa4-a531521ffad2"
      },
      "source": [
        "a.index('n') "
      ],
      "execution_count": null,
      "outputs": [
        {
          "output_type": "execute_result",
          "data": {
            "text/plain": [
              "17"
            ]
          },
          "metadata": {},
          "execution_count": 600
        }
      ]
    },
    {
      "cell_type": "code",
      "metadata": {
        "colab": {
          "base_uri": "https://localhost:8080/"
        },
        "id": "W7olR5Ei4RuH",
        "outputId": "d21393c8-7752-4175-d837-28cca918062c"
      },
      "source": [
        "b = '-'\n",
        "c = b.join('abcd')\n",
        "print(c)"
      ],
      "execution_count": null,
      "outputs": [
        {
          "output_type": "stream",
          "name": "stdout",
          "text": [
            "a-b-c-d\n"
          ]
        }
      ]
    },
    {
      "cell_type": "code",
      "metadata": {
        "colab": {
          "base_uri": "https://localhost:8080/",
          "height": 35
        },
        "id": "YHw0yqR24v7n",
        "outputId": "0fb142c0-711b-4100-980e-3909f80d32e8"
      },
      "source": [
        "a.upper() # 대문자로 변경"
      ],
      "execution_count": null,
      "outputs": [
        {
          "output_type": "execute_result",
          "data": {
            "application/vnd.google.colaboratory.intrinsic+json": {
              "type": "string"
            },
            "text/plain": [
              "'NOW IS BETTER THAN NEVER'"
            ]
          },
          "metadata": {},
          "execution_count": 602
        }
      ]
    },
    {
      "cell_type": "code",
      "metadata": {
        "colab": {
          "base_uri": "https://localhost:8080/",
          "height": 35
        },
        "id": "k8VjHCCY49fV",
        "outputId": "3f5d864e-b85d-4893-cfc8-41f6535f032e"
      },
      "source": [
        "a.lower()"
      ],
      "execution_count": null,
      "outputs": [
        {
          "output_type": "execute_result",
          "data": {
            "application/vnd.google.colaboratory.intrinsic+json": {
              "type": "string"
            },
            "text/plain": [
              "'now is better than never'"
            ]
          },
          "metadata": {},
          "execution_count": 603
        }
      ]
    },
    {
      "cell_type": "code",
      "metadata": {
        "colab": {
          "base_uri": "https://localhost:8080/",
          "height": 35
        },
        "id": "q6PdKeeI5An0",
        "outputId": "c5e02504-a133-43e3-a7ce-32380aead4ed"
      },
      "source": [
        "d = '      Python      '\n",
        "d.lstrip() # 왼쪽 공백을 삭제"
      ],
      "execution_count": null,
      "outputs": [
        {
          "output_type": "execute_result",
          "data": {
            "application/vnd.google.colaboratory.intrinsic+json": {
              "type": "string"
            },
            "text/plain": [
              "'Python      '"
            ]
          },
          "metadata": {},
          "execution_count": 604
        }
      ]
    },
    {
      "cell_type": "code",
      "metadata": {
        "colab": {
          "base_uri": "https://localhost:8080/",
          "height": 35
        },
        "id": "-LwlE8DU5LFK",
        "outputId": "b610572e-c69d-48f3-ed69-c2ad7f5e5dce"
      },
      "source": [
        "d = '      Python      '\n",
        "d.rstrip() # 오른쪽 공백을 삭제"
      ],
      "execution_count": null,
      "outputs": [
        {
          "output_type": "execute_result",
          "data": {
            "application/vnd.google.colaboratory.intrinsic+json": {
              "type": "string"
            },
            "text/plain": [
              "'      Python'"
            ]
          },
          "metadata": {},
          "execution_count": 605
        }
      ]
    },
    {
      "cell_type": "code",
      "metadata": {
        "colab": {
          "base_uri": "https://localhost:8080/",
          "height": 35
        },
        "id": "Aqc9h0rn5dPG",
        "outputId": "43027874-86a8-4c92-c8a4-1785f3509be1"
      },
      "source": [
        "d = '      Python      '\n",
        "d.strip() # 모든 공백을 삭제"
      ],
      "execution_count": null,
      "outputs": [
        {
          "output_type": "execute_result",
          "data": {
            "application/vnd.google.colaboratory.intrinsic+json": {
              "type": "string"
            },
            "text/plain": [
              "'Python'"
            ]
          },
          "metadata": {},
          "execution_count": 606
        }
      ]
    },
    {
      "cell_type": "code",
      "metadata": {
        "colab": {
          "base_uri": "https://localhost:8080/",
          "height": 35
        },
        "id": "_HSoPYt55l1F",
        "outputId": "30fe5bf6-37d8-443d-d20e-719be4e51d3e"
      },
      "source": [
        "a = 'Pithon'\n",
        "a"
      ],
      "execution_count": null,
      "outputs": [
        {
          "output_type": "execute_result",
          "data": {
            "application/vnd.google.colaboratory.intrinsic+json": {
              "type": "string"
            },
            "text/plain": [
              "'Pithon'"
            ]
          },
          "metadata": {},
          "execution_count": 607
        }
      ]
    },
    {
      "cell_type": "code",
      "metadata": {
        "id": "PNYGPPXT52Tm"
      },
      "source": [
        "## a[1] = 'y' # 문자열의 요소는 수정 안됨"
      ],
      "execution_count": null,
      "outputs": []
    },
    {
      "cell_type": "code",
      "metadata": {
        "colab": {
          "base_uri": "https://localhost:8080/",
          "height": 35
        },
        "id": "Y94U-JLX56lp",
        "outputId": "b5876b2b-c1ce-4d60-923e-6a12d3ed9c16"
      },
      "source": [
        "a.replace('Pithon','Python')"
      ],
      "execution_count": null,
      "outputs": [
        {
          "output_type": "execute_result",
          "data": {
            "application/vnd.google.colaboratory.intrinsic+json": {
              "type": "string"
            },
            "text/plain": [
              "'Python'"
            ]
          },
          "metadata": {},
          "execution_count": 609
        }
      ]
    },
    {
      "cell_type": "code",
      "metadata": {
        "colab": {
          "base_uri": "https://localhost:8080/",
          "height": 35
        },
        "id": "pohDA_Qz6Gjw",
        "outputId": "d63eb248-2fe5-4ce6-94a3-913cc5f44468"
      },
      "source": [
        "c = '초등학교, 중학교, 고등학교, 대학교'\n",
        "c"
      ],
      "execution_count": null,
      "outputs": [
        {
          "output_type": "execute_result",
          "data": {
            "application/vnd.google.colaboratory.intrinsic+json": {
              "type": "string"
            },
            "text/plain": [
              "'초등학교, 중학교, 고등학교, 대학교'"
            ]
          },
          "metadata": {},
          "execution_count": 610
        }
      ]
    },
    {
      "cell_type": "code",
      "metadata": {
        "colab": {
          "base_uri": "https://localhost:8080/",
          "height": 35
        },
        "id": "feASCfUD6ad6",
        "outputId": "39a48bf1-b700-463e-b520-788432858efa"
      },
      "source": [
        "c[0]"
      ],
      "execution_count": null,
      "outputs": [
        {
          "output_type": "execute_result",
          "data": {
            "application/vnd.google.colaboratory.intrinsic+json": {
              "type": "string"
            },
            "text/plain": [
              "'초'"
            ]
          },
          "metadata": {},
          "execution_count": 611
        }
      ]
    },
    {
      "cell_type": "code",
      "metadata": {
        "colab": {
          "base_uri": "https://localhost:8080/"
        },
        "id": "HDNCd1GE6d1A",
        "outputId": "8b38305f-c623-4da9-bbe1-d29e486f93d2"
      },
      "source": [
        "d = c.split(',') # 콤마를 기준으로 분리\n",
        "d"
      ],
      "execution_count": null,
      "outputs": [
        {
          "output_type": "execute_result",
          "data": {
            "text/plain": [
              "['초등학교', ' 중학교', ' 고등학교', ' 대학교']"
            ]
          },
          "metadata": {},
          "execution_count": 612
        }
      ]
    },
    {
      "cell_type": "code",
      "metadata": {
        "colab": {
          "base_uri": "https://localhost:8080/",
          "height": 35
        },
        "id": "dUAJoe6I6qyI",
        "outputId": "41ed01f8-87b6-4695-88cc-a01df0b50822"
      },
      "source": [
        "d[0]"
      ],
      "execution_count": null,
      "outputs": [
        {
          "output_type": "execute_result",
          "data": {
            "application/vnd.google.colaboratory.intrinsic+json": {
              "type": "string"
            },
            "text/plain": [
              "'초등학교'"
            ]
          },
          "metadata": {},
          "execution_count": 613
        }
      ]
    },
    {
      "cell_type": "markdown",
      "metadata": {
        "id": "7XIfovuo7Qv1"
      },
      "source": [
        "### 리스트 자료형"
      ]
    },
    {
      "cell_type": "code",
      "metadata": {
        "id": "wHL3ZvmV6wEf"
      },
      "source": [
        "a = [1,2,3]\n",
        "b = ['Life', 'is', 'too', 'short']\n",
        "c = [1, 2, 'Life', 'is'] \n",
        "d = [1, 2, [3, 4], ['Life', 'is']]"
      ],
      "execution_count": null,
      "outputs": []
    },
    {
      "cell_type": "code",
      "metadata": {
        "colab": {
          "base_uri": "https://localhost:8080/"
        },
        "id": "Q8O_0bR97kyt",
        "outputId": "cd4d50c5-f432-4f60-bacf-17748c879dcc"
      },
      "source": [
        "d[0]"
      ],
      "execution_count": null,
      "outputs": [
        {
          "output_type": "execute_result",
          "data": {
            "text/plain": [
              "1"
            ]
          },
          "metadata": {},
          "execution_count": 615
        }
      ]
    },
    {
      "cell_type": "code",
      "metadata": {
        "colab": {
          "base_uri": "https://localhost:8080/"
        },
        "id": "IGKnoh0N7lyW",
        "outputId": "a861658f-1bc6-447e-aef2-5f0a454d6e05"
      },
      "source": [
        "d[2]"
      ],
      "execution_count": null,
      "outputs": [
        {
          "output_type": "execute_result",
          "data": {
            "text/plain": [
              "[3, 4]"
            ]
          },
          "metadata": {},
          "execution_count": 616
        }
      ]
    },
    {
      "cell_type": "code",
      "metadata": {
        "colab": {
          "base_uri": "https://localhost:8080/"
        },
        "id": "gj4k-TQB7nSE",
        "outputId": "b44f80c3-9e88-4fcf-f859-8799d4be134a"
      },
      "source": [
        "d[3]"
      ],
      "execution_count": null,
      "outputs": [
        {
          "output_type": "execute_result",
          "data": {
            "text/plain": [
              "['Life', 'is']"
            ]
          },
          "metadata": {},
          "execution_count": 617
        }
      ]
    },
    {
      "cell_type": "code",
      "metadata": {
        "colab": {
          "base_uri": "https://localhost:8080/",
          "height": 35
        },
        "id": "Sucjm0pD7x8l",
        "outputId": "bbde369a-4d1f-423f-d720-f6f307c3b519"
      },
      "source": [
        "d[3][-1]"
      ],
      "execution_count": null,
      "outputs": [
        {
          "output_type": "execute_result",
          "data": {
            "application/vnd.google.colaboratory.intrinsic+json": {
              "type": "string"
            },
            "text/plain": [
              "'is'"
            ]
          },
          "metadata": {},
          "execution_count": 618
        }
      ]
    },
    {
      "cell_type": "code",
      "metadata": {
        "colab": {
          "base_uri": "https://localhost:8080/"
        },
        "id": "CPOcZkC172Iw",
        "outputId": "29ffb814-49f5-44ec-a31b-b69ce1ce93b3"
      },
      "source": [
        "d[0:3]"
      ],
      "execution_count": null,
      "outputs": [
        {
          "output_type": "execute_result",
          "data": {
            "text/plain": [
              "[1, 2, [3, 4]]"
            ]
          },
          "metadata": {},
          "execution_count": 619
        }
      ]
    },
    {
      "cell_type": "code",
      "metadata": {
        "colab": {
          "base_uri": "https://localhost:8080/"
        },
        "id": "p884ZQtj8AFd",
        "outputId": "7106450e-2d96-48c9-a49f-ec223dda5f1d"
      },
      "source": [
        "a + b"
      ],
      "execution_count": null,
      "outputs": [
        {
          "output_type": "execute_result",
          "data": {
            "text/plain": [
              "[1, 2, 3, 'Life', 'is', 'too', 'short']"
            ]
          },
          "metadata": {},
          "execution_count": 620
        }
      ]
    },
    {
      "cell_type": "code",
      "metadata": {
        "colab": {
          "base_uri": "https://localhost:8080/",
          "height": 35
        },
        "id": "GMx38RIR8CPT",
        "outputId": "ec95b747-e320-4857-ed61-8eb055276a9f"
      },
      "source": [
        "b[0] + \" hi~ ^^;\""
      ],
      "execution_count": null,
      "outputs": [
        {
          "output_type": "execute_result",
          "data": {
            "application/vnd.google.colaboratory.intrinsic+json": {
              "type": "string"
            },
            "text/plain": [
              "'Life hi~ ^^;'"
            ]
          },
          "metadata": {},
          "execution_count": 621
        }
      ]
    },
    {
      "cell_type": "code",
      "metadata": {
        "id": "1xLxF0rL8Hch"
      },
      "source": [
        "# a[0] + \" hi~ ^^;\""
      ],
      "execution_count": null,
      "outputs": []
    },
    {
      "cell_type": "code",
      "metadata": {
        "colab": {
          "base_uri": "https://localhost:8080/",
          "height": 35
        },
        "id": "Z8TOoDFR8ali",
        "outputId": "b2da1de5-13d6-4ad5-884f-1aa075f73278"
      },
      "source": [
        "d[3][1]"
      ],
      "execution_count": null,
      "outputs": [
        {
          "output_type": "execute_result",
          "data": {
            "application/vnd.google.colaboratory.intrinsic+json": {
              "type": "string"
            },
            "text/plain": [
              "'is'"
            ]
          },
          "metadata": {},
          "execution_count": 623
        }
      ]
    },
    {
      "cell_type": "code",
      "metadata": {
        "colab": {
          "base_uri": "https://localhost:8080/"
        },
        "id": "x9YwcEFL8r5a",
        "outputId": "d91e9cf7-5852-4e16-f50e-b09acfbb9ac3"
      },
      "source": [
        "d[2][0]"
      ],
      "execution_count": null,
      "outputs": [
        {
          "output_type": "execute_result",
          "data": {
            "text/plain": [
              "3"
            ]
          },
          "metadata": {},
          "execution_count": 624
        }
      ]
    },
    {
      "cell_type": "code",
      "metadata": {
        "colab": {
          "base_uri": "https://localhost:8080/",
          "height": 35
        },
        "id": "AIwnJ9m59pIl",
        "outputId": "b6d0ceef-8d38-4ac1-bcc3-66542a893a37"
      },
      "source": [
        "str(a[0]) + \" hi~ ^^;\""
      ],
      "execution_count": null,
      "outputs": [
        {
          "output_type": "execute_result",
          "data": {
            "application/vnd.google.colaboratory.intrinsic+json": {
              "type": "string"
            },
            "text/plain": [
              "'1 hi~ ^^;'"
            ]
          },
          "metadata": {},
          "execution_count": 625
        }
      ]
    },
    {
      "cell_type": "code",
      "metadata": {
        "colab": {
          "base_uri": "https://localhost:8080/"
        },
        "id": "fBkFMjmf84i7",
        "outputId": "43bc2ee3-e329-4886-c276-587044bc54ff"
      },
      "source": [
        "a * 3 "
      ],
      "execution_count": null,
      "outputs": [
        {
          "output_type": "execute_result",
          "data": {
            "text/plain": [
              "[1, 2, 3, 1, 2, 3, 1, 2, 3]"
            ]
          },
          "metadata": {},
          "execution_count": 626
        }
      ]
    },
    {
      "cell_type": "code",
      "metadata": {
        "colab": {
          "base_uri": "https://localhost:8080/"
        },
        "id": "anzMwOQe9FrU",
        "outputId": "fc606ed6-62d9-4e57-ea5c-3aff41bec4ac"
      },
      "source": [
        "a[2] = 99\n",
        "a"
      ],
      "execution_count": null,
      "outputs": [
        {
          "output_type": "execute_result",
          "data": {
            "text/plain": [
              "[1, 2, 99]"
            ]
          },
          "metadata": {},
          "execution_count": 627
        }
      ]
    },
    {
      "cell_type": "code",
      "metadata": {
        "colab": {
          "base_uri": "https://localhost:8080/"
        },
        "id": "iwDG2m_-9mXq",
        "outputId": "9be11779-2884-4795-904a-c0cbddc0b733"
      },
      "source": [
        "a[1:2] = ['a','b','c']\n",
        "a"
      ],
      "execution_count": null,
      "outputs": [
        {
          "output_type": "execute_result",
          "data": {
            "text/plain": [
              "[1, 'a', 'b', 'c', 99]"
            ]
          },
          "metadata": {},
          "execution_count": 628
        }
      ]
    },
    {
      "cell_type": "code",
      "metadata": {
        "colab": {
          "base_uri": "https://localhost:8080/"
        },
        "id": "LNwK82v6944t",
        "outputId": "ff256957-e04a-4ba5-e1ac-5cfad3401f16"
      },
      "source": [
        "a[-1] = ['d','e','f']\n",
        "a"
      ],
      "execution_count": null,
      "outputs": [
        {
          "output_type": "execute_result",
          "data": {
            "text/plain": [
              "[1, 'a', 'b', 'c', ['d', 'e', 'f']]"
            ]
          },
          "metadata": {},
          "execution_count": 629
        }
      ]
    },
    {
      "cell_type": "code",
      "metadata": {
        "colab": {
          "base_uri": "https://localhost:8080/"
        },
        "id": "qKwqoAQk-Xo2",
        "outputId": "3ea02907-f4a0-418e-ef11-5eea1ee41091"
      },
      "source": [
        "a.append(4) # list 추가\n",
        "a"
      ],
      "execution_count": null,
      "outputs": [
        {
          "output_type": "execute_result",
          "data": {
            "text/plain": [
              "[1, 'a', 'b', 'c', ['d', 'e', 'f'], 4]"
            ]
          },
          "metadata": {},
          "execution_count": 630
        }
      ]
    },
    {
      "cell_type": "code",
      "metadata": {
        "colab": {
          "base_uri": "https://localhost:8080/"
        },
        "id": "WrNviD4q-xXD",
        "outputId": "4b631e88-3fba-47a6-c4c0-c652481837e8"
      },
      "source": [
        "b"
      ],
      "execution_count": null,
      "outputs": [
        {
          "output_type": "execute_result",
          "data": {
            "text/plain": [
              "['Life', 'is', 'too', 'short']"
            ]
          },
          "metadata": {},
          "execution_count": 631
        }
      ]
    },
    {
      "cell_type": "code",
      "metadata": {
        "colab": {
          "base_uri": "https://localhost:8080/"
        },
        "id": "fcwYtGkL-74c",
        "outputId": "8467775f-daf2-4b3d-e1aa-47c5f5924462"
      },
      "source": [
        "b.sort() # 리스트일때 정렬가능, 문자열은 X \n",
        "b # 오름차순"
      ],
      "execution_count": null,
      "outputs": [
        {
          "output_type": "execute_result",
          "data": {
            "text/plain": [
              "['Life', 'is', 'short', 'too']"
            ]
          },
          "metadata": {},
          "execution_count": 632
        }
      ]
    },
    {
      "cell_type": "code",
      "metadata": {
        "colab": {
          "base_uri": "https://localhost:8080/"
        },
        "id": "fQcbXmK3_Cm-",
        "outputId": "b0fb90fb-24c5-412c-a8c8-4efde9557ac6"
      },
      "source": [
        "b.sort(reverse=True)\n",
        "b # 내림차순"
      ],
      "execution_count": null,
      "outputs": [
        {
          "output_type": "execute_result",
          "data": {
            "text/plain": [
              "['too', 'short', 'is', 'Life']"
            ]
          },
          "metadata": {},
          "execution_count": 633
        }
      ]
    },
    {
      "cell_type": "code",
      "metadata": {
        "colab": {
          "base_uri": "https://localhost:8080/"
        },
        "id": "O44Hr3eV_hsn",
        "outputId": "fddbf761-f54b-4dba-e654-4dd5a0bd6fe9"
      },
      "source": [
        "a"
      ],
      "execution_count": null,
      "outputs": [
        {
          "output_type": "execute_result",
          "data": {
            "text/plain": [
              "[1, 'a', 'b', 'c', ['d', 'e', 'f'], 4]"
            ]
          },
          "metadata": {},
          "execution_count": 634
        }
      ]
    },
    {
      "cell_type": "code",
      "metadata": {
        "colab": {
          "base_uri": "https://localhost:8080/"
        },
        "id": "kdDaW2Af_tfw",
        "outputId": "3c7b1716-0cda-4f65-d157-d0f0b850c1d8"
      },
      "source": [
        "a.reverse()\n",
        "a"
      ],
      "execution_count": null,
      "outputs": [
        {
          "output_type": "execute_result",
          "data": {
            "text/plain": [
              "[4, ['d', 'e', 'f'], 'c', 'b', 'a', 1]"
            ]
          },
          "metadata": {},
          "execution_count": 635
        }
      ]
    },
    {
      "cell_type": "code",
      "metadata": {
        "colab": {
          "base_uri": "https://localhost:8080/"
        },
        "id": "hf9W7Dkq_zp6",
        "outputId": "73f72bd2-f38c-46d1-9d04-3545a5a088a8"
      },
      "source": [
        "a = [1,'a','b',6]\n",
        "a.reverse()\n",
        "a"
      ],
      "execution_count": null,
      "outputs": [
        {
          "output_type": "execute_result",
          "data": {
            "text/plain": [
              "[6, 'b', 'a', 1]"
            ]
          },
          "metadata": {},
          "execution_count": 638
        }
      ]
    },
    {
      "cell_type": "code",
      "metadata": {
        "colab": {
          "base_uri": "https://localhost:8080/",
          "height": 35
        },
        "id": "Z7vZDwM4AgAa",
        "outputId": "5f0999cc-076a-44f3-ce18-0f7da4727418"
      },
      "source": [
        "b.pop()"
      ],
      "execution_count": null,
      "outputs": [
        {
          "output_type": "execute_result",
          "data": {
            "application/vnd.google.colaboratory.intrinsic+json": {
              "type": "string"
            },
            "text/plain": [
              "'Life'"
            ]
          },
          "metadata": {},
          "execution_count": 640
        }
      ]
    },
    {
      "cell_type": "code",
      "metadata": {
        "colab": {
          "base_uri": "https://localhost:8080/"
        },
        "id": "1PW7oJ29Amia",
        "outputId": "7cb4052b-36d1-4975-d941-a3eb3c585631"
      },
      "source": [
        "b"
      ],
      "execution_count": null,
      "outputs": [
        {
          "output_type": "execute_result",
          "data": {
            "text/plain": [
              "['too', 'short', 'is']"
            ]
          },
          "metadata": {},
          "execution_count": 641
        }
      ]
    },
    {
      "cell_type": "markdown",
      "metadata": {
        "id": "qY3NZf56A5WV"
      },
      "source": [
        "### 튜플 자료형"
      ]
    },
    {
      "cell_type": "code",
      "metadata": {
        "id": "q2_GDRlaAsd1"
      },
      "source": [
        ""
      ],
      "execution_count": null,
      "outputs": []
    },
    {
      "cell_type": "code",
      "metadata": {
        "id": "pEUI_snYBOgf"
      },
      "source": [
        ""
      ],
      "execution_count": null,
      "outputs": []
    },
    {
      "cell_type": "markdown",
      "metadata": {
        "id": "VVa60josBBvE"
      },
      "source": [
        "###딕셔너리 자료형"
      ]
    },
    {
      "cell_type": "code",
      "metadata": {
        "id": "Kb6xHzi0BDfD"
      },
      "source": [
        "dic = {'name':'Hong','phone':'01012345678','birth':'0814'}"
      ],
      "execution_count": null,
      "outputs": []
    },
    {
      "cell_type": "code",
      "metadata": {
        "colab": {
          "base_uri": "https://localhost:8080/"
        },
        "id": "uFwNk4VKBeZy",
        "outputId": "38113666-c269-4bd1-da9d-3c2e1eaac2d7"
      },
      "source": [
        "dic"
      ],
      "execution_count": null,
      "outputs": [
        {
          "output_type": "execute_result",
          "data": {
            "text/plain": [
              "{'birth': '0814', 'name': 'Hong', 'phone': '01012345678'}"
            ]
          },
          "metadata": {},
          "execution_count": 643
        }
      ]
    },
    {
      "cell_type": "code",
      "metadata": {
        "colab": {
          "base_uri": "https://localhost:8080/",
          "height": 35
        },
        "id": "t-NAvIwtBfBm",
        "outputId": "500a418b-ba11-4474-e7e2-4176dda3e297"
      },
      "source": [
        "dic['name']"
      ],
      "execution_count": null,
      "outputs": [
        {
          "output_type": "execute_result",
          "data": {
            "application/vnd.google.colaboratory.intrinsic+json": {
              "type": "string"
            },
            "text/plain": [
              "'Hong'"
            ]
          },
          "metadata": {},
          "execution_count": 644
        }
      ]
    },
    {
      "cell_type": "code",
      "metadata": {
        "id": "g9Zt_IuuBnNC"
      },
      "source": [
        "dic['pet'] = 'dog'"
      ],
      "execution_count": null,
      "outputs": []
    },
    {
      "cell_type": "code",
      "metadata": {
        "colab": {
          "base_uri": "https://localhost:8080/"
        },
        "id": "JRtAs41ABxTu",
        "outputId": "f66646b1-5190-44a4-a656-0d826ff855cc"
      },
      "source": [
        "dic"
      ],
      "execution_count": null,
      "outputs": [
        {
          "output_type": "execute_result",
          "data": {
            "text/plain": [
              "{'birth': '0814', 'name': 'Hong', 'pet': 'dog', 'phone': '01012345678'}"
            ]
          },
          "metadata": {},
          "execution_count": 646
        }
      ]
    },
    {
      "cell_type": "code",
      "metadata": {
        "colab": {
          "base_uri": "https://localhost:8080/",
          "height": 35
        },
        "id": "mrO2qWtMByYd",
        "outputId": "2c22ab09-e27c-4bac-c4eb-bf97aeb7c043"
      },
      "source": [
        "dic['pet']"
      ],
      "execution_count": null,
      "outputs": [
        {
          "output_type": "execute_result",
          "data": {
            "application/vnd.google.colaboratory.intrinsic+json": {
              "type": "string"
            },
            "text/plain": [
              "'dog'"
            ]
          },
          "metadata": {},
          "execution_count": 648
        }
      ]
    },
    {
      "cell_type": "code",
      "metadata": {
        "colab": {
          "base_uri": "https://localhost:8080/"
        },
        "id": "Cs5HPn8BB1CQ",
        "outputId": "de191855-9fdd-4236-b62f-0cdb07ac741a"
      },
      "source": [
        "dic.keys()"
      ],
      "execution_count": null,
      "outputs": [
        {
          "output_type": "execute_result",
          "data": {
            "text/plain": [
              "dict_keys(['name', 'phone', 'birth', 'pet'])"
            ]
          },
          "metadata": {},
          "execution_count": 649
        }
      ]
    },
    {
      "cell_type": "code",
      "metadata": {
        "colab": {
          "base_uri": "https://localhost:8080/"
        },
        "id": "uOYawrsSB5fb",
        "outputId": "24c9b633-895c-4b36-9768-e05c49690370"
      },
      "source": [
        "dic.values()"
      ],
      "execution_count": null,
      "outputs": [
        {
          "output_type": "execute_result",
          "data": {
            "text/plain": [
              "dict_values(['Hong', '01012345678', '0814', 'dog'])"
            ]
          },
          "metadata": {},
          "execution_count": 650
        }
      ]
    },
    {
      "cell_type": "code",
      "metadata": {
        "id": "0cZl6mPHB8PB"
      },
      "source": [
        ""
      ],
      "execution_count": null,
      "outputs": []
    }
  ]
}