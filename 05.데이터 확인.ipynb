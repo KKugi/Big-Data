{
 "cells": [
  {
   "cell_type": "markdown",
   "id": "4d6cdaea",
   "metadata": {},
   "source": [
    "# 5.데이터 확인"
   ]
  },
  {
   "cell_type": "code",
   "execution_count": 2,
   "id": "07b78e58",
   "metadata": {},
   "outputs": [
    {
     "data": {
      "text/html": [
       "<div>\n",
       "<style scoped>\n",
       "    .dataframe tbody tr th:only-of-type {\n",
       "        vertical-align: middle;\n",
       "    }\n",
       "\n",
       "    .dataframe tbody tr th {\n",
       "        vertical-align: top;\n",
       "    }\n",
       "\n",
       "    .dataframe thead th {\n",
       "        text-align: right;\n",
       "    }\n",
       "</style>\n",
       "<table border=\"1\" class=\"dataframe\">\n",
       "  <thead>\n",
       "    <tr style=\"text-align: right;\">\n",
       "      <th></th>\n",
       "      <th>SW특기</th>\n",
       "      <th>과학</th>\n",
       "      <th>국어</th>\n",
       "      <th>사회</th>\n",
       "      <th>수학</th>\n",
       "      <th>영어</th>\n",
       "      <th>이름</th>\n",
       "      <th>키</th>\n",
       "      <th>학교</th>\n",
       "    </tr>\n",
       "    <tr>\n",
       "      <th>지원번호</th>\n",
       "      <th></th>\n",
       "      <th></th>\n",
       "      <th></th>\n",
       "      <th></th>\n",
       "      <th></th>\n",
       "      <th></th>\n",
       "      <th></th>\n",
       "      <th></th>\n",
       "      <th></th>\n",
       "    </tr>\n",
       "  </thead>\n",
       "  <tbody>\n",
       "    <tr>\n",
       "      <th>1번</th>\n",
       "      <td>Python</td>\n",
       "      <td>95</td>\n",
       "      <td>90</td>\n",
       "      <td>85</td>\n",
       "      <td>100</td>\n",
       "      <td>85</td>\n",
       "      <td>채치수</td>\n",
       "      <td>197</td>\n",
       "      <td>북산고</td>\n",
       "    </tr>\n",
       "    <tr>\n",
       "      <th>2번</th>\n",
       "      <td>Java</td>\n",
       "      <td>55</td>\n",
       "      <td>40</td>\n",
       "      <td>25</td>\n",
       "      <td>50</td>\n",
       "      <td>35</td>\n",
       "      <td>정대만</td>\n",
       "      <td>184</td>\n",
       "      <td>북산고</td>\n",
       "    </tr>\n",
       "    <tr>\n",
       "      <th>3번</th>\n",
       "      <td>Javascript</td>\n",
       "      <td>80</td>\n",
       "      <td>80</td>\n",
       "      <td>75</td>\n",
       "      <td>70</td>\n",
       "      <td>75</td>\n",
       "      <td>송태섭</td>\n",
       "      <td>168</td>\n",
       "      <td>북산고</td>\n",
       "    </tr>\n",
       "    <tr>\n",
       "      <th>4번</th>\n",
       "      <td>NaN</td>\n",
       "      <td>75</td>\n",
       "      <td>40</td>\n",
       "      <td>80</td>\n",
       "      <td>70</td>\n",
       "      <td>60</td>\n",
       "      <td>서태웅</td>\n",
       "      <td>187</td>\n",
       "      <td>북산고</td>\n",
       "    </tr>\n",
       "    <tr>\n",
       "      <th>5번</th>\n",
       "      <td>NaN</td>\n",
       "      <td>35</td>\n",
       "      <td>15</td>\n",
       "      <td>10</td>\n",
       "      <td>10</td>\n",
       "      <td>20</td>\n",
       "      <td>강백호</td>\n",
       "      <td>188</td>\n",
       "      <td>북산고</td>\n",
       "    </tr>\n",
       "    <tr>\n",
       "      <th>6번</th>\n",
       "      <td>C</td>\n",
       "      <td>85</td>\n",
       "      <td>80</td>\n",
       "      <td>80</td>\n",
       "      <td>95</td>\n",
       "      <td>100</td>\n",
       "      <td>변덕규</td>\n",
       "      <td>202</td>\n",
       "      <td>능남고</td>\n",
       "    </tr>\n",
       "    <tr>\n",
       "      <th>7번</th>\n",
       "      <td>PYTHON</td>\n",
       "      <td>40</td>\n",
       "      <td>55</td>\n",
       "      <td>35</td>\n",
       "      <td>45</td>\n",
       "      <td>65</td>\n",
       "      <td>황태산</td>\n",
       "      <td>188</td>\n",
       "      <td>능남고</td>\n",
       "    </tr>\n",
       "    <tr>\n",
       "      <th>8번</th>\n",
       "      <td>C#</td>\n",
       "      <td>95</td>\n",
       "      <td>100</td>\n",
       "      <td>95</td>\n",
       "      <td>90</td>\n",
       "      <td>85</td>\n",
       "      <td>윤대협</td>\n",
       "      <td>190</td>\n",
       "      <td>능남고</td>\n",
       "    </tr>\n",
       "  </tbody>\n",
       "</table>\n",
       "</div>"
      ],
      "text/plain": [
       "            SW특기  과학   국어  사회   수학   영어   이름    키   학교\n",
       "지원번호                                                  \n",
       "1번        Python  95   90  85  100   85  채치수  197  북산고\n",
       "2번          Java  55   40  25   50   35  정대만  184  북산고\n",
       "3번    Javascript  80   80  75   70   75  송태섭  168  북산고\n",
       "4번           NaN  75   40  80   70   60  서태웅  187  북산고\n",
       "5번           NaN  35   15  10   10   20  강백호  188  북산고\n",
       "6번             C  85   80  80   95  100  변덕규  202  능남고\n",
       "7번        PYTHON  40   55  35   45   65  황태산  188  능남고\n",
       "8번            C#  95  100  95   90   85  윤대협  190  능남고"
      ]
     },
     "execution_count": 2,
     "metadata": {},
     "output_type": "execute_result"
    }
   ],
   "source": [
    "import pandas as pd\n",
    "df = pd.read_excel('score.xlsx', index_col = 0)\n",
    "df"
   ]
  },
  {
   "cell_type": "markdown",
   "id": "25cf4a90",
   "metadata": {},
   "source": [
    "## DataFrame 확인\n",
    "계산 가능한 데이터에 대해 column 별로 데이터의 갯수, 평균, 표준편차, 최소/최댓값 등의 정보를 제공"
   ]
  },
  {
   "cell_type": "code",
   "execution_count": 4,
   "id": "3d4b4dc1",
   "metadata": {},
   "outputs": [
    {
     "data": {
      "text/html": [
       "<div>\n",
       "<style scoped>\n",
       "    .dataframe tbody tr th:only-of-type {\n",
       "        vertical-align: middle;\n",
       "    }\n",
       "\n",
       "    .dataframe tbody tr th {\n",
       "        vertical-align: top;\n",
       "    }\n",
       "\n",
       "    .dataframe thead th {\n",
       "        text-align: right;\n",
       "    }\n",
       "</style>\n",
       "<table border=\"1\" class=\"dataframe\">\n",
       "  <thead>\n",
       "    <tr style=\"text-align: right;\">\n",
       "      <th></th>\n",
       "      <th>과학</th>\n",
       "      <th>국어</th>\n",
       "      <th>사회</th>\n",
       "      <th>수학</th>\n",
       "      <th>영어</th>\n",
       "      <th>키</th>\n",
       "    </tr>\n",
       "  </thead>\n",
       "  <tbody>\n",
       "    <tr>\n",
       "      <th>count</th>\n",
       "      <td>8.000000</td>\n",
       "      <td>8.000000</td>\n",
       "      <td>8.000000</td>\n",
       "      <td>8.000000</td>\n",
       "      <td>8.000000</td>\n",
       "      <td>8.000000</td>\n",
       "    </tr>\n",
       "    <tr>\n",
       "      <th>mean</th>\n",
       "      <td>70.000000</td>\n",
       "      <td>62.500000</td>\n",
       "      <td>60.625000</td>\n",
       "      <td>66.250000</td>\n",
       "      <td>65.625000</td>\n",
       "      <td>188.000000</td>\n",
       "    </tr>\n",
       "    <tr>\n",
       "      <th>std</th>\n",
       "      <td>23.754699</td>\n",
       "      <td>29.519969</td>\n",
       "      <td>32.120032</td>\n",
       "      <td>30.325614</td>\n",
       "      <td>26.917533</td>\n",
       "      <td>9.985704</td>\n",
       "    </tr>\n",
       "    <tr>\n",
       "      <th>min</th>\n",
       "      <td>35.000000</td>\n",
       "      <td>15.000000</td>\n",
       "      <td>10.000000</td>\n",
       "      <td>10.000000</td>\n",
       "      <td>20.000000</td>\n",
       "      <td>168.000000</td>\n",
       "    </tr>\n",
       "    <tr>\n",
       "      <th>25%</th>\n",
       "      <td>51.250000</td>\n",
       "      <td>40.000000</td>\n",
       "      <td>32.500000</td>\n",
       "      <td>48.750000</td>\n",
       "      <td>53.750000</td>\n",
       "      <td>186.250000</td>\n",
       "    </tr>\n",
       "    <tr>\n",
       "      <th>50%</th>\n",
       "      <td>77.500000</td>\n",
       "      <td>67.500000</td>\n",
       "      <td>77.500000</td>\n",
       "      <td>70.000000</td>\n",
       "      <td>70.000000</td>\n",
       "      <td>188.000000</td>\n",
       "    </tr>\n",
       "    <tr>\n",
       "      <th>75%</th>\n",
       "      <td>87.500000</td>\n",
       "      <td>82.500000</td>\n",
       "      <td>81.250000</td>\n",
       "      <td>91.250000</td>\n",
       "      <td>85.000000</td>\n",
       "      <td>191.750000</td>\n",
       "    </tr>\n",
       "    <tr>\n",
       "      <th>max</th>\n",
       "      <td>95.000000</td>\n",
       "      <td>100.000000</td>\n",
       "      <td>95.000000</td>\n",
       "      <td>100.000000</td>\n",
       "      <td>100.000000</td>\n",
       "      <td>202.000000</td>\n",
       "    </tr>\n",
       "  </tbody>\n",
       "</table>\n",
       "</div>"
      ],
      "text/plain": [
       "              과학          국어         사회          수학          영어           키\n",
       "count   8.000000    8.000000   8.000000    8.000000    8.000000    8.000000\n",
       "mean   70.000000   62.500000  60.625000   66.250000   65.625000  188.000000\n",
       "std    23.754699   29.519969  32.120032   30.325614   26.917533    9.985704\n",
       "min    35.000000   15.000000  10.000000   10.000000   20.000000  168.000000\n",
       "25%    51.250000   40.000000  32.500000   48.750000   53.750000  186.250000\n",
       "50%    77.500000   67.500000  77.500000   70.000000   70.000000  188.000000\n",
       "75%    87.500000   82.500000  81.250000   91.250000   85.000000  191.750000\n",
       "max    95.000000  100.000000  95.000000  100.000000  100.000000  202.000000"
      ]
     },
     "execution_count": 4,
     "metadata": {},
     "output_type": "execute_result"
    }
   ],
   "source": [
    "df.describe()"
   ]
  },
  {
   "cell_type": "code",
   "execution_count": 5,
   "id": "7c300b2d",
   "metadata": {},
   "outputs": [
    {
     "name": "stdout",
     "output_type": "stream",
     "text": [
      "<class 'pandas.core.frame.DataFrame'>\n",
      "Index: 8 entries, 1번 to 8번\n",
      "Data columns (total 9 columns):\n",
      "SW특기    6 non-null object\n",
      "과학      8 non-null int64\n",
      "국어      8 non-null int64\n",
      "사회      8 non-null int64\n",
      "수학      8 non-null int64\n",
      "영어      8 non-null int64\n",
      "이름      8 non-null object\n",
      "키       8 non-null int64\n",
      "학교      8 non-null object\n",
      "dtypes: int64(6), object(3)\n",
      "memory usage: 640.0+ bytes\n"
     ]
    }
   ],
   "source": [
    " df.info()"
   ]
  },
  {
   "cell_type": "code",
   "execution_count": 8,
   "id": "79b3a433",
   "metadata": {},
   "outputs": [
    {
     "data": {
      "text/html": [
       "<div>\n",
       "<style scoped>\n",
       "    .dataframe tbody tr th:only-of-type {\n",
       "        vertical-align: middle;\n",
       "    }\n",
       "\n",
       "    .dataframe tbody tr th {\n",
       "        vertical-align: top;\n",
       "    }\n",
       "\n",
       "    .dataframe thead th {\n",
       "        text-align: right;\n",
       "    }\n",
       "</style>\n",
       "<table border=\"1\" class=\"dataframe\">\n",
       "  <thead>\n",
       "    <tr style=\"text-align: right;\">\n",
       "      <th></th>\n",
       "      <th>SW특기</th>\n",
       "      <th>과학</th>\n",
       "      <th>국어</th>\n",
       "      <th>사회</th>\n",
       "      <th>수학</th>\n",
       "      <th>영어</th>\n",
       "      <th>이름</th>\n",
       "      <th>키</th>\n",
       "      <th>학교</th>\n",
       "    </tr>\n",
       "    <tr>\n",
       "      <th>지원번호</th>\n",
       "      <th></th>\n",
       "      <th></th>\n",
       "      <th></th>\n",
       "      <th></th>\n",
       "      <th></th>\n",
       "      <th></th>\n",
       "      <th></th>\n",
       "      <th></th>\n",
       "      <th></th>\n",
       "    </tr>\n",
       "  </thead>\n",
       "  <tbody>\n",
       "    <tr>\n",
       "      <th>1번</th>\n",
       "      <td>Python</td>\n",
       "      <td>95</td>\n",
       "      <td>90</td>\n",
       "      <td>85</td>\n",
       "      <td>100</td>\n",
       "      <td>85</td>\n",
       "      <td>채치수</td>\n",
       "      <td>197</td>\n",
       "      <td>북산고</td>\n",
       "    </tr>\n",
       "    <tr>\n",
       "      <th>2번</th>\n",
       "      <td>Java</td>\n",
       "      <td>55</td>\n",
       "      <td>40</td>\n",
       "      <td>25</td>\n",
       "      <td>50</td>\n",
       "      <td>35</td>\n",
       "      <td>정대만</td>\n",
       "      <td>184</td>\n",
       "      <td>북산고</td>\n",
       "    </tr>\n",
       "    <tr>\n",
       "      <th>3번</th>\n",
       "      <td>Javascript</td>\n",
       "      <td>80</td>\n",
       "      <td>80</td>\n",
       "      <td>75</td>\n",
       "      <td>70</td>\n",
       "      <td>75</td>\n",
       "      <td>송태섭</td>\n",
       "      <td>168</td>\n",
       "      <td>북산고</td>\n",
       "    </tr>\n",
       "    <tr>\n",
       "      <th>4번</th>\n",
       "      <td>NaN</td>\n",
       "      <td>75</td>\n",
       "      <td>40</td>\n",
       "      <td>80</td>\n",
       "      <td>70</td>\n",
       "      <td>60</td>\n",
       "      <td>서태웅</td>\n",
       "      <td>187</td>\n",
       "      <td>북산고</td>\n",
       "    </tr>\n",
       "    <tr>\n",
       "      <th>5번</th>\n",
       "      <td>NaN</td>\n",
       "      <td>35</td>\n",
       "      <td>15</td>\n",
       "      <td>10</td>\n",
       "      <td>10</td>\n",
       "      <td>20</td>\n",
       "      <td>강백호</td>\n",
       "      <td>188</td>\n",
       "      <td>북산고</td>\n",
       "    </tr>\n",
       "  </tbody>\n",
       "</table>\n",
       "</div>"
      ],
      "text/plain": [
       "            SW특기  과학  국어  사회   수학  영어   이름    키   학교\n",
       "지원번호                                                \n",
       "1번        Python  95  90  85  100  85  채치수  197  북산고\n",
       "2번          Java  55  40  25   50  35  정대만  184  북산고\n",
       "3번    Javascript  80  80  75   70  75  송태섭  168  북산고\n",
       "4번           NaN  75  40  80   70  60  서태웅  187  북산고\n",
       "5번           NaN  35  15  10   10  20  강백호  188  북산고"
      ]
     },
     "execution_count": 8,
     "metadata": {},
     "output_type": "execute_result"
    }
   ],
   "source": [
    "df.head() # 처음 5개의 row를 가져옴"
   ]
  },
  {
   "cell_type": "code",
   "execution_count": 9,
   "id": "b8b9a9a6",
   "metadata": {},
   "outputs": [
    {
     "data": {
      "text/html": [
       "<div>\n",
       "<style scoped>\n",
       "    .dataframe tbody tr th:only-of-type {\n",
       "        vertical-align: middle;\n",
       "    }\n",
       "\n",
       "    .dataframe tbody tr th {\n",
       "        vertical-align: top;\n",
       "    }\n",
       "\n",
       "    .dataframe thead th {\n",
       "        text-align: right;\n",
       "    }\n",
       "</style>\n",
       "<table border=\"1\" class=\"dataframe\">\n",
       "  <thead>\n",
       "    <tr style=\"text-align: right;\">\n",
       "      <th></th>\n",
       "      <th>SW특기</th>\n",
       "      <th>과학</th>\n",
       "      <th>국어</th>\n",
       "      <th>사회</th>\n",
       "      <th>수학</th>\n",
       "      <th>영어</th>\n",
       "      <th>이름</th>\n",
       "      <th>키</th>\n",
       "      <th>학교</th>\n",
       "    </tr>\n",
       "    <tr>\n",
       "      <th>지원번호</th>\n",
       "      <th></th>\n",
       "      <th></th>\n",
       "      <th></th>\n",
       "      <th></th>\n",
       "      <th></th>\n",
       "      <th></th>\n",
       "      <th></th>\n",
       "      <th></th>\n",
       "      <th></th>\n",
       "    </tr>\n",
       "  </thead>\n",
       "  <tbody>\n",
       "    <tr>\n",
       "      <th>1번</th>\n",
       "      <td>Python</td>\n",
       "      <td>95</td>\n",
       "      <td>90</td>\n",
       "      <td>85</td>\n",
       "      <td>100</td>\n",
       "      <td>85</td>\n",
       "      <td>채치수</td>\n",
       "      <td>197</td>\n",
       "      <td>북산고</td>\n",
       "    </tr>\n",
       "    <tr>\n",
       "      <th>2번</th>\n",
       "      <td>Java</td>\n",
       "      <td>55</td>\n",
       "      <td>40</td>\n",
       "      <td>25</td>\n",
       "      <td>50</td>\n",
       "      <td>35</td>\n",
       "      <td>정대만</td>\n",
       "      <td>184</td>\n",
       "      <td>북산고</td>\n",
       "    </tr>\n",
       "    <tr>\n",
       "      <th>3번</th>\n",
       "      <td>Javascript</td>\n",
       "      <td>80</td>\n",
       "      <td>80</td>\n",
       "      <td>75</td>\n",
       "      <td>70</td>\n",
       "      <td>75</td>\n",
       "      <td>송태섭</td>\n",
       "      <td>168</td>\n",
       "      <td>북산고</td>\n",
       "    </tr>\n",
       "    <tr>\n",
       "      <th>4번</th>\n",
       "      <td>NaN</td>\n",
       "      <td>75</td>\n",
       "      <td>40</td>\n",
       "      <td>80</td>\n",
       "      <td>70</td>\n",
       "      <td>60</td>\n",
       "      <td>서태웅</td>\n",
       "      <td>187</td>\n",
       "      <td>북산고</td>\n",
       "    </tr>\n",
       "    <tr>\n",
       "      <th>5번</th>\n",
       "      <td>NaN</td>\n",
       "      <td>35</td>\n",
       "      <td>15</td>\n",
       "      <td>10</td>\n",
       "      <td>10</td>\n",
       "      <td>20</td>\n",
       "      <td>강백호</td>\n",
       "      <td>188</td>\n",
       "      <td>북산고</td>\n",
       "    </tr>\n",
       "    <tr>\n",
       "      <th>6번</th>\n",
       "      <td>C</td>\n",
       "      <td>85</td>\n",
       "      <td>80</td>\n",
       "      <td>80</td>\n",
       "      <td>95</td>\n",
       "      <td>100</td>\n",
       "      <td>변덕규</td>\n",
       "      <td>202</td>\n",
       "      <td>능남고</td>\n",
       "    </tr>\n",
       "    <tr>\n",
       "      <th>7번</th>\n",
       "      <td>PYTHON</td>\n",
       "      <td>40</td>\n",
       "      <td>55</td>\n",
       "      <td>35</td>\n",
       "      <td>45</td>\n",
       "      <td>65</td>\n",
       "      <td>황태산</td>\n",
       "      <td>188</td>\n",
       "      <td>능남고</td>\n",
       "    </tr>\n",
       "  </tbody>\n",
       "</table>\n",
       "</div>"
      ],
      "text/plain": [
       "            SW특기  과학  국어  사회   수학   영어   이름    키   학교\n",
       "지원번호                                                 \n",
       "1번        Python  95  90  85  100   85  채치수  197  북산고\n",
       "2번          Java  55  40  25   50   35  정대만  184  북산고\n",
       "3번    Javascript  80  80  75   70   75  송태섭  168  북산고\n",
       "4번           NaN  75  40  80   70   60  서태웅  187  북산고\n",
       "5번           NaN  35  15  10   10   20  강백호  188  북산고\n",
       "6번             C  85  80  80   95  100  변덕규  202  능남고\n",
       "7번        PYTHON  40  55  35   45   65  황태산  188  능남고"
      ]
     },
     "execution_count": 9,
     "metadata": {},
     "output_type": "execute_result"
    }
   ],
   "source": [
    "df.head(7) # 처음 7개의 row를 가져옴"
   ]
  },
  {
   "cell_type": "code",
   "execution_count": 7,
   "id": "785fa5cd",
   "metadata": {},
   "outputs": [
    {
     "data": {
      "text/html": [
       "<div>\n",
       "<style scoped>\n",
       "    .dataframe tbody tr th:only-of-type {\n",
       "        vertical-align: middle;\n",
       "    }\n",
       "\n",
       "    .dataframe tbody tr th {\n",
       "        vertical-align: top;\n",
       "    }\n",
       "\n",
       "    .dataframe thead th {\n",
       "        text-align: right;\n",
       "    }\n",
       "</style>\n",
       "<table border=\"1\" class=\"dataframe\">\n",
       "  <thead>\n",
       "    <tr style=\"text-align: right;\">\n",
       "      <th></th>\n",
       "      <th>SW특기</th>\n",
       "      <th>과학</th>\n",
       "      <th>국어</th>\n",
       "      <th>사회</th>\n",
       "      <th>수학</th>\n",
       "      <th>영어</th>\n",
       "      <th>이름</th>\n",
       "      <th>키</th>\n",
       "      <th>학교</th>\n",
       "    </tr>\n",
       "    <tr>\n",
       "      <th>지원번호</th>\n",
       "      <th></th>\n",
       "      <th></th>\n",
       "      <th></th>\n",
       "      <th></th>\n",
       "      <th></th>\n",
       "      <th></th>\n",
       "      <th></th>\n",
       "      <th></th>\n",
       "      <th></th>\n",
       "    </tr>\n",
       "  </thead>\n",
       "  <tbody>\n",
       "    <tr>\n",
       "      <th>4번</th>\n",
       "      <td>NaN</td>\n",
       "      <td>75</td>\n",
       "      <td>40</td>\n",
       "      <td>80</td>\n",
       "      <td>70</td>\n",
       "      <td>60</td>\n",
       "      <td>서태웅</td>\n",
       "      <td>187</td>\n",
       "      <td>북산고</td>\n",
       "    </tr>\n",
       "    <tr>\n",
       "      <th>5번</th>\n",
       "      <td>NaN</td>\n",
       "      <td>35</td>\n",
       "      <td>15</td>\n",
       "      <td>10</td>\n",
       "      <td>10</td>\n",
       "      <td>20</td>\n",
       "      <td>강백호</td>\n",
       "      <td>188</td>\n",
       "      <td>북산고</td>\n",
       "    </tr>\n",
       "    <tr>\n",
       "      <th>6번</th>\n",
       "      <td>C</td>\n",
       "      <td>85</td>\n",
       "      <td>80</td>\n",
       "      <td>80</td>\n",
       "      <td>95</td>\n",
       "      <td>100</td>\n",
       "      <td>변덕규</td>\n",
       "      <td>202</td>\n",
       "      <td>능남고</td>\n",
       "    </tr>\n",
       "    <tr>\n",
       "      <th>7번</th>\n",
       "      <td>PYTHON</td>\n",
       "      <td>40</td>\n",
       "      <td>55</td>\n",
       "      <td>35</td>\n",
       "      <td>45</td>\n",
       "      <td>65</td>\n",
       "      <td>황태산</td>\n",
       "      <td>188</td>\n",
       "      <td>능남고</td>\n",
       "    </tr>\n",
       "    <tr>\n",
       "      <th>8번</th>\n",
       "      <td>C#</td>\n",
       "      <td>95</td>\n",
       "      <td>100</td>\n",
       "      <td>95</td>\n",
       "      <td>90</td>\n",
       "      <td>85</td>\n",
       "      <td>윤대협</td>\n",
       "      <td>190</td>\n",
       "      <td>능남고</td>\n",
       "    </tr>\n",
       "  </tbody>\n",
       "</table>\n",
       "</div>"
      ],
      "text/plain": [
       "        SW특기  과학   국어  사회  수학   영어   이름    키   학교\n",
       "지원번호                                             \n",
       "4번       NaN  75   40  80  70   60  서태웅  187  북산고\n",
       "5번       NaN  35   15  10  10   20  강백호  188  북산고\n",
       "6번         C  85   80  80  95  100  변덕규  202  능남고\n",
       "7번    PYTHON  40   55  35  45   65  황태산  188  능남고\n",
       "8번        C#  95  100  95  90   85  윤대협  190  능남고"
      ]
     },
     "execution_count": 7,
     "metadata": {},
     "output_type": "execute_result"
    }
   ],
   "source": [
    "df.tail() # 마지막 5개의 row를 가져옴"
   ]
  },
  {
   "cell_type": "code",
   "execution_count": 11,
   "id": "e2c24b3f",
   "metadata": {},
   "outputs": [
    {
     "data": {
      "text/html": [
       "<div>\n",
       "<style scoped>\n",
       "    .dataframe tbody tr th:only-of-type {\n",
       "        vertical-align: middle;\n",
       "    }\n",
       "\n",
       "    .dataframe tbody tr th {\n",
       "        vertical-align: top;\n",
       "    }\n",
       "\n",
       "    .dataframe thead th {\n",
       "        text-align: right;\n",
       "    }\n",
       "</style>\n",
       "<table border=\"1\" class=\"dataframe\">\n",
       "  <thead>\n",
       "    <tr style=\"text-align: right;\">\n",
       "      <th></th>\n",
       "      <th>SW특기</th>\n",
       "      <th>과학</th>\n",
       "      <th>국어</th>\n",
       "      <th>사회</th>\n",
       "      <th>수학</th>\n",
       "      <th>영어</th>\n",
       "      <th>이름</th>\n",
       "      <th>키</th>\n",
       "      <th>학교</th>\n",
       "    </tr>\n",
       "    <tr>\n",
       "      <th>지원번호</th>\n",
       "      <th></th>\n",
       "      <th></th>\n",
       "      <th></th>\n",
       "      <th></th>\n",
       "      <th></th>\n",
       "      <th></th>\n",
       "      <th></th>\n",
       "      <th></th>\n",
       "      <th></th>\n",
       "    </tr>\n",
       "  </thead>\n",
       "  <tbody>\n",
       "    <tr>\n",
       "      <th>6번</th>\n",
       "      <td>C</td>\n",
       "      <td>85</td>\n",
       "      <td>80</td>\n",
       "      <td>80</td>\n",
       "      <td>95</td>\n",
       "      <td>100</td>\n",
       "      <td>변덕규</td>\n",
       "      <td>202</td>\n",
       "      <td>능남고</td>\n",
       "    </tr>\n",
       "    <tr>\n",
       "      <th>7번</th>\n",
       "      <td>PYTHON</td>\n",
       "      <td>40</td>\n",
       "      <td>55</td>\n",
       "      <td>35</td>\n",
       "      <td>45</td>\n",
       "      <td>65</td>\n",
       "      <td>황태산</td>\n",
       "      <td>188</td>\n",
       "      <td>능남고</td>\n",
       "    </tr>\n",
       "    <tr>\n",
       "      <th>8번</th>\n",
       "      <td>C#</td>\n",
       "      <td>95</td>\n",
       "      <td>100</td>\n",
       "      <td>95</td>\n",
       "      <td>90</td>\n",
       "      <td>85</td>\n",
       "      <td>윤대협</td>\n",
       "      <td>190</td>\n",
       "      <td>능남고</td>\n",
       "    </tr>\n",
       "  </tbody>\n",
       "</table>\n",
       "</div>"
      ],
      "text/plain": [
       "        SW특기  과학   국어  사회  수학   영어   이름    키   학교\n",
       "지원번호                                             \n",
       "6번         C  85   80  80  95  100  변덕규  202  능남고\n",
       "7번    PYTHON  40   55  35  45   65  황태산  188  능남고\n",
       "8번        C#  95  100  95  90   85  윤대협  190  능남고"
      ]
     },
     "execution_count": 11,
     "metadata": {},
     "output_type": "execute_result"
    }
   ],
   "source": [
    "df.tail(3) # 마지막 3개의 row를 가져옴"
   ]
  },
  {
   "cell_type": "code",
   "execution_count": 12,
   "id": "7089e1fd",
   "metadata": {},
   "outputs": [
    {
     "data": {
      "text/plain": [
       "array([['Python', 95, 90, 85, 100, 85, '채치수', 197, '북산고'],\n",
       "       ['Java', 55, 40, 25, 50, 35, '정대만', 184, '북산고'],\n",
       "       ['Javascript', 80, 80, 75, 70, 75, '송태섭', 168, '북산고'],\n",
       "       [nan, 75, 40, 80, 70, 60, '서태웅', 187, '북산고'],\n",
       "       [nan, 35, 15, 10, 10, 20, '강백호', 188, '북산고'],\n",
       "       ['C', 85, 80, 80, 95, 100, '변덕규', 202, '능남고'],\n",
       "       ['PYTHON', 40, 55, 35, 45, 65, '황태산', 188, '능남고'],\n",
       "       ['C#', 95, 100, 95, 90, 85, '윤대협', 190, '능남고']], dtype=object)"
      ]
     },
     "execution_count": 12,
     "metadata": {},
     "output_type": "execute_result"
    }
   ],
   "source": [
    "df.values"
   ]
  },
  {
   "cell_type": "code",
   "execution_count": 13,
   "id": "f5107c10",
   "metadata": {},
   "outputs": [
    {
     "data": {
      "text/plain": [
       "Index(['1번', '2번', '3번', '4번', '5번', '6번', '7번', '8번'], dtype='object', name='지원번호')"
      ]
     },
     "execution_count": 13,
     "metadata": {},
     "output_type": "execute_result"
    }
   ],
   "source": [
    "df.index"
   ]
  },
  {
   "cell_type": "code",
   "execution_count": 14,
   "id": "491d3f3e",
   "metadata": {},
   "outputs": [
    {
     "data": {
      "text/plain": [
       "Index(['SW특기', '과학', '국어', '사회', '수학', '영어', '이름', '키', '학교'], dtype='object')"
      ]
     },
     "execution_count": 14,
     "metadata": {},
     "output_type": "execute_result"
    }
   ],
   "source": [
    "df.columns"
   ]
  },
  {
   "cell_type": "code",
   "execution_count": 16,
   "id": "bc9cd17b",
   "metadata": {},
   "outputs": [
    {
     "data": {
      "text/html": [
       "<div>\n",
       "<style scoped>\n",
       "    .dataframe tbody tr th:only-of-type {\n",
       "        vertical-align: middle;\n",
       "    }\n",
       "\n",
       "    .dataframe tbody tr th {\n",
       "        vertical-align: top;\n",
       "    }\n",
       "\n",
       "    .dataframe thead th {\n",
       "        text-align: right;\n",
       "    }\n",
       "</style>\n",
       "<table border=\"1\" class=\"dataframe\">\n",
       "  <thead>\n",
       "    <tr style=\"text-align: right;\">\n",
       "      <th></th>\n",
       "      <th>SW특기</th>\n",
       "      <th>과학</th>\n",
       "      <th>국어</th>\n",
       "      <th>사회</th>\n",
       "      <th>수학</th>\n",
       "      <th>영어</th>\n",
       "      <th>이름</th>\n",
       "      <th>키</th>\n",
       "      <th>학교</th>\n",
       "    </tr>\n",
       "    <tr>\n",
       "      <th>지원번호</th>\n",
       "      <th></th>\n",
       "      <th></th>\n",
       "      <th></th>\n",
       "      <th></th>\n",
       "      <th></th>\n",
       "      <th></th>\n",
       "      <th></th>\n",
       "      <th></th>\n",
       "      <th></th>\n",
       "    </tr>\n",
       "  </thead>\n",
       "  <tbody>\n",
       "    <tr>\n",
       "      <th>1번</th>\n",
       "      <td>Python</td>\n",
       "      <td>95</td>\n",
       "      <td>90</td>\n",
       "      <td>85</td>\n",
       "      <td>100</td>\n",
       "      <td>85</td>\n",
       "      <td>채치수</td>\n",
       "      <td>197</td>\n",
       "      <td>북산고</td>\n",
       "    </tr>\n",
       "    <tr>\n",
       "      <th>2번</th>\n",
       "      <td>Java</td>\n",
       "      <td>55</td>\n",
       "      <td>40</td>\n",
       "      <td>25</td>\n",
       "      <td>50</td>\n",
       "      <td>35</td>\n",
       "      <td>정대만</td>\n",
       "      <td>184</td>\n",
       "      <td>북산고</td>\n",
       "    </tr>\n",
       "    <tr>\n",
       "      <th>3번</th>\n",
       "      <td>Javascript</td>\n",
       "      <td>80</td>\n",
       "      <td>80</td>\n",
       "      <td>75</td>\n",
       "      <td>70</td>\n",
       "      <td>75</td>\n",
       "      <td>송태섭</td>\n",
       "      <td>168</td>\n",
       "      <td>북산고</td>\n",
       "    </tr>\n",
       "    <tr>\n",
       "      <th>4번</th>\n",
       "      <td>NaN</td>\n",
       "      <td>75</td>\n",
       "      <td>40</td>\n",
       "      <td>80</td>\n",
       "      <td>70</td>\n",
       "      <td>60</td>\n",
       "      <td>서태웅</td>\n",
       "      <td>187</td>\n",
       "      <td>북산고</td>\n",
       "    </tr>\n",
       "    <tr>\n",
       "      <th>5번</th>\n",
       "      <td>NaN</td>\n",
       "      <td>35</td>\n",
       "      <td>15</td>\n",
       "      <td>10</td>\n",
       "      <td>10</td>\n",
       "      <td>20</td>\n",
       "      <td>강백호</td>\n",
       "      <td>188</td>\n",
       "      <td>북산고</td>\n",
       "    </tr>\n",
       "    <tr>\n",
       "      <th>6번</th>\n",
       "      <td>C</td>\n",
       "      <td>85</td>\n",
       "      <td>80</td>\n",
       "      <td>80</td>\n",
       "      <td>95</td>\n",
       "      <td>100</td>\n",
       "      <td>변덕규</td>\n",
       "      <td>202</td>\n",
       "      <td>능남고</td>\n",
       "    </tr>\n",
       "    <tr>\n",
       "      <th>7번</th>\n",
       "      <td>PYTHON</td>\n",
       "      <td>40</td>\n",
       "      <td>55</td>\n",
       "      <td>35</td>\n",
       "      <td>45</td>\n",
       "      <td>65</td>\n",
       "      <td>황태산</td>\n",
       "      <td>188</td>\n",
       "      <td>능남고</td>\n",
       "    </tr>\n",
       "    <tr>\n",
       "      <th>8번</th>\n",
       "      <td>C#</td>\n",
       "      <td>95</td>\n",
       "      <td>100</td>\n",
       "      <td>95</td>\n",
       "      <td>90</td>\n",
       "      <td>85</td>\n",
       "      <td>윤대협</td>\n",
       "      <td>190</td>\n",
       "      <td>능남고</td>\n",
       "    </tr>\n",
       "  </tbody>\n",
       "</table>\n",
       "</div>"
      ],
      "text/plain": [
       "            SW특기  과학   국어  사회   수학   영어   이름    키   학교\n",
       "지원번호                                                  \n",
       "1번        Python  95   90  85  100   85  채치수  197  북산고\n",
       "2번          Java  55   40  25   50   35  정대만  184  북산고\n",
       "3번    Javascript  80   80  75   70   75  송태섭  168  북산고\n",
       "4번           NaN  75   40  80   70   60  서태웅  187  북산고\n",
       "5번           NaN  35   15  10   10   20  강백호  188  북산고\n",
       "6번             C  85   80  80   95  100  변덕규  202  능남고\n",
       "7번        PYTHON  40   55  35   45   65  황태산  188  능남고\n",
       "8번            C#  95  100  95   90   85  윤대협  190  능남고"
      ]
     },
     "execution_count": 16,
     "metadata": {},
     "output_type": "execute_result"
    }
   ],
   "source": [
    "df"
   ]
  },
  {
   "cell_type": "code",
   "execution_count": 15,
   "id": "2b082db4",
   "metadata": {},
   "outputs": [
    {
     "data": {
      "text/plain": [
       "(8, 9)"
      ]
     },
     "execution_count": 15,
     "metadata": {},
     "output_type": "execute_result"
    }
   ],
   "source": [
    "df.shape # row, column"
   ]
  },
  {
   "cell_type": "markdown",
   "id": "c2e4747d",
   "metadata": {},
   "source": [
    "## Series 확인"
   ]
  },
  {
   "cell_type": "code",
   "execution_count": 18,
   "id": "eb446562",
   "metadata": {},
   "outputs": [
    {
     "data": {
      "text/plain": [
       "count      8.000000\n",
       "mean     188.000000\n",
       "std        9.985704\n",
       "min      168.000000\n",
       "25%      186.250000\n",
       "50%      188.000000\n",
       "75%      191.750000\n",
       "max      202.000000\n",
       "Name: 키, dtype: float64"
      ]
     },
     "execution_count": 18,
     "metadata": {},
     "output_type": "execute_result"
    }
   ],
   "source": [
    "df['키'].describe()"
   ]
  },
  {
   "cell_type": "code",
   "execution_count": 19,
   "id": "ee0d7964",
   "metadata": {},
   "outputs": [
    {
     "data": {
      "text/plain": [
       "168"
      ]
     },
     "execution_count": 19,
     "metadata": {},
     "output_type": "execute_result"
    }
   ],
   "source": [
    "df['키'].min()"
   ]
  },
  {
   "cell_type": "code",
   "execution_count": 20,
   "id": "f05ee205",
   "metadata": {},
   "outputs": [
    {
     "data": {
      "text/plain": [
       "202"
      ]
     },
     "execution_count": 20,
     "metadata": {},
     "output_type": "execute_result"
    }
   ],
   "source": [
    "df['키'].max()"
   ]
  },
  {
   "cell_type": "code",
   "execution_count": 22,
   "id": "b5613583",
   "metadata": {},
   "outputs": [
    {
     "data": {
      "text/plain": [
       "지원번호\n",
       "6번    202\n",
       "1번    197\n",
       "8번    190\n",
       "Name: 키, dtype: int64"
      ]
     },
     "execution_count": 22,
     "metadata": {},
     "output_type": "execute_result"
    }
   ],
   "source": [
    "df['키'].nlargest(3) # 키 큰 사람 순서대로 3명 데이터"
   ]
  },
  {
   "cell_type": "code",
   "execution_count": 23,
   "id": "89139f8e",
   "metadata": {},
   "outputs": [
    {
     "data": {
      "text/plain": [
       "188.0"
      ]
     },
     "execution_count": 23,
     "metadata": {},
     "output_type": "execute_result"
    }
   ],
   "source": [
    "df['키'].mean()"
   ]
  },
  {
   "cell_type": "code",
   "execution_count": 26,
   "id": "9ea0bf59",
   "metadata": {},
   "outputs": [
    {
     "data": {
      "text/plain": [
       "1504"
      ]
     },
     "execution_count": 26,
     "metadata": {},
     "output_type": "execute_result"
    }
   ],
   "source": [
    "df['키'].sum()"
   ]
  },
  {
   "cell_type": "code",
   "execution_count": 28,
   "id": "10ff04e9",
   "metadata": {},
   "outputs": [
    {
     "data": {
      "text/plain": [
       "6"
      ]
     },
     "execution_count": 28,
     "metadata": {},
     "output_type": "execute_result"
    }
   ],
   "source": [
    "df['SW특기'].count()"
   ]
  },
  {
   "cell_type": "code",
   "execution_count": 29,
   "id": "ddeae648",
   "metadata": {},
   "outputs": [
    {
     "data": {
      "text/plain": [
       "array(['북산고', '능남고'], dtype=object)"
      ]
     },
     "execution_count": 29,
     "metadata": {},
     "output_type": "execute_result"
    }
   ],
   "source": [
    "df['학교'].unique()"
   ]
  },
  {
   "cell_type": "code",
   "execution_count": 37,
   "id": "24d6b0a6",
   "metadata": {},
   "outputs": [
    {
     "data": {
      "text/plain": [
       "2"
      ]
     },
     "execution_count": 37,
     "metadata": {},
     "output_type": "execute_result"
    }
   ],
   "source": [
    "df['학교'].nunique()"
   ]
  },
  {
   "cell_type": "code",
   "execution_count": 39,
   "id": "9c6db400",
   "metadata": {},
   "outputs": [
    {
     "data": {
      "text/plain": [
       "북산고    5\n",
       "능남고    3\n",
       "Name: 학교, dtype: int64"
      ]
     },
     "execution_count": 39,
     "metadata": {},
     "output_type": "execute_result"
    }
   ],
   "source": [
    "df['학교'].value_counts()"
   ]
  },
  {
   "cell_type": "code",
   "execution_count": null,
   "id": "5dfbdab2",
   "metadata": {},
   "outputs": [],
   "source": []
  }
 ],
 "metadata": {
  "kernelspec": {
   "display_name": "Python 3",
   "language": "python",
   "name": "python3"
  },
  "language_info": {
   "codemirror_mode": {
    "name": "ipython",
    "version": 3
   },
   "file_extension": ".py",
   "mimetype": "text/x-python",
   "name": "python",
   "nbconvert_exporter": "python",
   "pygments_lexer": "ipython3",
   "version": "3.5.6"
  }
 },
 "nbformat": 4,
 "nbformat_minor": 5
}
