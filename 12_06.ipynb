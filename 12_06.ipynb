{
  "nbformat": 4,
  "nbformat_minor": 0,
  "metadata": {
    "colab": {
      "name": "12_06.ipynb",
      "provenance": [],
      "collapsed_sections": [],
      "authorship_tag": "ABX9TyO8Bo7W2Aamh1VsxJIJv+Yq",
      "include_colab_link": true
    },
    "kernelspec": {
      "name": "python3",
      "display_name": "Python 3"
    },
    "language_info": {
      "name": "python"
    }
  },
  "cells": [
    {
      "cell_type": "markdown",
      "metadata": {
        "id": "view-in-github",
        "colab_type": "text"
      },
      "source": [
        "<a href=\"https://colab.research.google.com/github/KKugi/Big-Data/blob/main/12_06.ipynb\" target=\"_parent\"><img src=\"https://colab.research.google.com/assets/colab-badge.svg\" alt=\"Open In Colab\"/></a>"
      ]
    },
    {
      "cell_type": "code",
      "metadata": {
        "id": "8S0kbMk8FLrf"
      },
      "source": [
        "import pandas as pd\n",
        "import math"
      ],
      "execution_count": null,
      "outputs": []
    },
    {
      "cell_type": "code",
      "metadata": {
        "colab": {
          "base_uri": "https://localhost:8080/",
          "height": 492
        },
        "id": "oBM_1Yn6KwAq",
        "outputId": "ac4d28df-6c5e-4764-b24c-9c48b24dcb1a"
      },
      "source": [
        "retail_df = pd.read_csv('Online_Retail.csv')\n",
        "retail_df.head()"
      ],
      "execution_count": null,
      "outputs": [
        {
          "output_type": "execute_result",
          "data": {
            "text/html": [
              "<div>\n",
              "<style scoped>\n",
              "    .dataframe tbody tr th:only-of-type {\n",
              "        vertical-align: middle;\n",
              "    }\n",
              "\n",
              "    .dataframe tbody tr th {\n",
              "        vertical-align: top;\n",
              "    }\n",
              "\n",
              "    .dataframe thead th {\n",
              "        text-align: right;\n",
              "    }\n",
              "</style>\n",
              "<table border=\"1\" class=\"dataframe\">\n",
              "  <thead>\n",
              "    <tr style=\"text-align: right;\">\n",
              "      <th></th>\n",
              "      <th>InvoiceNo</th>\n",
              "      <th>StockCode</th>\n",
              "      <th>Description</th>\n",
              "      <th>Quantity</th>\n",
              "      <th>InvoiceDate</th>\n",
              "      <th>UnitPrice</th>\n",
              "      <th>CustomerID</th>\n",
              "      <th>Country</th>\n",
              "    </tr>\n",
              "  </thead>\n",
              "  <tbody>\n",
              "    <tr>\n",
              "      <th>0</th>\n",
              "      <td>536365</td>\n",
              "      <td>85123A</td>\n",
              "      <td>WHITE HANGING HEART T-LIGHT HOLDER</td>\n",
              "      <td>6</td>\n",
              "      <td>2010-12-01 8:26</td>\n",
              "      <td>2.55</td>\n",
              "      <td>17850.0</td>\n",
              "      <td>United Kingdom</td>\n",
              "    </tr>\n",
              "    <tr>\n",
              "      <th>1</th>\n",
              "      <td>536365</td>\n",
              "      <td>71053</td>\n",
              "      <td>WHITE METAL LANTERN</td>\n",
              "      <td>6</td>\n",
              "      <td>2010-12-01 8:26</td>\n",
              "      <td>3.39</td>\n",
              "      <td>17850.0</td>\n",
              "      <td>United Kingdom</td>\n",
              "    </tr>\n",
              "    <tr>\n",
              "      <th>2</th>\n",
              "      <td>536365</td>\n",
              "      <td>84406B</td>\n",
              "      <td>CREAM CUPID HEARTS COAT HANGER</td>\n",
              "      <td>8</td>\n",
              "      <td>2010-12-01 8:26</td>\n",
              "      <td>2.75</td>\n",
              "      <td>17850.0</td>\n",
              "      <td>United Kingdom</td>\n",
              "    </tr>\n",
              "    <tr>\n",
              "      <th>3</th>\n",
              "      <td>536365</td>\n",
              "      <td>84029G</td>\n",
              "      <td>KNITTED UNION FLAG HOT WATER BOTTLE</td>\n",
              "      <td>6</td>\n",
              "      <td>2010-12-01 8:26</td>\n",
              "      <td>3.39</td>\n",
              "      <td>17850.0</td>\n",
              "      <td>United Kingdom</td>\n",
              "    </tr>\n",
              "    <tr>\n",
              "      <th>4</th>\n",
              "      <td>536365</td>\n",
              "      <td>84029E</td>\n",
              "      <td>RED WOOLLY HOTTIE WHITE HEART.</td>\n",
              "      <td>6</td>\n",
              "      <td>2010-12-01 8:26</td>\n",
              "      <td>3.39</td>\n",
              "      <td>17850.0</td>\n",
              "      <td>United Kingdom</td>\n",
              "    </tr>\n",
              "  </tbody>\n",
              "</table>\n",
              "</div>"
            ],
            "text/plain": [
              "  InvoiceNo StockCode  ... CustomerID         Country\n",
              "0    536365    85123A  ...    17850.0  United Kingdom\n",
              "1    536365     71053  ...    17850.0  United Kingdom\n",
              "2    536365    84406B  ...    17850.0  United Kingdom\n",
              "3    536365    84029G  ...    17850.0  United Kingdom\n",
              "4    536365    84029E  ...    17850.0  United Kingdom\n",
              "\n",
              "[5 rows x 8 columns]"
            ]
          },
          "metadata": {},
          "execution_count": 2
        }
      ]
    },
    {
      "cell_type": "code",
      "metadata": {
        "colab": {
          "base_uri": "https://localhost:8080/"
        },
        "id": "ySW734_lKxx6",
        "outputId": "cd08112e-6888-45c7-ae1e-2ad69ebe6232"
      },
      "source": [
        "retail_df.info()"
      ],
      "execution_count": null,
      "outputs": [
        {
          "output_type": "stream",
          "name": "stdout",
          "text": [
            "<class 'pandas.core.frame.DataFrame'>\n",
            "RangeIndex: 541909 entries, 0 to 541908\n",
            "Data columns (total 8 columns):\n",
            " #   Column       Non-Null Count   Dtype  \n",
            "---  ------       --------------   -----  \n",
            " 0   InvoiceNo    541909 non-null  object \n",
            " 1   StockCode    541909 non-null  object \n",
            " 2   Description  540455 non-null  object \n",
            " 3   Quantity     541909 non-null  int64  \n",
            " 4   InvoiceDate  541909 non-null  object \n",
            " 5   UnitPrice    541909 non-null  float64\n",
            " 6   CustomerID   406829 non-null  float64\n",
            " 7   Country      541909 non-null  object \n",
            "dtypes: float64(2), int64(1), object(5)\n",
            "memory usage: 33.1+ MB\n"
          ]
        }
      ]
    },
    {
      "cell_type": "code",
      "metadata": {
        "id": "106DGv80K9_N"
      },
      "source": [
        "retail_df = retail_df[retail_df['Quantity'] > 0] \n",
        "retail_df = retail_df[retail_df['UnitPrice'] > 0] \n",
        "retail_df = retail_df[retail_df['CustomerID'].notnull()] \n",
        "\n",
        "# 'CustomerID' 자료형을 정수형으로 변환\n",
        "retail_df['CustomerID'] = retail_df['CustomerID'].astype(int)"
      ],
      "execution_count": null,
      "outputs": []
    },
    {
      "cell_type": "code",
      "metadata": {
        "colab": {
          "base_uri": "https://localhost:8080/"
        },
        "id": "B3_XDEiaLBN_",
        "outputId": "023b8da3-f0a3-45ba-865b-10effe564e72"
      },
      "source": [
        "retail_df.info()\n",
        "print(retail_df.isnull().sum())\n",
        "print(retail_df.shape)"
      ],
      "execution_count": null,
      "outputs": [
        {
          "output_type": "stream",
          "name": "stdout",
          "text": [
            "<class 'pandas.core.frame.DataFrame'>\n",
            "Int64Index: 397884 entries, 0 to 541908\n",
            "Data columns (total 8 columns):\n",
            " #   Column       Non-Null Count   Dtype  \n",
            "---  ------       --------------   -----  \n",
            " 0   InvoiceNo    397884 non-null  object \n",
            " 1   StockCode    397884 non-null  object \n",
            " 2   Description  397884 non-null  object \n",
            " 3   Quantity     397884 non-null  int64  \n",
            " 4   InvoiceDate  397884 non-null  object \n",
            " 5   UnitPrice    397884 non-null  float64\n",
            " 6   CustomerID   397884 non-null  int64  \n",
            " 7   Country      397884 non-null  object \n",
            "dtypes: float64(1), int64(2), object(5)\n",
            "memory usage: 27.3+ MB\n",
            "InvoiceNo      0\n",
            "StockCode      0\n",
            "Description    0\n",
            "Quantity       0\n",
            "InvoiceDate    0\n",
            "UnitPrice      0\n",
            "CustomerID     0\n",
            "Country        0\n",
            "dtype: int64\n",
            "(397884, 8)\n"
          ]
        }
      ]
    },
    {
      "cell_type": "code",
      "metadata": {
        "colab": {
          "base_uri": "https://localhost:8080/"
        },
        "id": "lJ79pRQuLD5F",
        "outputId": "23882517-7171-4107-9c52-d9a9978d293c"
      },
      "source": [
        "# 중복 레코드 제거\n",
        "retail_df.drop_duplicates(inplace=True)\n",
        "\n",
        "print(retail_df.shape) #작업 확인용 출력"
      ],
      "execution_count": null,
      "outputs": [
        {
          "output_type": "stream",
          "name": "stdout",
          "text": [
            "(392692, 8)\n"
          ]
        }
      ]
    },
    {
      "cell_type": "code",
      "metadata": {
        "colab": {
          "base_uri": "https://localhost:8080/",
          "height": 80
        },
        "id": "mMiteloMLTIl",
        "outputId": "46954adc-c4e5-4d3d-92d5-1409d14dff93"
      },
      "source": [
        "pd.DataFrame([{'Product':len(retail_df['StockCode'].value_counts()),\n",
        "              'Transaction':len(retail_df['InvoiceNo'].value_counts()),\n",
        "              'Customer':len(retail_df['CustomerID'].value_counts())}], \n",
        "             columns = ['Product', 'Transaction', 'Customer'],\n",
        "            index = ['counts'])"
      ],
      "execution_count": null,
      "outputs": [
        {
          "output_type": "execute_result",
          "data": {
            "text/html": [
              "<div>\n",
              "<style scoped>\n",
              "    .dataframe tbody tr th:only-of-type {\n",
              "        vertical-align: middle;\n",
              "    }\n",
              "\n",
              "    .dataframe tbody tr th {\n",
              "        vertical-align: top;\n",
              "    }\n",
              "\n",
              "    .dataframe thead th {\n",
              "        text-align: right;\n",
              "    }\n",
              "</style>\n",
              "<table border=\"1\" class=\"dataframe\">\n",
              "  <thead>\n",
              "    <tr style=\"text-align: right;\">\n",
              "      <th></th>\n",
              "      <th>Product</th>\n",
              "      <th>Transaction</th>\n",
              "      <th>Customer</th>\n",
              "    </tr>\n",
              "  </thead>\n",
              "  <tbody>\n",
              "    <tr>\n",
              "      <th>counts</th>\n",
              "      <td>3665</td>\n",
              "      <td>18532</td>\n",
              "      <td>4338</td>\n",
              "    </tr>\n",
              "  </tbody>\n",
              "</table>\n",
              "</div>"
            ],
            "text/plain": [
              "        Product  Transaction  Customer\n",
              "counts     3665        18532      4338"
            ]
          },
          "metadata": {},
          "execution_count": 7
        }
      ]
    },
    {
      "cell_type": "code",
      "metadata": {
        "colab": {
          "base_uri": "https://localhost:8080/"
        },
        "id": "BZSyEeYWLyuR",
        "outputId": "24cde843-1c1e-4cf1-808d-2a7b3c3ab5ca"
      },
      "source": [
        "retail_df['Country'].value_counts()"
      ],
      "execution_count": null,
      "outputs": [
        {
          "output_type": "execute_result",
          "data": {
            "text/plain": [
              "United Kingdom          349203\n",
              "Germany                   9025\n",
              "France                    8326\n",
              "EIRE                      7226\n",
              "Spain                     2479\n",
              "Netherlands               2359\n",
              "Belgium                   2031\n",
              "Switzerland               1841\n",
              "Portugal                  1453\n",
              "Australia                 1181\n",
              "Norway                    1071\n",
              "Italy                      758\n",
              "Channel Islands            747\n",
              "Finland                    685\n",
              "Cyprus                     603\n",
              "Sweden                     450\n",
              "Austria                    398\n",
              "Denmark                    380\n",
              "Poland                     330\n",
              "Japan                      321\n",
              "Israel                     245\n",
              "Unspecified                241\n",
              "Singapore                  222\n",
              "Iceland                    182\n",
              "USA                        179\n",
              "Canada                     151\n",
              "Greece                     145\n",
              "Malta                      112\n",
              "United Arab Emirates        68\n",
              "European Community          60\n",
              "RSA                         57\n",
              "Lebanon                     45\n",
              "Lithuania                   35\n",
              "Brazil                      32\n",
              "Czech Republic              25\n",
              "Bahrain                     17\n",
              "Saudi Arabia                 9\n",
              "Name: Country, dtype: int64"
            ]
          },
          "metadata": {},
          "execution_count": 8
        }
      ]
    },
    {
      "cell_type": "code",
      "metadata": {
        "colab": {
          "base_uri": "https://localhost:8080/"
        },
        "id": "jHh-YtqLMY58",
        "outputId": "07351211-b8c4-4d59-bc87-7a41dc2413ed"
      },
      "source": [
        "retail_df['StockCode'].value_counts()"
      ],
      "execution_count": null,
      "outputs": [
        {
          "output_type": "execute_result",
          "data": {
            "text/plain": [
              "85123A    2023\n",
              "22423     1713\n",
              "85099B    1615\n",
              "84879     1395\n",
              "47566     1389\n",
              "          ... \n",
              "47503J       1\n",
              "90182C       1\n",
              "84809B       1\n",
              "90039C       1\n",
              "20892        1\n",
              "Name: StockCode, Length: 3665, dtype: int64"
            ]
          },
          "metadata": {},
          "execution_count": 9
        }
      ]
    },
    {
      "cell_type": "code",
      "metadata": {
        "colab": {
          "base_uri": "https://localhost:8080/",
          "height": 492
        },
        "id": "YI2YfzNfMm1s",
        "outputId": "433083a6-ad72-4d2c-907f-5f965308daa3"
      },
      "source": [
        "# 주문금액 컬럼 추가\n",
        "retail_df['SaleAmount'] = retail_df['UnitPrice'] * retail_df['Quantity']\n",
        "\n",
        "retail_df.head() #작업 확인용 출력"
      ],
      "execution_count": null,
      "outputs": [
        {
          "output_type": "execute_result",
          "data": {
            "text/html": [
              "<div>\n",
              "<style scoped>\n",
              "    .dataframe tbody tr th:only-of-type {\n",
              "        vertical-align: middle;\n",
              "    }\n",
              "\n",
              "    .dataframe tbody tr th {\n",
              "        vertical-align: top;\n",
              "    }\n",
              "\n",
              "    .dataframe thead th {\n",
              "        text-align: right;\n",
              "    }\n",
              "</style>\n",
              "<table border=\"1\" class=\"dataframe\">\n",
              "  <thead>\n",
              "    <tr style=\"text-align: right;\">\n",
              "      <th></th>\n",
              "      <th>InvoiceNo</th>\n",
              "      <th>StockCode</th>\n",
              "      <th>Description</th>\n",
              "      <th>Quantity</th>\n",
              "      <th>InvoiceDate</th>\n",
              "      <th>UnitPrice</th>\n",
              "      <th>CustomerID</th>\n",
              "      <th>Country</th>\n",
              "      <th>SaleAmount</th>\n",
              "    </tr>\n",
              "  </thead>\n",
              "  <tbody>\n",
              "    <tr>\n",
              "      <th>0</th>\n",
              "      <td>536365</td>\n",
              "      <td>85123A</td>\n",
              "      <td>WHITE HANGING HEART T-LIGHT HOLDER</td>\n",
              "      <td>6</td>\n",
              "      <td>2010-12-01 8:26</td>\n",
              "      <td>2.55</td>\n",
              "      <td>17850</td>\n",
              "      <td>United Kingdom</td>\n",
              "      <td>15.30</td>\n",
              "    </tr>\n",
              "    <tr>\n",
              "      <th>1</th>\n",
              "      <td>536365</td>\n",
              "      <td>71053</td>\n",
              "      <td>WHITE METAL LANTERN</td>\n",
              "      <td>6</td>\n",
              "      <td>2010-12-01 8:26</td>\n",
              "      <td>3.39</td>\n",
              "      <td>17850</td>\n",
              "      <td>United Kingdom</td>\n",
              "      <td>20.34</td>\n",
              "    </tr>\n",
              "    <tr>\n",
              "      <th>2</th>\n",
              "      <td>536365</td>\n",
              "      <td>84406B</td>\n",
              "      <td>CREAM CUPID HEARTS COAT HANGER</td>\n",
              "      <td>8</td>\n",
              "      <td>2010-12-01 8:26</td>\n",
              "      <td>2.75</td>\n",
              "      <td>17850</td>\n",
              "      <td>United Kingdom</td>\n",
              "      <td>22.00</td>\n",
              "    </tr>\n",
              "    <tr>\n",
              "      <th>3</th>\n",
              "      <td>536365</td>\n",
              "      <td>84029G</td>\n",
              "      <td>KNITTED UNION FLAG HOT WATER BOTTLE</td>\n",
              "      <td>6</td>\n",
              "      <td>2010-12-01 8:26</td>\n",
              "      <td>3.39</td>\n",
              "      <td>17850</td>\n",
              "      <td>United Kingdom</td>\n",
              "      <td>20.34</td>\n",
              "    </tr>\n",
              "    <tr>\n",
              "      <th>4</th>\n",
              "      <td>536365</td>\n",
              "      <td>84029E</td>\n",
              "      <td>RED WOOLLY HOTTIE WHITE HEART.</td>\n",
              "      <td>6</td>\n",
              "      <td>2010-12-01 8:26</td>\n",
              "      <td>3.39</td>\n",
              "      <td>17850</td>\n",
              "      <td>United Kingdom</td>\n",
              "      <td>20.34</td>\n",
              "    </tr>\n",
              "  </tbody>\n",
              "</table>\n",
              "</div>"
            ],
            "text/plain": [
              "  InvoiceNo StockCode  ...         Country  SaleAmount\n",
              "0    536365    85123A  ...  United Kingdom       15.30\n",
              "1    536365     71053  ...  United Kingdom       20.34\n",
              "2    536365    84406B  ...  United Kingdom       22.00\n",
              "3    536365    84029G  ...  United Kingdom       20.34\n",
              "4    536365    84029E  ...  United Kingdom       20.34\n",
              "\n",
              "[5 rows x 9 columns]"
            ]
          },
          "metadata": {},
          "execution_count": 10
        }
      ]
    },
    {
      "cell_type": "code",
      "metadata": {
        "colab": {
          "base_uri": "https://localhost:8080/",
          "height": 203
        },
        "id": "5E6-r3jBNaxj",
        "outputId": "d91d26ab-b106-4e7c-a89d-ff735540b78c"
      },
      "source": [
        "aggregations = {    \n",
        "    'InvoiceNo':'count',\n",
        "    'SaleAmount':'sum',\n",
        "    'InvoiceDate':'max'\n",
        "}\n",
        "\n",
        "customer_df = retail_df.groupby('CustomerID').agg(aggregations)\n",
        "customer_df = customer_df.reset_index()  # set_index()함수는 데이터프레임을 먼저 불러온 후에, 특정 열을 인덱스로 설정할때 사용된다.\n",
        "\n",
        "customer_df.head()  #작업 확인용 출력"
      ],
      "execution_count": null,
      "outputs": [
        {
          "output_type": "execute_result",
          "data": {
            "text/html": [
              "<div>\n",
              "<style scoped>\n",
              "    .dataframe tbody tr th:only-of-type {\n",
              "        vertical-align: middle;\n",
              "    }\n",
              "\n",
              "    .dataframe tbody tr th {\n",
              "        vertical-align: top;\n",
              "    }\n",
              "\n",
              "    .dataframe thead th {\n",
              "        text-align: right;\n",
              "    }\n",
              "</style>\n",
              "<table border=\"1\" class=\"dataframe\">\n",
              "  <thead>\n",
              "    <tr style=\"text-align: right;\">\n",
              "      <th></th>\n",
              "      <th>CustomerID</th>\n",
              "      <th>InvoiceNo</th>\n",
              "      <th>SaleAmount</th>\n",
              "      <th>InvoiceDate</th>\n",
              "    </tr>\n",
              "  </thead>\n",
              "  <tbody>\n",
              "    <tr>\n",
              "      <th>0</th>\n",
              "      <td>12346</td>\n",
              "      <td>1</td>\n",
              "      <td>77183.60</td>\n",
              "      <td>2011-01-18 10:01</td>\n",
              "    </tr>\n",
              "    <tr>\n",
              "      <th>1</th>\n",
              "      <td>12347</td>\n",
              "      <td>182</td>\n",
              "      <td>4310.00</td>\n",
              "      <td>2011-12-07 15:52</td>\n",
              "    </tr>\n",
              "    <tr>\n",
              "      <th>2</th>\n",
              "      <td>12348</td>\n",
              "      <td>31</td>\n",
              "      <td>1797.24</td>\n",
              "      <td>2011-09-25 13:13</td>\n",
              "    </tr>\n",
              "    <tr>\n",
              "      <th>3</th>\n",
              "      <td>12349</td>\n",
              "      <td>73</td>\n",
              "      <td>1757.55</td>\n",
              "      <td>2011-11-21 9:51</td>\n",
              "    </tr>\n",
              "    <tr>\n",
              "      <th>4</th>\n",
              "      <td>12350</td>\n",
              "      <td>17</td>\n",
              "      <td>334.40</td>\n",
              "      <td>2011-02-02 16:01</td>\n",
              "    </tr>\n",
              "  </tbody>\n",
              "</table>\n",
              "</div>"
            ],
            "text/plain": [
              "   CustomerID  InvoiceNo  SaleAmount       InvoiceDate\n",
              "0       12346          1    77183.60  2011-01-18 10:01\n",
              "1       12347        182     4310.00  2011-12-07 15:52\n",
              "2       12348         31     1797.24  2011-09-25 13:13\n",
              "3       12349         73     1757.55   2011-11-21 9:51\n",
              "4       12350         17      334.40  2011-02-02 16:01"
            ]
          },
          "metadata": {},
          "execution_count": 11
        }
      ]
    },
    {
      "cell_type": "code",
      "metadata": {
        "colab": {
          "base_uri": "https://localhost:8080/",
          "height": 203
        },
        "id": "hIJLwAHvNrzb",
        "outputId": "f77a957f-b30d-49bf-b187-c66b440cf547"
      },
      "source": [
        "# 컬럼이름 바꾸기\n",
        "customer_df = customer_df.rename(columns = {'InvoiceNo':'Freq', 'InvoiceDate':'ElapsedDays'})\n",
        "\n",
        "customer_df.head() #작업 확인용 출력"
      ],
      "execution_count": null,
      "outputs": [
        {
          "output_type": "execute_result",
          "data": {
            "text/html": [
              "<div>\n",
              "<style scoped>\n",
              "    .dataframe tbody tr th:only-of-type {\n",
              "        vertical-align: middle;\n",
              "    }\n",
              "\n",
              "    .dataframe tbody tr th {\n",
              "        vertical-align: top;\n",
              "    }\n",
              "\n",
              "    .dataframe thead th {\n",
              "        text-align: right;\n",
              "    }\n",
              "</style>\n",
              "<table border=\"1\" class=\"dataframe\">\n",
              "  <thead>\n",
              "    <tr style=\"text-align: right;\">\n",
              "      <th></th>\n",
              "      <th>CustomerID</th>\n",
              "      <th>Freq</th>\n",
              "      <th>SaleAmount</th>\n",
              "      <th>ElapsedDays</th>\n",
              "    </tr>\n",
              "  </thead>\n",
              "  <tbody>\n",
              "    <tr>\n",
              "      <th>0</th>\n",
              "      <td>12346</td>\n",
              "      <td>1</td>\n",
              "      <td>77183.60</td>\n",
              "      <td>2011-01-18 10:01</td>\n",
              "    </tr>\n",
              "    <tr>\n",
              "      <th>1</th>\n",
              "      <td>12347</td>\n",
              "      <td>182</td>\n",
              "      <td>4310.00</td>\n",
              "      <td>2011-12-07 15:52</td>\n",
              "    </tr>\n",
              "    <tr>\n",
              "      <th>2</th>\n",
              "      <td>12348</td>\n",
              "      <td>31</td>\n",
              "      <td>1797.24</td>\n",
              "      <td>2011-09-25 13:13</td>\n",
              "    </tr>\n",
              "    <tr>\n",
              "      <th>3</th>\n",
              "      <td>12349</td>\n",
              "      <td>73</td>\n",
              "      <td>1757.55</td>\n",
              "      <td>2011-11-21 9:51</td>\n",
              "    </tr>\n",
              "    <tr>\n",
              "      <th>4</th>\n",
              "      <td>12350</td>\n",
              "      <td>17</td>\n",
              "      <td>334.40</td>\n",
              "      <td>2011-02-02 16:01</td>\n",
              "    </tr>\n",
              "  </tbody>\n",
              "</table>\n",
              "</div>"
            ],
            "text/plain": [
              "   CustomerID  Freq  SaleAmount       ElapsedDays\n",
              "0       12346     1    77183.60  2011-01-18 10:01\n",
              "1       12347   182     4310.00  2011-12-07 15:52\n",
              "2       12348    31     1797.24  2011-09-25 13:13\n",
              "3       12349    73     1757.55   2011-11-21 9:51\n",
              "4       12350    17      334.40  2011-02-02 16:01"
            ]
          },
          "metadata": {},
          "execution_count": 12
        }
      ]
    },
    {
      "cell_type": "code",
      "metadata": {
        "colab": {
          "base_uri": "https://localhost:8080/"
        },
        "id": "vPvMEfXEPFtf",
        "outputId": "434d1f2e-1349-448a-86bf-23b7dfc7cc3b"
      },
      "source": [
        "customer_df.info()"
      ],
      "execution_count": null,
      "outputs": [
        {
          "output_type": "stream",
          "name": "stdout",
          "text": [
            "<class 'pandas.core.frame.DataFrame'>\n",
            "RangeIndex: 4338 entries, 0 to 4337\n",
            "Data columns (total 4 columns):\n",
            " #   Column       Non-Null Count  Dtype  \n",
            "---  ------       --------------  -----  \n",
            " 0   CustomerID   4338 non-null   int64  \n",
            " 1   Freq         4338 non-null   int64  \n",
            " 2   SaleAmount   4338 non-null   float64\n",
            " 3   ElapsedDays  4338 non-null   object \n",
            "dtypes: float64(1), int64(2), object(1)\n",
            "memory usage: 135.7+ KB\n"
          ]
        }
      ]
    },
    {
      "cell_type": "code",
      "metadata": {
        "colab": {
          "base_uri": "https://localhost:8080/",
          "height": 414
        },
        "id": "thJprSoYOS_Y",
        "outputId": "4f95ff5f-66a7-45ad-b698-38b0d46b88d6"
      },
      "source": [
        "customer_df['ElapsedDays'] = pd.to_datetime(customer_df['ElapsedDays']) # datetime으로 타입 변환\n",
        "print(customer_df.info())\n",
        "\n",
        "import datetime \n",
        "\n",
        "customer_df['ElapsedDays'] = datetime.datetime(2011,12,10) - customer_df['ElapsedDays']\n",
        "\n",
        "customer_df.head() #작업 확인용 출력"
      ],
      "execution_count": null,
      "outputs": [
        {
          "output_type": "stream",
          "name": "stdout",
          "text": [
            "<class 'pandas.core.frame.DataFrame'>\n",
            "RangeIndex: 4338 entries, 0 to 4337\n",
            "Data columns (total 4 columns):\n",
            " #   Column       Non-Null Count  Dtype         \n",
            "---  ------       --------------  -----         \n",
            " 0   CustomerID   4338 non-null   int64         \n",
            " 1   Freq         4338 non-null   int64         \n",
            " 2   SaleAmount   4338 non-null   float64       \n",
            " 3   ElapsedDays  4338 non-null   datetime64[ns]\n",
            "dtypes: datetime64[ns](1), float64(1), int64(2)\n",
            "memory usage: 135.7 KB\n",
            "None\n"
          ]
        },
        {
          "output_type": "execute_result",
          "data": {
            "text/html": [
              "<div>\n",
              "<style scoped>\n",
              "    .dataframe tbody tr th:only-of-type {\n",
              "        vertical-align: middle;\n",
              "    }\n",
              "\n",
              "    .dataframe tbody tr th {\n",
              "        vertical-align: top;\n",
              "    }\n",
              "\n",
              "    .dataframe thead th {\n",
              "        text-align: right;\n",
              "    }\n",
              "</style>\n",
              "<table border=\"1\" class=\"dataframe\">\n",
              "  <thead>\n",
              "    <tr style=\"text-align: right;\">\n",
              "      <th></th>\n",
              "      <th>CustomerID</th>\n",
              "      <th>Freq</th>\n",
              "      <th>SaleAmount</th>\n",
              "      <th>ElapsedDays</th>\n",
              "    </tr>\n",
              "  </thead>\n",
              "  <tbody>\n",
              "    <tr>\n",
              "      <th>0</th>\n",
              "      <td>12346</td>\n",
              "      <td>1</td>\n",
              "      <td>77183.60</td>\n",
              "      <td>325 days 13:59:00</td>\n",
              "    </tr>\n",
              "    <tr>\n",
              "      <th>1</th>\n",
              "      <td>12347</td>\n",
              "      <td>182</td>\n",
              "      <td>4310.00</td>\n",
              "      <td>2 days 08:08:00</td>\n",
              "    </tr>\n",
              "    <tr>\n",
              "      <th>2</th>\n",
              "      <td>12348</td>\n",
              "      <td>31</td>\n",
              "      <td>1797.24</td>\n",
              "      <td>75 days 10:47:00</td>\n",
              "    </tr>\n",
              "    <tr>\n",
              "      <th>3</th>\n",
              "      <td>12349</td>\n",
              "      <td>73</td>\n",
              "      <td>1757.55</td>\n",
              "      <td>18 days 14:09:00</td>\n",
              "    </tr>\n",
              "    <tr>\n",
              "      <th>4</th>\n",
              "      <td>12350</td>\n",
              "      <td>17</td>\n",
              "      <td>334.40</td>\n",
              "      <td>310 days 07:59:00</td>\n",
              "    </tr>\n",
              "  </tbody>\n",
              "</table>\n",
              "</div>"
            ],
            "text/plain": [
              "   CustomerID  Freq  SaleAmount       ElapsedDays\n",
              "0       12346     1    77183.60 325 days 13:59:00\n",
              "1       12347   182     4310.00   2 days 08:08:00\n",
              "2       12348    31     1797.24  75 days 10:47:00\n",
              "3       12349    73     1757.55  18 days 14:09:00\n",
              "4       12350    17      334.40 310 days 07:59:00"
            ]
          },
          "metadata": {},
          "execution_count": 14
        }
      ]
    },
    {
      "cell_type": "code",
      "metadata": {
        "colab": {
          "base_uri": "https://localhost:8080/",
          "height": 203
        },
        "id": "gecrFGKjPq_D",
        "outputId": "4099c681-c127-4a67-9785-ba0c8c4d0d48"
      },
      "source": [
        "customer_df['ElapsedDays'] = customer_df['ElapsedDays'].apply(lambda x: x.days+1)\n",
        "customer_df.head() #작업 확인용 출력"
      ],
      "execution_count": null,
      "outputs": [
        {
          "output_type": "execute_result",
          "data": {
            "text/html": [
              "<div>\n",
              "<style scoped>\n",
              "    .dataframe tbody tr th:only-of-type {\n",
              "        vertical-align: middle;\n",
              "    }\n",
              "\n",
              "    .dataframe tbody tr th {\n",
              "        vertical-align: top;\n",
              "    }\n",
              "\n",
              "    .dataframe thead th {\n",
              "        text-align: right;\n",
              "    }\n",
              "</style>\n",
              "<table border=\"1\" class=\"dataframe\">\n",
              "  <thead>\n",
              "    <tr style=\"text-align: right;\">\n",
              "      <th></th>\n",
              "      <th>CustomerID</th>\n",
              "      <th>Freq</th>\n",
              "      <th>SaleAmount</th>\n",
              "      <th>ElapsedDays</th>\n",
              "    </tr>\n",
              "  </thead>\n",
              "  <tbody>\n",
              "    <tr>\n",
              "      <th>0</th>\n",
              "      <td>12346</td>\n",
              "      <td>1</td>\n",
              "      <td>77183.60</td>\n",
              "      <td>326</td>\n",
              "    </tr>\n",
              "    <tr>\n",
              "      <th>1</th>\n",
              "      <td>12347</td>\n",
              "      <td>182</td>\n",
              "      <td>4310.00</td>\n",
              "      <td>3</td>\n",
              "    </tr>\n",
              "    <tr>\n",
              "      <th>2</th>\n",
              "      <td>12348</td>\n",
              "      <td>31</td>\n",
              "      <td>1797.24</td>\n",
              "      <td>76</td>\n",
              "    </tr>\n",
              "    <tr>\n",
              "      <th>3</th>\n",
              "      <td>12349</td>\n",
              "      <td>73</td>\n",
              "      <td>1757.55</td>\n",
              "      <td>19</td>\n",
              "    </tr>\n",
              "    <tr>\n",
              "      <th>4</th>\n",
              "      <td>12350</td>\n",
              "      <td>17</td>\n",
              "      <td>334.40</td>\n",
              "      <td>311</td>\n",
              "    </tr>\n",
              "  </tbody>\n",
              "</table>\n",
              "</div>"
            ],
            "text/plain": [
              "   CustomerID  Freq  SaleAmount  ElapsedDays\n",
              "0       12346     1    77183.60          326\n",
              "1       12347   182     4310.00            3\n",
              "2       12348    31     1797.24           76\n",
              "3       12349    73     1757.55           19\n",
              "4       12350    17      334.40          311"
            ]
          },
          "metadata": {},
          "execution_count": 15
        }
      ]
    },
    {
      "cell_type": "code",
      "metadata": {
        "colab": {
          "base_uri": "https://localhost:8080/",
          "height": 265
        },
        "id": "D9JYElMfOfwc",
        "outputId": "38012eed-eee6-4d1e-a8ac-e6263b8591ee"
      },
      "source": [
        "import matplotlib.pyplot as plt\n",
        "import seaborn as sns\n",
        "\n",
        "fig, ax = plt.subplots()\n",
        "ax.boxplot([customer_df['Freq'], customer_df['SaleAmount'], customer_df['ElapsedDays']], sym='bo')\n",
        "plt.xticks([1, 2, 3], ['Freq', 'SaleAmount','ElapsedDays' ])\n",
        "\n",
        "plt.show()"
      ],
      "execution_count": null,
      "outputs": [
        {
          "output_type": "display_data",
          "data": {
            "image/png": "[encoded data removed]",
            "text/plain": [
              "<Figure size 432x288 with 1 Axes>"
            ]
          },
          "metadata": {
            "needs_background": "light"
          }
        }
      ]
    },
    {
      "cell_type": "code",
      "metadata": {
        "colab": {
          "base_uri": "https://localhost:8080/",
          "height": 223
        },
        "id": "Sxr59GLZPj7j",
        "outputId": "1056bf0e-f102-4078-e730-9978d191faef"
      },
      "source": [
        "import numpy as np\n",
        "\n",
        "customer_df['Freq_log'] = np.log1p(customer_df['Freq'])\n",
        "customer_df['SaleAmount_log'] = np.log1p(customer_df['SaleAmount'])\n",
        "customer_df['ElapsedDays_log'] = np.log1p(customer_df['ElapsedDays'])\n",
        "\n",
        "customer_df.head()  #작업 확인용 출력"
      ],
      "execution_count": null,
      "outputs": [
        {
          "output_type": "execute_result",
          "data": {
            "text/html": [
              "<div>\n",
              "<style scoped>\n",
              "    .dataframe tbody tr th:only-of-type {\n",
              "        vertical-align: middle;\n",
              "    }\n",
              "\n",
              "    .dataframe tbody tr th {\n",
              "        vertical-align: top;\n",
              "    }\n",
              "\n",
              "    .dataframe thead th {\n",
              "        text-align: right;\n",
              "    }\n",
              "</style>\n",
              "<table border=\"1\" class=\"dataframe\">\n",
              "  <thead>\n",
              "    <tr style=\"text-align: right;\">\n",
              "      <th></th>\n",
              "      <th>CustomerID</th>\n",
              "      <th>Freq</th>\n",
              "      <th>SaleAmount</th>\n",
              "      <th>ElapsedDays</th>\n",
              "      <th>Freq_log</th>\n",
              "      <th>SaleAmount_log</th>\n",
              "      <th>ElapsedDays_log</th>\n",
              "    </tr>\n",
              "  </thead>\n",
              "  <tbody>\n",
              "    <tr>\n",
              "      <th>0</th>\n",
              "      <td>12346</td>\n",
              "      <td>1</td>\n",
              "      <td>77183.60</td>\n",
              "      <td>326</td>\n",
              "      <td>0.693147</td>\n",
              "      <td>11.253955</td>\n",
              "      <td>5.789960</td>\n",
              "    </tr>\n",
              "    <tr>\n",
              "      <th>1</th>\n",
              "      <td>12347</td>\n",
              "      <td>182</td>\n",
              "      <td>4310.00</td>\n",
              "      <td>3</td>\n",
              "      <td>5.209486</td>\n",
              "      <td>8.368925</td>\n",
              "      <td>1.386294</td>\n",
              "    </tr>\n",
              "    <tr>\n",
              "      <th>2</th>\n",
              "      <td>12348</td>\n",
              "      <td>31</td>\n",
              "      <td>1797.24</td>\n",
              "      <td>76</td>\n",
              "      <td>3.465736</td>\n",
              "      <td>7.494564</td>\n",
              "      <td>4.343805</td>\n",
              "    </tr>\n",
              "    <tr>\n",
              "      <th>3</th>\n",
              "      <td>12349</td>\n",
              "      <td>73</td>\n",
              "      <td>1757.55</td>\n",
              "      <td>19</td>\n",
              "      <td>4.304065</td>\n",
              "      <td>7.472245</td>\n",
              "      <td>2.995732</td>\n",
              "    </tr>\n",
              "    <tr>\n",
              "      <th>4</th>\n",
              "      <td>12350</td>\n",
              "      <td>17</td>\n",
              "      <td>334.40</td>\n",
              "      <td>311</td>\n",
              "      <td>2.890372</td>\n",
              "      <td>5.815324</td>\n",
              "      <td>5.743003</td>\n",
              "    </tr>\n",
              "  </tbody>\n",
              "</table>\n",
              "</div>"
            ],
            "text/plain": [
              "   CustomerID  Freq  SaleAmount  ...  Freq_log  SaleAmount_log  ElapsedDays_log\n",
              "0       12346     1    77183.60  ...  0.693147       11.253955         5.789960\n",
              "1       12347   182     4310.00  ...  5.209486        8.368925         1.386294\n",
              "2       12348    31     1797.24  ...  3.465736        7.494564         4.343805\n",
              "3       12349    73     1757.55  ...  4.304065        7.472245         2.995732\n",
              "4       12350    17      334.40  ...  2.890372        5.815324         5.743003\n",
              "\n",
              "[5 rows x 7 columns]"
            ]
          },
          "metadata": {},
          "execution_count": 17
        }
      ]
    },
    {
      "cell_type": "code",
      "metadata": {
        "colab": {
          "base_uri": "https://localhost:8080/",
          "height": 266
        },
        "id": "wZVJdQgsQp3A",
        "outputId": "3308ef0d-cdbf-41d4-a1af-15c94a2904e7"
      },
      "source": [
        "# 조정된 데이터 분포를 다시 박스플롯으로 확인하기\n",
        "fig, ax = plt.subplots()\n",
        "ax.boxplot([customer_df['Freq_log'], customer_df['SaleAmount_log'],customer_df['ElapsedDays_log']], sym='bo')\n",
        "plt.xticks([1, 2, 3], ['Freq_log', 'SaleAmount_log', 'ElapsedDays_log'])\n",
        "plt.show()"
      ],
      "execution_count": null,
      "outputs": [
        {
          "output_type": "display_data",
          "data": {
            "image/png": "[encoded data removed]",
            "text/plain": [
              "<Figure size 432x288 with 1 Axes>"
            ]
          },
          "metadata": {
            "needs_background": "light"
          }
        }
      ]
    },
    {
      "cell_type": "code",
      "metadata": {
        "id": "O0HeZbDGQxyn"
      },
      "source": [
        "from sklearn.cluster import KMeans\n",
        "from sklearn.metrics import silhouette_score, silhouette_samples"
      ],
      "execution_count": null,
      "outputs": []
    },
    {
      "cell_type": "code",
      "metadata": {
        "id": "DhNniLvkRI10"
      },
      "source": [
        "X_features = customer_df[['Freq_log', 'SaleAmount_log', 'ElapsedDays_log']].values"
      ],
      "execution_count": null,
      "outputs": []
    },
    {
      "cell_type": "code",
      "metadata": {
        "colab": {
          "base_uri": "https://localhost:8080/"
        },
        "id": "RT8FQ8NuReW7",
        "outputId": "eb48ea91-7c3d-4c28-aa25-1bd4e8207390"
      },
      "source": [
        "X_features.shape"
      ],
      "execution_count": null,
      "outputs": [
        {
          "output_type": "execute_result",
          "data": {
            "text/plain": [
              "(4338, 3)"
            ]
          },
          "metadata": {},
          "execution_count": 21
        }
      ]
    },
    {
      "cell_type": "code",
      "metadata": {
        "id": "ccCvZC5BRfVB"
      },
      "source": [
        "# 정규 분포로 다시 스케일링하기\n",
        "from sklearn.preprocessing import StandardScaler\n",
        "\n",
        "X_features_scaled = StandardScaler().fit_transform(X_features)"
      ],
      "execution_count": null,
      "outputs": []
    },
    {
      "cell_type": "code",
      "metadata": {
        "colab": {
          "base_uri": "https://localhost:8080/",
          "height": 279
        },
        "id": "D_Jbgs44RreD",
        "outputId": "a3dc18be-ee0f-4b22-de10-81d820f90078"
      },
      "source": [
        "distortions = []\n",
        "\n",
        "for i in range(1, 11):\n",
        "    kmeans_i = KMeans(n_clusters=i, random_state=0)  # 모델 생성\n",
        "    kmeans_i.fit(X_features_scaled)   # 모델 훈련\n",
        "    distortions.append(kmeans_i.inertia_) # https://ysyblog.tistory.com/84\n",
        "    \n",
        "plt.plot(range(1,11), distortions, marker='o')\n",
        "plt.xlabel('Number of clusters')\n",
        "plt.ylabel('Distortion')\n",
        "plt.show()"
      ],
      "execution_count": null,
      "outputs": [
        {
          "output_type": "display_data",
          "data": {
            "image/png": "[encoded data removed]",
            "text/plain": [
              "<Figure size 432x288 with 1 Axes>"
            ]
          },
          "metadata": {
            "needs_background": "light"
          }
        }
      ]
    },
    {
      "cell_type": "code",
      "metadata": {
        "id": "zOeix0eSSToV"
      },
      "source": [
        "kmeans = KMeans(n_clusters=3, random_state=0) # 모델 생성\n",
        "\n",
        "# 모델 학습과 결과 예측(클러스터 레이블 생성)\n",
        "Y_labels = kmeans.fit_predict(X_features_scaled) "
      ],
      "execution_count": null,
      "outputs": []
    },
    {
      "cell_type": "code",
      "metadata": {
        "colab": {
          "base_uri": "https://localhost:8080/",
          "height": 223
        },
        "id": "YF9DkaATSzEL",
        "outputId": "a9697e76-c09b-4b88-f114-361d35cf93e2"
      },
      "source": [
        "customer_df['ClusterLabel'] = Y_labels\n",
        "\n",
        "customer_df.head()  #작업 확인용 출력"
      ],
      "execution_count": null,
      "outputs": [
        {
          "output_type": "execute_result",
          "data": {
            "text/html": [
              "<div>\n",
              "<style scoped>\n",
              "    .dataframe tbody tr th:only-of-type {\n",
              "        vertical-align: middle;\n",
              "    }\n",
              "\n",
              "    .dataframe tbody tr th {\n",
              "        vertical-align: top;\n",
              "    }\n",
              "\n",
              "    .dataframe thead th {\n",
              "        text-align: right;\n",
              "    }\n",
              "</style>\n",
              "<table border=\"1\" class=\"dataframe\">\n",
              "  <thead>\n",
              "    <tr style=\"text-align: right;\">\n",
              "      <th></th>\n",
              "      <th>CustomerID</th>\n",
              "      <th>Freq</th>\n",
              "      <th>SaleAmount</th>\n",
              "      <th>ElapsedDays</th>\n",
              "      <th>Freq_log</th>\n",
              "      <th>SaleAmount_log</th>\n",
              "      <th>ElapsedDays_log</th>\n",
              "      <th>ClusterLabel</th>\n",
              "    </tr>\n",
              "  </thead>\n",
              "  <tbody>\n",
              "    <tr>\n",
              "      <th>0</th>\n",
              "      <td>12346</td>\n",
              "      <td>1</td>\n",
              "      <td>77183.60</td>\n",
              "      <td>326</td>\n",
              "      <td>0.693147</td>\n",
              "      <td>11.253955</td>\n",
              "      <td>5.789960</td>\n",
              "      <td>2</td>\n",
              "    </tr>\n",
              "    <tr>\n",
              "      <th>1</th>\n",
              "      <td>12347</td>\n",
              "      <td>182</td>\n",
              "      <td>4310.00</td>\n",
              "      <td>3</td>\n",
              "      <td>5.209486</td>\n",
              "      <td>8.368925</td>\n",
              "      <td>1.386294</td>\n",
              "      <td>1</td>\n",
              "    </tr>\n",
              "    <tr>\n",
              "      <th>2</th>\n",
              "      <td>12348</td>\n",
              "      <td>31</td>\n",
              "      <td>1797.24</td>\n",
              "      <td>76</td>\n",
              "      <td>3.465736</td>\n",
              "      <td>7.494564</td>\n",
              "      <td>4.343805</td>\n",
              "      <td>2</td>\n",
              "    </tr>\n",
              "    <tr>\n",
              "      <th>3</th>\n",
              "      <td>12349</td>\n",
              "      <td>73</td>\n",
              "      <td>1757.55</td>\n",
              "      <td>19</td>\n",
              "      <td>4.304065</td>\n",
              "      <td>7.472245</td>\n",
              "      <td>2.995732</td>\n",
              "      <td>2</td>\n",
              "    </tr>\n",
              "    <tr>\n",
              "      <th>4</th>\n",
              "      <td>12350</td>\n",
              "      <td>17</td>\n",
              "      <td>334.40</td>\n",
              "      <td>311</td>\n",
              "      <td>2.890372</td>\n",
              "      <td>5.815324</td>\n",
              "      <td>5.743003</td>\n",
              "      <td>0</td>\n",
              "    </tr>\n",
              "  </tbody>\n",
              "</table>\n",
              "</div>"
            ],
            "text/plain": [
              "   CustomerID  Freq  SaleAmount  ...  SaleAmount_log  ElapsedDays_log  ClusterLabel\n",
              "0       12346     1    77183.60  ...       11.253955         5.789960             2\n",
              "1       12347   182     4310.00  ...        8.368925         1.386294             1\n",
              "2       12348    31     1797.24  ...        7.494564         4.343805             2\n",
              "3       12349    73     1757.55  ...        7.472245         2.995732             2\n",
              "4       12350    17      334.40  ...        5.815324         5.743003             0\n",
              "\n",
              "[5 rows x 8 columns]"
            ]
          },
          "metadata": {},
          "execution_count": 25
        }
      ]
    },
    {
      "cell_type": "code",
      "metadata": {
        "colab": {
          "base_uri": "https://localhost:8080/"
        },
        "id": "D9u2exwqS3Fq",
        "outputId": "ad0ac88d-9c48-4244-a928-fe4264234bd3"
      },
      "source": [
        "customer_df['ClusterLabel'].value_counts()"
      ],
      "execution_count": null,
      "outputs": [
        {
          "output_type": "execute_result",
          "data": {
            "text/plain": [
              "2    1819\n",
              "0    1513\n",
              "1    1006\n",
              "Name: ClusterLabel, dtype: int64"
            ]
          },
          "metadata": {},
          "execution_count": 26
        }
      ]
    },
    {
      "cell_type": "code",
      "metadata": {
        "id": "Ykpc84ChTPk-"
      },
      "source": [
        "from matplotlib import cm\n",
        "\n",
        "def silhouetteViz(n_cluster, X_features): \n",
        "    \n",
        "    kmeans = KMeans(n_clusters=n_cluster, random_state=0)\n",
        "    Y_labels = kmeans.fit_predict(X_features)\n",
        "    \n",
        "    silhouette_values = silhouette_samples(X_features, Y_labels, metric='euclidean')\n",
        "\n",
        "    y_ax_lower, y_ax_upper = 0, 0\n",
        "    y_ticks = []\n",
        "\n",
        "    for c in range(n_cluster):\n",
        "        c_silhouettes = silhouette_values[Y_labels == c]\n",
        "        c_silhouettes.sort()\n",
        "        y_ax_upper += len(c_silhouettes)\n",
        "        color = cm.jet(float(c) / n_cluster)\n",
        "        plt.barh(range(y_ax_lower, y_ax_upper), c_silhouettes,\n",
        "                 height=1.0, edgecolor='none', color=color)\n",
        "        y_ticks.append((y_ax_lower + y_ax_upper) / 2.)\n",
        "        y_ax_lower += len(c_silhouettes)\n",
        "    \n",
        "    silhouette_avg = np.mean(silhouette_values)\n",
        "    plt.axvline(silhouette_avg, color='red', linestyle='--')\n",
        "    plt.title('Number of Cluster : '+ str(n_cluster)+'\\n' \\\n",
        "              + 'Silhouette Score : '+ str(round(silhouette_avg,3)))\n",
        "    plt.yticks(y_ticks, range(n_cluster))   \n",
        "    plt.xticks([0, 0.2, 0.4, 0.6, 0.8, 1])\n",
        "    plt.ylabel('Cluster')\n",
        "    plt.xlabel('Silhouette coefficient')\n",
        "    plt.tight_layout()\n",
        "    plt.show()"
      ],
      "execution_count": null,
      "outputs": []
    },
    {
      "cell_type": "code",
      "metadata": {
        "id": "HmkxU2-ZT_9H"
      },
      "source": [
        "def clusterScatter(n_cluster, X_features): \n",
        "    c_colors = []\n",
        "    kmeans = KMeans(n_clusters=n_cluster, random_state=0)\n",
        "    Y_labels = kmeans.fit_predict(X_features)\n",
        "\n",
        "    for i in range(n_cluster):\n",
        "        c_color = cm.jet(float(i) / n_cluster) #클러스터의 색상 설정\n",
        "        c_colors.append(c_color)\n",
        "        #클러스터의 데이터 분포를 동그라미로 시각화\n",
        "        plt.scatter(X_features[Y_labels == i,0], X_features[Y_labels == i,1],\n",
        "                     marker='o', color=c_color, edgecolor='black', s=50, \n",
        "                     label='cluster '+ str(i))       \n",
        "    \n",
        "    #각 클러스터의 중심점을 삼각형으로 표시\n",
        "    for i in range(n_cluster):\n",
        "        plt.scatter(kmeans.cluster_centers_[i,0], kmeans.cluster_centers_[i,1], \n",
        "                    marker='^', color=c_colors[i], edgecolor='w', s=200)\n",
        "        \n",
        "    plt.legend()\n",
        "    plt.grid()\n",
        "    plt.tight_layout()\n",
        "    plt.show()"
      ],
      "execution_count": null,
      "outputs": []
    },
    {
      "cell_type": "code",
      "metadata": {
        "colab": {
          "base_uri": "https://localhost:8080/",
          "height": 297
        },
        "id": "zMblbx2zUD2G",
        "outputId": "5218e71a-b264-464c-af39-750b3cd2141a"
      },
      "source": [
        "silhouetteViz(3, X_features_scaled) #클러스터 3개인 경우의 실루엣 score 및 각 클러스터 비중 시각화"
      ],
      "execution_count": null,
      "outputs": [
        {
          "output_type": "display_data",
          "data": {
            "image/png": "[encoded data removed]",
            "text/plain": [
              "<Figure size 432x288 with 1 Axes>"
            ]
          },
          "metadata": {
            "needs_background": "light"
          }
        }
      ]
    },
    {
      "cell_type": "code",
      "metadata": {
        "colab": {
          "base_uri": "https://localhost:8080/",
          "height": 297
        },
        "id": "cFkLBtLQUGf0",
        "outputId": "850134f0-389c-47ba-fa27-edba0232cdea"
      },
      "source": [
        "silhouetteViz(4, X_features_scaled) #클러스터 4개인 경우의 실루엣 score 및 각 클러스터 비중 시각화"
      ],
      "execution_count": null,
      "outputs": [
        {
          "output_type": "display_data",
          "data": {
            "image/png": "[encoded data removed]",
            "text/plain": [
              "<Figure size 432x288 with 1 Axes>"
            ]
          },
          "metadata": {
            "needs_background": "light"
          }
        }
      ]
    },
    {
      "cell_type": "code",
      "metadata": {
        "colab": {
          "base_uri": "https://localhost:8080/",
          "height": 297
        },
        "id": "_cLwCho0UMqS",
        "outputId": "25d016de-7151-4ce1-bc3e-71c4cf445017"
      },
      "source": [
        "silhouetteViz(5, X_features_scaled) #클러스터 5개인 경우의 실루엣 score 및 각 클러스터 비중 시각화"
      ],
      "execution_count": null,
      "outputs": [
        {
          "output_type": "display_data",
          "data": {
            "image/png": "[encoded data removed]",
            "text/plain": [
              "<Figure size 432x288 with 1 Axes>"
            ]
          },
          "metadata": {
            "needs_background": "light"
          }
        }
      ]
    },
    {
      "cell_type": "code",
      "metadata": {
        "colab": {
          "base_uri": "https://localhost:8080/",
          "height": 297
        },
        "id": "Fz-U7F1PUTid",
        "outputId": "b685dcfe-027f-4d99-b7e3-d3033ab6ae0a"
      },
      "source": [
        "silhouetteViz(6, X_features_scaled) #클러스터 6개인 경우의 실루엣 score 및 각 클러스터 비중 시각화"
      ],
      "execution_count": null,
      "outputs": [
        {
          "output_type": "display_data",
          "data": {
            "image/png": "[encoded data removed]",
            "text/plain": [
              "<Figure size 432x288 with 1 Axes>"
            ]
          },
          "metadata": {
            "needs_background": "light"
          }
        }
      ]
    },
    {
      "cell_type": "code",
      "metadata": {
        "colab": {
          "base_uri": "https://localhost:8080/",
          "height": 297
        },
        "id": "hfIOyW8vUjqq",
        "outputId": "f29b298d-c331-4ae3-d878-1100968ef75a"
      },
      "source": [
        "clusterScatter(3, X_features_scaled) #클러스터 3개인 경우의 클러스터 데이터 분포 시각화"
      ],
      "execution_count": null,
      "outputs": [
        {
          "output_type": "display_data",
          "data": {
            "image/png": "[encoded data removed]",
            "text/plain": [
              "<Figure size 432x288 with 1 Axes>"
            ]
          },
          "metadata": {
            "needs_background": "light"
          }
        }
      ]
    },
    {
      "cell_type": "code",
      "metadata": {
        "colab": {
          "base_uri": "https://localhost:8080/",
          "height": 297
        },
        "id": "lHgQdzEcUp2Y",
        "outputId": "380ee329-5d55-479e-cd5c-a613d9ef39f5"
      },
      "source": [
        "clusterScatter(4, X_features_scaled) #클러스터 4개인 경우의 클러스터 데이터 분포 시각화"
      ],
      "execution_count": null,
      "outputs": [
        {
          "output_type": "display_data",
          "data": {
            "image/png": "[encoded data removed]",
            "text/plain": [
              "<Figure size 432x288 with 1 Axes>"
            ]
          },
          "metadata": {
            "needs_background": "light"
          }
        }
      ]
    },
    {
      "cell_type": "code",
      "metadata": {
        "colab": {
          "base_uri": "https://localhost:8080/",
          "height": 297
        },
        "id": "EqOF_eYrUrzy",
        "outputId": "72d3d827-91f5-481d-8458-63345c856536"
      },
      "source": [
        "clusterScatter(5, X_features_scaled) #클러스터 5개인 경우의 클러스터 데이터 분포 시각화"
      ],
      "execution_count": null,
      "outputs": [
        {
          "output_type": "display_data",
          "data": {
            "image/png": "[encoded data removed]",
            "text/plain": [
              "<Figure size 432x288 with 1 Axes>"
            ]
          },
          "metadata": {
            "needs_background": "light"
          }
        }
      ]
    },
    {
      "cell_type": "code",
      "metadata": {
        "colab": {
          "base_uri": "https://localhost:8080/",
          "height": 297
        },
        "id": "B8dIws6aUtnR",
        "outputId": "09e2c1e4-c369-479b-971e-8ddd57601486"
      },
      "source": [
        "clusterScatter(6, X_features_scaled) #클러스터 6개인 경우의 클러스터 데이터 분포 시각화"
      ],
      "execution_count": null,
      "outputs": [
        {
          "output_type": "display_data",
          "data": {
            "image/png": "[encoded data removed]",
            "text/plain": [
              "<Figure size 432x288 with 1 Axes>"
            ]
          },
          "metadata": {
            "needs_background": "light"
          }
        }
      ]
    },
    {
      "cell_type": "markdown",
      "metadata": {
        "id": "yhorhCbcVnV4"
      },
      "source": [
        "### 실루엣 스코어\n",
        "https://nicola-ml.tistory.com/66"
      ]
    },
    {
      "cell_type": "code",
      "metadata": {
        "id": "BqhEBhoQUu5k"
      },
      "source": [
        "best_cluster = 6\n",
        "\n",
        "kmeans = KMeans(n_clusters=best_cluster, random_state=0)\n",
        "Y_labels = kmeans.fit_predict(X_features_scaled)"
      ],
      "execution_count": null,
      "outputs": []
    },
    {
      "cell_type": "code",
      "metadata": {
        "colab": {
          "base_uri": "https://localhost:8080/",
          "height": 223
        },
        "id": "O07DnJj4VCjx",
        "outputId": "f6013fcb-a632-476e-b667-06e63accae51"
      },
      "source": [
        "customer_df['ClusterLabel'] = Y_labels\n",
        "\n",
        "customer_df.head()   #작업 확인용 출력"
      ],
      "execution_count": null,
      "outputs": [
        {
          "output_type": "execute_result",
          "data": {
            "text/html": [
              "<div>\n",
              "<style scoped>\n",
              "    .dataframe tbody tr th:only-of-type {\n",
              "        vertical-align: middle;\n",
              "    }\n",
              "\n",
              "    .dataframe tbody tr th {\n",
              "        vertical-align: top;\n",
              "    }\n",
              "\n",
              "    .dataframe thead th {\n",
              "        text-align: right;\n",
              "    }\n",
              "</style>\n",
              "<table border=\"1\" class=\"dataframe\">\n",
              "  <thead>\n",
              "    <tr style=\"text-align: right;\">\n",
              "      <th></th>\n",
              "      <th>CustomerID</th>\n",
              "      <th>Freq</th>\n",
              "      <th>SaleAmount</th>\n",
              "      <th>ElapsedDays</th>\n",
              "      <th>Freq_log</th>\n",
              "      <th>SaleAmount_log</th>\n",
              "      <th>ElapsedDays_log</th>\n",
              "      <th>ClusterLabel</th>\n",
              "    </tr>\n",
              "  </thead>\n",
              "  <tbody>\n",
              "    <tr>\n",
              "      <th>0</th>\n",
              "      <td>12346</td>\n",
              "      <td>1</td>\n",
              "      <td>77183.60</td>\n",
              "      <td>326</td>\n",
              "      <td>0.693147</td>\n",
              "      <td>11.253955</td>\n",
              "      <td>5.789960</td>\n",
              "      <td>5</td>\n",
              "    </tr>\n",
              "    <tr>\n",
              "      <th>1</th>\n",
              "      <td>12347</td>\n",
              "      <td>182</td>\n",
              "      <td>4310.00</td>\n",
              "      <td>3</td>\n",
              "      <td>5.209486</td>\n",
              "      <td>8.368925</td>\n",
              "      <td>1.386294</td>\n",
              "      <td>0</td>\n",
              "    </tr>\n",
              "    <tr>\n",
              "      <th>2</th>\n",
              "      <td>12348</td>\n",
              "      <td>31</td>\n",
              "      <td>1797.24</td>\n",
              "      <td>76</td>\n",
              "      <td>3.465736</td>\n",
              "      <td>7.494564</td>\n",
              "      <td>4.343805</td>\n",
              "      <td>5</td>\n",
              "    </tr>\n",
              "    <tr>\n",
              "      <th>3</th>\n",
              "      <td>12349</td>\n",
              "      <td>73</td>\n",
              "      <td>1757.55</td>\n",
              "      <td>19</td>\n",
              "      <td>4.304065</td>\n",
              "      <td>7.472245</td>\n",
              "      <td>2.995732</td>\n",
              "      <td>4</td>\n",
              "    </tr>\n",
              "    <tr>\n",
              "      <th>4</th>\n",
              "      <td>12350</td>\n",
              "      <td>17</td>\n",
              "      <td>334.40</td>\n",
              "      <td>311</td>\n",
              "      <td>2.890372</td>\n",
              "      <td>5.815324</td>\n",
              "      <td>5.743003</td>\n",
              "      <td>1</td>\n",
              "    </tr>\n",
              "  </tbody>\n",
              "</table>\n",
              "</div>"
            ],
            "text/plain": [
              "   CustomerID  Freq  SaleAmount  ...  SaleAmount_log  ElapsedDays_log  ClusterLabel\n",
              "0       12346     1    77183.60  ...       11.253955         5.789960             5\n",
              "1       12347   182     4310.00  ...        8.368925         1.386294             0\n",
              "2       12348    31     1797.24  ...        7.494564         4.343805             5\n",
              "3       12349    73     1757.55  ...        7.472245         2.995732             4\n",
              "4       12350    17      334.40  ...        5.815324         5.743003             1\n",
              "\n",
              "[5 rows x 8 columns]"
            ]
          },
          "metadata": {},
          "execution_count": 38
        }
      ]
    },
    {
      "cell_type": "code",
      "metadata": {
        "id": "lgN7xtcBVGBY"
      },
      "source": [
        "customer_df.to_csv('Online_Retail_Customer_Cluster.csv')"
      ],
      "execution_count": null,
      "outputs": []
    },
    {
      "cell_type": "code",
      "metadata": {
        "colab": {
          "base_uri": "https://localhost:8080/"
        },
        "id": "ubOR-ukMVNRc",
        "outputId": "b9364d72-a18e-4e21-dac4-d02d02e9c13b"
      },
      "source": [
        "customer_df.groupby('ClusterLabel')['CustomerID'].count()"
      ],
      "execution_count": null,
      "outputs": [
        {
          "output_type": "execute_result",
          "data": {
            "text/plain": [
              "ClusterLabel\n",
              "0    509\n",
              "1    927\n",
              "2    611\n",
              "3    760\n",
              "4    650\n",
              "5    881\n",
              "Name: CustomerID, dtype: int64"
            ]
          },
          "metadata": {},
          "execution_count": 40
        }
      ]
    },
    {
      "cell_type": "code",
      "metadata": {
        "id": "oNwghVZVWM03"
      },
      "source": [
        "customer_cluster_df = customer_df.drop(['Freq_log', 'SaleAmount_log', 'ElapsedDays_log'],axis=1, inplace=False)"
      ],
      "execution_count": null,
      "outputs": []
    },
    {
      "cell_type": "code",
      "metadata": {
        "colab": {
          "base_uri": "https://localhost:8080/",
          "height": 203
        },
        "id": "4WjRBQK3WOqD",
        "outputId": "38eed7fb-d9e3-40de-f423-a3b814f28fff"
      },
      "source": [
        "# 주문 1회당 평균 구매금액 : SaleAmountAvg\n",
        "customer_cluster_df['SaleAmountAvg'] = customer_cluster_df['SaleAmount']/customer_cluster_df['Freq']\n",
        "\n",
        "customer_cluster_df.head()"
      ],
      "execution_count": null,
      "outputs": [
        {
          "output_type": "execute_result",
          "data": {
            "text/html": [
              "<div>\n",
              "<style scoped>\n",
              "    .dataframe tbody tr th:only-of-type {\n",
              "        vertical-align: middle;\n",
              "    }\n",
              "\n",
              "    .dataframe tbody tr th {\n",
              "        vertical-align: top;\n",
              "    }\n",
              "\n",
              "    .dataframe thead th {\n",
              "        text-align: right;\n",
              "    }\n",
              "</style>\n",
              "<table border=\"1\" class=\"dataframe\">\n",
              "  <thead>\n",
              "    <tr style=\"text-align: right;\">\n",
              "      <th></th>\n",
              "      <th>CustomerID</th>\n",
              "      <th>Freq</th>\n",
              "      <th>SaleAmount</th>\n",
              "      <th>ElapsedDays</th>\n",
              "      <th>ClusterLabel</th>\n",
              "      <th>SaleAmountAvg</th>\n",
              "    </tr>\n",
              "  </thead>\n",
              "  <tbody>\n",
              "    <tr>\n",
              "      <th>0</th>\n",
              "      <td>12346</td>\n",
              "      <td>1</td>\n",
              "      <td>77183.60</td>\n",
              "      <td>326</td>\n",
              "      <td>5</td>\n",
              "      <td>77183.600000</td>\n",
              "    </tr>\n",
              "    <tr>\n",
              "      <th>1</th>\n",
              "      <td>12347</td>\n",
              "      <td>182</td>\n",
              "      <td>4310.00</td>\n",
              "      <td>3</td>\n",
              "      <td>0</td>\n",
              "      <td>23.681319</td>\n",
              "    </tr>\n",
              "    <tr>\n",
              "      <th>2</th>\n",
              "      <td>12348</td>\n",
              "      <td>31</td>\n",
              "      <td>1797.24</td>\n",
              "      <td>76</td>\n",
              "      <td>5</td>\n",
              "      <td>57.975484</td>\n",
              "    </tr>\n",
              "    <tr>\n",
              "      <th>3</th>\n",
              "      <td>12349</td>\n",
              "      <td>73</td>\n",
              "      <td>1757.55</td>\n",
              "      <td>19</td>\n",
              "      <td>4</td>\n",
              "      <td>24.076027</td>\n",
              "    </tr>\n",
              "    <tr>\n",
              "      <th>4</th>\n",
              "      <td>12350</td>\n",
              "      <td>17</td>\n",
              "      <td>334.40</td>\n",
              "      <td>311</td>\n",
              "      <td>1</td>\n",
              "      <td>19.670588</td>\n",
              "    </tr>\n",
              "  </tbody>\n",
              "</table>\n",
              "</div>"
            ],
            "text/plain": [
              "   CustomerID  Freq  SaleAmount  ElapsedDays  ClusterLabel  SaleAmountAvg\n",
              "0       12346     1    77183.60          326             5   77183.600000\n",
              "1       12347   182     4310.00            3             0      23.681319\n",
              "2       12348    31     1797.24           76             5      57.975484\n",
              "3       12349    73     1757.55           19             4      24.076027\n",
              "4       12350    17      334.40          311             1      19.670588"
            ]
          },
          "metadata": {},
          "execution_count": 42
        }
      ]
    },
    {
      "cell_type": "code",
      "metadata": {
        "colab": {
          "base_uri": "https://localhost:8080/",
          "height": 265
        },
        "id": "5s-aOPsWWP1E",
        "outputId": "2c1e9d5b-cf38-495a-c104-0ffda1ff1e5e"
      },
      "source": [
        "# 클러스터별 분석\n",
        "customer_cluster_df.drop(['CustomerID'],axis=1, inplace=False).groupby('ClusterLabel').mean()"
      ],
      "execution_count": null,
      "outputs": [
        {
          "output_type": "execute_result",
          "data": {
            "text/html": [
              "<div>\n",
              "<style scoped>\n",
              "    .dataframe tbody tr th:only-of-type {\n",
              "        vertical-align: middle;\n",
              "    }\n",
              "\n",
              "    .dataframe tbody tr th {\n",
              "        vertical-align: top;\n",
              "    }\n",
              "\n",
              "    .dataframe thead th {\n",
              "        text-align: right;\n",
              "    }\n",
              "</style>\n",
              "<table border=\"1\" class=\"dataframe\">\n",
              "  <thead>\n",
              "    <tr style=\"text-align: right;\">\n",
              "      <th></th>\n",
              "      <th>Freq</th>\n",
              "      <th>SaleAmount</th>\n",
              "      <th>ElapsedDays</th>\n",
              "      <th>SaleAmountAvg</th>\n",
              "    </tr>\n",
              "    <tr>\n",
              "      <th>ClusterLabel</th>\n",
              "      <th></th>\n",
              "      <th></th>\n",
              "      <th></th>\n",
              "      <th></th>\n",
              "    </tr>\n",
              "  </thead>\n",
              "  <tbody>\n",
              "    <tr>\n",
              "      <th>0</th>\n",
              "      <td>378.088409</td>\n",
              "      <td>10387.419882</td>\n",
              "      <td>11.145383</td>\n",
              "      <td>147.524025</td>\n",
              "    </tr>\n",
              "    <tr>\n",
              "      <th>1</th>\n",
              "      <td>33.501618</td>\n",
              "      <td>575.380465</td>\n",
              "      <td>183.845739</td>\n",
              "      <td>27.731259</td>\n",
              "    </tr>\n",
              "    <tr>\n",
              "      <th>2</th>\n",
              "      <td>7.821604</td>\n",
              "      <td>199.696203</td>\n",
              "      <td>217.340426</td>\n",
              "      <td>58.731492</td>\n",
              "    </tr>\n",
              "    <tr>\n",
              "      <th>3</th>\n",
              "      <td>21.568421</td>\n",
              "      <td>362.322936</td>\n",
              "      <td>35.839474</td>\n",
              "      <td>29.420349</td>\n",
              "    </tr>\n",
              "    <tr>\n",
              "      <th>4</th>\n",
              "      <td>79.436923</td>\n",
              "      <td>1249.804754</td>\n",
              "      <td>11.573846</td>\n",
              "      <td>32.516379</td>\n",
              "    </tr>\n",
              "    <tr>\n",
              "      <th>5</th>\n",
              "      <td>109.402951</td>\n",
              "      <td>2107.697596</td>\n",
              "      <td>68.147560</td>\n",
              "      <td>132.193729</td>\n",
              "    </tr>\n",
              "  </tbody>\n",
              "</table>\n",
              "</div>"
            ],
            "text/plain": [
              "                    Freq    SaleAmount  ElapsedDays  SaleAmountAvg\n",
              "ClusterLabel                                                      \n",
              "0             378.088409  10387.419882    11.145383     147.524025\n",
              "1              33.501618    575.380465   183.845739      27.731259\n",
              "2               7.821604    199.696203   217.340426      58.731492\n",
              "3              21.568421    362.322936    35.839474      29.420349\n",
              "4              79.436923   1249.804754    11.573846      32.516379\n",
              "5             109.402951   2107.697596    68.147560     132.193729"
            ]
          },
          "metadata": {},
          "execution_count": 43
        }
      ]
    },
    {
      "cell_type": "code",
      "metadata": {
        "id": "FJBbq6h3WRin"
      },
      "source": [
        ""
      ],
      "execution_count": null,
      "outputs": []
    }
  ]
}