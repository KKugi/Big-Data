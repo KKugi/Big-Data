{
  "nbformat": 4,
  "nbformat_minor": 0,
  "metadata": {
    "colab": {
      "name": "09_20.ipynb",
      "provenance": [],
      "collapsed_sections": [],
      "authorship_tag": "ABX9TyOcxiRY7GxfW/fqEUyzQ1FQ",
      "include_colab_link": true
    },
    "kernelspec": {
      "name": "python3",
      "display_name": "Python 3"
    },
    "language_info": {
      "name": "python"
    }
  },
  "cells": [
    {
      "cell_type": "markdown",
      "metadata": {
        "id": "view-in-github",
        "colab_type": "text"
      },
      "source": [
        "<a href=\"https://colab.research.google.com/github/KKugi/Big-Data/blob/main/09_20.ipynb\" target=\"_parent\"><img src=\"https://colab.research.google.com/assets/colab-badge.svg\" alt=\"Open In Colab\"/></a>"
      ]
    },
    {
      "cell_type": "markdown",
      "metadata": {
        "id": "LrPAIom8OMe4"
      },
      "source": [
        "### 조건문\n"
      ]
    },
    {
      "cell_type": "code",
      "metadata": {
        "id": "_CfRtaHfMAXW"
      },
      "source": [
        "x = 3"
      ],
      "execution_count": null,
      "outputs": []
    },
    {
      "cell_type": "code",
      "metadata": {
        "id": "WKde2ZU_OJ9s"
      },
      "source": [
        "y = 2"
      ],
      "execution_count": null,
      "outputs": []
    },
    {
      "cell_type": "code",
      "metadata": {
        "colab": {
          "base_uri": "https://localhost:8080/"
        },
        "id": "-dRT7OF3OLKJ",
        "outputId": "3b23c15d-059a-440e-a12c-8274492ade35"
      },
      "source": [
        "x == y"
      ],
      "execution_count": null,
      "outputs": [
        {
          "output_type": "execute_result",
          "data": {
            "text/plain": [
              "False"
            ]
          },
          "metadata": {},
          "execution_count": 73
        }
      ]
    },
    {
      "cell_type": "code",
      "metadata": {
        "colab": {
          "base_uri": "https://localhost:8080/"
        },
        "id": "6dtEAfJ0OSNP",
        "outputId": "ffb2414f-4df0-493b-a9c4-cc2f4f9b6525"
      },
      "source": [
        "x != y"
      ],
      "execution_count": null,
      "outputs": [
        {
          "output_type": "execute_result",
          "data": {
            "text/plain": [
              "True"
            ]
          },
          "metadata": {},
          "execution_count": 74
        }
      ]
    },
    {
      "cell_type": "code",
      "metadata": {
        "colab": {
          "base_uri": "https://localhost:8080/"
        },
        "id": "xIDsi1OhOUSn",
        "outputId": "e43a1859-23fd-4e81-e17f-d2e5c362f13e"
      },
      "source": [
        "x >= y"
      ],
      "execution_count": null,
      "outputs": [
        {
          "output_type": "execute_result",
          "data": {
            "text/plain": [
              "True"
            ]
          },
          "metadata": {},
          "execution_count": 75
        }
      ]
    },
    {
      "cell_type": "code",
      "metadata": {
        "colab": {
          "base_uri": "https://localhost:8080/"
        },
        "id": "WOi2hqaJOeBj",
        "outputId": "2733d218-667e-422a-a2a7-13c1e672e460"
      },
      "source": [
        "x <= y"
      ],
      "execution_count": null,
      "outputs": [
        {
          "output_type": "execute_result",
          "data": {
            "text/plain": [
              "False"
            ]
          },
          "metadata": {},
          "execution_count": 76
        }
      ]
    },
    {
      "cell_type": "code",
      "metadata": {
        "colab": {
          "base_uri": "https://localhost:8080/"
        },
        "id": "6_LxRsooOgYE",
        "outputId": "b17e741d-c0ae-46be-d47a-7ddec802d737"
      },
      "source": [
        "money = 1300\n",
        "if money >= 1200 and money < 3500:\n",
        "    print('버스를 탈 수 있습니다.')\n"
      ],
      "execution_count": null,
      "outputs": [
        {
          "output_type": "stream",
          "name": "stdout",
          "text": [
            "버스를 탈 수 있습니다.\n"
          ]
        }
      ]
    },
    {
      "cell_type": "code",
      "metadata": {
        "colab": {
          "base_uri": "https://localhost:8080/"
        },
        "id": "lxBY1-omO9bX",
        "outputId": "af13c95a-2099-4a84-c59c-ad9a71f3f9a0"
      },
      "source": [
        "money = 1000\n",
        "if money >= 1200 and money < 3500:\n",
        "    print('버스를 탈 수 있습니다.')\n",
        "else:\n",
        "    print('버스를 탈 수 없습니다.')"
      ],
      "execution_count": null,
      "outputs": [
        {
          "output_type": "stream",
          "name": "stdout",
          "text": [
            "버스를 탈 수 없습니다.\n"
          ]
        }
      ]
    },
    {
      "cell_type": "code",
      "metadata": {
        "colab": {
          "base_uri": "https://localhost:8080/"
        },
        "id": "8td8SWYvPJAo",
        "outputId": "1022ff01-f5fc-4713-a073-077e8ba4419d"
      },
      "source": [
        "if 1 in [1,2,3]:\n",
        "    print('1은 있습니다.')"
      ],
      "execution_count": null,
      "outputs": [
        {
          "output_type": "stream",
          "name": "stdout",
          "text": [
            "1은 있습니다.\n"
          ]
        }
      ]
    },
    {
      "cell_type": "code",
      "metadata": {
        "colab": {
          "base_uri": "https://localhost:8080/"
        },
        "id": "iIioTTh6PsQe",
        "outputId": "247be1b3-dcd3-4869-b405-5cd65c226f1f"
      },
      "source": [
        "if 4 not in [1,2,3]:\n",
        "    print('4는 없습니다.')"
      ],
      "execution_count": null,
      "outputs": [
        {
          "output_type": "stream",
          "name": "stdout",
          "text": [
            "4는 없습니다.\n"
          ]
        }
      ]
    },
    {
      "cell_type": "code",
      "metadata": {
        "colab": {
          "base_uri": "https://localhost:8080/"
        },
        "id": "yGmrIU1fP3KF",
        "outputId": "0ef25064-944d-4c32-dc20-c4cb94e064f9"
      },
      "source": [
        "if 4 in [1,2,3]:\n",
        "    print('4는 있습니다.')\n",
        "else:\n",
        "    print('4는 없습니다.')"
      ],
      "execution_count": null,
      "outputs": [
        {
          "output_type": "stream",
          "name": "stdout",
          "text": [
            "4는 없습니다.\n"
          ]
        }
      ]
    },
    {
      "cell_type": "code",
      "metadata": {
        "colab": {
          "base_uri": "https://localhost:8080/"
        },
        "id": "JddAB-mXP97q",
        "outputId": "e9773093-1983-4764-b187-c238d4ce3248"
      },
      "source": [
        "score = int(input('점수를 입력하세요 : '))\n",
        "\n",
        "if score >= 90:\n",
        "    print('A학점!')\n",
        "elif score >= 80:\n",
        "    print('B학점!')\n",
        "elif score >= 70:\n",
        "    print('C학점!')      \n",
        "elif score >= 60:\n",
        "    print('D학점!')\n",
        "else:\n",
        "    print('F학점!')          "
      ],
      "execution_count": null,
      "outputs": [
        {
          "output_type": "stream",
          "name": "stdout",
          "text": [
            "점수를 입력하세요 : 60\n",
            "D학점!\n"
          ]
        }
      ]
    },
    {
      "cell_type": "markdown",
      "metadata": {
        "id": "tjxFVoPwRB_a"
      },
      "source": [
        "### 반복문\n",
        "#### for문\n"
      ]
    },
    {
      "cell_type": "code",
      "metadata": {
        "colab": {
          "base_uri": "https://localhost:8080/"
        },
        "id": "3IfaRVyuQhXk",
        "outputId": "32c62534-f64c-4523-93fe-5e6b8998e4a8"
      },
      "source": [
        "test_list = ['One','Two','Three']\n",
        "for i in test_list:\n",
        "    print(i)"
      ],
      "execution_count": null,
      "outputs": [
        {
          "output_type": "stream",
          "name": "stdout",
          "text": [
            "One\n",
            "Two\n",
            "Three\n"
          ]
        }
      ]
    },
    {
      "cell_type": "code",
      "metadata": {
        "colab": {
          "base_uri": "https://localhost:8080/"
        },
        "id": "YMLdsMT7RPq8",
        "outputId": "f8de9455-f764-4a22-e757-aceadf21ce1d"
      },
      "source": [
        "test_list = ['One','Two','Three']\n",
        "for i in test_list:\n",
        "    x = i + '!'\n",
        "    print(x)"
      ],
      "execution_count": null,
      "outputs": [
        {
          "output_type": "stream",
          "name": "stdout",
          "text": [
            "One!\n",
            "Two!\n",
            "Three!\n"
          ]
        }
      ]
    },
    {
      "cell_type": "code",
      "metadata": {
        "colab": {
          "base_uri": "https://localhost:8080/"
        },
        "id": "ptlr3oZWRmdm",
        "outputId": "e8913472-9657-48f2-cfd1-bc9296e58001"
      },
      "source": [
        "number = 0\n",
        "for score in [90,25,67,45,93]:\n",
        "    number = number+1\n",
        "    if score >= 60:\n",
        "        print(number, '번째 학생은 합격입니다.')\n",
        "    else:\n",
        "        print(number, '번째 학생은 불합격입니다.')    \n"
      ],
      "execution_count": null,
      "outputs": [
        {
          "output_type": "stream",
          "name": "stdout",
          "text": [
            "1 번째 학생은 합격입니다.\n",
            "2 번째 학생은 불합격입니다.\n",
            "3 번째 학생은 합격입니다.\n",
            "4 번째 학생은 불합격입니다.\n",
            "5 번째 학생은 합격입니다.\n"
          ]
        }
      ]
    },
    {
      "cell_type": "code",
      "metadata": {
        "colab": {
          "base_uri": "https://localhost:8080/"
        },
        "id": "ZXrhzYNZSOFM",
        "outputId": "b7509b94-2a28-4181-8374-0398cd098ec8"
      },
      "source": [
        "number = 0\n",
        "for score in [90,25,67,45,93]:\n",
        "    number = number+1\n",
        "    if score >= 60:\n",
        "        print('%d번째 학생은 %d점으로 합격입니다.' %(number,score))\n",
        "    else:\n",
        "        print('%d번째 학생은 %d점으로 불합격입니다.' %(number,score))    \n"
      ],
      "execution_count": null,
      "outputs": [
        {
          "output_type": "stream",
          "name": "stdout",
          "text": [
            "1번째 학생은 90점으로 합격입니다.\n",
            "2번째 학생은 25점으로 불합격입니다.\n",
            "3번째 학생은 67점으로 합격입니다.\n",
            "4번째 학생은 45점으로 불합격입니다.\n",
            "5번째 학생은 93점으로 합격입니다.\n"
          ]
        }
      ]
    },
    {
      "cell_type": "markdown",
      "metadata": {
        "id": "Nm4oDnSVTTO2"
      },
      "source": [
        "#### while문\n"
      ]
    },
    {
      "cell_type": "code",
      "metadata": {
        "colab": {
          "base_uri": "https://localhost:8080/"
        },
        "id": "1kU0FQ8FTefv",
        "outputId": "88522d80-143c-47b3-a5cd-8297706c1825"
      },
      "source": [
        "i = 0\n",
        "while i < 5:\n",
        "    i += 1\n",
        "    print('*' * i) "
      ],
      "execution_count": null,
      "outputs": [
        {
          "output_type": "stream",
          "name": "stdout",
          "text": [
            "*\n",
            "**\n",
            "***\n",
            "****\n",
            "*****\n"
          ]
        }
      ]
    },
    {
      "cell_type": "markdown",
      "metadata": {
        "id": "pzEwIG2nUdIh"
      },
      "source": [
        "### 함수\n",
        "#### 사용자 정의 함수\n"
      ]
    },
    {
      "cell_type": "code",
      "metadata": {
        "id": "goAtGBBVUe0A"
      },
      "source": [
        "# 함수 정의\n",
        "def sum1(a,b):\n",
        "    x = a + b\n",
        "    return x\n"
      ],
      "execution_count": null,
      "outputs": []
    },
    {
      "cell_type": "code",
      "metadata": {
        "colab": {
          "base_uri": "https://localhost:8080/"
        },
        "id": "pnFwwArHUrh1",
        "outputId": "0c2b5d45-5f88-4792-f110-5e6e46b5f255"
      },
      "source": [
        "a = 5\n",
        "b = 3\n",
        "sum1(a,b)\n",
        "sum1(3,5)"
      ],
      "execution_count": null,
      "outputs": [
        {
          "output_type": "execute_result",
          "data": {
            "text/plain": [
              "8"
            ]
          },
          "metadata": {},
          "execution_count": 94
        }
      ]
    },
    {
      "cell_type": "code",
      "metadata": {
        "id": "LDxcjOKUVHhl"
      },
      "source": [
        "def sum2(*args):\n",
        "    x = 0     \n",
        "    for i in args:\n",
        "        x += i\n",
        "    return x\n"
      ],
      "execution_count": null,
      "outputs": []
    },
    {
      "cell_type": "code",
      "metadata": {
        "colab": {
          "base_uri": "https://localhost:8080/"
        },
        "id": "dOcFzWG2U6bY",
        "outputId": "4a5d78fb-071f-455c-cc8f-ac1e75efaca0"
      },
      "source": [
        "sum2(1,2,3,4,5)"
      ],
      "execution_count": null,
      "outputs": [
        {
          "output_type": "execute_result",
          "data": {
            "text/plain": [
              "15"
            ]
          },
          "metadata": {},
          "execution_count": 105
        }
      ]
    },
    {
      "cell_type": "code",
      "metadata": {
        "colab": {
          "base_uri": "https://localhost:8080/"
        },
        "id": "8aXL_FO9Xaxc",
        "outputId": "fbe3d092-3a38-4dbc-9d7e-73477495f850"
      },
      "source": [
        "sum2(2,3.5,5)"
      ],
      "execution_count": null,
      "outputs": [
        {
          "output_type": "execute_result",
          "data": {
            "text/plain": [
              "10.5"
            ]
          },
          "metadata": {},
          "execution_count": 106
        }
      ]
    },
    {
      "cell_type": "code",
      "metadata": {
        "id": "4gC77uoJXdbq"
      },
      "source": [
        "def sum3(num):\n",
        "    sum = 0\n",
        "    for i in range(num):\n",
        "        sum += i\n",
        "    print(sum)    "
      ],
      "execution_count": null,
      "outputs": []
    },
    {
      "cell_type": "code",
      "metadata": {
        "colab": {
          "base_uri": "https://localhost:8080/"
        },
        "id": "smy4HX1AXvrj",
        "outputId": "2c66e2b1-b8b3-4a21-87c2-aac36cae596b"
      },
      "source": [
        "sum3(101)"
      ],
      "execution_count": null,
      "outputs": [
        {
          "output_type": "stream",
          "name": "stdout",
          "text": [
            "5050\n"
          ]
        }
      ]
    },
    {
      "cell_type": "markdown",
      "metadata": {
        "id": "GFP2By9iYWMy"
      },
      "source": [
        "#### 내장함수"
      ]
    },
    {
      "cell_type": "code",
      "metadata": {
        "colab": {
          "base_uri": "https://localhost:8080/"
        },
        "id": "Ocv4AM2CXw2_",
        "outputId": "c5d6ab34-9845-40e1-852d-515df7447683"
      },
      "source": [
        "abs(-3.5) # 절대치 "
      ],
      "execution_count": null,
      "outputs": [
        {
          "output_type": "execute_result",
          "data": {
            "text/plain": [
              "3.5"
            ]
          },
          "metadata": {},
          "execution_count": 124
        }
      ]
    },
    {
      "cell_type": "code",
      "metadata": {
        "colab": {
          "base_uri": "https://localhost:8080/"
        },
        "id": "QbtzbokHYh28",
        "outputId": "dd4806cd-d1ef-47d3-fc5e-1e2a3acc511e"
      },
      "source": [
        "all([1,2,3,4,5]) # 모든값이 참이면 참"
      ],
      "execution_count": null,
      "outputs": [
        {
          "output_type": "execute_result",
          "data": {
            "text/plain": [
              "True"
            ]
          },
          "metadata": {},
          "execution_count": 126
        }
      ]
    },
    {
      "cell_type": "code",
      "metadata": {
        "colab": {
          "base_uri": "https://localhost:8080/"
        },
        "id": "BKef17zjYmSD",
        "outputId": "d1e6d859-2226-4faa-b5fa-5ffa253930dc"
      },
      "source": [
        "all([0,1,2,3,4,5]) # 0이 하나라도 있으면 False"
      ],
      "execution_count": null,
      "outputs": [
        {
          "output_type": "execute_result",
          "data": {
            "text/plain": [
              "False"
            ]
          },
          "metadata": {},
          "execution_count": 128
        }
      ]
    },
    {
      "cell_type": "code",
      "metadata": {
        "colab": {
          "base_uri": "https://localhost:8080/"
        },
        "id": "j9nNZNSoYwxG",
        "outputId": "d7c323cd-2be8-4ac0-c232-8cc89c27a7c8"
      },
      "source": [
        "any([0,1,2,3,4,5]) # 그 중의 하나\n",
        "                   # True가 하나라도 있으니 True"
      ],
      "execution_count": null,
      "outputs": [
        {
          "output_type": "execute_result",
          "data": {
            "text/plain": [
              "True"
            ]
          },
          "metadata": {},
          "execution_count": 130
        }
      ]
    },
    {
      "cell_type": "code",
      "metadata": {
        "colab": {
          "base_uri": "https://localhost:8080/",
          "height": 35
        },
        "id": "LhFDOPVNY_bg",
        "outputId": "238e4945-70d4-460e-e7fe-aaa3f86e95fd"
      },
      "source": [
        "chr(97) # 아스키 코드"
      ],
      "execution_count": null,
      "outputs": [
        {
          "output_type": "execute_result",
          "data": {
            "application/vnd.google.colaboratory.intrinsic+json": {
              "type": "string"
            },
            "text/plain": [
              "'a'"
            ]
          },
          "metadata": {},
          "execution_count": 131
        }
      ]
    },
    {
      "cell_type": "code",
      "metadata": {
        "colab": {
          "base_uri": "https://localhost:8080/"
        },
        "id": "dORJJOZSZHMZ",
        "outputId": "34f5b3cc-10f8-45bb-8cec-7dc1b2366e37"
      },
      "source": [
        "ord('a') # chr 반대"
      ],
      "execution_count": null,
      "outputs": [
        {
          "output_type": "execute_result",
          "data": {
            "text/plain": [
              "97"
            ]
          },
          "metadata": {},
          "execution_count": 132
        }
      ]
    },
    {
      "cell_type": "code",
      "metadata": {
        "colab": {
          "base_uri": "https://localhost:8080/"
        },
        "id": "3IZXsGqBZMx_",
        "outputId": "2e7560de-6301-4bae-d2da-cc9107058f88"
      },
      "source": [
        "divmod(7,3) # 몫과 나머지\n",
        "            # (2,1) -> (몫,나머지)"
      ],
      "execution_count": null,
      "outputs": [
        {
          "output_type": "execute_result",
          "data": {
            "text/plain": [
              "(2, 1)"
            ]
          },
          "metadata": {},
          "execution_count": 133
        }
      ]
    },
    {
      "cell_type": "code",
      "metadata": {
        "colab": {
          "base_uri": "https://localhost:8080/"
        },
        "id": "YT09K-2jZO97",
        "outputId": "bf651785-93dc-4138-c981-2cd708877b54"
      },
      "source": [
        "int('3') # 문자 -> 숫자"
      ],
      "execution_count": null,
      "outputs": [
        {
          "output_type": "execute_result",
          "data": {
            "text/plain": [
              "3"
            ]
          },
          "metadata": {},
          "execution_count": 134
        }
      ]
    },
    {
      "cell_type": "code",
      "metadata": {
        "colab": {
          "base_uri": "https://localhost:8080/",
          "height": 35
        },
        "id": "z27x7fZOZchx",
        "outputId": "4b05cf5e-d758-48f0-e1d7-74e933e78687"
      },
      "source": [
        "str(3) # 숫자 -> 문자"
      ],
      "execution_count": null,
      "outputs": [
        {
          "output_type": "execute_result",
          "data": {
            "application/vnd.google.colaboratory.intrinsic+json": {
              "type": "string"
            },
            "text/plain": [
              "'3'"
            ]
          },
          "metadata": {},
          "execution_count": 136
        }
      ]
    },
    {
      "cell_type": "code",
      "metadata": {
        "colab": {
          "base_uri": "https://localhost:8080/"
        },
        "id": "UBW8YZs4Zgcw",
        "outputId": "26293bf7-23b3-4f26-d598-004346b74c01"
      },
      "source": [
        "list('Python')"
      ],
      "execution_count": null,
      "outputs": [
        {
          "output_type": "execute_result",
          "data": {
            "text/plain": [
              "['P', 'y', 't', 'h', 'o', 'n']"
            ]
          },
          "metadata": {},
          "execution_count": 137
        }
      ]
    },
    {
      "cell_type": "code",
      "metadata": {
        "colab": {
          "base_uri": "https://localhost:8080/"
        },
        "id": "y7rS0BKjZnuU",
        "outputId": "e732bc5d-cd01-44c0-93fa-9d8247e1e912"
      },
      "source": [
        "type('abc') # 자료형이 뭐야?!!"
      ],
      "execution_count": null,
      "outputs": [
        {
          "output_type": "execute_result",
          "data": {
            "text/plain": [
              "str"
            ]
          },
          "metadata": {},
          "execution_count": 138
        }
      ]
    },
    {
      "cell_type": "code",
      "metadata": {
        "colab": {
          "base_uri": "https://localhost:8080/"
        },
        "id": "eBvGH5F7Zq5e",
        "outputId": "84f65ce8-b3bf-4eb3-a2e8-af865163cfbd"
      },
      "source": [
        "max([1,4,2,8,6])"
      ],
      "execution_count": null,
      "outputs": [
        {
          "output_type": "execute_result",
          "data": {
            "text/plain": [
              "8"
            ]
          },
          "metadata": {},
          "execution_count": 139
        }
      ]
    },
    {
      "cell_type": "code",
      "metadata": {
        "colab": {
          "base_uri": "https://localhost:8080/"
        },
        "id": "w58KQSdfZ0Wl",
        "outputId": "0b28ca41-da7c-430b-d575-a753003c0ee7"
      },
      "source": [
        "min([1,4,2,8,6])"
      ],
      "execution_count": null,
      "outputs": [
        {
          "output_type": "execute_result",
          "data": {
            "text/plain": [
              "1"
            ]
          },
          "metadata": {},
          "execution_count": 140
        }
      ]
    },
    {
      "cell_type": "code",
      "metadata": {
        "colab": {
          "base_uri": "https://localhost:8080/"
        },
        "id": "voNkCClLZ3N1",
        "outputId": "0f4a06be-4c47-4ae8-eb60-b0bf2969186f"
      },
      "source": [
        "range(5)"
      ],
      "execution_count": null,
      "outputs": [
        {
          "output_type": "execute_result",
          "data": {
            "text/plain": [
              "range(0, 5)"
            ]
          },
          "metadata": {},
          "execution_count": 141
        }
      ]
    },
    {
      "cell_type": "code",
      "metadata": {
        "colab": {
          "base_uri": "https://localhost:8080/"
        },
        "id": "RNKOXGkxZ8zm",
        "outputId": "77d87be4-c803-4bf3-ca43-b12f877bb375"
      },
      "source": [
        "list(range(5))"
      ],
      "execution_count": null,
      "outputs": [
        {
          "output_type": "execute_result",
          "data": {
            "text/plain": [
              "[0, 1, 2, 3, 4]"
            ]
          },
          "metadata": {},
          "execution_count": 143
        }
      ]
    },
    {
      "cell_type": "code",
      "metadata": {
        "colab": {
          "base_uri": "https://localhost:8080/"
        },
        "id": "sNO0hbMbaBFb",
        "outputId": "d1ead4f2-3f65-4765-e614-166744e7675e"
      },
      "source": [
        "len('Python') # 길이"
      ],
      "execution_count": null,
      "outputs": [
        {
          "output_type": "execute_result",
          "data": {
            "text/plain": [
              "6"
            ]
          },
          "metadata": {},
          "execution_count": 144
        }
      ]
    },
    {
      "cell_type": "code",
      "metadata": {
        "colab": {
          "base_uri": "https://localhost:8080/"
        },
        "id": "BiTIlaNxaGto",
        "outputId": "660cc12b-913d-4aa4-daf8-872e76709377"
      },
      "source": [
        "sorted([3,0,2,1]) # list형태로 정렬"
      ],
      "execution_count": null,
      "outputs": [
        {
          "output_type": "execute_result",
          "data": {
            "text/plain": [
              "[0, 1, 2, 3]"
            ]
          },
          "metadata": {},
          "execution_count": 145
        }
      ]
    },
    {
      "cell_type": "code",
      "metadata": {
        "colab": {
          "base_uri": "https://localhost:8080/"
        },
        "id": "UhgrLepyaLZf",
        "outputId": "8cd8c2ac-a064-4a6a-bb84-2751054faaa6"
      },
      "source": [
        "a = list('Python')\n",
        "sorted(a)"
      ],
      "execution_count": null,
      "outputs": [
        {
          "output_type": "execute_result",
          "data": {
            "text/plain": [
              "['P', 'h', 'n', 'o', 't', 'y']"
            ]
          },
          "metadata": {},
          "execution_count": 146
        }
      ]
    },
    {
      "cell_type": "code",
      "metadata": {
        "colab": {
          "base_uri": "https://localhost:8080/"
        },
        "id": "r0IKRG8MaVbE",
        "outputId": "663ba192-3339-4d77-f750-6204f05221dd"
      },
      "source": [
        "b = ('Python')\n",
        "sorted(b)"
      ],
      "execution_count": null,
      "outputs": [
        {
          "output_type": "execute_result",
          "data": {
            "text/plain": [
              "['P', 'h', 'n', 'o', 't', 'y']"
            ]
          },
          "metadata": {},
          "execution_count": 150
        }
      ]
    },
    {
      "cell_type": "code",
      "metadata": {
        "colab": {
          "base_uri": "https://localhost:8080/"
        },
        "id": "svW5FVXRaae2",
        "outputId": "26bff809-0b21-415d-e5e3-13a89aaee77a"
      },
      "source": [
        "c = (3,5,4,2,1)\n",
        "sorted(c)"
      ],
      "execution_count": null,
      "outputs": [
        {
          "output_type": "execute_result",
          "data": {
            "text/plain": [
              "[1, 2, 3, 4, 5]"
            ]
          },
          "metadata": {},
          "execution_count": 153
        }
      ]
    },
    {
      "cell_type": "code",
      "metadata": {
        "id": "e56RaIaHanAi"
      },
      "source": [
        "# sorted(2,5,3,4): 오류 "
      ],
      "execution_count": null,
      "outputs": []
    },
    {
      "cell_type": "markdown",
      "metadata": {
        "id": "SCDVJHNDa7I-"
      },
      "source": [
        "#### 모듈과 패키지"
      ]
    },
    {
      "cell_type": "code",
      "metadata": {
        "id": "PINYeYCMavFI"
      },
      "source": [
        "import urllib.request"
      ],
      "execution_count": null,
      "outputs": []
    },
    {
      "cell_type": "code",
      "metadata": {
        "colab": {
          "base_uri": "https://localhost:8080/"
        },
        "id": "dtBvV9g1bgth",
        "outputId": "da1a062c-2acb-466e-c571-38f94f52f4e7"
      },
      "source": [
        "urllib.request.Request('http://www.hanb.co.kr')"
      ],
      "execution_count": null,
      "outputs": [
        {
          "output_type": "execute_result",
          "data": {
            "text/plain": [
              "<urllib.request.Request at 0x7f171bc28a90>"
            ]
          },
          "metadata": {},
          "execution_count": 160
        }
      ]
    },
    {
      "cell_type": "code",
      "metadata": {
        "id": "H-3yAhbDb6dM"
      },
      "source": [
        "from datetime import datetime # datetime 모듈안에 있는 datetime만 가져옴"
      ],
      "execution_count": null,
      "outputs": []
    },
    {
      "cell_type": "code",
      "metadata": {
        "colab": {
          "base_uri": "https://localhost:8080/"
        },
        "id": "ylxRxL8LcEBF",
        "outputId": "3e1c45a0-2a6a-4127-9e11-5ccee308c83d"
      },
      "source": [
        "datetime.now()"
      ],
      "execution_count": null,
      "outputs": [
        {
          "output_type": "execute_result",
          "data": {
            "text/plain": [
              "datetime.datetime(2021, 9, 20, 9, 2, 34, 107151)"
            ]
          },
          "metadata": {},
          "execution_count": 163
        }
      ]
    },
    {
      "cell_type": "code",
      "metadata": {
        "id": "HygUfr5ScTk7"
      },
      "source": [
        "import datetime"
      ],
      "execution_count": null,
      "outputs": []
    },
    {
      "cell_type": "code",
      "metadata": {
        "colab": {
          "base_uri": "https://localhost:8080/"
        },
        "id": "R7B0I4g7cXeQ",
        "outputId": "ca6fcbc6-cffa-49f5-bc44-d5ecef9ae249"
      },
      "source": [
        "datetime.datetime.now()"
      ],
      "execution_count": null,
      "outputs": [
        {
          "output_type": "execute_result",
          "data": {
            "text/plain": [
              "datetime.datetime(2021, 9, 20, 9, 3, 51, 415528)"
            ]
          },
          "metadata": {},
          "execution_count": 168
        }
      ]
    },
    {
      "cell_type": "markdown",
      "metadata": {
        "id": "dYRMB6imcsll"
      },
      "source": [
        "### 파일처리\n",
        "#### 파일 사용 모드"
      ]
    },
    {
      "cell_type": "code",
      "metadata": {
        "colab": {
          "base_uri": "https://localhost:8080/"
        },
        "id": "HYjT1eXNcZzJ",
        "outputId": "aec67f7e-bf44-4680-8672-229f77475095"
      },
      "source": [
        "f = open('test.txt','w') \n",
        "f"
      ],
      "execution_count": null,
      "outputs": [
        {
          "output_type": "execute_result",
          "data": {
            "text/plain": [
              "<_io.TextIOWrapper name='test.txt' mode='w' encoding='UTF-8'>"
            ]
          },
          "metadata": {},
          "execution_count": 172
        }
      ]
    },
    {
      "cell_type": "code",
      "metadata": {
        "colab": {
          "base_uri": "https://localhost:8080/"
        },
        "id": "7LPP8ovxc9IF",
        "outputId": "2f9adb05-6af2-4a8e-9005-5c90065a928b"
      },
      "source": [
        "f.close"
      ],
      "execution_count": null,
      "outputs": [
        {
          "output_type": "execute_result",
          "data": {
            "text/plain": [
              "<function TextIOWrapper.close>"
            ]
          },
          "metadata": {},
          "execution_count": 173
        }
      ]
    },
    {
      "cell_type": "code",
      "metadata": {
        "id": "Jbc9dbXcdAWn"
      },
      "source": [
        "f = open('test.txt','w')\n",
        "for i in range(1,6):\n",
        "    data = '%d번째 줄입니다.\\n' %i # \\n 줄 바꿈\n",
        "    f.write(data)\n",
        "f.close()    "
      ],
      "execution_count": null,
      "outputs": []
    },
    {
      "cell_type": "code",
      "metadata": {
        "id": "2bdCTPPKddpj"
      },
      "source": [
        "f = open('test.txt','a') # a: 추가\n",
        "for i in range(6,11):\n",
        "    data = '%d번째 줄입니다.\\n' %i # \\n 줄 바꿈\n",
        "    f.write(data)\n",
        "f.close()   \n"
      ],
      "execution_count": null,
      "outputs": []
    },
    {
      "cell_type": "code",
      "metadata": {
        "colab": {
          "base_uri": "https://localhost:8080/"
        },
        "id": "VQfrj62Yebzs",
        "outputId": "d5f973ea-1807-4cea-f130-02bd385e9c2b"
      },
      "source": [
        "f = open('test.txt','r') # r: 읽어온다\n",
        "line = f.readline() # 한 줄씩 읽어온다\n",
        "print(line)"
      ],
      "execution_count": null,
      "outputs": [
        {
          "output_type": "stream",
          "name": "stdout",
          "text": [
            "1번째 줄입니다.\n",
            "\n"
          ]
        }
      ]
    },
    {
      "cell_type": "code",
      "metadata": {
        "colab": {
          "base_uri": "https://localhost:8080/"
        },
        "id": "gvdwSEZ3esCG",
        "outputId": "7d6b9f27-0238-452e-da8c-2b79091583d7"
      },
      "source": [
        "while True:\n",
        "    line = f.readline()\n",
        "    if not line:\n",
        "        break\n",
        "    print(line)    "
      ],
      "execution_count": null,
      "outputs": [
        {
          "output_type": "stream",
          "name": "stdout",
          "text": [
            "2번째 줄입니다.\n",
            "\n",
            "3번째 줄입니다.\n",
            "\n",
            "4번째 줄입니다.\n",
            "\n",
            "5번째 줄입니다.\n",
            "\n",
            "6번째 줄입니다.\n",
            "\n",
            "7번째 줄입니다.\n",
            "\n",
            "8번째 줄입니다.\n",
            "\n",
            "9번째 줄입니다.\n",
            "\n",
            "10번째 줄입니다.\n",
            "\n",
            "6번째 줄입니다.\n",
            "\n",
            "7번째 줄입니다.\n",
            "\n",
            "8번째 줄입니다.\n",
            "\n",
            "9번째 줄입니다.\n",
            "\n",
            "10번째 줄입니다.\n",
            "\n"
          ]
        }
      ]
    },
    {
      "cell_type": "code",
      "metadata": {
        "colab": {
          "base_uri": "https://localhost:8080/"
        },
        "id": "VCI61B_ze8xZ",
        "outputId": "779c48dd-5a5a-44ef-f14b-28931123bb87"
      },
      "source": [
        "f = open('test.txt','r') # r: 읽어온다\n",
        "while True:\n",
        "    line = f.readline()\n",
        "    if not line:\n",
        "        break\n",
        "    print(line)"
      ],
      "execution_count": null,
      "outputs": [
        {
          "output_type": "stream",
          "name": "stdout",
          "text": [
            "1번째 줄입니다.\n",
            "\n",
            "2번째 줄입니다.\n",
            "\n",
            "3번째 줄입니다.\n",
            "\n",
            "4번째 줄입니다.\n",
            "\n",
            "5번째 줄입니다.\n",
            "\n",
            "6번째 줄입니다.\n",
            "\n",
            "7번째 줄입니다.\n",
            "\n",
            "8번째 줄입니다.\n",
            "\n",
            "9번째 줄입니다.\n",
            "\n",
            "10번째 줄입니다.\n",
            "\n",
            "6번째 줄입니다.\n",
            "\n",
            "7번째 줄입니다.\n",
            "\n",
            "8번째 줄입니다.\n",
            "\n",
            "9번째 줄입니다.\n",
            "\n",
            "10번째 줄입니다.\n",
            "\n"
          ]
        }
      ]
    },
    {
      "cell_type": "code",
      "metadata": {
        "id": "p2LLhFDJf2tp"
      },
      "source": [
        ""
      ],
      "execution_count": null,
      "outputs": []
    }
  ]
}